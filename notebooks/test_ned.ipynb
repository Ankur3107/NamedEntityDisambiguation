{
 "cells": [
  {
   "cell_type": "code",
   "execution_count": 1,
   "metadata": {},
   "outputs": [
    {
     "name": "stderr",
     "output_type": "stream",
     "text": [
      "Using TensorFlow backend.\n",
      "WARNING: Logging before flag parsing goes to stderr.\n",
      "W1210 01:15:44.950538 140009864214336 deprecation_wrapper.py:119] From /home/matteo/.local/lib/python3.7/site-packages/keras/backend/tensorflow_backend.py:517: The name tf.placeholder is deprecated. Please use tf.compat.v1.placeholder instead.\n",
      "\n",
      "W1210 01:15:45.015995 140009864214336 deprecation_wrapper.py:119] From /home/matteo/.local/lib/python3.7/site-packages/keras/backend/tensorflow_backend.py:74: The name tf.get_default_graph is deprecated. Please use tf.compat.v1.get_default_graph instead.\n",
      "\n",
      "W1210 01:15:45.022873 140009864214336 deprecation_wrapper.py:119] From /home/matteo/.local/lib/python3.7/site-packages/keras/backend/tensorflow_backend.py:4138: The name tf.random_uniform is deprecated. Please use tf.random.uniform instead.\n",
      "\n",
      "W1210 01:15:45.432956 140009864214336 deprecation_wrapper.py:119] From /home/matteo/.local/lib/python3.7/site-packages/keras/backend/tensorflow_backend.py:133: The name tf.placeholder_with_default is deprecated. Please use tf.compat.v1.placeholder_with_default instead.\n",
      "\n",
      "W1210 01:15:45.437703 140009864214336 deprecation.py:506] From /home/matteo/.local/lib/python3.7/site-packages/keras/backend/tensorflow_backend.py:3445: calling dropout (from tensorflow.python.ops.nn_ops) with keep_prob is deprecated and will be removed in a future version.\n",
      "Instructions for updating:\n",
      "Please use `rate` instead of `keep_prob`. Rate should be set to `rate = 1 - keep_prob`.\n",
      "W1210 01:15:45.754519 140009864214336 deprecation_wrapper.py:119] From /home/matteo/.local/lib/python3.7/site-packages/keras/backend/tensorflow_backend.py:174: The name tf.get_default_session is deprecated. Please use tf.compat.v1.get_default_session instead.\n",
      "\n",
      "W1210 01:15:47.818506 140009864214336 deprecation_wrapper.py:119] From /home/matteo/.local/lib/python3.7/site-packages/keras/optimizers.py:790: The name tf.train.Optimizer is deprecated. Please use tf.compat.v1.train.Optimizer instead.\n",
      "\n",
      "W1210 01:15:47.825127 140009864214336 deprecation.py:323] From /home/matteo/.conda/envs/capstone/lib/python3.7/site-packages/tensorflow/python/ops/nn_impl.py:180: add_dispatch_support.<locals>.wrapper (from tensorflow.python.ops.array_ops) is deprecated and will be removed in a future version.\n",
      "Instructions for updating:\n",
      "Use tf.where in 2.0, which has the same broadcast rule as np.where\n"
     ]
    }
   ],
   "source": [
    "from pipeline_functions import *"
   ]
  },
  {
   "cell_type": "code",
   "execution_count": 20,
   "metadata": {},
   "outputs": [],
   "source": [
    "raw_data = \"Michael Jordan was a basketball player on the Chicago Bulls.\""
   ]
  },
  {
   "cell_type": "code",
   "execution_count": 21,
   "metadata": {},
   "outputs": [],
   "source": [
    "ner_data = entity_recognition(raw_data)\n",
    "cleaned_ner_data = text_cleaning(ner_data)"
   ]
  },
  {
   "cell_type": "code",
   "execution_count": 22,
   "metadata": {},
   "outputs": [],
   "source": [
    "old_ner_date = ner_data\n",
    "ner_data = cleaned_ner_data"
   ]
  },
  {
   "cell_type": "code",
   "execution_count": 53,
   "metadata": {},
   "outputs": [
    {
     "ename": "KeyboardInterrupt",
     "evalue": "",
     "output_type": "error",
     "traceback": [
      "\u001b[0;31m---------------------------------------------------------------------------\u001b[0m",
      "\u001b[0;31mKeyboardInterrupt\u001b[0m                         Traceback (most recent call last)",
      "\u001b[0;32m~/.local/lib/python3.7/site-packages/zmq/backend/cython/checkrc.pxd\u001b[0m in \u001b[0;36mzmq.backend.cython.checkrc._check_rc\u001b[0;34m()\u001b[0m\n",
      "\u001b[0;31mKeyboardInterrupt\u001b[0m: "
     ]
    },
    {
     "name": "stderr",
     "output_type": "stream",
     "text": [
      "Exception ignored in: 'zmq.backend.cython.message.Frame.__dealloc__'\n",
      "Traceback (most recent call last):\n",
      "  File \"zmq/backend/cython/checkrc.pxd\", line 12, in zmq.backend.cython.checkrc._check_rc\n",
      "KeyboardInterrupt\n"
     ]
    },
    {
     "ename": "KeyboardInterrupt",
     "evalue": "",
     "output_type": "error",
     "traceback": [
      "\u001b[0;31m---------------------------------------------------------------------------\u001b[0m",
      "\u001b[0;31mKeyboardInterrupt\u001b[0m                         Traceback (most recent call last)",
      "\u001b[0;32m<ipython-input-53-28ea98aec560>\u001b[0m in \u001b[0;36m<module>\u001b[0;34m()\u001b[0m\n\u001b[1;32m      1\u001b[0m \u001b[0;32mwith\u001b[0m \u001b[0mopen\u001b[0m\u001b[0;34m(\u001b[0m\u001b[0;34m'../data/mod_anchor_candidates.pkl'\u001b[0m\u001b[0;34m,\u001b[0m \u001b[0;34m'rb'\u001b[0m\u001b[0;34m)\u001b[0m \u001b[0;32mas\u001b[0m \u001b[0mf\u001b[0m\u001b[0;34m:\u001b[0m\u001b[0;34m\u001b[0m\u001b[0;34m\u001b[0m\u001b[0m\n\u001b[0;32m----> 2\u001b[0;31m     \u001b[0mcandidates\u001b[0m \u001b[0;34m=\u001b[0m \u001b[0mpickle\u001b[0m\u001b[0;34m.\u001b[0m\u001b[0mload\u001b[0m\u001b[0;34m(\u001b[0m\u001b[0mf\u001b[0m\u001b[0;34m)\u001b[0m\u001b[0;34m\u001b[0m\u001b[0;34m\u001b[0m\u001b[0m\n\u001b[0m",
      "\u001b[0;31mKeyboardInterrupt\u001b[0m: "
     ]
    }
   ],
   "source": [
    "# with open('../data/mod_anchor_candidates.pkl', 'rb') as f:\n",
    "#     candidates = pickle.load(f)"
   ]
  },
  {
   "cell_type": "code",
   "execution_count": 23,
   "metadata": {},
   "outputs": [
    {
     "data": {
      "text/html": [
       "<div>\n",
       "<style scoped>\n",
       "    .dataframe tbody tr th:only-of-type {\n",
       "        vertical-align: middle;\n",
       "    }\n",
       "\n",
       "    .dataframe tbody tr th {\n",
       "        vertical-align: top;\n",
       "    }\n",
       "\n",
       "    .dataframe thead th {\n",
       "        text-align: right;\n",
       "    }\n",
       "</style>\n",
       "<table border=\"1\" class=\"dataframe\">\n",
       "  <thead>\n",
       "    <tr style=\"text-align: right;\">\n",
       "      <th></th>\n",
       "      <th>entity</th>\n",
       "      <th>entity_start</th>\n",
       "      <th>entity_end</th>\n",
       "      <th>text</th>\n",
       "      <th>tokenized_vector</th>\n",
       "    </tr>\n",
       "  </thead>\n",
       "  <tbody>\n",
       "    <tr>\n",
       "      <th>0</th>\n",
       "      <td>michael jordan</td>\n",
       "      <td>0</td>\n",
       "      <td>14</td>\n",
       "      <td>michael jordan was a basketball player on the ...</td>\n",
       "      <td>[1, 1, 0, 0, 0, 0, 0, 0, 0, 0]</td>\n",
       "    </tr>\n",
       "    <tr>\n",
       "      <th>1</th>\n",
       "      <td>the chicago bulls</td>\n",
       "      <td>42</td>\n",
       "      <td>59</td>\n",
       "      <td>michael jordan was a basketball player on the ...</td>\n",
       "      <td>[0, 0, 0, 0, 0, 0, 0, 1, 1, 1]</td>\n",
       "    </tr>\n",
       "  </tbody>\n",
       "</table>\n",
       "</div>"
      ],
      "text/plain": [
       "              entity  entity_start  entity_end  \\\n",
       "0     michael jordan             0          14   \n",
       "1  the chicago bulls            42          59   \n",
       "\n",
       "                                                text  \\\n",
       "0  michael jordan was a basketball player on the ...   \n",
       "1  michael jordan was a basketball player on the ...   \n",
       "\n",
       "                 tokenized_vector  \n",
       "0  [1, 1, 0, 0, 0, 0, 0, 0, 0, 0]  \n",
       "1  [0, 0, 0, 0, 0, 0, 0, 1, 1, 1]  "
      ]
     },
     "execution_count": 23,
     "metadata": {},
     "output_type": "execute_result"
    }
   ],
   "source": [
    "ner_data"
   ]
  },
  {
   "cell_type": "code",
   "execution_count": 6,
   "metadata": {},
   "outputs": [],
   "source": [
    "# candidate selection now"
   ]
  },
  {
   "cell_type": "code",
   "execution_count": 24,
   "metadata": {},
   "outputs": [],
   "source": [
    "entity = ner_data.loc[0].entity\n",
    "lsh_k = 10\n",
    "anchor_k = 10"
   ]
  },
  {
   "cell_type": "code",
   "execution_count": 25,
   "metadata": {},
   "outputs": [],
   "source": [
    "entity = candidate_preprocess(entity)"
   ]
  },
  {
   "cell_type": "code",
   "execution_count": 26,
   "metadata": {},
   "outputs": [
    {
     "data": {
      "text/plain": [
       "'michael_jordan'"
      ]
     },
     "execution_count": 26,
     "metadata": {},
     "output_type": "execute_result"
    }
   ],
   "source": [
    "entity"
   ]
  },
  {
   "cell_type": "code",
   "execution_count": 15,
   "metadata": {},
   "outputs": [],
   "source": [
    "entity = candidate_preprocess(entity)"
   ]
  },
  {
   "cell_type": "code",
   "execution_count": 17,
   "metadata": {},
   "outputs": [],
   "source": [
    "anchors_candidates = anchors_dict[entity][:anchor_k]"
   ]
  },
  {
   "cell_type": "code",
   "execution_count": 18,
   "metadata": {},
   "outputs": [
    {
     "data": {
      "text/plain": [
       "[(312.0, 0.901792),\n",
       " (89.0, 0.036336900000000005),\n",
       " (213710.0, 0.025043),\n",
       " (3854082.0, 0.0078125),\n",
       " (621231.0, 0.007611100000000001),\n",
       " (421253.0, 0.00712006),\n",
       " (1754545.0, 0.00589246),\n",
       " (493703.0, 0.00240385),\n",
       " (618355.0, 0.00180288),\n",
       " (368215.0, 0.00171863)]"
      ]
     },
     "execution_count": 18,
     "metadata": {},
     "output_type": "execute_result"
    }
   ],
   "source": [
    "anchors_candidates"
   ]
  },
  {
   "cell_type": "code",
   "execution_count": 19,
   "metadata": {},
   "outputs": [],
   "source": [
    "anchors_candidates = [int(candidate[0]) for candidate in anchors_candidates]"
   ]
  },
  {
   "cell_type": "code",
   "execution_count": 20,
   "metadata": {},
   "outputs": [
    {
     "data": {
      "text/plain": [
       "[312, 89, 213710, 3854082, 621231, 421253, 1754545, 493703, 618355, 368215]"
      ]
     },
     "execution_count": 20,
     "metadata": {},
     "output_type": "execute_result"
    }
   ],
   "source": [
    "anchors_candidates"
   ]
  },
  {
   "cell_type": "code",
   "execution_count": 21,
   "metadata": {},
   "outputs": [],
   "source": [
    "lsh_candidates = lsh_predict(entity, top_wikidata, 128, lsh_k, forest).tolist()"
   ]
  },
  {
   "cell_type": "code",
   "execution_count": 22,
   "metadata": {},
   "outputs": [],
   "source": [
    "if anchors_candidates is None:\n",
    "    anchors_candidates = []\n",
    "if lsh_candidates is None:\n",
    "    lsh_candidates = []"
   ]
  },
  {
   "cell_type": "code",
   "execution_count": 24,
   "metadata": {},
   "outputs": [],
   "source": [
    "candidate_list = list(set(anchors_candidates + lsh_candidates))"
   ]
  },
  {
   "cell_type": "markdown",
   "metadata": {},
   "source": [
    "skip above"
   ]
  },
  {
   "cell_type": "code",
   "execution_count": 27,
   "metadata": {},
   "outputs": [],
   "source": [
    "ner_data['candidate_list'] = ner_data.apply(lambda i: get_candidate_list(i.entity, 10, 10), axis=1)"
   ]
  },
  {
   "cell_type": "code",
   "execution_count": 28,
   "metadata": {},
   "outputs": [],
   "source": [
    "# my code starts here"
   ]
  },
  {
   "cell_type": "code",
   "execution_count": 29,
   "metadata": {},
   "outputs": [
    {
     "data": {
      "text/html": [
       "<div>\n",
       "<style scoped>\n",
       "    .dataframe tbody tr th:only-of-type {\n",
       "        vertical-align: middle;\n",
       "    }\n",
       "\n",
       "    .dataframe tbody tr th {\n",
       "        vertical-align: top;\n",
       "    }\n",
       "\n",
       "    .dataframe thead th {\n",
       "        text-align: right;\n",
       "    }\n",
       "</style>\n",
       "<table border=\"1\" class=\"dataframe\">\n",
       "  <thead>\n",
       "    <tr style=\"text-align: right;\">\n",
       "      <th></th>\n",
       "      <th>entity</th>\n",
       "      <th>entity_start</th>\n",
       "      <th>entity_end</th>\n",
       "      <th>text</th>\n",
       "      <th>tokenized_vector</th>\n",
       "      <th>candidate_list</th>\n",
       "    </tr>\n",
       "  </thead>\n",
       "  <tbody>\n",
       "    <tr>\n",
       "      <th>0</th>\n",
       "      <td>michael jordan</td>\n",
       "      <td>0</td>\n",
       "      <td>14</td>\n",
       "      <td>michael jordan was a basketball player on the ...</td>\n",
       "      <td>[1, 1, 0, 0, 0, 0, 0, 0, 0, 0]</td>\n",
       "      <td>[65029442, 6831718, 3308007, 6831721, 7412073,...</td>\n",
       "    </tr>\n",
       "    <tr>\n",
       "      <th>1</th>\n",
       "      <td>the chicago bulls</td>\n",
       "      <td>42</td>\n",
       "      <td>59</td>\n",
       "      <td>michael jordan was a basketball player on the ...</td>\n",
       "      <td>[0, 0, 0, 0, 0, 0, 0, 1, 1, 1]</td>\n",
       "      <td>[19798658, 3223043, 128109, 2410223, 21528111,...</td>\n",
       "    </tr>\n",
       "  </tbody>\n",
       "</table>\n",
       "</div>"
      ],
      "text/plain": [
       "              entity  entity_start  entity_end  \\\n",
       "0     michael jordan             0          14   \n",
       "1  the chicago bulls            42          59   \n",
       "\n",
       "                                                text  \\\n",
       "0  michael jordan was a basketball player on the ...   \n",
       "1  michael jordan was a basketball player on the ...   \n",
       "\n",
       "                 tokenized_vector  \\\n",
       "0  [1, 1, 0, 0, 0, 0, 0, 0, 0, 0]   \n",
       "1  [0, 0, 0, 0, 0, 0, 0, 1, 1, 1]   \n",
       "\n",
       "                                      candidate_list  \n",
       "0  [65029442, 6831718, 3308007, 6831721, 7412073,...  \n",
       "1  [19798658, 3223043, 128109, 2410223, 21528111,...  "
      ]
     },
     "execution_count": 29,
     "metadata": {},
     "output_type": "execute_result"
    }
   ],
   "source": [
    "ner_data"
   ]
  },
  {
   "cell_type": "code",
   "execution_count": 30,
   "metadata": {},
   "outputs": [],
   "source": [
    "# NEED TO ADD PREPROCESSING\n",
    "# with open('../data/knowledge_graph_data/idx2id_entity.pickle', 'rb') as f:\n",
    "#     idx2id = pickle.load(f)\n",
    "    \n",
    "# id2idx = {value: key for key, value in idx2id.items()}\n",
    "\n",
    "# with open('../data/knowledge_graph_data/id2idx_entity.pickle', 'wb') as f:\n",
    "#     pickle.dump(id2idx, f)"
   ]
  },
  {
   "cell_type": "code",
   "execution_count": 31,
   "metadata": {},
   "outputs": [],
   "source": [
    "# add package import\n",
    "from keras.preprocessing.sequence import pad_sequences\n",
    "from keras.models import load_model"
   ]
  },
  {
   "cell_type": "code",
   "execution_count": 32,
   "metadata": {},
   "outputs": [],
   "source": [
    "# add to all import \n",
    "with open(\"../data/word2idx/word2idx.pkl\", \"rb\") as f:\n",
    "    #Map any unknown word to UNKNOWN, which has index 1\n",
    "    word2idx = pickle.load(f)\n",
    "    \n",
    "with open('../data/knowledge_graph_data/id2idx_entity.pickle', 'rb') as f:\n",
    "    id2idx_graph = pickle.load(f)\n",
    "    \n",
    "with open('../data/wiki_id_to_page.pkl', 'rb') as f:\n",
    "    wiki_id_to_page = pickle.load(f)\n",
    "\n",
    "graph_embedding = np.load('../data/knowledge_graph_data/wiki_DistMult_entity.npy') \n",
    "# add param\n",
    "# window length on each side\n",
    "WINDOW_LENGTH = 10\n",
    "dict_size = len(word2idx)"
   ]
  },
  {
   "cell_type": "code",
   "execution_count": 33,
   "metadata": {},
   "outputs": [],
   "source": [
    "NED_model = load_model(\"final_NED_model.h5\")"
   ]
  },
  {
   "cell_type": "code",
   "execution_count": 34,
   "metadata": {},
   "outputs": [],
   "source": [
    "window_length = WINDOW_LENGTH"
   ]
  },
  {
   "cell_type": "code",
   "execution_count": 35,
   "metadata": {},
   "outputs": [],
   "source": [
    "ner_data['predicted_wikidata'] = 29485"
   ]
  },
  {
   "cell_type": "code",
   "execution_count": 38,
   "metadata": {},
   "outputs": [
    {
     "data": {
      "text/html": [
       "<div>\n",
       "<style scoped>\n",
       "    .dataframe tbody tr th:only-of-type {\n",
       "        vertical-align: middle;\n",
       "    }\n",
       "\n",
       "    .dataframe tbody tr th {\n",
       "        vertical-align: top;\n",
       "    }\n",
       "\n",
       "    .dataframe thead th {\n",
       "        text-align: right;\n",
       "    }\n",
       "</style>\n",
       "<table border=\"1\" class=\"dataframe\">\n",
       "  <thead>\n",
       "    <tr style=\"text-align: right;\">\n",
       "      <th></th>\n",
       "      <th>Candidate</th>\n",
       "      <th>Probability</th>\n",
       "    </tr>\n",
       "  </thead>\n",
       "  <tbody>\n",
       "    <tr>\n",
       "      <th>0</th>\n",
       "      <td>Michael_Jordan</td>\n",
       "      <td>0.697914</td>\n",
       "    </tr>\n",
       "    <tr>\n",
       "      <th>1</th>\n",
       "      <td>Michael_B._Jordan</td>\n",
       "      <td>0.681982</td>\n",
       "    </tr>\n",
       "    <tr>\n",
       "      <th>2</th>\n",
       "      <td>Michael_H._Jordan</td>\n",
       "      <td>0.079562</td>\n",
       "    </tr>\n",
       "    <tr>\n",
       "      <th>3</th>\n",
       "      <td>Samuel_Jordan</td>\n",
       "      <td>0.035696</td>\n",
       "    </tr>\n",
       "    <tr>\n",
       "      <th>4</th>\n",
       "      <td>Michael_Jordan's_Steakhouse</td>\n",
       "      <td>0.031856</td>\n",
       "    </tr>\n",
       "    <tr>\n",
       "      <th>5</th>\n",
       "      <td>Michael_Jordan_statue</td>\n",
       "      <td>0.018416</td>\n",
       "    </tr>\n",
       "    <tr>\n",
       "      <th>6</th>\n",
       "      <td>Michael_I._Jordan</td>\n",
       "      <td>0.013805</td>\n",
       "    </tr>\n",
       "    <tr>\n",
       "      <th>7</th>\n",
       "      <td>Samuel_M._Jordan</td>\n",
       "      <td>0.009411</td>\n",
       "    </tr>\n",
       "    <tr>\n",
       "      <th>8</th>\n",
       "      <td>Michael_Jordan_(offensive_lineman)</td>\n",
       "      <td>0.008144</td>\n",
       "    </tr>\n",
       "    <tr>\n",
       "      <th>9</th>\n",
       "      <td>Michael_John</td>\n",
       "      <td>0.004882</td>\n",
       "    </tr>\n",
       "  </tbody>\n",
       "</table>\n",
       "</div>"
      ],
      "text/plain": [
       "                            Candidate  Probability\n",
       "0                      Michael_Jordan     0.697914\n",
       "1                   Michael_B._Jordan     0.681982\n",
       "2                   Michael_H._Jordan     0.079562\n",
       "3                       Samuel_Jordan     0.035696\n",
       "4         Michael_Jordan's_Steakhouse     0.031856\n",
       "5               Michael_Jordan_statue     0.018416\n",
       "6                   Michael_I._Jordan     0.013805\n",
       "7                    Samuel_M._Jordan     0.009411\n",
       "8  Michael_Jordan_(offensive_lineman)     0.008144\n",
       "9                        Michael_John     0.004882"
      ]
     },
     "metadata": {},
     "output_type": "display_data"
    },
    {
     "name": "stdout",
     "output_type": "stream",
     "text": [
      "Candidate List: Michael_Jordan; Michael_B._Jordan; Michael_H._Jordan; Samuel_Jordan; Michael_Jordan's_Steakhouse; Michael_Jordan_statue; Michael_I._Jordan; Samuel_M._Jordan; Michael_Jordan_(offensive_lineman); Michael_John\n",
      "10\n",
      "Michael_Jordan\n"
     ]
    },
    {
     "data": {
      "text/html": [
       "<div>\n",
       "<style scoped>\n",
       "    .dataframe tbody tr th:only-of-type {\n",
       "        vertical-align: middle;\n",
       "    }\n",
       "\n",
       "    .dataframe tbody tr th {\n",
       "        vertical-align: top;\n",
       "    }\n",
       "\n",
       "    .dataframe thead th {\n",
       "        text-align: right;\n",
       "    }\n",
       "</style>\n",
       "<table border=\"1\" class=\"dataframe\">\n",
       "  <thead>\n",
       "    <tr style=\"text-align: right;\">\n",
       "      <th></th>\n",
       "      <th>Candidate</th>\n",
       "      <th>Probability</th>\n",
       "    </tr>\n",
       "  </thead>\n",
       "  <tbody>\n",
       "    <tr>\n",
       "      <th>0</th>\n",
       "      <td>Chicago_Bulls</td>\n",
       "      <td>0.938144</td>\n",
       "    </tr>\n",
       "    <tr>\n",
       "      <th>1</th>\n",
       "      <td>The_Pinnacle_(Chicago)</td>\n",
       "      <td>0.144753</td>\n",
       "    </tr>\n",
       "    <tr>\n",
       "      <th>2</th>\n",
       "      <td>The_Chicago_Maroon</td>\n",
       "      <td>0.076415</td>\n",
       "    </tr>\n",
       "    <tr>\n",
       "      <th>3</th>\n",
       "      <td>The_Chicagoan</td>\n",
       "      <td>0.030247</td>\n",
       "    </tr>\n",
       "    <tr>\n",
       "      <th>4</th>\n",
       "      <td>The_Earl_of_Chicago</td>\n",
       "      <td>0.027759</td>\n",
       "    </tr>\n",
       "    <tr>\n",
       "      <th>5</th>\n",
       "      <td>The_Chicago_Kid</td>\n",
       "      <td>0.015988</td>\n",
       "    </tr>\n",
       "    <tr>\n",
       "      <th>6</th>\n",
       "      <td>Holy_Name_Cathedral_(Chicago)</td>\n",
       "      <td>0.008239</td>\n",
       "    </tr>\n",
       "    <tr>\n",
       "      <th>7</th>\n",
       "      <td>The_Innocents_of_Chicago</td>\n",
       "      <td>0.006233</td>\n",
       "    </tr>\n",
       "  </tbody>\n",
       "</table>\n",
       "</div>"
      ],
      "text/plain": [
       "                       Candidate  Probability\n",
       "0                  Chicago_Bulls     0.938144\n",
       "1         The_Pinnacle_(Chicago)     0.144753\n",
       "2             The_Chicago_Maroon     0.076415\n",
       "3                  The_Chicagoan     0.030247\n",
       "4            The_Earl_of_Chicago     0.027759\n",
       "5                The_Chicago_Kid     0.015988\n",
       "6  Holy_Name_Cathedral_(Chicago)     0.008239\n",
       "7       The_Innocents_of_Chicago     0.006233"
      ]
     },
     "metadata": {},
     "output_type": "display_data"
    },
    {
     "name": "stdout",
     "output_type": "stream",
     "text": [
      "Candidate List: Chicago_Bulls; The_Pinnacle_(Chicago); The_Chicago_Maroon; The_Chicagoan; The_Earl_of_Chicago; The_Chicago_Kid; Holy_Name_Cathedral_(Chicago); The_Innocents_of_Chicago\n",
      "8\n",
      "Chicago_Bulls\n"
     ]
    }
   ],
   "source": [
    "for key, value in ner_data.iterrows():\n",
    "    entity = value.entity\n",
    "    split_text = value.text.split()\n",
    "    candidate_list = value.candidate_list\n",
    "    \n",
    "    assert len(value.tokenized_vector) == len(split_text)\n",
    "    \n",
    "    # find context\n",
    "    entity_idx = np.where(value.tokenized_vector)[0][0]\n",
    "    context = split_text[max(0, entity_idx - window_length) : entity_idx] +\\\n",
    "                  split_text[entity_idx + 1 : entity_idx + window_length + 1]\n",
    "    context_word2idx = [word2idx.get(word, 1) for word in context]\n",
    "    \n",
    "    # inputs\n",
    "    lstm_input = pad_sequences(np.array([context_word2idx]), maxlen = window_length * 2, padding = 'post')\n",
    "    kge_candidates = [\n",
    "        graph_embedding[id2idx_graph[entity_id]]\n",
    "        if entity_id in id2idx_graph else None\n",
    "        for entity_id in candidate_list\n",
    "    ]\n",
    "    \n",
    "    # prediction\n",
    "    candidate_probs = [\n",
    "        NED_model.predict([lstm_input, kge_candidate.reshape(1,-1)])[0][0]\n",
    "        if not kge_candidate is None else 0.0\n",
    "        for kge_candidate in kge_candidates\n",
    "    ]\n",
    "    \n",
    "\n",
    "    ner_data.loc[key,'predicted_wikidata'] = candidate_list[np.argmax(candidate_probs)]\n",
    "    dict_df_info = {}\n",
    "    dict_df_info['Candidate'] = [wiki_id_to_page[candidate_list[idx]] for idx in np.argsort(candidate_probs)[::-1]]\n",
    "    dict_df_info['Probability'] = [candidate_probs[idx] for idx in np.argsort(candidate_probs)[::-1]]\n",
    "    display(pd.DataFrame(dict_df_info))\n",
    "    print(\"Candidate List: {}\".format(\"; \".join(dict_df_info['Candidate'])))\n",
    "    print(len(dict_df_info['Candidate']))\n",
    "    print(wiki_id_to_page[ner_data.loc[key,'predicted_wikidata']])"
   ]
  },
  {
   "cell_type": "code",
   "execution_count": 37,
   "metadata": {},
   "outputs": [
    {
     "data": {
      "text/html": [
       "<div>\n",
       "<style scoped>\n",
       "    .dataframe tbody tr th:only-of-type {\n",
       "        vertical-align: middle;\n",
       "    }\n",
       "\n",
       "    .dataframe tbody tr th {\n",
       "        vertical-align: top;\n",
       "    }\n",
       "\n",
       "    .dataframe thead th {\n",
       "        text-align: right;\n",
       "    }\n",
       "</style>\n",
       "<table border=\"1\" class=\"dataframe\">\n",
       "  <thead>\n",
       "    <tr style=\"text-align: right;\">\n",
       "      <th></th>\n",
       "      <th>entity</th>\n",
       "      <th>entity_start</th>\n",
       "      <th>entity_end</th>\n",
       "      <th>text</th>\n",
       "      <th>tokenized_vector</th>\n",
       "      <th>candidate_list</th>\n",
       "      <th>predicted_wikidata</th>\n",
       "    </tr>\n",
       "  </thead>\n",
       "  <tbody>\n",
       "    <tr>\n",
       "      <th>0</th>\n",
       "      <td>michael jordan</td>\n",
       "      <td>0</td>\n",
       "      <td>14</td>\n",
       "      <td>michael jordan was a basketball player on the ...</td>\n",
       "      <td>[1, 1, 0, 0, 0, 0, 0, 0, 0, 0]</td>\n",
       "      <td>[65029442, 6831718, 3308007, 6831721, 7412073,...</td>\n",
       "      <td>41421</td>\n",
       "    </tr>\n",
       "    <tr>\n",
       "      <th>1</th>\n",
       "      <td>the chicago bulls</td>\n",
       "      <td>42</td>\n",
       "      <td>59</td>\n",
       "      <td>michael jordan was a basketball player on the ...</td>\n",
       "      <td>[0, 0, 0, 0, 0, 0, 0, 1, 1, 1]</td>\n",
       "      <td>[19798658, 3223043, 128109, 2410223, 21528111,...</td>\n",
       "      <td>128109</td>\n",
       "    </tr>\n",
       "  </tbody>\n",
       "</table>\n",
       "</div>"
      ],
      "text/plain": [
       "              entity  entity_start  entity_end  \\\n",
       "0     michael jordan             0          14   \n",
       "1  the chicago bulls            42          59   \n",
       "\n",
       "                                                text  \\\n",
       "0  michael jordan was a basketball player on the ...   \n",
       "1  michael jordan was a basketball player on the ...   \n",
       "\n",
       "                 tokenized_vector  \\\n",
       "0  [1, 1, 0, 0, 0, 0, 0, 0, 0, 0]   \n",
       "1  [0, 0, 0, 0, 0, 0, 0, 1, 1, 1]   \n",
       "\n",
       "                                      candidate_list  predicted_wikidata  \n",
       "0  [65029442, 6831718, 3308007, 6831721, 7412073,...               41421  \n",
       "1  [19798658, 3223043, 128109, 2410223, 21528111,...              128109  "
      ]
     },
     "execution_count": 37,
     "metadata": {},
     "output_type": "execute_result"
    }
   ],
   "source": [
    "ner_data"
   ]
  },
  {
   "cell_type": "code",
   "execution_count": 70,
   "metadata": {},
   "outputs": [
    {
     "data": {
      "text/plain": [
       "['IOS',\n",
       " 'IPhone',\n",
       " 'IPhone_5',\n",
       " 'IPhone_(1st_generation)',\n",
       " 'IPhone_6',\n",
       " 'IPhone_3G',\n",
       " 'Triphone']"
      ]
     },
     "execution_count": 70,
     "metadata": {},
     "output_type": "execute_result"
    }
   ],
   "source": []
  },
  {
   "cell_type": "code",
   "execution_count": 67,
   "metadata": {},
   "outputs": [
    {
     "data": {
      "text/plain": [
       "2"
      ]
     },
     "execution_count": 67,
     "metadata": {},
     "output_type": "execute_result"
    }
   ],
   "source": [
    "np.argmax(candidate_probs)"
   ]
  },
  {
   "cell_type": "code",
   "execution_count": 25,
   "metadata": {},
   "outputs": [],
   "source": []
  },
  {
   "cell_type": "code",
   "execution_count": 30,
   "metadata": {},
   "outputs": [
    {
     "data": {
      "text/plain": [
       "'Apple_Inc.'"
      ]
     },
     "execution_count": 30,
     "metadata": {},
     "output_type": "execute_result"
    }
   ],
   "source": []
  },
  {
   "cell_type": "code",
   "execution_count": null,
   "metadata": {},
   "outputs": [],
   "source": []
  }
 ],
 "metadata": {
  "kernelspec": {
   "display_name": "capstone",
   "language": "python",
   "name": "capstone"
  },
  "language_info": {
   "codemirror_mode": {
    "name": "ipython",
    "version": 3
   },
   "file_extension": ".py",
   "mimetype": "text/x-python",
   "name": "python",
   "nbconvert_exporter": "python",
   "pygments_lexer": "ipython3",
   "version": "3.7.4"
  }
 },
 "nbformat": 4,
 "nbformat_minor": 2
}
