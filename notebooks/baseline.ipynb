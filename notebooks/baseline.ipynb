{
 "cells": [
  {
   "cell_type": "code",
   "execution_count": 1,
   "metadata": {},
   "outputs": [],
   "source": [
    "import pickle\n",
    "import baseline_nel\n",
    "import knowledge_graph_extraction\n",
    "import pandas as pd\n",
    "from tqdm import tqdm"
   ]
  },
  {
   "cell_type": "code",
   "execution_count": 2,
   "metadata": {},
   "outputs": [],
   "source": [
    "with open('../data/sample_data_candidates.pkl', 'rb') as f:\n",
    "    data = pickle.load(f)"
   ]
  },
  {
   "cell_type": "code",
   "execution_count": 3,
   "metadata": {},
   "outputs": [
    {
     "data": {
      "text/plain": [
       "4988"
      ]
     },
     "execution_count": 3,
     "metadata": {},
     "output_type": "execute_result"
    }
   ],
   "source": [
    "len(data)"
   ]
  },
  {
   "cell_type": "code",
   "execution_count": 3,
   "metadata": {},
   "outputs": [],
   "source": [
    "# db = \"../data/kensho.db\"\n",
    "\n",
    "# query = \"\"\"\n",
    "# SELECT \n",
    "#     source_item_id, edge_property_id, target_item_id\n",
    "# FROM \n",
    "#     wikipage_triplets\n",
    "# \"\"\"\n",
    "\n",
    "# triplets = knowledge_graph_extraction.conduct_sql_query(db, query)"
   ]
  },
  {
   "cell_type": "code",
   "execution_count": 4,
   "metadata": {},
   "outputs": [],
   "source": [
    "# baseline_nel.predict_local(triplets, data[0][0], data[0][1], top_k)"
   ]
  },
  {
   "cell_type": "code",
   "execution_count": null,
   "metadata": {},
   "outputs": [
    {
     "name": "stderr",
     "output_type": "stream",
     "text": [
      " 88%|████████▊ | 4396/5000 [3:07:33<27:17,  2.71s/it]  "
     ]
    }
   ],
   "source": [
    "predictions = []\n",
    "triplets_dicts = []\n",
    "top_k = 10\n",
    "try:\n",
    "    for i in tqdm(range(len(data))):\n",
    "        if i % 500 == 0:\n",
    "            with open('../data/sample_baseline_predictions_' + str(i) + '.pkl', 'wb') as f:\n",
    "                pickle.dump(predictions, f)\n",
    "            with open('../data/sample_baseline_triplets_' + str(i) + '.pkl', 'wb') as f:\n",
    "                pickle.dump(triplets_dicts, f)\n",
    "        row = data[i]\n",
    "        prediction, triplets = baseline_nel.predict(\"../data/kensho.db\", \"wikipage_triplets\", row[0], row[1], top_k)\n",
    "        predictions.append(prediction)\n",
    "        triplets_dicts.append(triplets)\n",
    "except:\n",
    "    with open('../data/error_' + str(i), 'wb') as f:\n",
    "        pickle.dump(['error at '+ str(i)], f)"
   ]
  },
  {
   "cell_type": "code",
   "execution_count": null,
   "metadata": {},
   "outputs": [],
   "source": [
    "with open('../data/sample_baseline_predictions.pkl', 'wb') as f:\n",
    "    pickle.dump(predictions, f)\n",
    "with open('../data/sample_baseline_triplets.pkl', 'wb') as f:\n",
    "    pickle.dump(triplets_dicts, f)"
   ]
  },
  {
   "cell_type": "code",
   "execution_count": 4,
   "metadata": {},
   "outputs": [],
   "source": [
    "with open('../data/sample_baseline_predictions.pkl', 'rb') as f:\n",
    "    predictions = pickle.load(f)"
   ]
  },
  {
   "cell_type": "code",
   "execution_count": 11,
   "metadata": {},
   "outputs": [],
   "source": [
    "predictions_dict = {prediction[0] : prediction[1] for prediction in predictions}\n",
    "candidates_dict = {candidate[0]: candidate[1] for candidate in data}"
   ]
  },
  {
   "cell_type": "code",
   "execution_count": 12,
   "metadata": {},
   "outputs": [],
   "source": [
    "def compute_accuracy(ground_truth_dict, prediction_dict, top_k):\n",
    "    total = 0\n",
    "    correct = 0\n",
    "    for k, v in ground_truth_dict.items():\n",
    "        if top_k is None:\n",
    "            if k in prediction_dict and v in prediction_dict[k]:\n",
    "                correct += 1\n",
    "        else:\n",
    "            if k in prediction_dict and v in prediction_dict[k][:top_k]:\n",
    "                correct += 1\n",
    "        total += 1\n",
    "    if total == 0:\n",
    "        return 0, 0\n",
    "    return correct, total"
   ]
  },
  {
   "cell_type": "code",
   "execution_count": 7,
   "metadata": {},
   "outputs": [],
   "source": [
    "with open('../data/sample_labels.pkl', 'rb') as f:\n",
    "    labels = pickle.load(f)"
   ]
  },
  {
   "cell_type": "code",
   "execution_count": 8,
   "metadata": {},
   "outputs": [
    {
     "data": {
      "text/plain": [
       "4988"
      ]
     },
     "execution_count": 8,
     "metadata": {},
     "output_type": "execute_result"
    }
   ],
   "source": [
    "len(labels)"
   ]
  },
  {
   "cell_type": "code",
   "execution_count": 13,
   "metadata": {},
   "outputs": [
    {
     "name": "stdout",
     "output_type": "stream",
     "text": [
      "Accuracy for Top 1: 0.2599408825392357\n",
      "Accuracy for Top 5: 0.39615736505032023\n",
      "Accuracy for Top 10: 0.4651981138714899\n"
     ]
    }
   ],
   "source": [
    "for top_k in [1, 5, 10]:\n",
    "    total_correct, total_num_labels = 0, 0\n",
    "    for i, row in enumerate(labels):\n",
    "        text = row[0]\n",
    "        prediction= predictions_dict[text]\n",
    "        prediction = {key[:3]: value for key, value in prediction.items()}\n",
    "        label = {key[:3]: key[3] for key in row[1].keys()}\n",
    "        correct, num_labels = compute_accuracy(label, prediction, top_k)\n",
    "        total_correct += correct\n",
    "        total_num_labels += num_labels \n",
    "    print(\"Accuracy for Top {}: {}\".format(top_k, total_correct / total_num_labels))\n",
    "    "
   ]
  },
  {
   "cell_type": "code",
   "execution_count": 18,
   "metadata": {},
   "outputs": [
    {
     "name": "stdout",
     "output_type": "stream",
     "text": [
      "Percent of Correct Wikidata item in Candidates list: 0.5380392708846505\n"
     ]
    }
   ],
   "source": [
    "total_correct, total_num_labels = 0, 0\n",
    "for i, row in enumerate(labels):\n",
    "    text = row[0]\n",
    "    candidate= candidates_dict[text]\n",
    "    candidate = {key[:3]: value for key, value in candidate.items()}\n",
    "    label = {key[:3]: key[3] for key in row[1].keys()}\n",
    "    correct, num_labels = compute_accuracy(label, candidate, None)\n",
    "    total_correct += correct\n",
    "    total_num_labels += num_labels \n",
    "print(\"Percent of Correct Wikidata item in Candidates list: {}\".format(total_correct / total_num_labels))\n",
    "    "
   ]
  },
  {
   "cell_type": "code",
   "execution_count": null,
   "metadata": {},
   "outputs": [],
   "source": []
  }
 ],
 "metadata": {
  "kernelspec": {
   "display_name": "capstone",
   "language": "python",
   "name": "capstone"
  },
  "language_info": {
   "codemirror_mode": {
    "name": "ipython",
    "version": 3
   },
   "file_extension": ".py",
   "mimetype": "text/x-python",
   "name": "python",
   "nbconvert_exporter": "python",
   "pygments_lexer": "ipython3",
   "version": "3.7.4"
  }
 },
 "nbformat": 4,
 "nbformat_minor": 2
}
