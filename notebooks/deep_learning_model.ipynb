{
 "cells": [
  {
   "cell_type": "code",
   "execution_count": 1,
   "metadata": {},
   "outputs": [
    {
     "name": "stderr",
     "output_type": "stream",
     "text": [
      "Using TensorFlow backend.\n"
     ]
    }
   ],
   "source": [
    "import pickle\n",
    "import pandas as pd\n",
    "import numpy as np\n",
    "from tqdm import tqdm_notebook\n",
    "import re\n",
    "import ast\n",
    "import string\n",
    "import unidecode\n",
    "from collections import defaultdict\n",
    "from keras.models import Sequential, Model\n",
    "from keras.preprocessing.sequence import pad_sequences\n",
    "from keras.layers import Dense, LSTM, Embedding, concatenate, Input, Dropout, Bidirectional\n",
    "from sklearn.model_selection import train_test_split\n",
    "from sklearn.metrics import confusion_matrix, accuracy_score\n",
    "from sklearn.utils import class_weight\n",
    "from nltk import word_tokenize\n",
    "from nltk.corpus import stopwords\n",
    "\n",
    "import NED_models"
   ]
  },
  {
   "cell_type": "code",
   "execution_count": 2,
   "metadata": {},
   "outputs": [],
   "source": [
    "import matplotlib.pyplot as plt\n",
    "from sklearn import metrics"
   ]
  },
  {
   "cell_type": "code",
   "execution_count": 3,
   "metadata": {},
   "outputs": [],
   "source": [
    "with open(\"../data/word2idx/word2idx.pkl\", \"rb\") as f:\n",
    "    #Map any unknown word to UNKNOWN, which has index 1\n",
    "    word2idx = pickle.load(f)"
   ]
  },
  {
   "cell_type": "code",
   "execution_count": 4,
   "metadata": {},
   "outputs": [
    {
     "data": {
      "text/plain": [
       "445881"
      ]
     },
     "execution_count": 4,
     "metadata": {},
     "output_type": "execute_result"
    }
   ],
   "source": [
    "len(word2idx)"
   ]
  },
  {
   "cell_type": "code",
   "execution_count": 5,
   "metadata": {},
   "outputs": [],
   "source": [
    "data = pd.read_csv('../data/sample_data_1percent.csv')"
   ]
  },
  {
   "cell_type": "code",
   "execution_count": 6,
   "metadata": {},
   "outputs": [],
   "source": [
    "conditions = data.link_anchor.str.contains('#', na=False)\n",
    "data = data[~conditions]\n",
    "data = data.reset_index().drop('index', axis=1)"
   ]
  },
  {
   "cell_type": "code",
   "execution_count": 7,
   "metadata": {},
   "outputs": [
    {
     "data": {
      "text/html": [
       "<div>\n",
       "<style scoped>\n",
       "    .dataframe tbody tr th:only-of-type {\n",
       "        vertical-align: middle;\n",
       "    }\n",
       "\n",
       "    .dataframe tbody tr th {\n",
       "        vertical-align: top;\n",
       "    }\n",
       "\n",
       "    .dataframe thead th {\n",
       "        text-align: right;\n",
       "    }\n",
       "</style>\n",
       "<table border=\"1\" class=\"dataframe\">\n",
       "  <thead>\n",
       "    <tr style=\"text-align: right;\">\n",
       "      <th></th>\n",
       "      <th>text</th>\n",
       "      <th>link_anchor</th>\n",
       "      <th>link_start</th>\n",
       "      <th>link_end</th>\n",
       "      <th>target_wikidata</th>\n",
       "      <th>tokenized_vector</th>\n",
       "      <th>candidates</th>\n",
       "    </tr>\n",
       "  </thead>\n",
       "  <tbody>\n",
       "    <tr>\n",
       "      <th>0</th>\n",
       "      <td>the academy awards also officially and popular...</td>\n",
       "      <td>film industry</td>\n",
       "      <td>120</td>\n",
       "      <td>133</td>\n",
       "      <td>1415395</td>\n",
       "      <td>[0. 0. 0. 0. 0. 0. 0. 0. 0. 0. 0. 0. 0. 0. 0. ...</td>\n",
       "      <td>[93196.0, 2973146.0, 2973208.0, 2973157.0, 328...</td>\n",
       "    </tr>\n",
       "    <tr>\n",
       "      <th>1</th>\n",
       "      <td>the academy awards also officially and popular...</td>\n",
       "      <td>academy of motion picture arts and sciences</td>\n",
       "      <td>156</td>\n",
       "      <td>199</td>\n",
       "      <td>212329</td>\n",
       "      <td>[0. 0. 0. 0. 0. 0. 0. 0. 0. 0. 0. 0. 0. 0. 0. ...</td>\n",
       "      <td>[212329.0, 212329.0]</td>\n",
       "    </tr>\n",
       "    <tr>\n",
       "      <th>2</th>\n",
       "      <td>the academy awards also officially and popular...</td>\n",
       "      <td>art deco</td>\n",
       "      <td>551</td>\n",
       "      <td>559</td>\n",
       "      <td>173782</td>\n",
       "      <td>[0. 0. 0. 0. 0. 0. 0. 0. 0. 0. 0. 0. 0. 0. 0. ...</td>\n",
       "      <td>[173782.0, 4824850.0, 4796770.0, 23307613.0, 2...</td>\n",
       "    </tr>\n",
       "    <tr>\n",
       "      <th>3</th>\n",
       "      <td>the academy awards also officially and popular...</td>\n",
       "      <td>george stanley</td>\n",
       "      <td>603</td>\n",
       "      <td>617</td>\n",
       "      <td>5544783</td>\n",
       "      <td>[0. 0. 0. 0. 0. 0. 0. 0. 0. 0. 0. 0. 0. 0. 0. ...</td>\n",
       "      <td>[3101928.0, 5539480.0, 5544780.0, 5544779.0, 5...</td>\n",
       "    </tr>\n",
       "    <tr>\n",
       "      <th>4</th>\n",
       "      <td>the academy awards also officially and popular...</td>\n",
       "      <td>cedric gibbons</td>\n",
       "      <td>642</td>\n",
       "      <td>656</td>\n",
       "      <td>727904</td>\n",
       "      <td>[0. 0. 0. 0. 0. 0. 0. 0. 0. 0. 0. 0. 0. 0. 0. ...</td>\n",
       "      <td>[727904.0, 5057103.0]</td>\n",
       "    </tr>\n",
       "  </tbody>\n",
       "</table>\n",
       "</div>"
      ],
      "text/plain": [
       "                                                text  \\\n",
       "0  the academy awards also officially and popular...   \n",
       "1  the academy awards also officially and popular...   \n",
       "2  the academy awards also officially and popular...   \n",
       "3  the academy awards also officially and popular...   \n",
       "4  the academy awards also officially and popular...   \n",
       "\n",
       "                                   link_anchor  link_start  link_end  \\\n",
       "0                                film industry         120       133   \n",
       "1  academy of motion picture arts and sciences         156       199   \n",
       "2                                     art deco         551       559   \n",
       "3                               george stanley         603       617   \n",
       "4                               cedric gibbons         642       656   \n",
       "\n",
       "   target_wikidata                                   tokenized_vector  \\\n",
       "0          1415395  [0. 0. 0. 0. 0. 0. 0. 0. 0. 0. 0. 0. 0. 0. 0. ...   \n",
       "1           212329  [0. 0. 0. 0. 0. 0. 0. 0. 0. 0. 0. 0. 0. 0. 0. ...   \n",
       "2           173782  [0. 0. 0. 0. 0. 0. 0. 0. 0. 0. 0. 0. 0. 0. 0. ...   \n",
       "3          5544783  [0. 0. 0. 0. 0. 0. 0. 0. 0. 0. 0. 0. 0. 0. 0. ...   \n",
       "4           727904  [0. 0. 0. 0. 0. 0. 0. 0. 0. 0. 0. 0. 0. 0. 0. ...   \n",
       "\n",
       "                                          candidates  \n",
       "0  [93196.0, 2973146.0, 2973208.0, 2973157.0, 328...  \n",
       "1                               [212329.0, 212329.0]  \n",
       "2  [173782.0, 4824850.0, 4796770.0, 23307613.0, 2...  \n",
       "3  [3101928.0, 5539480.0, 5544780.0, 5544779.0, 5...  \n",
       "4                              [727904.0, 5057103.0]  "
      ]
     },
     "execution_count": 7,
     "metadata": {},
     "output_type": "execute_result"
    }
   ],
   "source": [
    "data.head()"
   ]
  },
  {
   "cell_type": "code",
   "execution_count": 8,
   "metadata": {},
   "outputs": [
    {
     "data": {
      "text/plain": [
       "(2459381, 7)"
      ]
     },
     "execution_count": 8,
     "metadata": {},
     "output_type": "execute_result"
    }
   ],
   "source": [
    "data.shape"
   ]
  },
  {
   "cell_type": "code",
   "execution_count": 7,
   "metadata": {},
   "outputs": [],
   "source": [
    "with open('../data/knowledge_graph_data/id2text_entity.pickle', 'rb') as f:\n",
    "    id2text = pickle.load(f)"
   ]
  },
  {
   "cell_type": "code",
   "execution_count": 8,
   "metadata": {},
   "outputs": [],
   "source": [
    "with open('../data/name_to_wiki_id.pkl', 'rb') as f:\n",
    "    name_to_wiki_id = pickle.load(f)"
   ]
  },
  {
   "cell_type": "code",
   "execution_count": 9,
   "metadata": {},
   "outputs": [],
   "source": [
    "with open('../data/knowledge_graph_data/idx2id_entity.pickle', 'rb') as f:\n",
    "    idx2id = pickle.load(f)"
   ]
  },
  {
   "cell_type": "code",
   "execution_count": 10,
   "metadata": {},
   "outputs": [],
   "source": [
    "id2idx = {value: key for key, value in idx2id.items()}"
   ]
  },
  {
   "cell_type": "code",
   "execution_count": 11,
   "metadata": {},
   "outputs": [],
   "source": [
    "graph_embedding = np.load('../data/knowledge_graph_data/wiki_DistMult_entity.npy') "
   ]
  },
  {
   "cell_type": "code",
   "execution_count": 12,
   "metadata": {},
   "outputs": [],
   "source": [
    "# replace words within paranthesis and remove non alphanumeric characters\n",
    "# get_rid of `the` which can cause difference\n",
    "pattern = re.compile(r'\\([^)]*\\)|[^a-zA-Z0-9 -]|\\s|(^|[^a-zA-Z0-9])the[^a-zA-Z0-9]')\n",
    "# unidecode to remove accents\n",
    "normalize_text = lambda text: pattern.sub(\"\", unidecode.unidecode(text).lower())\n"
   ]
  },
  {
   "cell_type": "code",
   "execution_count": 13,
   "metadata": {},
   "outputs": [],
   "source": [
    "#window length actually 2 times this since from both sides\n",
    "window_length = 10"
   ]
  },
  {
   "cell_type": "code",
   "execution_count": 16,
   "metadata": {},
   "outputs": [
    {
     "data": {
      "application/vnd.jupyter.widget-view+json": {
       "model_id": "420ee5d4d1e440108a9a56ffd433f276",
       "version_major": 2,
       "version_minor": 0
      },
      "text/plain": [
       "HBox(children=(IntProgress(value=0, max=2459381), HTML(value='')))"
      ]
     },
     "metadata": {},
     "output_type": "display_data"
    },
    {
     "name": "stdout",
     "output_type": "stream",
     "text": [
      "\n"
     ]
    },
    {
     "ename": "NameError",
     "evalue": "name 'lstm_input' is not defined",
     "output_type": "error",
     "traceback": [
      "\u001b[0;31m---------------------------------------------------------------------------\u001b[0m",
      "\u001b[0;31mNameError\u001b[0m                                 Traceback (most recent call last)",
      "\u001b[0;32m<ipython-input-16-775170271fa3>\u001b[0m in \u001b[0;36m<module>\u001b[0;34m()\u001b[0m\n\u001b[1;32m     62\u001b[0m             \u001b[0;31m#not_in_graph.append(entity_id)\u001b[0m\u001b[0;34m\u001b[0m\u001b[0;34m\u001b[0m\u001b[0;34m\u001b[0m\u001b[0m\n\u001b[1;32m     63\u001b[0m \u001b[0;34m\u001b[0m\u001b[0m\n\u001b[0;32m---> 64\u001b[0;31m \u001b[0mlstm_input\u001b[0m \u001b[0;34m=\u001b[0m \u001b[0mpad_sequences\u001b[0m\u001b[0;34m(\u001b[0m\u001b[0mlstm_input\u001b[0m\u001b[0;34m,\u001b[0m \u001b[0mmaxlen\u001b[0m \u001b[0;34m=\u001b[0m \u001b[0mwindow_length\u001b[0m \u001b[0;34m*\u001b[0m \u001b[0;36m2\u001b[0m\u001b[0;34m,\u001b[0m \u001b[0mpadding\u001b[0m \u001b[0;34m=\u001b[0m \u001b[0;34m'post'\u001b[0m\u001b[0;34m)\u001b[0m\u001b[0;34m\u001b[0m\u001b[0;34m\u001b[0m\u001b[0m\n\u001b[0m\u001b[1;32m     65\u001b[0m \u001b[0mgraph_input\u001b[0m \u001b[0;34m=\u001b[0m \u001b[0mnp\u001b[0m\u001b[0;34m.\u001b[0m\u001b[0marray\u001b[0m\u001b[0;34m(\u001b[0m\u001b[0mgraph_input\u001b[0m\u001b[0;34m)\u001b[0m\u001b[0;34m\u001b[0m\u001b[0;34m\u001b[0m\u001b[0m\n\u001b[1;32m     66\u001b[0m \u001b[0;31m# doc_input = np.array(doc_input)\u001b[0m\u001b[0;34m\u001b[0m\u001b[0;34m\u001b[0m\u001b[0;34m\u001b[0m\u001b[0m\n",
      "\u001b[0;31mNameError\u001b[0m: name 'lstm_input' is not defined"
     ]
    }
   ],
   "source": [
    "#For each of the entities in each of the rows, make word2idx vector using context window and also get graph embedding.\n",
    "\n",
    "#lstm_input = []\n",
    "#graph_input = []\n",
    "# doc_input = []\n",
    "#response = []\n",
    "#not_in_graph = []\n",
    "\n",
    "lstm_input_list = []\n",
    "# corresponds to each candidate\n",
    "graph_input_list = []\n",
    "\n",
    "for i, article in tqdm_notebook(data.iterrows(), total = len(data)):\n",
    "    text = article['text']\n",
    "#     doc_embedding = docs[i][0]\n",
    "#     for entity, indices in article[1].items():\n",
    "    name = article['link_anchor']\n",
    "    entity_id = article['target_wikidata']\n",
    "    #Don't include actual entity text for now in context window since doing fixed length? \n",
    "    indices = np.array([int(c) for c in list(article['tokenized_vector']) if c.isdigit()])\n",
    "    entity_idx = np.where(indices == 1)[0]\n",
    "    if len(entity_idx):\n",
    "        split_text = text.split()\n",
    "        context = split_text[max(0, entity_idx.min() - window_length) : entity_idx.min()] +\\\n",
    "                  split_text[entity_idx.max() + 1 : entity_idx.max() + window_length + 1] \n",
    "        #if word not in vocab, by default map to 1\n",
    "        context_word2idx = [word2idx.get(word, 1) for word in context]\n",
    "        \n",
    "        #storing list of candidates in knowledge graph\n",
    "        kge_candidates = []\n",
    "        \n",
    "        #get a candidate from candidate_dict to get a false, irrelevant entity for each entity\n",
    "        if not pd.isnull(article['candidates']):\n",
    "            candidates_list = ast.literal_eval(article['candidates'])[:10]\n",
    "            #can't choose actual entity as false \n",
    "            if entity_id in candidates_list:\n",
    "                candidates_list.remove(entity_id)\n",
    "            if len(candidates_list) > 0:\n",
    "                for false_entity_id in candidates_list:\n",
    "                    if false_entity_id in id2idx:\n",
    "                        false_graph_embed = graph_embedding[id2idx[false_entity_id]]\n",
    "                        #lstm_input.append(context_word2idx)\n",
    "                        #graph_input.append(false_graph_embed)\n",
    "        #                 doc_input.append(doc_embedding)\n",
    "                        #response.append(0)\n",
    "                        kge_candidates.append(false_graph_embed)\n",
    "                    else:\n",
    "                        pass\n",
    "                        #not_in_graph.append(false_entity_id)\n",
    "        if entity_id in id2idx:\n",
    "            true_graph_embed = graph_embedding[id2idx[entity_id]]\n",
    "            #lstm_input.append(context_word2idx)\n",
    "            #graph_input.append(true_graph_embed)\n",
    "    #         doc_input.append(doc_embedding)\n",
    "            #response.append(1)\n",
    "            # this means that last index is always the true embedding\n",
    "            kge_candidates.append(true_graph_embed)\n",
    "            lstm_input_list.append(context_word2idx)\n",
    "            graph_input_list.append(np.array(kge_candidates))\n",
    "        \n",
    "        else:\n",
    "            pass\n",
    "            #not_in_graph.append(entity_id)\n",
    "            \n",
    "#lstm_input = pad_sequences(lstm_input, maxlen = window_length * 2, padding = 'post')\n",
    "# graph_input = np.array(graph_input)\n",
    "# # doc_input = np.array(doc_input)\n",
    "# response = np.array(response)"
   ]
  },
  {
   "cell_type": "code",
   "execution_count": 18,
   "metadata": {},
   "outputs": [],
   "source": [
    "lstm_input_list = np.array(lstm_input_list)\n",
    "graph_input_list = np.array(graph_input_list)"
   ]
  },
  {
   "cell_type": "code",
   "execution_count": 19,
   "metadata": {},
   "outputs": [],
   "source": [
    "np.save(\"../data/model1/lstm_input_list.npy\", lstm_input_list)\n",
    "np.save(\"../data/model1/graph_input_list.npy\", graph_input_list)"
   ]
  },
  {
   "cell_type": "code",
   "execution_count": 5,
   "metadata": {},
   "outputs": [],
   "source": [
    "lstm_input_list = np.load(\"../data/model1/lstm_input_list.npy\", allow_pickle = True)\n",
    "graph_input_list = np.load(\"../data/model1/graph_input_list.npy\", allow_pickle = True)"
   ]
  },
  {
   "cell_type": "code",
   "execution_count": 6,
   "metadata": {},
   "outputs": [],
   "source": [
    "# lstm_input = np.load(\"../data/model1/lstm_input.pkl.npy\")\n",
    "# graph_input = np.load(\"../data/model1/graph_input.pkl.npy\")\n",
    "# response = np.load(\"../data/model1/response.pkl.npy\")"
   ]
  },
  {
   "cell_type": "code",
   "execution_count": 7,
   "metadata": {},
   "outputs": [],
   "source": [
    "# np.random.seed(1)\n",
    "\n",
    "# train_ind, test_ind = train_test_split(np.arange(len(response)))\n",
    "# lstm_train = lstm_input[train_ind]\n",
    "# lstm_test = lstm_input[test_ind]\n",
    "# graph_train = graph_input[train_ind]\n",
    "# graph_test = graph_input[test_ind]\n",
    "# # doc_train = doc_input[train_ind]\n",
    "# # doc_test = doc_input[test_ind]\n",
    "# y_train = response[train_ind]\n",
    "# y_test = response[test_ind]\n",
    "\n",
    "# len(y_train), len(y_test)"
   ]
  },
  {
   "cell_type": "code",
   "execution_count": 6,
   "metadata": {},
   "outputs": [],
   "source": [
    "np.random.seed(1)\n",
    "\n",
    "train_idx, test_idx = train_test_split(np.arange(len(lstm_input_list)), test_size=0.2)\n"
   ]
  },
  {
   "cell_type": "code",
   "execution_count": 7,
   "metadata": {},
   "outputs": [
    {
     "data": {
      "text/plain": [
       "1882452"
      ]
     },
     "execution_count": 7,
     "metadata": {},
     "output_type": "execute_result"
    }
   ],
   "source": [
    "len(train_idx)"
   ]
  },
  {
   "cell_type": "code",
   "execution_count": 8,
   "metadata": {},
   "outputs": [
    {
     "data": {
      "text/plain": [
       "470613"
      ]
     },
     "execution_count": 8,
     "metadata": {},
     "output_type": "execute_result"
    }
   ],
   "source": [
    "len(test_idx)"
   ]
  },
  {
   "cell_type": "code",
   "execution_count": 8,
   "metadata": {},
   "outputs": [],
   "source": [
    "#indices = test_idx[:10]"
   ]
  },
  {
   "cell_type": "code",
   "execution_count": 9,
   "metadata": {},
   "outputs": [],
   "source": [
    "def build_data(lstm_input_list, graph_input_list, indices):\n",
    "    # construct lstm, graph set based on indices\n",
    "    lstm_data = []\n",
    "    graph_data = []\n",
    "    response = []\n",
    "    for ind in indices:\n",
    "        lstm_inp = lstm_input_list[ind]\n",
    "        graph_inp = graph_input_list[ind]\n",
    "        for i, kge in enumerate(graph_inp):\n",
    "            lstm_data.append(lstm_inp)\n",
    "            graph_data.append(kge)\n",
    "            if i == len(graph_inp)-1:\n",
    "                response.append(1)\n",
    "            else:\n",
    "                response.append(0)\n",
    "    lstm_data = np.array(lstm_data)\n",
    "    lstm_data = pad_sequences(lstm_data, maxlen = window_length * 2, padding = 'post')\n",
    "    graph_data = np.array(graph_data)\n",
    "    response = np.array(response)\n",
    "\n",
    "    return lstm_data, graph_data, response"
   ]
  },
  {
   "cell_type": "code",
   "execution_count": 10,
   "metadata": {},
   "outputs": [],
   "source": [
    "window_length = 10\n",
    "lstm_train, graph_train, y_train = build_data(lstm_input_list, graph_input_list, train_idx)\n",
    "lstm_test, graph_test, y_test = build_data(lstm_input_list, graph_input_list, test_idx)"
   ]
  },
  {
   "cell_type": "code",
   "execution_count": 11,
   "metadata": {},
   "outputs": [
    {
     "data": {
      "text/plain": [
       "(9363481,)"
      ]
     },
     "execution_count": 11,
     "metadata": {},
     "output_type": "execute_result"
    }
   ],
   "source": [
    "y_train.shape"
   ]
  },
  {
   "cell_type": "code",
   "execution_count": 12,
   "metadata": {},
   "outputs": [
    {
     "data": {
      "text/plain": [
       "0.2010418988408264"
      ]
     },
     "execution_count": 12,
     "metadata": {},
     "output_type": "execute_result"
    }
   ],
   "source": [
    "y_train.mean()"
   ]
  },
  {
   "cell_type": "code",
   "execution_count": 13,
   "metadata": {},
   "outputs": [
    {
     "data": {
      "text/plain": [
       "(2337813,)"
      ]
     },
     "execution_count": 13,
     "metadata": {},
     "output_type": "execute_result"
    }
   ],
   "source": [
    "y_test.shape"
   ]
  },
  {
   "cell_type": "code",
   "execution_count": 14,
   "metadata": {},
   "outputs": [
    {
     "data": {
      "text/plain": [
       "0.20130480923837793"
      ]
     },
     "execution_count": 14,
     "metadata": {},
     "output_type": "execute_result"
    }
   ],
   "source": [
    "y_test.mean()"
   ]
  },
  {
   "cell_type": "code",
   "execution_count": 15,
   "metadata": {},
   "outputs": [
    {
     "data": {
      "text/plain": [
       "0.20109442596690588"
      ]
     },
     "execution_count": 15,
     "metadata": {},
     "output_type": "execute_result"
    }
   ],
   "source": [
    "np.concatenate([y_train, y_test]).mean()"
   ]
  },
  {
   "cell_type": "code",
   "execution_count": 16,
   "metadata": {},
   "outputs": [],
   "source": [
    "weights = class_weight.compute_class_weight('balanced',\n",
    "                                            np.unique(y_train),\n",
    "                                            y_train)"
   ]
  },
  {
   "cell_type": "code",
   "execution_count": 17,
   "metadata": {},
   "outputs": [
    {
     "data": {
      "text/plain": [
       "(9363481, 20)"
      ]
     },
     "execution_count": 17,
     "metadata": {},
     "output_type": "execute_result"
    }
   ],
   "source": [
    "lstm_train.shape"
   ]
  },
  {
   "cell_type": "code",
   "execution_count": 18,
   "metadata": {},
   "outputs": [
    {
     "data": {
      "text/plain": [
       "(9363481, 250)"
      ]
     },
     "execution_count": 18,
     "metadata": {},
     "output_type": "execute_result"
    }
   ],
   "source": [
    "graph_train.shape"
   ]
  },
  {
   "cell_type": "code",
   "execution_count": 17,
   "metadata": {},
   "outputs": [],
   "source": [
    "# model -> classification at different abstaining conditions -> do not classify if abstaining rate is high\n",
    "# vs recall\n",
    "# evaluate on all vs only false"
   ]
  },
  {
   "cell_type": "code",
   "execution_count": null,
   "metadata": {},
   "outputs": [],
   "source": [
    "# def biLSTM_KGE_context_model(lstm_input_shape, graph_input_shape, dict_size):\n",
    "#     inp1 = Input(shape = (lstm_input_shape[1], ))\n",
    "#     inp2 = Input(shape = (graph_input_shape[1], ))\n",
    "#     embed = Embedding(output_dim=100, input_dim=dict_size, input_length=lstm_input_shape[1])(inp1)\n",
    "#     out1 = Bidirectional(LSTM(128))(embed)\n",
    "#     w = concatenate([out1, inp2])\n",
    "#     w = Dense(256, activation = 'relu')(w)\n",
    "#     w = Dropout(0.2)(w)\n",
    "#     out = Dense(1, activation = 'sigmoid')(w)\n",
    "#     model = Model(inputs=[inp1, inp2], outputs=out)\n",
    "#     return model"
   ]
  },
  {
   "cell_type": "code",
   "execution_count": 30,
   "metadata": {
    "scrolled": true
   },
   "outputs": [
    {
     "name": "stdout",
     "output_type": "stream",
     "text": [
      "__________________________________________________________________________________________________\n",
      "Layer (type)                    Output Shape         Param #     Connected to                     \n",
      "==================================================================================================\n",
      "input_3 (InputLayer)            (None, 20)           0                                            \n",
      "__________________________________________________________________________________________________\n",
      "embedding_2 (Embedding)         (None, 20, 100)      44588100    input_3[0][0]                    \n",
      "__________________________________________________________________________________________________\n",
      "bidirectional_2 (Bidirectional) (None, 256)          234496      embedding_2[0][0]                \n",
      "__________________________________________________________________________________________________\n",
      "input_4 (InputLayer)            (None, 250)          0                                            \n",
      "__________________________________________________________________________________________________\n",
      "concatenate_2 (Concatenate)     (None, 506)          0           bidirectional_2[0][0]            \n",
      "                                                                 input_4[0][0]                    \n",
      "__________________________________________________________________________________________________\n",
      "dense_3 (Dense)                 (None, 256)          129792      concatenate_2[0][0]              \n",
      "__________________________________________________________________________________________________\n",
      "dropout_2 (Dropout)             (None, 256)          0           dense_3[0][0]                    \n",
      "__________________________________________________________________________________________________\n",
      "dense_4 (Dense)                 (None, 1)            257         dropout_2[0][0]                  \n",
      "==================================================================================================\n",
      "Total params: 44,952,645\n",
      "Trainable params: 44,952,645\n",
      "Non-trainable params: 0\n",
      "__________________________________________________________________________________________________\n"
     ]
    }
   ],
   "source": [
    "# inp1 = Input(shape = (lstm_train.shape[1], ))\n",
    "# inp2 = Input(shape = (graph_train.shape[1], ))\n",
    "# # inp3 = Input(shape = (doc_input.shape[1], ))\n",
    "# embed = Embedding(output_dim=100, input_dim=len(word2idx), input_length=lstm_train.shape[1])(inp1)\n",
    "# out1 = Bidirectional(LSTM(128))(embed)\n",
    "# # out1 = LSTM(128)(embed)\n",
    "# w = concatenate([out1, inp2])\n",
    "# w = Dense(256, activation = 'relu')(w)\n",
    "# w = Dropout(0.2)(w)\n",
    "# out = Dense(1, activation = 'sigmoid')(w)\n",
    "# model = Model(inputs=[inp1, inp2], outputs=out)\n",
    "model = NED_models.biLSTM_KGE_context_model(lstm_train.shape, graph_train.shape, len(word2idx))\n",
    "model.compile(optimizer='adam', loss='binary_crossentropy', metrics=['accuracy'])\n",
    "model.summary()"
   ]
  },
  {
   "cell_type": "code",
   "execution_count": 31,
   "metadata": {},
   "outputs": [
    {
     "name": "stdout",
     "output_type": "stream",
     "text": [
      "Train on 7490784 samples, validate on 1872697 samples\n",
      "Epoch 1/5\n",
      "7490784/7490784 [==============================] - 217s 29us/step - loss: 0.3911 - acc: 0.8287 - val_loss: 0.3421 - val_acc: 0.8482\n",
      "Epoch 2/5\n",
      "7490784/7490784 [==============================] - 203s 27us/step - loss: 0.3241 - acc: 0.8544 - val_loss: 0.3120 - val_acc: 0.8611\n",
      "Epoch 3/5\n",
      "7490784/7490784 [==============================] - 203s 27us/step - loss: 0.2881 - acc: 0.8696 - val_loss: 0.3025 - val_acc: 0.8656\n",
      "Epoch 4/5\n",
      "7490784/7490784 [==============================] - 203s 27us/step - loss: 0.2604 - acc: 0.8821 - val_loss: 0.3013 - val_acc: 0.8673\n",
      "Epoch 5/5\n",
      "7490784/7490784 [==============================] - 203s 27us/step - loss: 0.2374 - acc: 0.8929 - val_loss: 0.3069 - val_acc: 0.8669\n"
     ]
    },
    {
     "data": {
      "text/plain": [
       "<keras.callbacks.History at 0x7faf21e52190>"
      ]
     },
     "execution_count": 31,
     "metadata": {},
     "output_type": "execute_result"
    }
   ],
   "source": [
    "# model.fit([lstm_train, graph_train, doc_train], y_train, batch_size = 256, epochs = 3, validation_split = 0.2)\n",
    "model.fit([lstm_train, graph_train], y_train, batch_size = 8192, epochs = 5, validation_split = 0.2, class_weight = weights)"
   ]
  },
  {
   "cell_type": "code",
   "execution_count": 32,
   "metadata": {},
   "outputs": [],
   "source": [
    "model.save('final_NED_model.h5')"
   ]
  },
  {
   "cell_type": "code",
   "execution_count": 33,
   "metadata": {},
   "outputs": [
    {
     "data": {
      "text/plain": [
       "0.8672336067940422"
      ]
     },
     "execution_count": 33,
     "metadata": {},
     "output_type": "execute_result"
    }
   ],
   "source": [
    "# y_test_pred = model.predict([lstm_test, graph_test, doc_test])\n",
    "y_test_pred_prob = model.predict([lstm_test, graph_test])\n",
    "\n",
    "y_test_pred = np.where(y_test_pred_prob > 0.5, 1, 0)\n",
    "accuracy_score(y_test, y_test_pred)"
   ]
  },
  {
   "cell_type": "code",
   "execution_count": 34,
   "metadata": {},
   "outputs": [],
   "source": [
    "cm = confusion_matrix(y_test, y_test_pred)"
   ]
  },
  {
   "cell_type": "code",
   "execution_count": 35,
   "metadata": {},
   "outputs": [
    {
     "data": {
      "image/png": "[encoded data removed]",
      "text/plain": [
       "<Figure size 432x288 with 1 Axes>"
      ]
     },
     "metadata": {},
     "output_type": "display_data"
    }
   ],
   "source": [
    "from mlxtend.plotting import plot_confusion_matrix\n",
    "\n",
    "plot_confusion_matrix(cm, show_normed = True);"
   ]
  },
  {
   "cell_type": "code",
   "execution_count": 36,
   "metadata": {},
   "outputs": [
    {
     "data": {
      "text/plain": [
       "0.8999217625692385"
      ]
     },
     "execution_count": 36,
     "metadata": {},
     "output_type": "execute_result"
    }
   ],
   "source": [
    "metrics.roc_auc_score(y_test, y_test_pred_prob)"
   ]
  },
  {
   "cell_type": "code",
   "execution_count": 37,
   "metadata": {},
   "outputs": [],
   "source": [
    "fpr, tpr, _ = metrics.roc_curve(y_test, y_test_pred_prob)"
   ]
  },
  {
   "cell_type": "code",
   "execution_count": 38,
   "metadata": {},
   "outputs": [
    {
     "data": {
      "text/plain": [
       "Text(0.5, 1.0, 'ROC curve')"
      ]
     },
     "execution_count": 38,
     "metadata": {},
     "output_type": "execute_result"
    },
    {
     "data": {
      "image/png": "[encoded data removed]",
      "text/plain": [
       "<Figure size 432x288 with 1 Axes>"
      ]
     },
     "metadata": {},
     "output_type": "display_data"
    }
   ],
   "source": [
    "plt.plot([0,1], [0,1], 'k--')\n",
    "plt.plot(fpr, tpr)\n",
    "plt.xlabel('False positive rate')\n",
    "plt.ylabel('True positive rate')\n",
    "plt.title('ROC curve')"
   ]
  },
  {
   "cell_type": "code",
   "execution_count": 39,
   "metadata": {},
   "outputs": [],
   "source": [
    "# see prediction score on candidate list\n",
    "\n",
    "# find cutoff\n",
    "# offset of where the true index is\n",
    "cutoffs = [0]\n",
    "for ind in test_idx:\n",
    "    graph_inp = graph_input_list[ind]\n",
    "    cutoffs.append(cutoffs[-1] + len(graph_inp))"
   ]
  },
  {
   "cell_type": "code",
   "execution_count": 40,
   "metadata": {
    "scrolled": true
   },
   "outputs": [
    {
     "name": "stdout",
     "output_type": "stream",
     "text": [
      "[0.02535573] [0.03843069]\n",
      "[0.04891789] [0.06184092]\n",
      "[0.38317108] [0.6380092]\n",
      "[0.19910836] [0.27743357]\n",
      "[0.43856007] [0.51543844]\n",
      "[0.01073903] [0.01580426]\n",
      "[0.07918218] [0.20278618]\n",
      "[0.2972404] [0.645008]\n",
      "[0.5406719] [0.55159163]\n",
      "[0.3059118] [0.5111166]\n",
      "[0.11643821] [0.43925825]\n",
      "[0.37994787] [0.81701]\n",
      "[0.0225499] [0.9024589]\n",
      "[0.31105423] [0.48204577]\n",
      "[0.01324478] [0.03938416]\n",
      "[0.24200988] [0.74265015]\n",
      "[0.14997527] [0.41232342]\n",
      "[0.13210854] [0.39240828]\n",
      "[0.536913] [0.60214484]\n",
      "[0.01168835] [0.02487546]\n",
      "[0.53221166] [0.56887186]\n",
      "[0.29074273] [0.84012204]\n",
      "[0.04859689] [0.21178856]\n",
      "[0.32288003] [0.3766907]\n",
      "[0.0650402] [0.31802377]\n",
      "[0.30267942] [0.707274]\n",
      "[0.3928599] [0.4062578]\n",
      "[0.11879975] [0.7094199]\n",
      "[0.25333267] [0.3848415]\n",
      "[0.49757978] [0.7075999]\n",
      "[0.39237273] [0.55555284]\n",
      "[0.388435] [0.45035046]\n",
      "[0.42331448] [0.66753644]\n",
      "[0.5963926] [0.7963102]\n",
      "[0.46473426] [0.56557417]\n",
      "[0.04805946] [0.20749822]\n",
      "[0.43467587] [0.5562523]\n",
      "[0.09366417] [0.6464339]\n",
      "[0.47154936] [0.6525525]\n",
      "[0.29346022] [0.34017357]\n",
      "[0.8608164] [0.9686566]\n",
      "[0.13997513] [0.29735985]\n",
      "[0.07602695] [0.24534258]\n",
      "[0.17327031] [0.27518415]\n",
      "[0.3303942] [0.39615503]\n",
      "[0.16816196] [0.6296179]\n",
      "[0.21779788] [0.74800205]\n",
      "[0.00123924] [0.00135797]\n",
      "[0.4948962] [0.50060976]\n",
      "[0.02127808] [0.43429917]\n",
      "[0.04123077] [0.4364479]\n",
      "[0.1055406] [0.2667663]\n",
      "[0.18100324] [0.40993688]\n",
      "[0.50107616] [0.56798846]\n",
      "[0.346457] [0.9352672]\n",
      "[0.18784562] [0.35209525]\n",
      "[0.28147596] [0.46534324]\n",
      "[0.7400156] [0.7552415]\n",
      "[0.43783528] [0.66714615]\n",
      "[0.5904054] [0.6133398]\n",
      "[0.6315718] [0.63899577]\n",
      "[0.788111] [0.82769]\n",
      "[0.01554954] [0.15487897]\n",
      "[0.1935887] [0.23207033]\n",
      "[0.21578929] [0.8904389]\n",
      "[0.11773586] [0.46483502]\n",
      "[0.09230796] [0.43061307]\n",
      "[0.07358155] [0.87179303]\n",
      "[0.01577821] [0.29916048]\n",
      "[0.0674262] [0.24320644]\n",
      "[0.1749661] [0.5764297]\n",
      "[0.00902033] [0.35350657]\n",
      "[0.45820078] [0.48585644]\n",
      "[0.00070477] [0.00197738]\n",
      "[0.27710587] [0.44903243]\n",
      "[0.191239] [0.2660706]\n",
      "[0.01346013] [0.17592719]\n",
      "[0.14519852] [0.28089637]\n",
      "[0.0007495] [0.00589666]\n",
      "[0.02976361] [0.18214276]\n",
      "[0.01232731] [0.03253657]\n",
      "[0.0046232] [0.17115754]\n",
      "[0.2578528] [0.73524404]\n",
      "[0.0986917] [0.39057893]\n",
      "[0.26941198] [0.55235946]\n",
      "[0.14093718] [0.17313352]\n",
      "[0.44338295] [0.88980323]\n",
      "[0.19496974] [0.358034]\n",
      "[0.4645773] [0.96388257]\n",
      "[0.3919437] [0.6848202]\n",
      "[0.37458682] [0.45030066]\n",
      "[0.0894483] [0.09559876]\n",
      "[0.58409655] [0.6657231]\n",
      "[0.44839755] [0.6140372]\n",
      "[0.43266845] [0.57364124]\n",
      "[0.32414657] [0.5432429]\n",
      "[0.2330699] [0.3006152]\n",
      "[0.43147212] [0.48493576]\n",
      "[0.59373367] [0.8256333]\n",
      "[0.24448586] [0.25065392]\n"
     ]
    }
   ],
   "source": [
    "candidate_test_acc = .0\n",
    "count = len(cutoffs) - 1\n",
    "print_count = 100\n",
    "for start_idx, end_idx in zip(cutoffs, cutoffs[1:]):\n",
    "    probs = y_test_pred_prob[start_idx:end_idx]\n",
    "    #if np.argmax(probs) == len(probs) - 1:\n",
    "    if max(probs) == probs[-1]:\n",
    "        if np.random.randint(sum(probs == probs[-1])) == 0:\n",
    "            candidate_test_acc += 1\n",
    "    else:\n",
    "        if print_count:\n",
    "            print(probs[-1], max(probs))\n",
    "            print_count -= 1\n",
    "candidate_test_acc /= count"
   ]
  },
  {
   "cell_type": "code",
   "execution_count": 41,
   "metadata": {},
   "outputs": [
    {
     "data": {
      "text/plain": [
       "0.7577266246363785"
      ]
     },
     "execution_count": 41,
     "metadata": {},
     "output_type": "execute_result"
    }
   ],
   "source": [
    "candidate_test_acc"
   ]
  },
  {
   "cell_type": "code",
   "execution_count": 42,
   "metadata": {},
   "outputs": [],
   "source": [
    "half_size = round(len(test_idx)/2)\n",
    "abst_val_idx, abst_test_idx = test_idx[:half_size], test_idx[half_size:]\n",
    "abst_val_cutoffs, abst_test_cutoffs = cutoffs[:half_size+1], cutoffs[half_size:]"
   ]
  },
  {
   "cell_type": "code",
   "execution_count": 43,
   "metadata": {},
   "outputs": [],
   "source": [
    "num_tr = 20\n",
    "thresholds = 1./num_tr * np.arange(num_tr)"
   ]
  },
  {
   "cell_type": "code",
   "execution_count": 44,
   "metadata": {},
   "outputs": [],
   "source": [
    "recall_with_abstain = []\n",
    "acc_after_abstain = []\n",
    "abstain_rate = []\n",
    "abst_val_count = len(abst_val_cutoffs) - 1\n",
    "# abstain below the threshold\n",
    "for tr in thresholds:\n",
    "    recall = .0\n",
    "    acc = .0\n",
    "    abst = .0\n",
    "    for start_idx, end_idx in zip(abst_val_cutoffs, abst_val_cutoffs[1:]):\n",
    "        probs = y_test_pred_prob[start_idx:end_idx]\n",
    "        max_prob = max(probs)\n",
    "        if max_prob <= tr:\n",
    "            abst += 1\n",
    "        else:\n",
    "            if max_prob == probs[-1]:\n",
    "                if np.random.randint(sum(probs == probs[-1])) == 0:\n",
    "                    acc += 1\n",
    "    \n",
    "    # only count non abst cases\n",
    "    recall = acc / abst_val_count\n",
    "    acc /= (abst_val_count - abst)\n",
    "    \n",
    "    recall_with_abstain.append(recall)\n",
    "    acc_after_abstain.append(acc)\n",
    "    abstain_rate.append(abst/abst_val_count)"
   ]
  },
  {
   "cell_type": "code",
   "execution_count": 45,
   "metadata": {},
   "outputs": [
    {
     "data": {
      "text/plain": [
       "Text(0, 0.5, 'Recall')"
      ]
     },
     "execution_count": 45,
     "metadata": {},
     "output_type": "execute_result"
    },
    {
     "data": {
      "image/png": "[encoded data removed]",
      "text/plain": [
       "<Figure size 432x288 with 1 Axes>"
      ]
     },
     "metadata": {},
     "output_type": "display_data"
    }
   ],
   "source": [
    "plt.plot(thresholds, recall_with_abstain)\n",
    "plt.xlabel(\"Threshold\")\n",
    "plt.ylabel(\"Recall\")"
   ]
  },
  {
   "cell_type": "code",
   "execution_count": 46,
   "metadata": {},
   "outputs": [
    {
     "data": {
      "text/plain": [
       "Text(0, 0.5, 'Precision (excluding abstained)')"
      ]
     },
     "execution_count": 46,
     "metadata": {},
     "output_type": "execute_result"
    },
    {
     "data": {
      "image/png": "[encoded data removed]",
      "text/plain": [
       "<Figure size 432x288 with 1 Axes>"
      ]
     },
     "metadata": {},
     "output_type": "display_data"
    }
   ],
   "source": [
    "plt.plot(thresholds, acc_after_abstain)\n",
    "plt.xlabel(\"Threshold\")\n",
    "plt.ylabel(\"Precision (excluding abstained)\")"
   ]
  },
  {
   "cell_type": "code",
   "execution_count": 47,
   "metadata": {},
   "outputs": [
    {
     "data": {
      "text/plain": [
       "Text(0, 0.5, 'Precision (excluding abstained)')"
      ]
     },
     "execution_count": 47,
     "metadata": {},
     "output_type": "execute_result"
    },
    {
     "data": {
      "image/png": "[encoded data removed]",
      "text/plain": [
       "<Figure size 432x288 with 1 Axes>"
      ]
     },
     "metadata": {},
     "output_type": "display_data"
    }
   ],
   "source": [
    "plt.plot(recall_with_abstain, acc_after_abstain, 'o-')\n",
    "plt.xlabel(\"Overall Recall\")\n",
    "plt.ylabel(\"Precision (excluding abstained)\")"
   ]
  },
  {
   "cell_type": "code",
   "execution_count": 48,
   "metadata": {},
   "outputs": [],
   "source": [
    "# without the true\n",
    "false_positive_rate = []\n",
    "false_abstain_rate = []\n",
    "abst_val_count = len(abst_val_cutoffs) - 1\n",
    "# abstain below the threshold\n",
    "for tr in thresholds:\n",
    "    fpr = .0\n",
    "    abst = .0\n",
    "    for start_idx, end_idx in zip(abst_val_cutoffs, abst_val_cutoffs[1:]):\n",
    "        probs = y_test_pred_prob[start_idx:end_idx-1]\n",
    "        if len(probs) == 0:\n",
    "            continue\n",
    "        max_prob = max(probs)\n",
    "        if max_prob <= tr:\n",
    "            abst += 1\n",
    "        else:\n",
    "            fpr += 1\n",
    "    \n",
    "    # only count non abst cases\n",
    "    fpr /= abst_val_count\n",
    "    abst /= abst_val_count\n",
    "    \n",
    "    false_positive_rate.append(fpr)\n",
    "    false_abstain_rate.append(abst)"
   ]
  },
  {
   "cell_type": "code",
   "execution_count": 49,
   "metadata": {},
   "outputs": [
    {
     "data": {
      "text/plain": [
       "[<matplotlib.lines.Line2D at 0x7faf07532dd0>]"
      ]
     },
     "execution_count": 49,
     "metadata": {},
     "output_type": "execute_result"
    },
    {
     "data": {
      "image/png": "[encoded data removed]",
      "text/plain": [
       "<Figure size 432x288 with 1 Axes>"
      ]
     },
     "metadata": {},
     "output_type": "display_data"
    }
   ],
   "source": [
    "plt.plot(thresholds, false_positive_rate)"
   ]
  },
  {
   "cell_type": "code",
   "execution_count": 50,
   "metadata": {},
   "outputs": [
    {
     "data": {
      "text/plain": [
       "[<matplotlib.lines.Line2D at 0x7faf0742a650>]"
      ]
     },
     "execution_count": 50,
     "metadata": {},
     "output_type": "execute_result"
    },
    {
     "data": {
      "image/png": "[encoded data removed]",
      "text/plain": [
       "<Figure size 432x288 with 1 Axes>"
      ]
     },
     "metadata": {},
     "output_type": "display_data"
    }
   ],
   "source": [
    "plt.plot(false_positive_rate, recall_with_abstain)"
   ]
  },
  {
   "cell_type": "code",
   "execution_count": 70,
   "metadata": {},
   "outputs": [
    {
     "name": "stdout",
     "output_type": "stream",
     "text": [
      "Threshold: 0.0\n",
      "Recall: 0.758, Acc: 0.758\n",
      "Threshold: 0.05\n",
      "Recall: 0.744, Acc: 0.760\n",
      "Threshold: 0.1\n",
      "Recall: 0.729, Acc: 0.763\n",
      "Threshold: 0.15000000000000002\n",
      "Recall: 0.713, Acc: 0.766\n",
      "Threshold: 0.2\n",
      "Recall: 0.695, Acc: 0.771\n",
      "Threshold: 0.25\n",
      "Recall: 0.674, Acc: 0.776\n",
      "Threshold: 0.30000000000000004\n",
      "Recall: 0.651, Acc: 0.783\n",
      "Threshold: 0.35000000000000003\n",
      "Recall: 0.624, Acc: 0.790\n",
      "Threshold: 0.4\n",
      "Recall: 0.595, Acc: 0.799\n",
      "Threshold: 0.45\n",
      "Recall: 0.562, Acc: 0.810\n",
      "Threshold: 0.5\n",
      "Recall: 0.528, Acc: 0.823\n",
      "Threshold: 0.55\n",
      "Recall: 0.492, Acc: 0.836\n",
      "Threshold: 0.6000000000000001\n",
      "Recall: 0.457, Acc: 0.850\n",
      "Threshold: 0.65\n",
      "Recall: 0.421, Acc: 0.865\n",
      "Threshold: 0.7000000000000001\n",
      "Recall: 0.385, Acc: 0.879\n",
      "Threshold: 0.75\n",
      "Recall: 0.348, Acc: 0.894\n",
      "Threshold: 0.8\n",
      "Recall: 0.311, Acc: 0.909\n",
      "Threshold: 0.8500000000000001\n",
      "Recall: 0.271, Acc: 0.924\n",
      "Threshold: 0.9\n",
      "Recall: 0.226, Acc: 0.939\n",
      "Threshold: 0.9500000000000001\n",
      "Recall: 0.170, Acc: 0.958\n"
     ]
    }
   ],
   "source": [
    "for th, rec, acc in zip(thresholds, recall_with_abstain, acc_after_abstain):\n",
    "    print(\"Threshold: {}\\nRecall: {:.3f}, Acc: {:.3f}\".format(th,rec,acc))"
   ]
  },
  {
   "cell_type": "code",
   "execution_count": 64,
   "metadata": {},
   "outputs": [
    {
     "data": {
      "text/plain": [
       "0.0"
      ]
     },
     "execution_count": 64,
     "metadata": {},
     "output_type": "execute_result"
    }
   ],
   "source": [
    "thresholds[0]"
   ]
  },
  {
   "cell_type": "code",
   "execution_count": 65,
   "metadata": {},
   "outputs": [
    {
     "data": {
      "text/plain": [
       "0.7579449737788242"
      ]
     },
     "execution_count": 65,
     "metadata": {},
     "output_type": "execute_result"
    }
   ],
   "source": [
    "recall_with_abstain[0]"
   ]
  },
  {
   "cell_type": "code",
   "execution_count": 66,
   "metadata": {},
   "outputs": [
    {
     "data": {
      "text/plain": [
       "0.7579449737788242"
      ]
     },
     "execution_count": 66,
     "metadata": {},
     "output_type": "execute_result"
    }
   ],
   "source": [
    "acc_after_abstain[0]"
   ]
  },
  {
   "cell_type": "code",
   "execution_count": 61,
   "metadata": {},
   "outputs": [
    {
     "data": {
      "text/plain": [
       "0.05"
      ]
     },
     "execution_count": 61,
     "metadata": {},
     "output_type": "execute_result"
    }
   ],
   "source": [
    "thresholds[1]"
   ]
  },
  {
   "cell_type": "code",
   "execution_count": 62,
   "metadata": {},
   "outputs": [
    {
     "data": {
      "text/plain": [
       "0.7579449737788242"
      ]
     },
     "execution_count": 62,
     "metadata": {},
     "output_type": "execute_result"
    }
   ],
   "source": [
    "recall_with_abstain[0]"
   ]
  },
  {
   "cell_type": "code",
   "execution_count": 63,
   "metadata": {},
   "outputs": [
    {
     "data": {
      "text/plain": [
       "0.7579449737788242"
      ]
     },
     "execution_count": 63,
     "metadata": {},
     "output_type": "execute_result"
    }
   ],
   "source": [
    "acc_after_abstain[0]"
   ]
  },
  {
   "cell_type": "code",
   "execution_count": 67,
   "metadata": {},
   "outputs": [
    {
     "data": {
      "text/plain": [
       "0.1"
      ]
     },
     "execution_count": 67,
     "metadata": {},
     "output_type": "execute_result"
    }
   ],
   "source": [
    "thresholds[2]"
   ]
  },
  {
   "cell_type": "code",
   "execution_count": 68,
   "metadata": {},
   "outputs": [
    {
     "data": {
      "text/plain": [
       "0.7579449737788242"
      ]
     },
     "execution_count": 68,
     "metadata": {},
     "output_type": "execute_result"
    }
   ],
   "source": [
    "recall_with_abstain[0]"
   ]
  },
  {
   "cell_type": "code",
   "execution_count": 69,
   "metadata": {},
   "outputs": [
    {
     "data": {
      "text/plain": [
       "0.7579449737788242"
      ]
     },
     "execution_count": 69,
     "metadata": {},
     "output_type": "execute_result"
    }
   ],
   "source": [
    "acc_after_abstain[0]"
   ]
  },
  {
   "cell_type": "code",
   "execution_count": 51,
   "metadata": {
    "scrolled": false
   },
   "outputs": [
    {
     "data": {
      "text/plain": [
       "0.15000000000000002"
      ]
     },
     "execution_count": 51,
     "metadata": {},
     "output_type": "execute_result"
    }
   ],
   "source": [
    "thresholds[3]"
   ]
  },
  {
   "cell_type": "code",
   "execution_count": 52,
   "metadata": {},
   "outputs": [
    {
     "data": {
      "text/plain": [
       "0.7579449737788242"
      ]
     },
     "execution_count": 52,
     "metadata": {},
     "output_type": "execute_result"
    }
   ],
   "source": [
    "recall_with_abstain[0]"
   ]
  },
  {
   "cell_type": "code",
   "execution_count": 53,
   "metadata": {},
   "outputs": [
    {
     "data": {
      "text/plain": [
       "0.7579449737788242"
      ]
     },
     "execution_count": 53,
     "metadata": {},
     "output_type": "execute_result"
    }
   ],
   "source": [
    "acc_after_abstain[0]"
   ]
  },
  {
   "cell_type": "code",
   "execution_count": null,
   "metadata": {},
   "outputs": [],
   "source": []
  },
  {
   "cell_type": "code",
   "execution_count": 54,
   "metadata": {},
   "outputs": [
    {
     "data": {
      "text/plain": [
       "0.7437464408047394"
      ]
     },
     "execution_count": 54,
     "metadata": {},
     "output_type": "execute_result"
    }
   ],
   "source": [
    "recall_with_abstain[1]"
   ]
  },
  {
   "cell_type": "code",
   "execution_count": 55,
   "metadata": {},
   "outputs": [
    {
     "data": {
      "text/plain": [
       "0.7603192325905717"
      ]
     },
     "execution_count": 55,
     "metadata": {},
     "output_type": "execute_result"
    }
   ],
   "source": [
    "acc_after_abstain[1]"
   ]
  },
  {
   "cell_type": "code",
   "execution_count": 56,
   "metadata": {},
   "outputs": [
    {
     "data": {
      "text/plain": [
       "0.06978997560623189"
      ]
     },
     "execution_count": 56,
     "metadata": {},
     "output_type": "execute_result"
    }
   ],
   "source": [
    "abstain_rate[3]"
   ]
  },
  {
   "cell_type": "code",
   "execution_count": 57,
   "metadata": {},
   "outputs": [],
   "source": [
    "chosen_tr = thresholds[6]\n",
    "abst_test_count = len(abst_test_cutoffs) - 1\n",
    "# abstain below the threshold\n",
    "\n",
    "recall = .0\n",
    "acc = .0\n",
    "abst = .0\n",
    "for start_idx, end_idx in zip(abst_test_cutoffs, abst_test_cutoffs[1:]):\n",
    "    probs = y_test_pred_prob[start_idx:end_idx]\n",
    "    max_prob = max(probs)\n",
    "    if max_prob <= chosen_tr:\n",
    "        abst += 1\n",
    "    else:\n",
    "        if max_prob == probs[-1]:\n",
    "            if np.random.randint(sum(probs == probs[-1])) == 0:\n",
    "                acc += 1\n",
    "\n",
    "# only count non abst cases\n",
    "recall = acc / abst_test_count\n",
    "acc /= (abst_test_count - abst)\n",
    "abst /= abst_test_count"
   ]
  },
  {
   "cell_type": "code",
   "execution_count": 58,
   "metadata": {},
   "outputs": [
    {
     "data": {
      "text/plain": [
       "0.6498064230983354"
      ]
     },
     "execution_count": 58,
     "metadata": {},
     "output_type": "execute_result"
    }
   ],
   "source": [
    "recall"
   ]
  },
  {
   "cell_type": "code",
   "execution_count": 59,
   "metadata": {},
   "outputs": [
    {
     "data": {
      "text/plain": [
       "0.7812744301546668"
      ]
     },
     "execution_count": 59,
     "metadata": {},
     "output_type": "execute_result"
    }
   ],
   "source": [
    "acc"
   ]
  },
  {
   "cell_type": "code",
   "execution_count": 60,
   "metadata": {},
   "outputs": [
    {
     "data": {
      "text/plain": [
       "0.16827378701016119"
      ]
     },
     "execution_count": 60,
     "metadata": {},
     "output_type": "execute_result"
    }
   ],
   "source": [
    "abst"
   ]
  }
 ],
 "metadata": {
  "kernelspec": {
   "display_name": "capstone",
   "language": "python",
   "name": "capstone"
  },
  "language_info": {
   "codemirror_mode": {
    "name": "ipython",
    "version": 3
   },
   "file_extension": ".py",
   "mimetype": "text/x-python",
   "name": "python",
   "nbconvert_exporter": "python",
   "pygments_lexer": "ipython3",
   "version": "3.7.4"
  }
 },
 "nbformat": 4,
 "nbformat_minor": 2
}
