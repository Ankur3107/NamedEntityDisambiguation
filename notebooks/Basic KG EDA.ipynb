{
 "cells": [
  {
   "cell_type": "code",
   "execution_count": 13,
   "metadata": {},
   "outputs": [],
   "source": [
    "import pandas as pd\n",
    "\n",
    "%matplotlib inline"
   ]
  },
  {
   "cell_type": "code",
   "execution_count": 2,
   "metadata": {},
   "outputs": [],
   "source": [
    "triplets = pd.read_csv('../data/raw/wikidata_20190805.qpq_item_statements.csv')"
   ]
  },
  {
   "cell_type": "code",
   "execution_count": 3,
   "metadata": {},
   "outputs": [
    {
     "data": {
      "text/plain": [
       "Index(['source_item_id', 'edge_property_id', 'target_item_id', 'el_rank'], dtype='object')"
      ]
     },
     "execution_count": 3,
     "metadata": {},
     "output_type": "execute_result"
    }
   ],
   "source": [
    "triplets.columns"
   ]
  },
  {
   "cell_type": "code",
   "execution_count": 25,
   "metadata": {},
   "outputs": [],
   "source": [
    "entities = pd.read_csv('../data/raw/wikidata_20190805.item.csv')"
   ]
  },
  {
   "cell_type": "code",
   "execution_count": 26,
   "metadata": {},
   "outputs": [
    {
     "data": {
      "text/plain": [
       "Index(['id', 'en_label', 'en_description', 'enwiki_title'], dtype='object')"
      ]
     },
     "execution_count": 26,
     "metadata": {},
     "output_type": "execute_result"
    }
   ],
   "source": [
    "entities.columns"
   ]
  },
  {
   "cell_type": "code",
   "execution_count": 11,
   "metadata": {},
   "outputs": [],
   "source": [
    "out_degree = triplets.groupby(['source_item_id'])[['source_item_id']].count()\n",
    "out_degree = out_degree.rename(columns={\"source_item_id\": \"out_degree\"})\n",
    "out_degree = out_degree.reset_index()\n",
    "out_degree = out_degree.sort_values('out_degree', ascending = False)"
   ]
  },
  {
   "cell_type": "code",
   "execution_count": 41,
   "metadata": {},
   "outputs": [
    {
     "data": {
      "text/plain": [
       "count    5.641113e+07\n",
       "mean     6.793780e+00\n",
       "std      1.339614e+01\n",
       "min      1.000000e+00\n",
       "25%      2.000000e+00\n",
       "50%      3.000000e+00\n",
       "75%      5.000000e+00\n",
       "max      8.319000e+03\n",
       "Name: out_degree, dtype: float64"
      ]
     },
     "execution_count": 41,
     "metadata": {},
     "output_type": "execute_result"
    }
   ],
   "source": [
    "out_degree['out_degree'].describe()"
   ]
  },
  {
   "cell_type": "code",
   "execution_count": 21,
   "metadata": {},
   "outputs": [],
   "source": [
    "top_out_degree = out_degree.iloc[:10]"
   ]
  },
  {
   "cell_type": "code",
   "execution_count": 28,
   "metadata": {},
   "outputs": [],
   "source": [
    "top_out_degree = top_out_degree.merge(entities, left_on = ['source_item_id'], right_on = ['id'])"
   ]
  },
  {
   "cell_type": "code",
   "execution_count": 32,
   "metadata": {},
   "outputs": [],
   "source": [
    "top_out_degree['en_label_short'] = top_out_degree['en_label'].str[:20] "
   ]
  },
  {
   "cell_type": "code",
   "execution_count": 33,
   "metadata": {},
   "outputs": [
    {
     "data": {
      "text/plain": [
       "<matplotlib.axes._subplots.AxesSubplot at 0x7f02cef68c90>"
      ]
     },
     "execution_count": 33,
     "metadata": {},
     "output_type": "execute_result"
    },
    {
     "data": {
      "image/png": "[encoded data removed]",
      "text/plain": [
       "<Figure size 432x288 with 1 Axes>"
      ]
     },
     "metadata": {},
     "output_type": "display_data"
    }
   ],
   "source": [
    "top_out_degree.plot.bar(x = 'en_label_short', y = 'out_degree')"
   ]
  },
  {
   "cell_type": "code",
   "execution_count": 19,
   "metadata": {},
   "outputs": [],
   "source": [
    "in_degree = triplets.groupby(['target_item_id'])[['target_item_id']].count()\n",
    "in_degree = in_degree.rename(columns={\"target_item_id\": \"in_degree\"})\n",
    "in_degree = in_degree.reset_index()\n",
    "in_degree = in_degree.sort_values('in_degree', ascending = False)"
   ]
  },
  {
   "cell_type": "code",
   "execution_count": 23,
   "metadata": {},
   "outputs": [],
   "source": [
    "top_in_degree = in_degree.iloc[:10]"
   ]
  },
  {
   "cell_type": "code",
   "execution_count": 34,
   "metadata": {},
   "outputs": [],
   "source": [
    "top_in_degree = top_in_degree.merge(entities, left_on = ['target_item_id'], right_on = ['id'])"
   ]
  },
  {
   "cell_type": "code",
   "execution_count": 35,
   "metadata": {},
   "outputs": [
    {
     "data": {
      "text/html": [
       "<div>\n",
       "<style scoped>\n",
       "    .dataframe tbody tr th:only-of-type {\n",
       "        vertical-align: middle;\n",
       "    }\n",
       "\n",
       "    .dataframe tbody tr th {\n",
       "        vertical-align: top;\n",
       "    }\n",
       "\n",
       "    .dataframe thead th {\n",
       "        text-align: right;\n",
       "    }\n",
       "</style>\n",
       "<table border=\"1\" class=\"dataframe\">\n",
       "  <thead>\n",
       "    <tr style=\"text-align: right;\">\n",
       "      <th></th>\n",
       "      <th>target_item_id</th>\n",
       "      <th>in_degree</th>\n",
       "      <th>id</th>\n",
       "      <th>en_label</th>\n",
       "      <th>en_description</th>\n",
       "      <th>enwiki_title</th>\n",
       "    </tr>\n",
       "  </thead>\n",
       "  <tbody>\n",
       "    <tr>\n",
       "      <th>0</th>\n",
       "      <td>13442814</td>\n",
       "      <td>21910388</td>\n",
       "      <td>13442814</td>\n",
       "      <td>scholarly article</td>\n",
       "      <td>article in an academic publication, usually pe...</td>\n",
       "      <td>NaN</td>\n",
       "    </tr>\n",
       "    <tr>\n",
       "      <th>1</th>\n",
       "      <td>5</td>\n",
       "      <td>5837659</td>\n",
       "      <td>5</td>\n",
       "      <td>human</td>\n",
       "      <td>common name of Homo sapiens, unique extant spe...</td>\n",
       "      <td>Human</td>\n",
       "    </tr>\n",
       "    <tr>\n",
       "      <th>2</th>\n",
       "      <td>1860</td>\n",
       "      <td>4600258</td>\n",
       "      <td>1860</td>\n",
       "      <td>English</td>\n",
       "      <td>West Germanic language originating in England ...</td>\n",
       "      <td>English language</td>\n",
       "    </tr>\n",
       "    <tr>\n",
       "      <th>3</th>\n",
       "      <td>4167836</td>\n",
       "      <td>4465143</td>\n",
       "      <td>4167836</td>\n",
       "      <td>Wikimedia category</td>\n",
       "      <td>use with 'instance of' (P31) for Wikimedia cat...</td>\n",
       "      <td>Wikipedia:Categorization</td>\n",
       "    </tr>\n",
       "    <tr>\n",
       "      <th>4</th>\n",
       "      <td>6581097</td>\n",
       "      <td>3913958</td>\n",
       "      <td>6581097</td>\n",
       "      <td>male</td>\n",
       "      <td>human who is male (use with P21)</td>\n",
       "      <td>NaN</td>\n",
       "    </tr>\n",
       "    <tr>\n",
       "      <th>5</th>\n",
       "      <td>16521</td>\n",
       "      <td>2596501</td>\n",
       "      <td>16521</td>\n",
       "      <td>taxon</td>\n",
       "      <td>group of one or more organism(s), which a taxo...</td>\n",
       "      <td>Taxon</td>\n",
       "    </tr>\n",
       "    <tr>\n",
       "      <th>6</th>\n",
       "      <td>7432</td>\n",
       "      <td>2198219</td>\n",
       "      <td>7432</td>\n",
       "      <td>species</td>\n",
       "      <td>one of the basic units of biological classific...</td>\n",
       "      <td>Species</td>\n",
       "    </tr>\n",
       "    <tr>\n",
       "      <th>7</th>\n",
       "      <td>30</td>\n",
       "      <td>1968964</td>\n",
       "      <td>30</td>\n",
       "      <td>United States of America</td>\n",
       "      <td>federal republic in North America</td>\n",
       "      <td>United States</td>\n",
       "    </tr>\n",
       "    <tr>\n",
       "      <th>8</th>\n",
       "      <td>8054</td>\n",
       "      <td>1801629</td>\n",
       "      <td>8054</td>\n",
       "      <td>protein</td>\n",
       "      <td>biological molecule consisting of chains of am...</td>\n",
       "      <td>Protein</td>\n",
       "    </tr>\n",
       "    <tr>\n",
       "      <th>9</th>\n",
       "      <td>7187</td>\n",
       "      <td>1609904</td>\n",
       "      <td>7187</td>\n",
       "      <td>gene</td>\n",
       "      <td>basic physical and functional unit of heredity</td>\n",
       "      <td>Gene</td>\n",
       "    </tr>\n",
       "  </tbody>\n",
       "</table>\n",
       "</div>"
      ],
      "text/plain": [
       "   target_item_id  in_degree        id                  en_label  \\\n",
       "0        13442814   21910388  13442814         scholarly article   \n",
       "1               5    5837659         5                     human   \n",
       "2            1860    4600258      1860                   English   \n",
       "3         4167836    4465143   4167836        Wikimedia category   \n",
       "4         6581097    3913958   6581097                      male   \n",
       "5           16521    2596501     16521                     taxon   \n",
       "6            7432    2198219      7432                   species   \n",
       "7              30    1968964        30  United States of America   \n",
       "8            8054    1801629      8054                   protein   \n",
       "9            7187    1609904      7187                      gene   \n",
       "\n",
       "                                      en_description              enwiki_title  \n",
       "0  article in an academic publication, usually pe...                       NaN  \n",
       "1  common name of Homo sapiens, unique extant spe...                     Human  \n",
       "2  West Germanic language originating in England ...          English language  \n",
       "3  use with 'instance of' (P31) for Wikimedia cat...  Wikipedia:Categorization  \n",
       "4                   human who is male (use with P21)                       NaN  \n",
       "5  group of one or more organism(s), which a taxo...                     Taxon  \n",
       "6  one of the basic units of biological classific...                   Species  \n",
       "7                  federal republic in North America             United States  \n",
       "8  biological molecule consisting of chains of am...                   Protein  \n",
       "9     basic physical and functional unit of heredity                      Gene  "
      ]
     },
     "execution_count": 35,
     "metadata": {},
     "output_type": "execute_result"
    }
   ],
   "source": [
    "top_in_degree"
   ]
  },
  {
   "cell_type": "code",
   "execution_count": 36,
   "metadata": {},
   "outputs": [
    {
     "data": {
      "text/plain": [
       "<matplotlib.axes._subplots.AxesSubplot at 0x7f02ceefe4d0>"
      ]
     },
     "execution_count": 36,
     "metadata": {},
     "output_type": "execute_result"
    },
    {
     "data": {
      "image/png": "[encoded data removed]",
      "text/plain": [
       "<Figure size 432x288 with 1 Axes>"
      ]
     },
     "metadata": {},
     "output_type": "display_data"
    }
   ],
   "source": [
    "top_in_degree.plot.bar(x = 'en_label', y = 'in_degree')"
   ]
  },
  {
   "cell_type": "code",
   "execution_count": 42,
   "metadata": {},
   "outputs": [
    {
     "data": {
      "text/plain": [
       "count    2.189076e+07\n",
       "mean     1.750715e+01\n",
       "std      5.276517e+03\n",
       "min      1.000000e+00\n",
       "25%      1.000000e+00\n",
       "50%      3.000000e+00\n",
       "75%      9.000000e+00\n",
       "max      2.191039e+07\n",
       "Name: in_degree, dtype: float64"
      ]
     },
     "execution_count": 42,
     "metadata": {},
     "output_type": "execute_result"
    }
   ],
   "source": [
    "in_degree['in_degree'].describe()"
   ]
  },
  {
   "cell_type": "code",
   "execution_count": null,
   "metadata": {},
   "outputs": [],
   "source": []
  }
 ],
 "metadata": {
  "kernelspec": {
   "display_name": "capstone",
   "language": "python",
   "name": "capstone"
  },
  "language_info": {
   "codemirror_mode": {
    "name": "ipython",
    "version": 3
   },
   "file_extension": ".py",
   "mimetype": "text/x-python",
   "name": "python",
   "nbconvert_exporter": "python",
   "pygments_lexer": "ipython3",
   "version": "3.7.4"
  }
 },
 "nbformat": 4,
 "nbformat_minor": 2
}
