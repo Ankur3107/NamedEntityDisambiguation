{
 "cells": [
  {
   "cell_type": "code",
   "execution_count": 1,
   "metadata": {},
   "outputs": [],
   "source": [
    "import requests\n",
    "from IPython.core.display import HTML\n",
    "styles = requests.get(\"https://raw.githubusercontent.com/Harvard-IACS/2018-CS109A/master/content/styles/cs109.css\").text\n",
    "HTML(styles)\n",
    "\n",
    "import pandas as pd\n",
    "import numpy as np\n",
    "\n",
    "%matplotlib inline"
   ]
  },
  {
   "cell_type": "markdown",
   "metadata": {},
   "source": [
    "## Fixing Redirects"
   ]
  },
  {
   "cell_type": "markdown",
   "metadata": {},
   "source": [
    "We load in the raw dataset of wikipedia pages that contain information about the page. "
   ]
  },
  {
   "cell_type": "code",
   "execution_count": 2,
   "metadata": {},
   "outputs": [],
   "source": [
    "wikipages = pd.read_csv('../data/raw/enwiki_20190801.page.csv')"
   ]
  },
  {
   "cell_type": "code",
   "execution_count": 3,
   "metadata": {},
   "outputs": [
    {
     "data": {
      "text/html": [
       "<div>\n",
       "<style scoped>\n",
       "    .dataframe tbody tr th:only-of-type {\n",
       "        vertical-align: middle;\n",
       "    }\n",
       "\n",
       "    .dataframe tbody tr th {\n",
       "        vertical-align: top;\n",
       "    }\n",
       "\n",
       "    .dataframe thead th {\n",
       "        text-align: right;\n",
       "    }\n",
       "</style>\n",
       "<table border=\"1\" class=\"dataframe\">\n",
       "  <thead>\n",
       "    <tr style=\"text-align: right;\">\n",
       "      <th></th>\n",
       "      <th>page_id</th>\n",
       "      <th>page_title</th>\n",
       "      <th>page_is_redirect</th>\n",
       "      <th>page_len</th>\n",
       "      <th>wikidata_numeric_id</th>\n",
       "      <th>views</th>\n",
       "    </tr>\n",
       "  </thead>\n",
       "  <tbody>\n",
       "    <tr>\n",
       "      <th>0</th>\n",
       "      <td>31880</td>\n",
       "      <td>Universe</td>\n",
       "      <td>0</td>\n",
       "      <td>125156</td>\n",
       "      <td>1.0</td>\n",
       "      <td>37605</td>\n",
       "    </tr>\n",
       "    <tr>\n",
       "      <th>1</th>\n",
       "      <td>24437894</td>\n",
       "      <td>Boston</td>\n",
       "      <td>0</td>\n",
       "      <td>188674</td>\n",
       "      <td>100.0</td>\n",
       "      <td>60038</td>\n",
       "    </tr>\n",
       "    <tr>\n",
       "      <th>2</th>\n",
       "      <td>12027</td>\n",
       "      <td>Gabon</td>\n",
       "      <td>0</td>\n",
       "      <td>60678</td>\n",
       "      <td>1000.0</td>\n",
       "      <td>24767</td>\n",
       "    </tr>\n",
       "    <tr>\n",
       "      <th>3</th>\n",
       "      <td>1313683</td>\n",
       "      <td>Dutch_Wikipedia</td>\n",
       "      <td>0</td>\n",
       "      <td>8325</td>\n",
       "      <td>10000.0</td>\n",
       "      <td>1203</td>\n",
       "    </tr>\n",
       "    <tr>\n",
       "      <th>4</th>\n",
       "      <td>4037258</td>\n",
       "      <td>Cadier_en_Keer</td>\n",
       "      <td>0</td>\n",
       "      <td>2584</td>\n",
       "      <td>100000.0</td>\n",
       "      <td>51</td>\n",
       "    </tr>\n",
       "  </tbody>\n",
       "</table>\n",
       "</div>"
      ],
      "text/plain": [
       "    page_id       page_title  page_is_redirect  page_len  wikidata_numeric_id  \\\n",
       "0     31880         Universe                 0    125156                  1.0   \n",
       "1  24437894           Boston                 0    188674                100.0   \n",
       "2     12027            Gabon                 0     60678               1000.0   \n",
       "3   1313683  Dutch_Wikipedia                 0      8325              10000.0   \n",
       "4   4037258   Cadier_en_Keer                 0      2584             100000.0   \n",
       "\n",
       "   views  \n",
       "0  37605  \n",
       "1  60038  \n",
       "2  24767  \n",
       "3   1203  \n",
       "4     51  "
      ]
     },
     "execution_count": 3,
     "metadata": {},
     "output_type": "execute_result"
    }
   ],
   "source": [
    "wikipages.head()"
   ]
  },
  {
   "cell_type": "code",
   "execution_count": 4,
   "metadata": {},
   "outputs": [
    {
     "data": {
      "text/plain": [
       "(14730178, 6)"
      ]
     },
     "execution_count": 4,
     "metadata": {},
     "output_type": "execute_result"
    }
   ],
   "source": [
    "wikipages.shape"
   ]
  },
  {
   "cell_type": "markdown",
   "metadata": {},
   "source": [
    "We noticed that in the raw dataset, 8.7 million pages do not have corresponding wikidata_numeric_ids! This didn't sound right at all. However, we noticed that many pages that are redirect pages do not have a corresponding wikidata_numeric_id. "
   ]
  },
  {
   "cell_type": "code",
   "execution_count": 5,
   "metadata": {},
   "outputs": [
    {
     "data": {
      "text/plain": [
       "8718368"
      ]
     },
     "execution_count": 5,
     "metadata": {},
     "output_type": "execute_result"
    }
   ],
   "source": [
    "wikipages.wikidata_numeric_id.isnull().sum()"
   ]
  },
  {
   "cell_type": "markdown",
   "metadata": {},
   "source": [
    "We noticed that many pages that are redirect pages do not have a corresponding wikidata_numeric_id."
   ]
  },
  {
   "cell_type": "code",
   "execution_count": 6,
   "metadata": {},
   "outputs": [
    {
     "data": {
      "text/html": [
       "<div>\n",
       "<style scoped>\n",
       "    .dataframe tbody tr th:only-of-type {\n",
       "        vertical-align: middle;\n",
       "    }\n",
       "\n",
       "    .dataframe tbody tr th {\n",
       "        vertical-align: top;\n",
       "    }\n",
       "\n",
       "    .dataframe thead th {\n",
       "        text-align: right;\n",
       "    }\n",
       "</style>\n",
       "<table border=\"1\" class=\"dataframe\">\n",
       "  <thead>\n",
       "    <tr style=\"text-align: right;\">\n",
       "      <th></th>\n",
       "      <th>page_id</th>\n",
       "      <th>page_title</th>\n",
       "      <th>page_is_redirect</th>\n",
       "      <th>page_len</th>\n",
       "      <th>wikidata_numeric_id</th>\n",
       "      <th>views</th>\n",
       "    </tr>\n",
       "  </thead>\n",
       "  <tbody>\n",
       "    <tr>\n",
       "      <th>14730173</th>\n",
       "      <td>24181285</td>\n",
       "      <td>Est.Domain</td>\n",
       "      <td>1</td>\n",
       "      <td>24</td>\n",
       "      <td>NaN</td>\n",
       "      <td>0</td>\n",
       "    </tr>\n",
       "    <tr>\n",
       "      <th>14730174</th>\n",
       "      <td>18236087</td>\n",
       "      <td>.p3t</td>\n",
       "      <td>1</td>\n",
       "      <td>51</td>\n",
       "      <td>NaN</td>\n",
       "      <td>0</td>\n",
       "    </tr>\n",
       "    <tr>\n",
       "      <th>14730175</th>\n",
       "      <td>7358181</td>\n",
       "      <td>Ceti_Alpha_Six</td>\n",
       "      <td>1</td>\n",
       "      <td>139</td>\n",
       "      <td>NaN</td>\n",
       "      <td>0</td>\n",
       "    </tr>\n",
       "    <tr>\n",
       "      <th>14730176</th>\n",
       "      <td>215608</td>\n",
       "      <td>Pascals_Wager</td>\n",
       "      <td>1</td>\n",
       "      <td>85</td>\n",
       "      <td>NaN</td>\n",
       "      <td>0</td>\n",
       "    </tr>\n",
       "    <tr>\n",
       "      <th>14730177</th>\n",
       "      <td>49820527</td>\n",
       "      <td>Swimming_at_the_2005_World_Aquatics_Championsh...</td>\n",
       "      <td>1</td>\n",
       "      <td>271</td>\n",
       "      <td>NaN</td>\n",
       "      <td>0</td>\n",
       "    </tr>\n",
       "  </tbody>\n",
       "</table>\n",
       "</div>"
      ],
      "text/plain": [
       "           page_id                                         page_title  \\\n",
       "14730173  24181285                                         Est.Domain   \n",
       "14730174  18236087                                               .p3t   \n",
       "14730175   7358181                                     Ceti_Alpha_Six   \n",
       "14730176    215608                                      Pascals_Wager   \n",
       "14730177  49820527  Swimming_at_the_2005_World_Aquatics_Championsh...   \n",
       "\n",
       "          page_is_redirect  page_len  wikidata_numeric_id  views  \n",
       "14730173                 1        24                  NaN      0  \n",
       "14730174                 1        51                  NaN      0  \n",
       "14730175                 1       139                  NaN      0  \n",
       "14730176                 1        85                  NaN      0  \n",
       "14730177                 1       271                  NaN      0  "
      ]
     },
     "execution_count": 6,
     "metadata": {},
     "output_type": "execute_result"
    }
   ],
   "source": [
    "wikipages[wikipages.page_is_redirect == 1].tail()"
   ]
  },
  {
   "cell_type": "markdown",
   "metadata": {},
   "source": [
    "We load in the raw dataset about redirect pages to further investigate. Indeed, we see that while these redirect pages (source pages) do not have a corresponding wikidata_numeric_id, the pages they redirect to (target pages) do. "
   ]
  },
  {
   "cell_type": "code",
   "execution_count": 7,
   "metadata": {},
   "outputs": [],
   "source": [
    "redirect = pd.read_csv('../data/raw/enwiki_20190801.redirect.csv')"
   ]
  },
  {
   "cell_type": "code",
   "execution_count": 8,
   "metadata": {},
   "outputs": [
    {
     "data": {
      "text/html": [
       "<div>\n",
       "<style scoped>\n",
       "    .dataframe tbody tr th:only-of-type {\n",
       "        vertical-align: middle;\n",
       "    }\n",
       "\n",
       "    .dataframe tbody tr th {\n",
       "        vertical-align: top;\n",
       "    }\n",
       "\n",
       "    .dataframe thead th {\n",
       "        text-align: right;\n",
       "    }\n",
       "</style>\n",
       "<table border=\"1\" class=\"dataframe\">\n",
       "  <thead>\n",
       "    <tr style=\"text-align: right;\">\n",
       "      <th></th>\n",
       "      <th>source_page_id</th>\n",
       "      <th>target_page_id</th>\n",
       "      <th>source_page_title</th>\n",
       "      <th>target_page_title</th>\n",
       "    </tr>\n",
       "  </thead>\n",
       "  <tbody>\n",
       "    <tr>\n",
       "      <th>0</th>\n",
       "      <td>39378878</td>\n",
       "      <td>38421275</td>\n",
       "      <td>Infocom_Network</td>\n",
       "      <td>TradeIndia</td>\n",
       "    </tr>\n",
       "    <tr>\n",
       "      <th>1</th>\n",
       "      <td>25917412</td>\n",
       "      <td>2238902</td>\n",
       "      <td>Canyonero_(car)</td>\n",
       "      <td>The_Last_Temptation_of_Krust</td>\n",
       "    </tr>\n",
       "    <tr>\n",
       "      <th>2</th>\n",
       "      <td>3245614</td>\n",
       "      <td>1941596</td>\n",
       "      <td>Chief_Dull_Knife</td>\n",
       "      <td>Morning_Star_(chief)</td>\n",
       "    </tr>\n",
       "    <tr>\n",
       "      <th>3</th>\n",
       "      <td>43321056</td>\n",
       "      <td>32960669</td>\n",
       "      <td>National_Register_of_Historic_Places_in_Early_...</td>\n",
       "      <td>National_Register_of_Historic_Places_listings_...</td>\n",
       "    </tr>\n",
       "    <tr>\n",
       "      <th>4</th>\n",
       "      <td>13307706</td>\n",
       "      <td>369596</td>\n",
       "      <td>The_New_York_Botanical_Garden</td>\n",
       "      <td>New_York_Botanical_Garden</td>\n",
       "    </tr>\n",
       "  </tbody>\n",
       "</table>\n",
       "</div>"
      ],
      "text/plain": [
       "   source_page_id  target_page_id  \\\n",
       "0        39378878        38421275   \n",
       "1        25917412         2238902   \n",
       "2         3245614         1941596   \n",
       "3        43321056        32960669   \n",
       "4        13307706          369596   \n",
       "\n",
       "                                   source_page_title  \\\n",
       "0                                    Infocom_Network   \n",
       "1                                    Canyonero_(car)   \n",
       "2                                   Chief_Dull_Knife   \n",
       "3  National_Register_of_Historic_Places_in_Early_...   \n",
       "4                      The_New_York_Botanical_Garden   \n",
       "\n",
       "                                   target_page_title  \n",
       "0                                         TradeIndia  \n",
       "1                       The_Last_Temptation_of_Krust  \n",
       "2                               Morning_Star_(chief)  \n",
       "3  National_Register_of_Historic_Places_listings_...  \n",
       "4                          New_York_Botanical_Garden  "
      ]
     },
     "execution_count": 8,
     "metadata": {},
     "output_type": "execute_result"
    }
   ],
   "source": [
    "redirect.head()"
   ]
  },
  {
   "cell_type": "code",
   "execution_count": 9,
   "metadata": {},
   "outputs": [
    {
     "data": {
      "text/html": [
       "<div>\n",
       "<style scoped>\n",
       "    .dataframe tbody tr th:only-of-type {\n",
       "        vertical-align: middle;\n",
       "    }\n",
       "\n",
       "    .dataframe tbody tr th {\n",
       "        vertical-align: top;\n",
       "    }\n",
       "\n",
       "    .dataframe thead th {\n",
       "        text-align: right;\n",
       "    }\n",
       "</style>\n",
       "<table border=\"1\" class=\"dataframe\">\n",
       "  <thead>\n",
       "    <tr style=\"text-align: right;\">\n",
       "      <th></th>\n",
       "      <th>page_id</th>\n",
       "      <th>page_title</th>\n",
       "      <th>page_is_redirect</th>\n",
       "      <th>page_len</th>\n",
       "      <th>wikidata_numeric_id</th>\n",
       "      <th>views</th>\n",
       "    </tr>\n",
       "  </thead>\n",
       "  <tbody>\n",
       "    <tr>\n",
       "      <th>3839571</th>\n",
       "      <td>24179837</td>\n",
       "      <td>EstDomains</td>\n",
       "      <td>0</td>\n",
       "      <td>6606</td>\n",
       "      <td>5399970.0</td>\n",
       "      <td>57</td>\n",
       "    </tr>\n",
       "  </tbody>\n",
       "</table>\n",
       "</div>"
      ],
      "text/plain": [
       "          page_id  page_title  page_is_redirect  page_len  \\\n",
       "3839571  24179837  EstDomains                 0      6606   \n",
       "\n",
       "         wikidata_numeric_id  views  \n",
       "3839571            5399970.0     57  "
      ]
     },
     "execution_count": 9,
     "metadata": {},
     "output_type": "execute_result"
    }
   ],
   "source": [
    "#Example of source page not having a wikidata_numeric_id but a target page does.\n",
    "wikipages[wikipages.page_id == redirect[redirect.source_page_id == 24181285]['target_page_id'].iloc[0]]"
   ]
  },
  {
   "cell_type": "markdown",
   "metadata": {},
   "source": [
    "We also see examples where a target page not having a wikidata_numeric_id, but one of their source pages does."
   ]
  },
  {
   "cell_type": "code",
   "execution_count": 10,
   "metadata": {},
   "outputs": [
    {
     "data": {
      "text/html": [
       "<div>\n",
       "<style scoped>\n",
       "    .dataframe tbody tr th:only-of-type {\n",
       "        vertical-align: middle;\n",
       "    }\n",
       "\n",
       "    .dataframe tbody tr th {\n",
       "        vertical-align: top;\n",
       "    }\n",
       "\n",
       "    .dataframe thead th {\n",
       "        text-align: right;\n",
       "    }\n",
       "</style>\n",
       "<table border=\"1\" class=\"dataframe\">\n",
       "  <thead>\n",
       "    <tr style=\"text-align: right;\">\n",
       "      <th></th>\n",
       "      <th>page_id</th>\n",
       "      <th>page_title</th>\n",
       "      <th>page_is_redirect</th>\n",
       "      <th>page_len</th>\n",
       "      <th>wikidata_numeric_id</th>\n",
       "      <th>views</th>\n",
       "    </tr>\n",
       "  </thead>\n",
       "  <tbody>\n",
       "    <tr>\n",
       "      <th>6040736</th>\n",
       "      <td>325726</td>\n",
       "      <td>Social_network_analysis</td>\n",
       "      <td>0</td>\n",
       "      <td>47818</td>\n",
       "      <td>NaN</td>\n",
       "      <td>10825</td>\n",
       "    </tr>\n",
       "  </tbody>\n",
       "</table>\n",
       "</div>"
      ],
      "text/plain": [
       "         page_id               page_title  page_is_redirect  page_len  \\\n",
       "6040736   325726  Social_network_analysis                 0     47818   \n",
       "\n",
       "         wikidata_numeric_id  views  \n",
       "6040736                  NaN  10825  "
      ]
     },
     "execution_count": 10,
     "metadata": {},
     "output_type": "execute_result"
    }
   ],
   "source": [
    "wikipages[wikipages.page_id == 325726.0]"
   ]
  },
  {
   "cell_type": "code",
   "execution_count": 11,
   "metadata": {},
   "outputs": [
    {
     "data": {
      "text/html": [
       "<div>\n",
       "<style scoped>\n",
       "    .dataframe tbody tr th:only-of-type {\n",
       "        vertical-align: middle;\n",
       "    }\n",
       "\n",
       "    .dataframe tbody tr th {\n",
       "        vertical-align: top;\n",
       "    }\n",
       "\n",
       "    .dataframe thead th {\n",
       "        text-align: right;\n",
       "    }\n",
       "</style>\n",
       "<table border=\"1\" class=\"dataframe\">\n",
       "  <thead>\n",
       "    <tr style=\"text-align: right;\">\n",
       "      <th></th>\n",
       "      <th>source_page_id</th>\n",
       "      <th>target_page_id</th>\n",
       "      <th>source_page_title</th>\n",
       "      <th>target_page_title</th>\n",
       "    </tr>\n",
       "  </thead>\n",
       "  <tbody>\n",
       "    <tr>\n",
       "      <th>1717720</th>\n",
       "      <td>1559348</td>\n",
       "      <td>325726</td>\n",
       "      <td>Social_Network_Analysis</td>\n",
       "      <td>Social_network_analysis</td>\n",
       "    </tr>\n",
       "    <tr>\n",
       "      <th>1721329</th>\n",
       "      <td>12567496</td>\n",
       "      <td>325726</td>\n",
       "      <td>Social_networking_potential</td>\n",
       "      <td>Social_network_analysis</td>\n",
       "    </tr>\n",
       "    <tr>\n",
       "      <th>1722555</th>\n",
       "      <td>20645616</td>\n",
       "      <td>325726</td>\n",
       "      <td>Cascade_(Social_Network_Theory)</td>\n",
       "      <td>Social_network_analysis</td>\n",
       "    </tr>\n",
       "    <tr>\n",
       "      <th>1724358</th>\n",
       "      <td>17661070</td>\n",
       "      <td>325726</td>\n",
       "      <td>Social_Network_Change_Detection</td>\n",
       "      <td>Social_network_analysis</td>\n",
       "    </tr>\n",
       "    <tr>\n",
       "      <th>1727934</th>\n",
       "      <td>17576720</td>\n",
       "      <td>325726</td>\n",
       "      <td>Social_network_change_detection</td>\n",
       "      <td>Social_network_analysis</td>\n",
       "    </tr>\n",
       "    <tr>\n",
       "      <th>1730560</th>\n",
       "      <td>39596224</td>\n",
       "      <td>325726</td>\n",
       "      <td>Networks_in_Political_Science</td>\n",
       "      <td>Social_network_analysis</td>\n",
       "    </tr>\n",
       "    <tr>\n",
       "      <th>1732941</th>\n",
       "      <td>14825621</td>\n",
       "      <td>325726</td>\n",
       "      <td>Social_Networking_Potential</td>\n",
       "      <td>Social_network_analysis</td>\n",
       "    </tr>\n",
       "  </tbody>\n",
       "</table>\n",
       "</div>"
      ],
      "text/plain": [
       "         source_page_id  target_page_id                source_page_title  \\\n",
       "1717720         1559348          325726          Social_Network_Analysis   \n",
       "1721329        12567496          325726      Social_networking_potential   \n",
       "1722555        20645616          325726  Cascade_(Social_Network_Theory)   \n",
       "1724358        17661070          325726  Social_Network_Change_Detection   \n",
       "1727934        17576720          325726  Social_network_change_detection   \n",
       "1730560        39596224          325726    Networks_in_Political_Science   \n",
       "1732941        14825621          325726      Social_Networking_Potential   \n",
       "\n",
       "               target_page_title  \n",
       "1717720  Social_network_analysis  \n",
       "1721329  Social_network_analysis  \n",
       "1722555  Social_network_analysis  \n",
       "1724358  Social_network_analysis  \n",
       "1727934  Social_network_analysis  \n",
       "1730560  Social_network_analysis  \n",
       "1732941  Social_network_analysis  "
      ]
     },
     "execution_count": 11,
     "metadata": {},
     "output_type": "execute_result"
    }
   ],
   "source": [
    "#All source pages of this target page\n",
    "redirect[redirect['target_page_id'] == 325726]"
   ]
  },
  {
   "cell_type": "code",
   "execution_count": 12,
   "metadata": {},
   "outputs": [
    {
     "data": {
      "text/html": [
       "<div>\n",
       "<style scoped>\n",
       "    .dataframe tbody tr th:only-of-type {\n",
       "        vertical-align: middle;\n",
       "    }\n",
       "\n",
       "    .dataframe tbody tr th {\n",
       "        vertical-align: top;\n",
       "    }\n",
       "\n",
       "    .dataframe thead th {\n",
       "        text-align: right;\n",
       "    }\n",
       "</style>\n",
       "<table border=\"1\" class=\"dataframe\">\n",
       "  <thead>\n",
       "    <tr style=\"text-align: right;\">\n",
       "      <th></th>\n",
       "      <th>page_id</th>\n",
       "      <th>page_title</th>\n",
       "      <th>page_is_redirect</th>\n",
       "      <th>page_len</th>\n",
       "      <th>wikidata_numeric_id</th>\n",
       "      <th>views</th>\n",
       "    </tr>\n",
       "  </thead>\n",
       "  <tbody>\n",
       "    <tr>\n",
       "      <th>7291787</th>\n",
       "      <td>1559348</td>\n",
       "      <td>Social_Network_Analysis</td>\n",
       "      <td>1</td>\n",
       "      <td>102</td>\n",
       "      <td>NaN</td>\n",
       "      <td>20</td>\n",
       "    </tr>\n",
       "  </tbody>\n",
       "</table>\n",
       "</div>"
      ],
      "text/plain": [
       "         page_id               page_title  page_is_redirect  page_len  \\\n",
       "7291787  1559348  Social_Network_Analysis                 1       102   \n",
       "\n",
       "         wikidata_numeric_id  views  \n",
       "7291787                  NaN     20  "
      ]
     },
     "execution_count": 12,
     "metadata": {},
     "output_type": "execute_result"
    }
   ],
   "source": [
    "#This source page does not have wikidata_numeric_id\n",
    "wikipages[wikipages.page_id == 1559348]"
   ]
  },
  {
   "cell_type": "code",
   "execution_count": 13,
   "metadata": {},
   "outputs": [
    {
     "data": {
      "text/html": [
       "<div>\n",
       "<style scoped>\n",
       "    .dataframe tbody tr th:only-of-type {\n",
       "        vertical-align: middle;\n",
       "    }\n",
       "\n",
       "    .dataframe tbody tr th {\n",
       "        vertical-align: top;\n",
       "    }\n",
       "\n",
       "    .dataframe thead th {\n",
       "        text-align: right;\n",
       "    }\n",
       "</style>\n",
       "<table border=\"1\" class=\"dataframe\">\n",
       "  <thead>\n",
       "    <tr style=\"text-align: right;\">\n",
       "      <th></th>\n",
       "      <th>page_id</th>\n",
       "      <th>page_title</th>\n",
       "      <th>page_is_redirect</th>\n",
       "      <th>page_len</th>\n",
       "      <th>wikidata_numeric_id</th>\n",
       "      <th>views</th>\n",
       "    </tr>\n",
       "  </thead>\n",
       "  <tbody>\n",
       "    <tr>\n",
       "      <th>5421981</th>\n",
       "      <td>17576720</td>\n",
       "      <td>Social_network_change_detection</td>\n",
       "      <td>1</td>\n",
       "      <td>37</td>\n",
       "      <td>7551269.0</td>\n",
       "      <td>318</td>\n",
       "    </tr>\n",
       "  </tbody>\n",
       "</table>\n",
       "</div>"
      ],
      "text/plain": [
       "          page_id                       page_title  page_is_redirect  \\\n",
       "5421981  17576720  Social_network_change_detection                 1   \n",
       "\n",
       "         page_len  wikidata_numeric_id  views  \n",
       "5421981        37            7551269.0    318  "
      ]
     },
     "execution_count": 13,
     "metadata": {},
     "output_type": "execute_result"
    }
   ],
   "source": [
    "#But this source page does\n",
    "wikipages[wikipages.page_id == 17576720]"
   ]
  },
  {
   "cell_type": "markdown",
   "metadata": {},
   "source": [
    "Thus, we need to link these problematic source/target pages with the wikidata_numeric_id of their target/source pages."
   ]
  },
  {
   "cell_type": "code",
   "execution_count": 14,
   "metadata": {},
   "outputs": [],
   "source": [
    "#This code cell fixes the problematic behavior mentioned. \n",
    "\n",
    "wikipages_cleaned = wikipages.copy()\n",
    "#Get target page id for all \n",
    "target_page_ids = wikipages_cleaned.merge(redirect[['source_page_id', 'target_page_id']],\n",
    "                          how = 'left', left_on = ['page_id'], right_on = ['source_page_id'])\n",
    "#Pages that do not appear in redirect have both source_page_id and target_page_id as null after join. These are just page_id for both\n",
    "target_page_ids['target_page_id'] = target_page_ids['target_page_id'].fillna(target_page_ids['page_id'])\n",
    "target_page_ids['source_page_id'] = target_page_ids['source_page_id'].fillna(target_page_ids['page_id'])\n",
    "target_page_ids = target_page_ids.drop(['page_id'], axis = 1)\n",
    "\n",
    "wikipages_cleaned = target_page_ids.merge(wikipages[['page_id', 'page_title', 'wikidata_numeric_id']], how = 'left', \n",
    "                                          left_on = ['target_page_id'], right_on = ['page_id'])\n",
    "\n",
    "wikipages_cleaned['wikidata_numeric_id_x'] = wikipages_cleaned['wikidata_numeric_id_x'].fillna(\n",
    "                                                    wikipages_cleaned['wikidata_numeric_id_y'])\n",
    "wikipages_cleaned = wikipages_cleaned.drop(['wikidata_numeric_id_y', 'page_id'], axis = 1)\n",
    "wikipages_cleaned = wikipages_cleaned.rename(columns = {'page_title_x': 'page_title', \n",
    "                                                        'page_title_y': 'target_page_title',\n",
    "                                                        'wikidata_numeric_id_x': 'wikidata_numeric_id',\n",
    "                                                        'source_page_id': 'page_id'\n",
    "                                                       })\n",
    "#There are some instances of source page having wikidata instead of target.\n",
    "#Set target page to have source page wikidata for those\n",
    "wikidata_ids = wikipages_cleaned.groupby(['target_page_id'])[['wikidata_numeric_id']].min().reset_index()\n",
    "wikipages_cleaned = wikipages_cleaned.merge(wikidata_ids, how = 'left', on = ['target_page_id'])\n",
    "wikipages_cleaned['wikidata_numeric_id_x'] = wikipages_cleaned['wikidata_numeric_id_x'].fillna(\n",
    "                                                    wikipages_cleaned['wikidata_numeric_id_y'])\n",
    "wikipages_cleaned = wikipages_cleaned.drop(['wikidata_numeric_id_y'], axis = 1)\n",
    "wikipages_cleaned = wikipages_cleaned.rename(columns = {'wikidata_numeric_id_x': 'wikidata_numeric_id'})\n",
    "\n"
   ]
  },
  {
   "cell_type": "markdown",
   "metadata": {},
   "source": [
    "Now only 40k pages have missing wikidata_numeric_id!"
   ]
  },
  {
   "cell_type": "code",
   "execution_count": 15,
   "metadata": {},
   "outputs": [
    {
     "data": {
      "text/plain": [
       "40693"
      ]
     },
     "execution_count": 15,
     "metadata": {},
     "output_type": "execute_result"
    }
   ],
   "source": [
    "wikipages_cleaned.wikidata_numeric_id.isnull().sum()"
   ]
  },
  {
   "cell_type": "markdown",
   "metadata": {},
   "source": [
    "75% of the articles still without wikidata item have fewer than 10 views. As such, most of these pages are insignificant and should pose no problem to our analysis. "
   ]
  },
  {
   "cell_type": "code",
   "execution_count": 16,
   "metadata": {},
   "outputs": [
    {
     "data": {
      "text/plain": [
       "count    40693.000000\n",
       "mean        34.924090\n",
       "std        407.577772\n",
       "min          0.000000\n",
       "25%          0.000000\n",
       "50%          0.000000\n",
       "75%         10.000000\n",
       "max      50810.000000\n",
       "Name: views, dtype: float64"
      ]
     },
     "execution_count": 16,
     "metadata": {},
     "output_type": "execute_result"
    }
   ],
   "source": [
    "wikipages_cleaned[wikipages_cleaned.wikidata_numeric_id.isnull()]['views'].describe()"
   ]
  },
  {
   "cell_type": "markdown",
   "metadata": {},
   "source": [
    "## Exploration of Knowledge Graph"
   ]
  },
  {
   "cell_type": "markdown",
   "metadata": {},
   "source": [
    "Next, we explore the raw Wikidata knowledge graph."
   ]
  },
  {
   "cell_type": "code",
   "execution_count": 17,
   "metadata": {},
   "outputs": [],
   "source": [
    "triplets = pd.read_csv('../data/raw/wikidata_20190805.qpq_item_statements.csv')"
   ]
  },
  {
   "cell_type": "code",
   "execution_count": 18,
   "metadata": {},
   "outputs": [
    {
     "data": {
      "text/html": [
       "<div>\n",
       "<style scoped>\n",
       "    .dataframe tbody tr th:only-of-type {\n",
       "        vertical-align: middle;\n",
       "    }\n",
       "\n",
       "    .dataframe tbody tr th {\n",
       "        vertical-align: top;\n",
       "    }\n",
       "\n",
       "    .dataframe thead th {\n",
       "        text-align: right;\n",
       "    }\n",
       "</style>\n",
       "<table border=\"1\" class=\"dataframe\">\n",
       "  <thead>\n",
       "    <tr style=\"text-align: right;\">\n",
       "      <th></th>\n",
       "      <th>source_item_id</th>\n",
       "      <th>edge_property_id</th>\n",
       "      <th>target_item_id</th>\n",
       "      <th>el_rank</th>\n",
       "    </tr>\n",
       "  </thead>\n",
       "  <tbody>\n",
       "    <tr>\n",
       "      <th>0</th>\n",
       "      <td>31</td>\n",
       "      <td>1344</td>\n",
       "      <td>1088364</td>\n",
       "      <td>1</td>\n",
       "    </tr>\n",
       "    <tr>\n",
       "      <th>1</th>\n",
       "      <td>31</td>\n",
       "      <td>1151</td>\n",
       "      <td>3247091</td>\n",
       "      <td>1</td>\n",
       "    </tr>\n",
       "    <tr>\n",
       "      <th>2</th>\n",
       "      <td>31</td>\n",
       "      <td>1546</td>\n",
       "      <td>1308013</td>\n",
       "      <td>1</td>\n",
       "    </tr>\n",
       "    <tr>\n",
       "      <th>3</th>\n",
       "      <td>31</td>\n",
       "      <td>5125</td>\n",
       "      <td>7112200</td>\n",
       "      <td>1</td>\n",
       "    </tr>\n",
       "    <tr>\n",
       "      <th>4</th>\n",
       "      <td>31</td>\n",
       "      <td>38</td>\n",
       "      <td>4916</td>\n",
       "      <td>0</td>\n",
       "    </tr>\n",
       "  </tbody>\n",
       "</table>\n",
       "</div>"
      ],
      "text/plain": [
       "   source_item_id  edge_property_id  target_item_id  el_rank\n",
       "0              31              1344         1088364        1\n",
       "1              31              1151         3247091        1\n",
       "2              31              1546         1308013        1\n",
       "3              31              5125         7112200        1\n",
       "4              31                38            4916        0"
      ]
     },
     "execution_count": 18,
     "metadata": {},
     "output_type": "execute_result"
    }
   ],
   "source": [
    "triplets.head()"
   ]
  },
  {
   "cell_type": "code",
   "execution_count": 19,
   "metadata": {},
   "outputs": [],
   "source": [
    "entities = pd.read_csv('../data/raw/wikidata_20190805.item.csv')"
   ]
  },
  {
   "cell_type": "code",
   "execution_count": 20,
   "metadata": {},
   "outputs": [
    {
     "data": {
      "text/html": [
       "<div>\n",
       "<style scoped>\n",
       "    .dataframe tbody tr th:only-of-type {\n",
       "        vertical-align: middle;\n",
       "    }\n",
       "\n",
       "    .dataframe tbody tr th {\n",
       "        vertical-align: top;\n",
       "    }\n",
       "\n",
       "    .dataframe thead th {\n",
       "        text-align: right;\n",
       "    }\n",
       "</style>\n",
       "<table border=\"1\" class=\"dataframe\">\n",
       "  <thead>\n",
       "    <tr style=\"text-align: right;\">\n",
       "      <th></th>\n",
       "      <th>id</th>\n",
       "      <th>en_label</th>\n",
       "      <th>en_description</th>\n",
       "      <th>enwiki_title</th>\n",
       "    </tr>\n",
       "  </thead>\n",
       "  <tbody>\n",
       "    <tr>\n",
       "      <th>0</th>\n",
       "      <td>51475818</td>\n",
       "      <td>YouTube as a source of information on kidney s...</td>\n",
       "      <td>scientific article published on 4 December 2010</td>\n",
       "      <td>NaN</td>\n",
       "    </tr>\n",
       "    <tr>\n",
       "      <th>1</th>\n",
       "      <td>51475821</td>\n",
       "      <td>The sinus lift with phycogenic bone substitute...</td>\n",
       "      <td>scientific article published in June 2005</td>\n",
       "      <td>NaN</td>\n",
       "    </tr>\n",
       "    <tr>\n",
       "      <th>2</th>\n",
       "      <td>51475829</td>\n",
       "      <td>Economic aspects of single-tooth replacement.</td>\n",
       "      <td>scientific article published in June 2005</td>\n",
       "      <td>NaN</td>\n",
       "    </tr>\n",
       "    <tr>\n",
       "      <th>3</th>\n",
       "      <td>51475835</td>\n",
       "      <td>Template:Peace, Unity, and Development Party/m...</td>\n",
       "      <td>NaN</td>\n",
       "      <td>Template:Peace, Unity, and Development Party/m...</td>\n",
       "    </tr>\n",
       "    <tr>\n",
       "      <th>4</th>\n",
       "      <td>51475865</td>\n",
       "      <td>Long-term results and survival rate of implant...</td>\n",
       "      <td>scientific article published in June 2005</td>\n",
       "      <td>NaN</td>\n",
       "    </tr>\n",
       "  </tbody>\n",
       "</table>\n",
       "</div>"
      ],
      "text/plain": [
       "         id                                           en_label  \\\n",
       "0  51475818  YouTube as a source of information on kidney s...   \n",
       "1  51475821  The sinus lift with phycogenic bone substitute...   \n",
       "2  51475829      Economic aspects of single-tooth replacement.   \n",
       "3  51475835  Template:Peace, Unity, and Development Party/m...   \n",
       "4  51475865  Long-term results and survival rate of implant...   \n",
       "\n",
       "                                    en_description  \\\n",
       "0  scientific article published on 4 December 2010   \n",
       "1        scientific article published in June 2005   \n",
       "2        scientific article published in June 2005   \n",
       "3                                              NaN   \n",
       "4        scientific article published in June 2005   \n",
       "\n",
       "                                        enwiki_title  \n",
       "0                                                NaN  \n",
       "1                                                NaN  \n",
       "2                                                NaN  \n",
       "3  Template:Peace, Unity, and Development Party/m...  \n",
       "4                                                NaN  "
      ]
     },
     "execution_count": 20,
     "metadata": {},
     "output_type": "execute_result"
    }
   ],
   "source": [
    "entities.head()"
   ]
  },
  {
   "cell_type": "markdown",
   "metadata": {},
   "source": [
    "Looking at the outdegree summary statistics, we see that 75% of entities have 5 or fewer edges going out. However, at the same time, we see that the max is quite large with 8319 degrees!"
   ]
  },
  {
   "cell_type": "code",
   "execution_count": 21,
   "metadata": {},
   "outputs": [],
   "source": [
    "out_degree = triplets.groupby(['source_item_id'])[['source_item_id']].count()\n",
    "out_degree = out_degree.rename(columns={\"source_item_id\": \"out_degree\"})\n",
    "out_degree = out_degree.reset_index()\n",
    "out_degree = out_degree.sort_values('out_degree', ascending = False)"
   ]
  },
  {
   "cell_type": "code",
   "execution_count": 22,
   "metadata": {},
   "outputs": [
    {
     "data": {
      "text/plain": [
       "count    5.641113e+07\n",
       "mean     6.793780e+00\n",
       "std      1.339614e+01\n",
       "min      1.000000e+00\n",
       "25%      2.000000e+00\n",
       "50%      3.000000e+00\n",
       "75%      5.000000e+00\n",
       "max      8.319000e+03\n",
       "Name: out_degree, dtype: float64"
      ]
     },
     "execution_count": 22,
     "metadata": {},
     "output_type": "execute_result"
    }
   ],
   "source": [
    "out_degree['out_degree'].describe()"
   ]
  },
  {
   "cell_type": "markdown",
   "metadata": {},
   "source": [
    "Looking at the top out degree entities, we see that many of them come from scholarly articles, with many biology/medicine related. Indeed, the highest degree entity, `BayGenomics: a resource of insertional mutations in mouse embryonic stem cells` has an edge to every cell line mentioned! "
   ]
  },
  {
   "cell_type": "code",
   "execution_count": 23,
   "metadata": {},
   "outputs": [],
   "source": [
    "top_out_degree = out_degree.iloc[:10]"
   ]
  },
  {
   "cell_type": "code",
   "execution_count": 24,
   "metadata": {},
   "outputs": [],
   "source": [
    "top_out_degree = top_out_degree.merge(entities, left_on = ['source_item_id'], right_on = ['id'])"
   ]
  },
  {
   "cell_type": "code",
   "execution_count": 25,
   "metadata": {},
   "outputs": [],
   "source": [
    "top_out_degree['en_label_short'] = top_out_degree['en_label'].str[:20] "
   ]
  },
  {
   "cell_type": "code",
   "execution_count": 26,
   "metadata": {},
   "outputs": [
    {
     "data": {
      "image/png": "[encoded data removed]",
      "text/plain": [
       "<Figure size 432x288 with 1 Axes>"
      ]
     },
     "metadata": {},
     "output_type": "display_data"
    }
   ],
   "source": [
    "top_out_degree.plot.bar(x = 'en_label_short', y = 'out_degree');"
   ]
  },
  {
   "cell_type": "markdown",
   "metadata": {},
   "source": [
    "We see a similar story for indegree: 75% of entities have 9 or fewer edges going in. The max indegree is almost 22 million! "
   ]
  },
  {
   "cell_type": "code",
   "execution_count": 27,
   "metadata": {},
   "outputs": [],
   "source": [
    "in_degree = triplets.groupby(['target_item_id'])[['target_item_id']].count()\n",
    "in_degree = in_degree.rename(columns={\"target_item_id\": \"in_degree\"})\n",
    "in_degree = in_degree.reset_index()\n",
    "in_degree = in_degree.sort_values('in_degree', ascending = False)"
   ]
  },
  {
   "cell_type": "markdown",
   "metadata": {},
   "source": [
    "The highest indegree entity is scholarly article!"
   ]
  },
  {
   "cell_type": "code",
   "execution_count": 28,
   "metadata": {},
   "outputs": [],
   "source": [
    "top_in_degree = in_degree.iloc[:10]"
   ]
  },
  {
   "cell_type": "code",
   "execution_count": 29,
   "metadata": {},
   "outputs": [],
   "source": [
    "top_in_degree = top_in_degree.merge(entities, left_on = ['target_item_id'], right_on = ['id'])"
   ]
  },
  {
   "cell_type": "code",
   "execution_count": 30,
   "metadata": {},
   "outputs": [
    {
     "data": {
      "text/html": [
       "<div>\n",
       "<style scoped>\n",
       "    .dataframe tbody tr th:only-of-type {\n",
       "        vertical-align: middle;\n",
       "    }\n",
       "\n",
       "    .dataframe tbody tr th {\n",
       "        vertical-align: top;\n",
       "    }\n",
       "\n",
       "    .dataframe thead th {\n",
       "        text-align: right;\n",
       "    }\n",
       "</style>\n",
       "<table border=\"1\" class=\"dataframe\">\n",
       "  <thead>\n",
       "    <tr style=\"text-align: right;\">\n",
       "      <th></th>\n",
       "      <th>target_item_id</th>\n",
       "      <th>in_degree</th>\n",
       "      <th>id</th>\n",
       "      <th>en_label</th>\n",
       "      <th>en_description</th>\n",
       "      <th>enwiki_title</th>\n",
       "    </tr>\n",
       "  </thead>\n",
       "  <tbody>\n",
       "    <tr>\n",
       "      <th>0</th>\n",
       "      <td>13442814</td>\n",
       "      <td>21910388</td>\n",
       "      <td>13442814</td>\n",
       "      <td>scholarly article</td>\n",
       "      <td>article in an academic publication, usually pe...</td>\n",
       "      <td>NaN</td>\n",
       "    </tr>\n",
       "    <tr>\n",
       "      <th>1</th>\n",
       "      <td>5</td>\n",
       "      <td>5837659</td>\n",
       "      <td>5</td>\n",
       "      <td>human</td>\n",
       "      <td>common name of Homo sapiens, unique extant spe...</td>\n",
       "      <td>Human</td>\n",
       "    </tr>\n",
       "    <tr>\n",
       "      <th>2</th>\n",
       "      <td>1860</td>\n",
       "      <td>4600258</td>\n",
       "      <td>1860</td>\n",
       "      <td>English</td>\n",
       "      <td>West Germanic language originating in England ...</td>\n",
       "      <td>English language</td>\n",
       "    </tr>\n",
       "    <tr>\n",
       "      <th>3</th>\n",
       "      <td>4167836</td>\n",
       "      <td>4465143</td>\n",
       "      <td>4167836</td>\n",
       "      <td>Wikimedia category</td>\n",
       "      <td>use with 'instance of' (P31) for Wikimedia cat...</td>\n",
       "      <td>Wikipedia:Categorization</td>\n",
       "    </tr>\n",
       "    <tr>\n",
       "      <th>4</th>\n",
       "      <td>6581097</td>\n",
       "      <td>3913958</td>\n",
       "      <td>6581097</td>\n",
       "      <td>male</td>\n",
       "      <td>human who is male (use with P21)</td>\n",
       "      <td>NaN</td>\n",
       "    </tr>\n",
       "    <tr>\n",
       "      <th>5</th>\n",
       "      <td>16521</td>\n",
       "      <td>2596501</td>\n",
       "      <td>16521</td>\n",
       "      <td>taxon</td>\n",
       "      <td>group of one or more organism(s), which a taxo...</td>\n",
       "      <td>Taxon</td>\n",
       "    </tr>\n",
       "    <tr>\n",
       "      <th>6</th>\n",
       "      <td>7432</td>\n",
       "      <td>2198219</td>\n",
       "      <td>7432</td>\n",
       "      <td>species</td>\n",
       "      <td>one of the basic units of biological classific...</td>\n",
       "      <td>Species</td>\n",
       "    </tr>\n",
       "    <tr>\n",
       "      <th>7</th>\n",
       "      <td>30</td>\n",
       "      <td>1968964</td>\n",
       "      <td>30</td>\n",
       "      <td>United States of America</td>\n",
       "      <td>federal republic in North America</td>\n",
       "      <td>United States</td>\n",
       "    </tr>\n",
       "    <tr>\n",
       "      <th>8</th>\n",
       "      <td>8054</td>\n",
       "      <td>1801629</td>\n",
       "      <td>8054</td>\n",
       "      <td>protein</td>\n",
       "      <td>biological molecule consisting of chains of am...</td>\n",
       "      <td>Protein</td>\n",
       "    </tr>\n",
       "    <tr>\n",
       "      <th>9</th>\n",
       "      <td>7187</td>\n",
       "      <td>1609904</td>\n",
       "      <td>7187</td>\n",
       "      <td>gene</td>\n",
       "      <td>basic physical and functional unit of heredity</td>\n",
       "      <td>Gene</td>\n",
       "    </tr>\n",
       "  </tbody>\n",
       "</table>\n",
       "</div>"
      ],
      "text/plain": [
       "   target_item_id  in_degree        id                  en_label  \\\n",
       "0        13442814   21910388  13442814         scholarly article   \n",
       "1               5    5837659         5                     human   \n",
       "2            1860    4600258      1860                   English   \n",
       "3         4167836    4465143   4167836        Wikimedia category   \n",
       "4         6581097    3913958   6581097                      male   \n",
       "5           16521    2596501     16521                     taxon   \n",
       "6            7432    2198219      7432                   species   \n",
       "7              30    1968964        30  United States of America   \n",
       "8            8054    1801629      8054                   protein   \n",
       "9            7187    1609904      7187                      gene   \n",
       "\n",
       "                                      en_description              enwiki_title  \n",
       "0  article in an academic publication, usually pe...                       NaN  \n",
       "1  common name of Homo sapiens, unique extant spe...                     Human  \n",
       "2  West Germanic language originating in England ...          English language  \n",
       "3  use with 'instance of' (P31) for Wikimedia cat...  Wikipedia:Categorization  \n",
       "4                   human who is male (use with P21)                       NaN  \n",
       "5  group of one or more organism(s), which a taxo...                     Taxon  \n",
       "6  one of the basic units of biological classific...                   Species  \n",
       "7                  federal republic in North America             United States  \n",
       "8  biological molecule consisting of chains of am...                   Protein  \n",
       "9     basic physical and functional unit of heredity                      Gene  "
      ]
     },
     "execution_count": 30,
     "metadata": {},
     "output_type": "execute_result"
    }
   ],
   "source": [
    "top_in_degree"
   ]
  },
  {
   "cell_type": "code",
   "execution_count": 31,
   "metadata": {},
   "outputs": [
    {
     "data": {
      "image/png": "[encoded data removed]",
      "text/plain": [
       "<Figure size 432x288 with 1 Axes>"
      ]
     },
     "metadata": {},
     "output_type": "display_data"
    }
   ],
   "source": [
    "top_in_degree.plot.bar(x = 'en_label', y = 'in_degree');"
   ]
  },
  {
   "cell_type": "code",
   "execution_count": 32,
   "metadata": {},
   "outputs": [
    {
     "data": {
      "text/plain": [
       "count    2.189076e+07\n",
       "mean     1.750715e+01\n",
       "std      5.276517e+03\n",
       "min      1.000000e+00\n",
       "25%      1.000000e+00\n",
       "50%      3.000000e+00\n",
       "75%      9.000000e+00\n",
       "max      2.191039e+07\n",
       "Name: in_degree, dtype: float64"
      ]
     },
     "execution_count": 32,
     "metadata": {},
     "output_type": "execute_result"
    }
   ],
   "source": [
    "in_degree['in_degree'].describe()"
   ]
  },
  {
   "cell_type": "markdown",
   "metadata": {},
   "source": [
    "From exploration of the full graph we see that it would not be computationally feasible to use the full graph. As such we made a smaller graph consisting of only relations between wikipedia pages."
   ]
  },
  {
   "cell_type": "markdown",
   "metadata": {},
   "source": [
    "***"
   ]
  },
  {
   "cell_type": "markdown",
   "metadata": {},
   "source": [
    "## NER Displacy"
   ]
  },
  {
   "cell_type": "markdown",
   "metadata": {},
   "source": [
    "An example of NER with entities tagged."
   ]
  },
  {
   "cell_type": "code",
   "execution_count": 33,
   "metadata": {},
   "outputs": [
    {
     "data": {
      "text/html": [
       "<div class=\"entities\" style=\"line-height: 2.5; direction: ltr\">\n",
       "<mark class=\"entity\" style=\"background: #7aecec; padding: 0.45em 0.6em; margin: 0 0.25em; line-height: 1; border-radius: 0.35em; box-decoration-break: clone; -webkit-box-decoration-break: clone\">\n",
       "    Apple Inc.\n",
       "    <span style=\"font-size: 0.8em; font-weight: bold; line-height: 1; border-radius: 0.35em; text-transform: uppercase; vertical-align: middle; margin-left: 0.5rem\">ORG</span>\n",
       "</mark>\n",
       " is an \n",
       "<mark class=\"entity\" style=\"background: #c887fb; padding: 0.45em 0.6em; margin: 0 0.25em; line-height: 1; border-radius: 0.35em; box-decoration-break: clone; -webkit-box-decoration-break: clone\">\n",
       "    American\n",
       "    <span style=\"font-size: 0.8em; font-weight: bold; line-height: 1; border-radius: 0.35em; text-transform: uppercase; vertical-align: middle; margin-left: 0.5rem\">NORP</span>\n",
       "</mark>\n",
       " multinational technology company headquartered in \n",
       "<mark class=\"entity\" style=\"background: #feca74; padding: 0.45em 0.6em; margin: 0 0.25em; line-height: 1; border-radius: 0.35em; box-decoration-break: clone; -webkit-box-decoration-break: clone\">\n",
       "    Cupertino\n",
       "    <span style=\"font-size: 0.8em; font-weight: bold; line-height: 1; border-radius: 0.35em; text-transform: uppercase; vertical-align: middle; margin-left: 0.5rem\">GPE</span>\n",
       "</mark>\n",
       ", \n",
       "<mark class=\"entity\" style=\"background: #feca74; padding: 0.45em 0.6em; margin: 0 0.25em; line-height: 1; border-radius: 0.35em; box-decoration-break: clone; -webkit-box-decoration-break: clone\">\n",
       "    California\n",
       "    <span style=\"font-size: 0.8em; font-weight: bold; line-height: 1; border-radius: 0.35em; text-transform: uppercase; vertical-align: middle; margin-left: 0.5rem\">GPE</span>\n",
       "</mark>\n",
       ", that designs, develops, and sells consumer electronics, computer software, and online services. It is considered one of the Big \n",
       "<mark class=\"entity\" style=\"background: #e4e7d2; padding: 0.45em 0.6em; margin: 0 0.25em; line-height: 1; border-radius: 0.35em; box-decoration-break: clone; -webkit-box-decoration-break: clone\">\n",
       "    Four\n",
       "    <span style=\"font-size: 0.8em; font-weight: bold; line-height: 1; border-radius: 0.35em; text-transform: uppercase; vertical-align: middle; margin-left: 0.5rem\">CARDINAL</span>\n",
       "</mark>\n",
       " tech companies along with \n",
       "<mark class=\"entity\" style=\"background: #7aecec; padding: 0.45em 0.6em; margin: 0 0.25em; line-height: 1; border-radius: 0.35em; box-decoration-break: clone; -webkit-box-decoration-break: clone\">\n",
       "    Amazon\n",
       "    <span style=\"font-size: 0.8em; font-weight: bold; line-height: 1; border-radius: 0.35em; text-transform: uppercase; vertical-align: middle; margin-left: 0.5rem\">ORG</span>\n",
       "</mark>\n",
       ", \n",
       "<mark class=\"entity\" style=\"background: #7aecec; padding: 0.45em 0.6em; margin: 0 0.25em; line-height: 1; border-radius: 0.35em; box-decoration-break: clone; -webkit-box-decoration-break: clone\">\n",
       "    Google\n",
       "    <span style=\"font-size: 0.8em; font-weight: bold; line-height: 1; border-radius: 0.35em; text-transform: uppercase; vertical-align: middle; margin-left: 0.5rem\">ORG</span>\n",
       "</mark>\n",
       ", and \n",
       "<mark class=\"entity\" style=\"background: #aa9cfc; padding: 0.45em 0.6em; margin: 0 0.25em; line-height: 1; border-radius: 0.35em; box-decoration-break: clone; -webkit-box-decoration-break: clone\">\n",
       "    Facebook\n",
       "    <span style=\"font-size: 0.8em; font-weight: bold; line-height: 1; border-radius: 0.35em; text-transform: uppercase; vertical-align: middle; margin-left: 0.5rem\">PERSON</span>\n",
       "</mark>\n",
       ". The company's hardware products include the \n",
       "<mark class=\"entity\" style=\"background: #7aecec; padding: 0.45em 0.6em; margin: 0 0.25em; line-height: 1; border-radius: 0.35em; box-decoration-break: clone; -webkit-box-decoration-break: clone\">\n",
       "    iPhone\n",
       "    <span style=\"font-size: 0.8em; font-weight: bold; line-height: 1; border-radius: 0.35em; text-transform: uppercase; vertical-align: middle; margin-left: 0.5rem\">ORG</span>\n",
       "</mark>\n",
       " smartphone, the iPad tablet computer, the \n",
       "<mark class=\"entity\" style=\"background: #7aecec; padding: 0.45em 0.6em; margin: 0 0.25em; line-height: 1; border-radius: 0.35em; box-decoration-break: clone; -webkit-box-decoration-break: clone\">\n",
       "    Mac\n",
       "    <span style=\"font-size: 0.8em; font-weight: bold; line-height: 1; border-radius: 0.35em; text-transform: uppercase; vertical-align: middle; margin-left: 0.5rem\">ORG</span>\n",
       "</mark>\n",
       " personal computer, the iPod portable media player, the \n",
       "<mark class=\"entity\" style=\"background: #7aecec; padding: 0.45em 0.6em; margin: 0 0.25em; line-height: 1; border-radius: 0.35em; box-decoration-break: clone; -webkit-box-decoration-break: clone\">\n",
       "    Apple Watch\n",
       "    <span style=\"font-size: 0.8em; font-weight: bold; line-height: 1; border-radius: 0.35em; text-transform: uppercase; vertical-align: middle; margin-left: 0.5rem\">ORG</span>\n",
       "</mark>\n",
       " smartwatch, the \n",
       "<mark class=\"entity\" style=\"background: #7aecec; padding: 0.45em 0.6em; margin: 0 0.25em; line-height: 1; border-radius: 0.35em; box-decoration-break: clone; -webkit-box-decoration-break: clone\">\n",
       "    Apple TV\n",
       "    <span style=\"font-size: 0.8em; font-weight: bold; line-height: 1; border-radius: 0.35em; text-transform: uppercase; vertical-align: middle; margin-left: 0.5rem\">ORG</span>\n",
       "</mark>\n",
       " digital media player, the \n",
       "<mark class=\"entity\" style=\"background: #7aecec; padding: 0.45em 0.6em; margin: 0 0.25em; line-height: 1; border-radius: 0.35em; box-decoration-break: clone; -webkit-box-decoration-break: clone\">\n",
       "    AirPods\n",
       "    <span style=\"font-size: 0.8em; font-weight: bold; line-height: 1; border-radius: 0.35em; text-transform: uppercase; vertical-align: middle; margin-left: 0.5rem\">ORG</span>\n",
       "</mark>\n",
       " wireless earbuds and the \n",
       "<mark class=\"entity\" style=\"background: #aa9cfc; padding: 0.45em 0.6em; margin: 0 0.25em; line-height: 1; border-radius: 0.35em; box-decoration-break: clone; -webkit-box-decoration-break: clone\">\n",
       "    HomePod\n",
       "    <span style=\"font-size: 0.8em; font-weight: bold; line-height: 1; border-radius: 0.35em; text-transform: uppercase; vertical-align: middle; margin-left: 0.5rem\">PERSON</span>\n",
       "</mark>\n",
       " smart speaker.</div>"
      ],
      "text/plain": [
       "<IPython.core.display.HTML object>"
      ]
     },
     "metadata": {},
     "output_type": "display_data"
    }
   ],
   "source": [
    "import spacy\n",
    "from spacy import displacy\n",
    "\n",
    "ner = spacy.load('en_core_web_sm')\n",
    "sample_text = \"Apple Inc. is an American multinational technology company headquartered in Cupertino, California, that designs, develops, and sells consumer electronics, computer software, and online services. It is considered one of the Big Four tech companies along with Amazon, Google, and Facebook. The company's hardware products include the iPhone smartphone, the iPad tablet computer, the Mac personal computer, the iPod portable media player, the Apple Watch smartwatch, the Apple TV digital media player, the AirPods wireless earbuds and the HomePod smart speaker.\"\n",
    "displacy.render(ner(sample_text), jupyter=True, style='ent')"
   ]
  },
  {
   "cell_type": "markdown",
   "metadata": {},
   "source": [
    "***"
   ]
  },
  {
   "cell_type": "markdown",
   "metadata": {},
   "source": [
    "## Node2vec Graph Embeddings"
   ]
  },
  {
   "cell_type": "markdown",
   "metadata": {},
   "source": [
    "In deep learning approaches, it would be helpful to represent our knowledge graphs in a continuous vector space. After doing a review of graph embeddings approaches, node2vec seemed like a reasonable method. In short, node2vec uses a random walk to traverse the graph to learn the embeddings. Each node is then represented as a vector. In particular, this approach is useful as it allows us to balance the trade-off between capturing the local information in a graph and the global structure of the knowledge graph. "
   ]
  },
  {
   "cell_type": "code",
   "execution_count": 34,
   "metadata": {},
   "outputs": [],
   "source": [
    "from gensim.models import Word2Vec\n",
    "model = Word2Vec.load('../data/graph_embedding_100000.model')\n",
    "\n",
    "wikidata = pd.read_csv('../data/wikipages_cleaned.csv')\n",
    "wikidata.dropna(inplace=True)"
   ]
  },
  {
   "cell_type": "code",
   "execution_count": 35,
   "metadata": {},
   "outputs": [],
   "source": [
    "def id_title(data, idx):\n",
    "    \"\"\"Given a wikidata ID, extract the title\"\"\"\n",
    "    return data[data['wikidata_numeric_id']==int(idx)]['target_page_title'].iloc[0]"
   ]
  },
  {
   "cell_type": "markdown",
   "metadata": {},
   "source": [
    "Graph embedding of 100000 Wikidata entries projected onto 2 dimensions through PCA. This captures the structure and topology of the knowledge graph in 2D. If we plot the graph in plotly, we can see pockets of nodes which make sense. For example, countries are close to each other. "
   ]
  },
  {
   "cell_type": "code",
   "execution_count": 37,
   "metadata": {},
   "outputs": [
    {
     "name": "stderr",
     "output_type": "stream",
     "text": [
      "/home/matteo/.local/lib/python3.7/site-packages/ipykernel_launcher.py:5: DeprecationWarning: Call to deprecated `__getitem__` (Method will be removed in 4.0.0, use self.wv.__getitem__() instead).\n",
      "  \"\"\"\n"
     ]
    },
    {
     "data": {
      "image/png": "[encoded data removed]",
      "text/plain": [
       "<Figure size 720x576 with 1 Axes>"
      ]
     },
     "metadata": {},
     "output_type": "display_data"
    }
   ],
   "source": [
    "import matplotlib.pyplot as plt\n",
    "from sklearn.decomposition import PCA\n",
    "\n",
    "# embedding for wikidata ID\n",
    "X = model[model.wv.vocab]\n",
    "pca = PCA(n_components=2)\n",
    "X_pca = pca.fit_transform(X)\n",
    "plotly_X = pd.DataFrame(X_pca, columns=['1st PC', '2nd PC'])\n",
    "plotly_X['titles'] = [id_title(wikidata, idx) for idx in list(model.wv.vocab)]\n",
    "\n",
    "plt.figure(figsize=(10,8))\n",
    "plt.scatter(plotly_X['1st PC'], plotly_X['2nd PC'], s=10)\n",
    "plt.title('1st and 2nd PCs of Graph Embeddings')\n",
    "plt.xlabel('1st PC')\n",
    "plt.ylabel('2nd PC');"
   ]
  },
  {
   "cell_type": "markdown",
   "metadata": {},
   "source": [
    "## Word2Vec Entity Text Embeddings"
   ]
  },
  {
   "cell_type": "markdown",
   "metadata": {},
   "source": [
    "We also did a simple word2vec text embedding on the named entities from NER (5000 Wikipedia text articles). We similarly did a PCA and captured the 1st 2 PCs in a scatterplot. Due to the lower number of entities, the locations of the entities do not seem to be as useful as the graph embeddings."
   ]
  },
  {
   "cell_type": "code",
   "execution_count": 41,
   "metadata": {},
   "outputs": [],
   "source": [
    "entity_model = Word2Vec.load('../data/entity_embedding.model')"
   ]
  },
  {
   "cell_type": "code",
   "execution_count": 42,
   "metadata": {},
   "outputs": [
    {
     "name": "stderr",
     "output_type": "stream",
     "text": [
      "/home/matteo/.local/lib/python3.7/site-packages/ipykernel_launcher.py:2: DeprecationWarning: Call to deprecated `__getitem__` (Method will be removed in 4.0.0, use self.wv.__getitem__() instead).\n",
      "  \n"
     ]
    },
    {
     "data": {
      "image/png": "[encoded data removed]",
      "text/plain": [
       "<Figure size 720x576 with 1 Axes>"
      ]
     },
     "metadata": {},
     "output_type": "display_data"
    }
   ],
   "source": [
    "# embedding for wikidata ID\n",
    "X_entity = entity_model[entity_model.wv.vocab]\n",
    "pca_entity = PCA(n_components=2)\n",
    "X_pca_entity = pca_entity.fit_transform(X_entity)\n",
    "plotly_X_entity = pd.DataFrame(X_pca_entity, columns=['1st PC', '2nd PC'])\n",
    "plotly_X_entity['entities'] = list(entity_model.wv.vocab)\n",
    "\n",
    "plt.figure(figsize=(10,8))\n",
    "plt.scatter(plotly_X_entity['1st PC'], plotly_X_entity['2nd PC'], s=10)\n",
    "plt.title('1st and 2nd PCs of Entity Text Embeddings')\n",
    "plt.xlabel('1st PC')\n",
    "plt.ylabel('2nd PC');"
   ]
  }
 ],
 "metadata": {
  "kernelspec": {
   "display_name": "capstone",
   "language": "python",
   "name": "capstone"
  },
  "language_info": {
   "codemirror_mode": {
    "name": "ipython",
    "version": 3
   },
   "file_extension": ".py",
   "mimetype": "text/x-python",
   "name": "python",
   "nbconvert_exporter": "python",
   "pygments_lexer": "ipython3",
   "version": "3.7.4"
  }
 },
 "nbformat": 4,
 "nbformat_minor": 2
}
