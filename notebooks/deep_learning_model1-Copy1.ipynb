{
 "cells": [
  {
   "cell_type": "code",
   "execution_count": 1,
   "metadata": {},
   "outputs": [
    {
     "name": "stderr",
     "output_type": "stream",
     "text": [
      "Using TensorFlow backend.\n"
     ]
    }
   ],
   "source": [
    "import pickle\n",
    "import pandas as pd\n",
    "import numpy as np\n",
    "import re\n",
    "import string\n",
    "import unidecode\n",
    "from collections import defaultdict\n",
    "from keras.models import Sequential, Model\n",
    "from keras.preprocessing.sequence import pad_sequences\n",
    "from keras.layers import Dense, LSTM, Embedding, concatenate, Input, Dropout\n",
    "from sklearn.model_selection import train_test_split\n",
    "from sklearn.metrics import confusion_matrix, accuracy_score\n",
    "from nltk import word_tokenize\n",
    "from nltk.corpus import stopwords"
   ]
  },
  {
   "cell_type": "code",
   "execution_count": 2,
   "metadata": {},
   "outputs": [],
   "source": [
    "with open(\"../data/word2idx/word2idx.pkl\", \"rb\") as f:\n",
    "    word2idx = pickle.load(f)\n",
    "    #Map any unknown word to UNKNOWN, which has index 1"
   ]
  },
  {
   "cell_type": "code",
   "execution_count": 3,
   "metadata": {},
   "outputs": [
    {
     "data": {
      "text/plain": [
       "445881"
      ]
     },
     "execution_count": 3,
     "metadata": {},
     "output_type": "execute_result"
    }
   ],
   "source": [
    "len(word2idx)"
   ]
  },
  {
   "cell_type": "code",
   "execution_count": 4,
   "metadata": {},
   "outputs": [],
   "source": [
    "data = pd.read_csv('../data/sample_data_1percent.csv')"
   ]
  },
  {
   "cell_type": "code",
   "execution_count": 5,
   "metadata": {},
   "outputs": [
    {
     "data": {
      "text/html": [
       "<div>\n",
       "<style scoped>\n",
       "    .dataframe tbody tr th:only-of-type {\n",
       "        vertical-align: middle;\n",
       "    }\n",
       "\n",
       "    .dataframe tbody tr th {\n",
       "        vertical-align: top;\n",
       "    }\n",
       "\n",
       "    .dataframe thead th {\n",
       "        text-align: right;\n",
       "    }\n",
       "</style>\n",
       "<table border=\"1\" class=\"dataframe\">\n",
       "  <thead>\n",
       "    <tr style=\"text-align: right;\">\n",
       "      <th></th>\n",
       "      <th>text</th>\n",
       "      <th>link_anchor</th>\n",
       "      <th>link_start</th>\n",
       "      <th>link_end</th>\n",
       "      <th>target_wikidata</th>\n",
       "      <th>tokenized_vector</th>\n",
       "      <th>candidates</th>\n",
       "    </tr>\n",
       "  </thead>\n",
       "  <tbody>\n",
       "    <tr>\n",
       "      <th>0</th>\n",
       "      <td>the academy awards also officially and popular...</td>\n",
       "      <td>film industry</td>\n",
       "      <td>120</td>\n",
       "      <td>133</td>\n",
       "      <td>1415395</td>\n",
       "      <td>[0. 0. 0. 0. 0. 0. 0. 0. 0. 0. 0. 0. 0. 0. 0. ...</td>\n",
       "      <td>[93196.0, 2973146.0, 2973208.0, 2973157.0, 328...</td>\n",
       "    </tr>\n",
       "    <tr>\n",
       "      <th>1</th>\n",
       "      <td>the academy awards also officially and popular...</td>\n",
       "      <td>academy of motion picture arts and sciences</td>\n",
       "      <td>156</td>\n",
       "      <td>199</td>\n",
       "      <td>212329</td>\n",
       "      <td>[0. 0. 0. 0. 0. 0. 0. 0. 0. 0. 0. 0. 0. 0. 0. ...</td>\n",
       "      <td>[212329.0, 212329.0]</td>\n",
       "    </tr>\n",
       "    <tr>\n",
       "      <th>2</th>\n",
       "      <td>the academy awards also officially and popular...</td>\n",
       "      <td>art deco</td>\n",
       "      <td>551</td>\n",
       "      <td>559</td>\n",
       "      <td>173782</td>\n",
       "      <td>[0. 0. 0. 0. 0. 0. 0. 0. 0. 0. 0. 0. 0. 0. 0. ...</td>\n",
       "      <td>[173782.0, 4824850.0, 4796770.0, 23307613.0, 2...</td>\n",
       "    </tr>\n",
       "    <tr>\n",
       "      <th>3</th>\n",
       "      <td>the academy awards also officially and popular...</td>\n",
       "      <td>george stanley</td>\n",
       "      <td>603</td>\n",
       "      <td>617</td>\n",
       "      <td>5544783</td>\n",
       "      <td>[0. 0. 0. 0. 0. 0. 0. 0. 0. 0. 0. 0. 0. 0. 0. ...</td>\n",
       "      <td>[3101928.0, 5539480.0, 5544780.0, 5544779.0, 5...</td>\n",
       "    </tr>\n",
       "    <tr>\n",
       "      <th>4</th>\n",
       "      <td>the academy awards also officially and popular...</td>\n",
       "      <td>cedric gibbons</td>\n",
       "      <td>642</td>\n",
       "      <td>656</td>\n",
       "      <td>727904</td>\n",
       "      <td>[0. 0. 0. 0. 0. 0. 0. 0. 0. 0. 0. 0. 0. 0. 0. ...</td>\n",
       "      <td>[727904.0, 5057103.0]</td>\n",
       "    </tr>\n",
       "  </tbody>\n",
       "</table>\n",
       "</div>"
      ],
      "text/plain": [
       "                                                text  \\\n",
       "0  the academy awards also officially and popular...   \n",
       "1  the academy awards also officially and popular...   \n",
       "2  the academy awards also officially and popular...   \n",
       "3  the academy awards also officially and popular...   \n",
       "4  the academy awards also officially and popular...   \n",
       "\n",
       "                                   link_anchor  link_start  link_end  \\\n",
       "0                                film industry         120       133   \n",
       "1  academy of motion picture arts and sciences         156       199   \n",
       "2                                     art deco         551       559   \n",
       "3                               george stanley         603       617   \n",
       "4                               cedric gibbons         642       656   \n",
       "\n",
       "   target_wikidata                                   tokenized_vector  \\\n",
       "0          1415395  [0. 0. 0. 0. 0. 0. 0. 0. 0. 0. 0. 0. 0. 0. 0. ...   \n",
       "1           212329  [0. 0. 0. 0. 0. 0. 0. 0. 0. 0. 0. 0. 0. 0. 0. ...   \n",
       "2           173782  [0. 0. 0. 0. 0. 0. 0. 0. 0. 0. 0. 0. 0. 0. 0. ...   \n",
       "3          5544783  [0. 0. 0. 0. 0. 0. 0. 0. 0. 0. 0. 0. 0. 0. 0. ...   \n",
       "4           727904  [0. 0. 0. 0. 0. 0. 0. 0. 0. 0. 0. 0. 0. 0. 0. ...   \n",
       "\n",
       "                                          candidates  \n",
       "0  [93196.0, 2973146.0, 2973208.0, 2973157.0, 328...  \n",
       "1                               [212329.0, 212329.0]  \n",
       "2  [173782.0, 4824850.0, 4796770.0, 23307613.0, 2...  \n",
       "3  [3101928.0, 5539480.0, 5544780.0, 5544779.0, 5...  \n",
       "4                              [727904.0, 5057103.0]  "
      ]
     },
     "execution_count": 5,
     "metadata": {},
     "output_type": "execute_result"
    }
   ],
   "source": [
    "data.head()"
   ]
  },
  {
   "cell_type": "code",
   "execution_count": 6,
   "metadata": {},
   "outputs": [
    {
     "data": {
      "text/plain": [
       "'[93196.0, 2973146.0, 2973208.0, 2973157.0, 328799.0, 380675.0, 1198185.0, 1415395.0, 646116.0, 15956340.0, 5120804.0, 11424.0, 21065894.0]'"
      ]
     },
     "execution_count": 6,
     "metadata": {},
     "output_type": "execute_result"
    }
   ],
   "source": [
    "data.iloc[0]['candidates']"
   ]
  },
  {
   "cell_type": "code",
   "execution_count": 265,
   "metadata": {},
   "outputs": [],
   "source": [
    "with open('../data/sample_doc2vec_data.pkl', 'rb') as f:\n",
    "    docs = pickle.load(f)"
   ]
  },
  {
   "cell_type": "code",
   "execution_count": null,
   "metadata": {},
   "outputs": [],
   "source": []
  },
  {
   "cell_type": "code",
   "execution_count": 223,
   "metadata": {},
   "outputs": [],
   "source": [
    "with open('../data/sample_labels.pkl', 'rb') as f:\n",
    "    data = pickle.load(f)"
   ]
  },
  {
   "cell_type": "code",
   "execution_count": 224,
   "metadata": {},
   "outputs": [],
   "source": [
    "with open('../data/knowledge_graph_data/id2text_entity.pickle', 'rb') as f:\n",
    "    id2text = pickle.load(f)"
   ]
  },
  {
   "cell_type": "code",
   "execution_count": 225,
   "metadata": {},
   "outputs": [],
   "source": [
    "with open('../data/name_to_wiki_id.pkl', 'rb') as f:\n",
    "    name_to_wiki_id = pickle.load(f)"
   ]
  },
  {
   "cell_type": "code",
   "execution_count": 226,
   "metadata": {},
   "outputs": [],
   "source": [
    "with open('../data/knowledge_graph_data/idx2id_entity.pickle', 'rb') as f:\n",
    "    idx2id = pickle.load(f)"
   ]
  },
  {
   "cell_type": "code",
   "execution_count": 227,
   "metadata": {},
   "outputs": [],
   "source": [
    "id2idx = {value: key for key, value in idx2id.items()}"
   ]
  },
  {
   "cell_type": "code",
   "execution_count": 228,
   "metadata": {},
   "outputs": [],
   "source": [
    "graph_embedding = np.load('../data/knowledge_graph_data/wiki_DistMult_entity.npy') "
   ]
  },
  {
   "cell_type": "code",
   "execution_count": 229,
   "metadata": {},
   "outputs": [],
   "source": [
    "# replace words within paranthesis and remove non alphanumeric characters\n",
    "# get_rid of `the` which can cause difference\n",
    "pattern = re.compile(r'\\([^)]*\\)|[^a-zA-Z0-9 -]|\\s|(^|[^a-zA-Z0-9])the[^a-zA-Z0-9]')\n",
    "# unidecode to remove accents\n",
    "normalize_text = lambda text: pattern.sub(\"\", unidecode.unidecode(text).lower())\n"
   ]
  },
  {
   "cell_type": "code",
   "execution_count": 230,
   "metadata": {},
   "outputs": [],
   "source": [
    "#window length actually 2 times this since from both sides\n",
    "window_length = 10"
   ]
  },
  {
   "cell_type": "code",
   "execution_count": 269,
   "metadata": {},
   "outputs": [],
   "source": [
    "#For each of the entities in each of the rows, make word2idx vector using context window and also get graph embedding.\n",
    "\n",
    "lstm_input = []\n",
    "graph_input = []\n",
    "doc_input = []\n",
    "response = []\n",
    "not_in_graph = []\n",
    "for i, article in enumerate(data):\n",
    "    text = article[0]\n",
    "    doc_embedding = docs[i][0]\n",
    "    for entity, indices in article[1].items():\n",
    "        name = entity[0]\n",
    "        entity_id = entity[3]\n",
    "        #Don't include actual entity text for now in context window since doing fixed length? \n",
    "        entity_idx = np.where(indices == 1)[0]\n",
    "        split_text = text.split()\n",
    "        context = split_text[max(0, entity_idx.min() - window_length) : entity_idx.min()] +\\\n",
    "                  split_text[entity_idx.max() + 1 : entity_idx.max() + window_length + 1] \n",
    "        #if word not in vocab, by default map to 1\n",
    "        context_word2idx = [word2idx.get(word, 1) for word in context]\n",
    "        #get a candidate from candidate_dict to get a false, irrelevant entity for each entity\n",
    "        candidates_list = name_to_wiki_id[normalize_text(name)]\n",
    "        #can't choose actual entity as false \n",
    "        if entity_id in candidates_list:\n",
    "            candidates_list.remove(entity_id)\n",
    "        if len(candidates_list) > 0:\n",
    "            for false_entity_id in candidates_list:\n",
    "                if false_entity_id in id2idx:\n",
    "                    false_graph_embed = graph_embedding[id2idx[false_entity_id]]\n",
    "                    lstm_input.append(context_word2idx)\n",
    "                    graph_input.append(false_graph_embed)\n",
    "                    doc_input.append(doc_embedding)\n",
    "                    response.append(0)\n",
    "                else:\n",
    "                    not_in_graph.append(false_entity_id)\n",
    "        if entity_id in id2idx:\n",
    "            true_graph_embed = graph_embedding[id2idx[entity_id]]\n",
    "            lstm_input.append(context_word2idx)\n",
    "            graph_input.append(true_graph_embed)\n",
    "            doc_input.append(doc_embedding)\n",
    "            response.append(1)\n",
    "        else:\n",
    "            not_in_graph.append(entity_id)\n",
    "            \n",
    "lstm_input = pad_sequences(lstm_input, maxlen = window_length * 2, padding = 'post')\n",
    "graph_input = np.array(graph_input)\n",
    "doc_input = np.array(doc_input)\n",
    "response = np.array(response)"
   ]
  },
  {
   "cell_type": "code",
   "execution_count": 270,
   "metadata": {},
   "outputs": [
    {
     "data": {
      "text/plain": [
       "106433"
      ]
     },
     "execution_count": 270,
     "metadata": {},
     "output_type": "execute_result"
    }
   ],
   "source": [
    "len(doc_input)"
   ]
  },
  {
   "cell_type": "code",
   "execution_count": 271,
   "metadata": {},
   "outputs": [
    {
     "data": {
      "text/plain": [
       "106433"
      ]
     },
     "execution_count": 271,
     "metadata": {},
     "output_type": "execute_result"
    }
   ],
   "source": [
    "len(graph_input)"
   ]
  },
  {
   "cell_type": "code",
   "execution_count": 272,
   "metadata": {},
   "outputs": [
    {
     "data": {
      "text/plain": [
       "106433"
      ]
     },
     "execution_count": 272,
     "metadata": {},
     "output_type": "execute_result"
    }
   ],
   "source": [
    "len(lstm_input)"
   ]
  },
  {
   "cell_type": "code",
   "execution_count": 273,
   "metadata": {},
   "outputs": [
    {
     "data": {
      "text/plain": [
       "106433"
      ]
     },
     "execution_count": 273,
     "metadata": {},
     "output_type": "execute_result"
    }
   ],
   "source": [
    "len(response)"
   ]
  },
  {
   "cell_type": "code",
   "execution_count": 274,
   "metadata": {},
   "outputs": [
    {
     "data": {
      "text/plain": [
       "1000"
      ]
     },
     "execution_count": 274,
     "metadata": {},
     "output_type": "execute_result"
    }
   ],
   "source": [
    "len(doc_embedding)"
   ]
  },
  {
   "cell_type": "code",
   "execution_count": 275,
   "metadata": {},
   "outputs": [
    {
     "data": {
      "text/plain": [
       "0.1976924450123552"
      ]
     },
     "execution_count": 275,
     "metadata": {},
     "output_type": "execute_result"
    }
   ],
   "source": [
    "response.mean()"
   ]
  },
  {
   "cell_type": "code",
   "execution_count": 276,
   "metadata": {},
   "outputs": [
    {
     "data": {
      "text/plain": [
       "4681"
      ]
     },
     "execution_count": 276,
     "metadata": {},
     "output_type": "execute_result"
    }
   ],
   "source": [
    "len(not_in_graph)"
   ]
  },
  {
   "cell_type": "code",
   "execution_count": 277,
   "metadata": {},
   "outputs": [
    {
     "data": {
      "text/plain": [
       "0.043980720265331244"
      ]
     },
     "execution_count": 277,
     "metadata": {},
     "output_type": "execute_result"
    }
   ],
   "source": [
    "len(not_in_graph) / len(graph_input)"
   ]
  },
  {
   "cell_type": "code",
   "execution_count": 279,
   "metadata": {},
   "outputs": [
    {
     "data": {
      "text/plain": [
       "(79824, 26609)"
      ]
     },
     "execution_count": 279,
     "metadata": {},
     "output_type": "execute_result"
    }
   ],
   "source": [
    "train_ind, test_ind = train_test_split(np.arange(len(response)))\n",
    "lstm_train = lstm_input[train_ind]\n",
    "lstm_test = lstm_input[test_ind]\n",
    "graph_train = graph_input[train_ind]\n",
    "graph_test = graph_input[test_ind]\n",
    "doc_train = doc_input[train_ind]\n",
    "doc_test = doc_input[test_ind]\n",
    "y_train = response[train_ind]\n",
    "y_test = response[test_ind]\n",
    "\n",
    "len(y_train), len(y_test)"
   ]
  },
  {
   "cell_type": "code",
   "execution_count": 339,
   "metadata": {},
   "outputs": [
    {
     "name": "stdout",
     "output_type": "stream",
     "text": [
      "__________________________________________________________________________________________________\n",
      "Layer (type)                    Output Shape         Param #     Connected to                     \n",
      "==================================================================================================\n",
      "input_49 (InputLayer)           (None, 20)           0                                            \n",
      "__________________________________________________________________________________________________\n",
      "embedding_33 (Embedding)        (None, 20, 100)      44588100    input_49[0][0]                   \n",
      "__________________________________________________________________________________________________\n",
      "dropout_15 (Dropout)            (None, 20, 100)      0           embedding_33[0][0]               \n",
      "__________________________________________________________________________________________________\n",
      "lstm_33 (LSTM)                  (None, 50)           30200       dropout_15[0][0]                 \n",
      "__________________________________________________________________________________________________\n",
      "input_50 (InputLayer)           (None, 250)          0                                            \n",
      "__________________________________________________________________________________________________\n",
      "concatenate_29 (Concatenate)    (None, 300)          0           lstm_33[0][0]                    \n",
      "                                                                 input_50[0][0]                   \n",
      "__________________________________________________________________________________________________\n",
      "dropout_16 (Dropout)            (None, 300)          0           concatenate_29[0][0]             \n",
      "__________________________________________________________________________________________________\n",
      "dense_22 (Dense)                (None, 1)            301         dropout_16[0][0]                 \n",
      "==================================================================================================\n",
      "Total params: 44,618,601\n",
      "Trainable params: 44,618,601\n",
      "Non-trainable params: 0\n",
      "__________________________________________________________________________________________________\n"
     ]
    }
   ],
   "source": [
    "inp1 = Input(shape = (lstm_input.shape[1], ))\n",
    "inp2 = Input(shape = (graph_input.shape[1], ))\n",
    "inp3 = Input(shape = (doc_input.shape[1], ))\n",
    "embed = Embedding(output_dim=100, input_dim=len(word2idx), input_length=lstm_input.shape[1])(inp1)\n",
    "embed = Dropout(rate = 0.2)(embed)\n",
    "out1 = LSTM(50)(embed)\n",
    "w = concatenate([out1, inp2])\n",
    "w = Dropout(0.2)(w)\n",
    "out = Dense(1, activation = 'sigmoid')(w)\n",
    "model = Model(inputs=[inp1, inp2], outputs=out)\n",
    "model.compile(optimizer='adam', loss='binary_crossentropy', metrics=['accuracy'])\n",
    "model.summary()"
   ]
  },
  {
   "cell_type": "code",
   "execution_count": 340,
   "metadata": {},
   "outputs": [
    {
     "name": "stdout",
     "output_type": "stream",
     "text": [
      "Train on 63859 samples, validate on 15965 samples\n",
      "Epoch 1/3\n",
      "63859/63859 [==============================] - 81s 1ms/step - loss: 0.4289 - acc: 0.8091 - val_loss: 0.3585 - val_acc: 0.8393\n",
      "Epoch 2/3\n",
      "63859/63859 [==============================] - 79s 1ms/step - loss: 0.3079 - acc: 0.8650 - val_loss: 0.3223 - val_acc: 0.8595\n",
      "Epoch 3/3\n",
      "63859/63859 [==============================] - 79s 1ms/step - loss: 0.2552 - acc: 0.8945 - val_loss: 0.3168 - val_acc: 0.8628\n"
     ]
    },
    {
     "data": {
      "text/plain": [
       "<keras.callbacks.History at 0x7faeb724ab50>"
      ]
     },
     "execution_count": 340,
     "metadata": {},
     "output_type": "execute_result"
    }
   ],
   "source": [
    "# model.fit([lstm_train, graph_train, doc_train], y_train, batch_size = 256, epochs = 3, validation_split = 0.2)\n",
    "model.fit([lstm_train, graph_train], y_train, batch_size = 256, epochs = 3, validation_split = 0.2)"
   ]
  },
  {
   "cell_type": "code",
   "execution_count": 345,
   "metadata": {},
   "outputs": [
    {
     "data": {
      "text/plain": [
       "0.836183246270059"
      ]
     },
     "execution_count": 345,
     "metadata": {},
     "output_type": "execute_result"
    }
   ],
   "source": [
    "# y_test_pred = model.predict([lstm_test, graph_test, doc_test])\n",
    "y_test_pred = model.predict([lstm_test, graph_test])\n",
    "\n",
    "y_test_pred = np.where(y_test_pred > 0.25, 1, 0)\n",
    "accuracy_score(y_test, y_test_pred)"
   ]
  },
  {
   "cell_type": "code",
   "execution_count": 346,
   "metadata": {
    "scrolled": true
   },
   "outputs": [],
   "source": [
    "cm = confusion_matrix(y_test, y_test_pred)"
   ]
  },
  {
   "cell_type": "code",
   "execution_count": 347,
   "metadata": {},
   "outputs": [
    {
     "data": {
      "image/png": "[encoded data removed]",
      "text/plain": [
       "<Figure size 432x288 with 1 Axes>"
      ]
     },
     "metadata": {},
     "output_type": "display_data"
    }
   ],
   "source": [
    "from mlxtend.plotting import plot_confusion_matrix\n",
    "\n",
    "plot_confusion_matrix(cm, show_normed = True);"
   ]
  },
  {
   "cell_type": "code",
   "execution_count": null,
   "metadata": {},
   "outputs": [],
   "source": []
  }
 ],
 "metadata": {
  "kernelspec": {
   "display_name": "capstone",
   "language": "python",
   "name": "capstone"
  },
  "language_info": {
   "codemirror_mode": {
    "name": "ipython",
    "version": 3
   },
   "file_extension": ".py",
   "mimetype": "text/x-python",
   "name": "python",
   "nbconvert_exporter": "python",
   "pygments_lexer": "ipython3",
   "version": "3.7.4"
  }
 },
 "nbformat": 4,
 "nbformat_minor": 2
}
