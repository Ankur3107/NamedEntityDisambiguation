{
 "cells": [
  {
   "cell_type": "code",
   "execution_count": 1,
   "metadata": {},
   "outputs": [
    {
     "name": "stderr",
     "output_type": "stream",
     "text": [
      "Using TensorFlow backend.\n"
     ]
    }
   ],
   "source": [
    "import pickle\n",
    "import pandas as pd\n",
    "import numpy as np\n",
    "from tqdm import tqdm_notebook\n",
    "import re\n",
    "import ast\n",
    "import string\n",
    "import unidecode\n",
    "from collections import defaultdict\n",
    "from keras.models import Sequential, Model\n",
    "from keras.preprocessing.sequence import pad_sequences\n",
    "from keras.layers import Dense, LSTM, Embedding, concatenate, Input, Dropout, Bidirectional\n",
    "from sklearn.model_selection import train_test_split\n",
    "from sklearn.metrics import confusion_matrix, accuracy_score\n",
    "from sklearn.utils import class_weight\n",
    "from nltk import word_tokenize\n",
    "from nltk.corpus import stopwords\n",
    "\n",
    "import NED_models"
   ]
  },
  {
   "cell_type": "code",
   "execution_count": 2,
   "metadata": {},
   "outputs": [],
   "source": [
    "import matplotlib.pyplot as plt\n",
    "from sklearn import metrics"
   ]
  },
  {
   "cell_type": "code",
   "execution_count": 3,
   "metadata": {},
   "outputs": [],
   "source": [
    "with open(\"../data/word2idx/word2idx.pkl\", \"rb\") as f:\n",
    "    #Map any unknown word to UNKNOWN, which has index 1\n",
    "    word2idx = pickle.load(f)"
   ]
  },
  {
   "cell_type": "code",
   "execution_count": 4,
   "metadata": {},
   "outputs": [
    {
     "data": {
      "text/plain": [
       "445881"
      ]
     },
     "execution_count": 4,
     "metadata": {},
     "output_type": "execute_result"
    }
   ],
   "source": [
    "len(word2idx)"
   ]
  },
  {
   "cell_type": "code",
   "execution_count": 5,
   "metadata": {},
   "outputs": [],
   "source": [
    "data = pd.read_csv('../data/sample_data_1percent.csv')"
   ]
  },
  {
   "cell_type": "code",
   "execution_count": 6,
   "metadata": {},
   "outputs": [],
   "source": [
    "conditions = data.link_anchor.str.contains('#', na=False)\n",
    "data = data[~conditions]\n",
    "data = data.reset_index().drop('index', axis=1)"
   ]
  },
  {
   "cell_type": "code",
   "execution_count": 7,
   "metadata": {},
   "outputs": [
    {
     "data": {
      "text/html": [
       "<div>\n",
       "<style scoped>\n",
       "    .dataframe tbody tr th:only-of-type {\n",
       "        vertical-align: middle;\n",
       "    }\n",
       "\n",
       "    .dataframe tbody tr th {\n",
       "        vertical-align: top;\n",
       "    }\n",
       "\n",
       "    .dataframe thead th {\n",
       "        text-align: right;\n",
       "    }\n",
       "</style>\n",
       "<table border=\"1\" class=\"dataframe\">\n",
       "  <thead>\n",
       "    <tr style=\"text-align: right;\">\n",
       "      <th></th>\n",
       "      <th>text</th>\n",
       "      <th>link_anchor</th>\n",
       "      <th>link_start</th>\n",
       "      <th>link_end</th>\n",
       "      <th>target_wikidata</th>\n",
       "      <th>tokenized_vector</th>\n",
       "      <th>candidates</th>\n",
       "    </tr>\n",
       "  </thead>\n",
       "  <tbody>\n",
       "    <tr>\n",
       "      <th>0</th>\n",
       "      <td>the academy awards also officially and popular...</td>\n",
       "      <td>film industry</td>\n",
       "      <td>120</td>\n",
       "      <td>133</td>\n",
       "      <td>1415395</td>\n",
       "      <td>[0. 0. 0. 0. 0. 0. 0. 0. 0. 0. 0. 0. 0. 0. 0. ...</td>\n",
       "      <td>[93196.0, 2973146.0, 2973208.0, 2973157.0, 328...</td>\n",
       "    </tr>\n",
       "    <tr>\n",
       "      <th>1</th>\n",
       "      <td>the academy awards also officially and popular...</td>\n",
       "      <td>academy of motion picture arts and sciences</td>\n",
       "      <td>156</td>\n",
       "      <td>199</td>\n",
       "      <td>212329</td>\n",
       "      <td>[0. 0. 0. 0. 0. 0. 0. 0. 0. 0. 0. 0. 0. 0. 0. ...</td>\n",
       "      <td>[212329.0, 212329.0]</td>\n",
       "    </tr>\n",
       "    <tr>\n",
       "      <th>2</th>\n",
       "      <td>the academy awards also officially and popular...</td>\n",
       "      <td>art deco</td>\n",
       "      <td>551</td>\n",
       "      <td>559</td>\n",
       "      <td>173782</td>\n",
       "      <td>[0. 0. 0. 0. 0. 0. 0. 0. 0. 0. 0. 0. 0. 0. 0. ...</td>\n",
       "      <td>[173782.0, 4824850.0, 4796770.0, 23307613.0, 2...</td>\n",
       "    </tr>\n",
       "    <tr>\n",
       "      <th>3</th>\n",
       "      <td>the academy awards also officially and popular...</td>\n",
       "      <td>george stanley</td>\n",
       "      <td>603</td>\n",
       "      <td>617</td>\n",
       "      <td>5544783</td>\n",
       "      <td>[0. 0. 0. 0. 0. 0. 0. 0. 0. 0. 0. 0. 0. 0. 0. ...</td>\n",
       "      <td>[3101928.0, 5539480.0, 5544780.0, 5544779.0, 5...</td>\n",
       "    </tr>\n",
       "    <tr>\n",
       "      <th>4</th>\n",
       "      <td>the academy awards also officially and popular...</td>\n",
       "      <td>cedric gibbons</td>\n",
       "      <td>642</td>\n",
       "      <td>656</td>\n",
       "      <td>727904</td>\n",
       "      <td>[0. 0. 0. 0. 0. 0. 0. 0. 0. 0. 0. 0. 0. 0. 0. ...</td>\n",
       "      <td>[727904.0, 5057103.0]</td>\n",
       "    </tr>\n",
       "  </tbody>\n",
       "</table>\n",
       "</div>"
      ],
      "text/plain": [
       "                                                text  \\\n",
       "0  the academy awards also officially and popular...   \n",
       "1  the academy awards also officially and popular...   \n",
       "2  the academy awards also officially and popular...   \n",
       "3  the academy awards also officially and popular...   \n",
       "4  the academy awards also officially and popular...   \n",
       "\n",
       "                                   link_anchor  link_start  link_end  \\\n",
       "0                                film industry         120       133   \n",
       "1  academy of motion picture arts and sciences         156       199   \n",
       "2                                     art deco         551       559   \n",
       "3                               george stanley         603       617   \n",
       "4                               cedric gibbons         642       656   \n",
       "\n",
       "   target_wikidata                                   tokenized_vector  \\\n",
       "0          1415395  [0. 0. 0. 0. 0. 0. 0. 0. 0. 0. 0. 0. 0. 0. 0. ...   \n",
       "1           212329  [0. 0. 0. 0. 0. 0. 0. 0. 0. 0. 0. 0. 0. 0. 0. ...   \n",
       "2           173782  [0. 0. 0. 0. 0. 0. 0. 0. 0. 0. 0. 0. 0. 0. 0. ...   \n",
       "3          5544783  [0. 0. 0. 0. 0. 0. 0. 0. 0. 0. 0. 0. 0. 0. 0. ...   \n",
       "4           727904  [0. 0. 0. 0. 0. 0. 0. 0. 0. 0. 0. 0. 0. 0. 0. ...   \n",
       "\n",
       "                                          candidates  \n",
       "0  [93196.0, 2973146.0, 2973208.0, 2973157.0, 328...  \n",
       "1                               [212329.0, 212329.0]  \n",
       "2  [173782.0, 4824850.0, 4796770.0, 23307613.0, 2...  \n",
       "3  [3101928.0, 5539480.0, 5544780.0, 5544779.0, 5...  \n",
       "4                              [727904.0, 5057103.0]  "
      ]
     },
     "execution_count": 7,
     "metadata": {},
     "output_type": "execute_result"
    }
   ],
   "source": [
    "data.head()"
   ]
  },
  {
   "cell_type": "code",
   "execution_count": 8,
   "metadata": {},
   "outputs": [
    {
     "data": {
      "text/plain": [
       "(2459381, 7)"
      ]
     },
     "execution_count": 8,
     "metadata": {},
     "output_type": "execute_result"
    }
   ],
   "source": [
    "data.shape"
   ]
  },
  {
   "cell_type": "code",
   "execution_count": 9,
   "metadata": {},
   "outputs": [],
   "source": [
    "# with open('../data/sample_doc2vec_data.pkl', 'rb') as f:\n",
    "#     docs = pickle.load(f)"
   ]
  },
  {
   "cell_type": "code",
   "execution_count": null,
   "metadata": {},
   "outputs": [],
   "source": []
  },
  {
   "cell_type": "code",
   "execution_count": 10,
   "metadata": {},
   "outputs": [],
   "source": [
    "# with open('../data/sample_labels.pkl', 'rb') as f:\n",
    "#     data = pickle.load(f)"
   ]
  },
  {
   "cell_type": "code",
   "execution_count": 7,
   "metadata": {},
   "outputs": [],
   "source": [
    "with open('../data/knowledge_graph_data/id2text_entity.pickle', 'rb') as f:\n",
    "    id2text = pickle.load(f)"
   ]
  },
  {
   "cell_type": "code",
   "execution_count": 8,
   "metadata": {},
   "outputs": [],
   "source": [
    "with open('../data/name_to_wiki_id.pkl', 'rb') as f:\n",
    "    name_to_wiki_id = pickle.load(f)"
   ]
  },
  {
   "cell_type": "code",
   "execution_count": 9,
   "metadata": {},
   "outputs": [],
   "source": [
    "with open('../data/knowledge_graph_data/idx2id_entity.pickle', 'rb') as f:\n",
    "    idx2id = pickle.load(f)"
   ]
  },
  {
   "cell_type": "code",
   "execution_count": 10,
   "metadata": {},
   "outputs": [],
   "source": [
    "id2idx = {value: key for key, value in idx2id.items()}"
   ]
  },
  {
   "cell_type": "code",
   "execution_count": 11,
   "metadata": {},
   "outputs": [],
   "source": [
    "graph_embedding = np.load('../data/knowledge_graph_data/wiki_DistMult_entity.npy') "
   ]
  },
  {
   "cell_type": "code",
   "execution_count": 12,
   "metadata": {},
   "outputs": [],
   "source": [
    "# replace words within paranthesis and remove non alphanumeric characters\n",
    "# get_rid of `the` which can cause difference\n",
    "pattern = re.compile(r'\\([^)]*\\)|[^a-zA-Z0-9 -]|\\s|(^|[^a-zA-Z0-9])the[^a-zA-Z0-9]')\n",
    "# unidecode to remove accents\n",
    "normalize_text = lambda text: pattern.sub(\"\", unidecode.unidecode(text).lower())\n"
   ]
  },
  {
   "cell_type": "code",
   "execution_count": 13,
   "metadata": {},
   "outputs": [],
   "source": [
    "#window length actually 2 times this since from both sides\n",
    "window_length = 10"
   ]
  },
  {
   "cell_type": "code",
   "execution_count": 16,
   "metadata": {},
   "outputs": [
    {
     "data": {
      "application/vnd.jupyter.widget-view+json": {
       "model_id": "420ee5d4d1e440108a9a56ffd433f276",
       "version_major": 2,
       "version_minor": 0
      },
      "text/plain": [
       "HBox(children=(IntProgress(value=0, max=2459381), HTML(value='')))"
      ]
     },
     "metadata": {},
     "output_type": "display_data"
    },
    {
     "name": "stdout",
     "output_type": "stream",
     "text": [
      "\n"
     ]
    },
    {
     "ename": "NameError",
     "evalue": "name 'lstm_input' is not defined",
     "output_type": "error",
     "traceback": [
      "\u001b[0;31m---------------------------------------------------------------------------\u001b[0m",
      "\u001b[0;31mNameError\u001b[0m                                 Traceback (most recent call last)",
      "\u001b[0;32m<ipython-input-16-775170271fa3>\u001b[0m in \u001b[0;36m<module>\u001b[0;34m()\u001b[0m\n\u001b[1;32m     62\u001b[0m             \u001b[0;31m#not_in_graph.append(entity_id)\u001b[0m\u001b[0;34m\u001b[0m\u001b[0;34m\u001b[0m\u001b[0;34m\u001b[0m\u001b[0m\n\u001b[1;32m     63\u001b[0m \u001b[0;34m\u001b[0m\u001b[0m\n\u001b[0;32m---> 64\u001b[0;31m \u001b[0mlstm_input\u001b[0m \u001b[0;34m=\u001b[0m \u001b[0mpad_sequences\u001b[0m\u001b[0;34m(\u001b[0m\u001b[0mlstm_input\u001b[0m\u001b[0;34m,\u001b[0m \u001b[0mmaxlen\u001b[0m \u001b[0;34m=\u001b[0m \u001b[0mwindow_length\u001b[0m \u001b[0;34m*\u001b[0m \u001b[0;36m2\u001b[0m\u001b[0;34m,\u001b[0m \u001b[0mpadding\u001b[0m \u001b[0;34m=\u001b[0m \u001b[0;34m'post'\u001b[0m\u001b[0;34m)\u001b[0m\u001b[0;34m\u001b[0m\u001b[0;34m\u001b[0m\u001b[0m\n\u001b[0m\u001b[1;32m     65\u001b[0m \u001b[0mgraph_input\u001b[0m \u001b[0;34m=\u001b[0m \u001b[0mnp\u001b[0m\u001b[0;34m.\u001b[0m\u001b[0marray\u001b[0m\u001b[0;34m(\u001b[0m\u001b[0mgraph_input\u001b[0m\u001b[0;34m)\u001b[0m\u001b[0;34m\u001b[0m\u001b[0;34m\u001b[0m\u001b[0m\n\u001b[1;32m     66\u001b[0m \u001b[0;31m# doc_input = np.array(doc_input)\u001b[0m\u001b[0;34m\u001b[0m\u001b[0;34m\u001b[0m\u001b[0;34m\u001b[0m\u001b[0m\n",
      "\u001b[0;31mNameError\u001b[0m: name 'lstm_input' is not defined"
     ]
    }
   ],
   "source": [
    "#For each of the entities in each of the rows, make word2idx vector using context window and also get graph embedding.\n",
    "\n",
    "#lstm_input = []\n",
    "#graph_input = []\n",
    "# doc_input = []\n",
    "#response = []\n",
    "#not_in_graph = []\n",
    "\n",
    "lstm_input_list = []\n",
    "# corresponds to each candidate\n",
    "graph_input_list = []\n",
    "\n",
    "for i, article in tqdm_notebook(data.iterrows(), total = len(data)):\n",
    "    text = article['text']\n",
    "#     doc_embedding = docs[i][0]\n",
    "#     for entity, indices in article[1].items():\n",
    "    name = article['link_anchor']\n",
    "    entity_id = article['target_wikidata']\n",
    "    #Don't include actual entity text for now in context window since doing fixed length? \n",
    "    indices = np.array([int(c) for c in list(article['tokenized_vector']) if c.isdigit()])\n",
    "    entity_idx = np.where(indices == 1)[0]\n",
    "    if len(entity_idx):\n",
    "        split_text = text.split()\n",
    "        context = split_text[max(0, entity_idx.min() - window_length) : entity_idx.min()] +\\\n",
    "                  split_text[entity_idx.max() + 1 : entity_idx.max() + window_length + 1] \n",
    "        #if word not in vocab, by default map to 1\n",
    "        context_word2idx = [word2idx.get(word, 1) for word in context]\n",
    "        \n",
    "        #storing list of candidates in knowledge graph\n",
    "        kge_candidates = []\n",
    "        \n",
    "        #get a candidate from candidate_dict to get a false, irrelevant entity for each entity\n",
    "        if not pd.isnull(article['candidates']):\n",
    "            candidates_list = ast.literal_eval(article['candidates'])[:10]\n",
    "            #can't choose actual entity as false \n",
    "            if entity_id in candidates_list:\n",
    "                candidates_list.remove(entity_id)\n",
    "            if len(candidates_list) > 0:\n",
    "                for false_entity_id in candidates_list:\n",
    "                    if false_entity_id in id2idx:\n",
    "                        false_graph_embed = graph_embedding[id2idx[false_entity_id]]\n",
    "                        #lstm_input.append(context_word2idx)\n",
    "                        #graph_input.append(false_graph_embed)\n",
    "        #                 doc_input.append(doc_embedding)\n",
    "                        #response.append(0)\n",
    "                        kge_candidates.append(false_graph_embed)\n",
    "                    else:\n",
    "                        pass\n",
    "                        #not_in_graph.append(false_entity_id)\n",
    "        if entity_id in id2idx:\n",
    "            true_graph_embed = graph_embedding[id2idx[entity_id]]\n",
    "            #lstm_input.append(context_word2idx)\n",
    "            #graph_input.append(true_graph_embed)\n",
    "    #         doc_input.append(doc_embedding)\n",
    "            #response.append(1)\n",
    "            # this means that last index is always the true embedding\n",
    "            kge_candidates.append(true_graph_embed)\n",
    "            lstm_input_list.append(context_word2idx)\n",
    "            graph_input_list.append(np.array(kge_candidates))\n",
    "        \n",
    "        else:\n",
    "            pass\n",
    "            #not_in_graph.append(entity_id)\n",
    "            \n",
    "#lstm_input = pad_sequences(lstm_input, maxlen = window_length * 2, padding = 'post')\n",
    "# graph_input = np.array(graph_input)\n",
    "# # doc_input = np.array(doc_input)\n",
    "# response = np.array(response)"
   ]
  },
  {
   "cell_type": "code",
   "execution_count": 29,
   "metadata": {},
   "outputs": [],
   "source": [
    "# np.save(\"../data/model1/lstm_input.pkl\", lstm_input)\n",
    "# np.save(\"../data/model1/graph_input.pkl\", graph_input)\n",
    "# np.save(\"../data/model1/response.pkl\", response)"
   ]
  },
  {
   "cell_type": "code",
   "execution_count": 18,
   "metadata": {},
   "outputs": [],
   "source": [
    "lstm_input_list = np.array(lstm_input_list)\n",
    "graph_input_list = np.array(graph_input_list)"
   ]
  },
  {
   "cell_type": "code",
   "execution_count": 19,
   "metadata": {},
   "outputs": [],
   "source": [
    "np.save(\"../data/model1/lstm_input_list.npy\", lstm_input_list)\n",
    "np.save(\"../data/model1/graph_input_list.npy\", graph_input_list)"
   ]
  },
  {
   "cell_type": "code",
   "execution_count": 5,
   "metadata": {},
   "outputs": [],
   "source": [
    "lstm_input_list = np.load(\"../data/model1/lstm_input_list.npy\", allow_pickle = True)\n",
    "graph_input_list = np.load(\"../data/model1/graph_input_list.npy\", allow_pickle = True)"
   ]
  },
  {
   "cell_type": "code",
   "execution_count": 6,
   "metadata": {},
   "outputs": [],
   "source": [
    "# lstm_input = np.load(\"../data/model1/lstm_input.pkl.npy\")\n",
    "# graph_input = np.load(\"../data/model1/graph_input.pkl.npy\")\n",
    "# response = np.load(\"../data/model1/response.pkl.npy\")"
   ]
  },
  {
   "cell_type": "code",
   "execution_count": 7,
   "metadata": {},
   "outputs": [],
   "source": [
    "# np.random.seed(1)\n",
    "\n",
    "# train_ind, test_ind = train_test_split(np.arange(len(response)))\n",
    "# lstm_train = lstm_input[train_ind]\n",
    "# lstm_test = lstm_input[test_ind]\n",
    "# graph_train = graph_input[train_ind]\n",
    "# graph_test = graph_input[test_ind]\n",
    "# # doc_train = doc_input[train_ind]\n",
    "# # doc_test = doc_input[test_ind]\n",
    "# y_train = response[train_ind]\n",
    "# y_test = response[test_ind]\n",
    "\n",
    "# len(y_train), len(y_test)"
   ]
  },
  {
   "cell_type": "code",
   "execution_count": 6,
   "metadata": {},
   "outputs": [],
   "source": [
    "np.random.seed(1)\n",
    "\n",
    "train_idx, test_idx = train_test_split(np.arange(len(lstm_input_list)), test_size=0.2)\n"
   ]
  },
  {
   "cell_type": "code",
   "execution_count": 7,
   "metadata": {},
   "outputs": [
    {
     "data": {
      "text/plain": [
       "1882452"
      ]
     },
     "execution_count": 7,
     "metadata": {},
     "output_type": "execute_result"
    }
   ],
   "source": [
    "len(train_idx)"
   ]
  },
  {
   "cell_type": "code",
   "execution_count": 8,
   "metadata": {},
   "outputs": [
    {
     "data": {
      "text/plain": [
       "470613"
      ]
     },
     "execution_count": 8,
     "metadata": {},
     "output_type": "execute_result"
    }
   ],
   "source": [
    "len(test_idx)"
   ]
  },
  {
   "cell_type": "code",
   "execution_count": 8,
   "metadata": {},
   "outputs": [],
   "source": [
    "#indices = test_idx[:10]"
   ]
  },
  {
   "cell_type": "code",
   "execution_count": 9,
   "metadata": {},
   "outputs": [],
   "source": [
    "def build_data(lstm_input_list, graph_input_list, indices):\n",
    "    # construct lstm, graph set based on indices\n",
    "    lstm_data = []\n",
    "    graph_data = []\n",
    "    response = []\n",
    "    for ind in indices:\n",
    "        lstm_inp = lstm_input_list[ind]\n",
    "        graph_inp = graph_input_list[ind]\n",
    "        for i, kge in enumerate(graph_inp):\n",
    "            lstm_data.append(lstm_inp)\n",
    "            graph_data.append(kge)\n",
    "            if i == len(graph_inp)-1:\n",
    "                response.append(1)\n",
    "            else:\n",
    "                response.append(0)\n",
    "    lstm_data = np.array(lstm_data)\n",
    "    lstm_data = pad_sequences(lstm_data, maxlen = window_length * 2, padding = 'post')\n",
    "    graph_data = np.array(graph_data)\n",
    "    response = np.array(response)\n",
    "\n",
    "    return lstm_data, graph_data, response"
   ]
  },
  {
   "cell_type": "code",
   "execution_count": 10,
   "metadata": {},
   "outputs": [],
   "source": [
    "window_length = 10\n",
    "lstm_train, graph_train, y_train = build_data(lstm_input_list, graph_input_list, train_idx)\n",
    "lstm_test, graph_test, y_test = build_data(lstm_input_list, graph_input_list, test_idx)"
   ]
  },
  {
   "cell_type": "code",
   "execution_count": 11,
   "metadata": {},
   "outputs": [
    {
     "data": {
      "text/plain": [
       "(9363481,)"
      ]
     },
     "execution_count": 11,
     "metadata": {},
     "output_type": "execute_result"
    }
   ],
   "source": [
    "y_train.shape"
   ]
  },
  {
   "cell_type": "code",
   "execution_count": 12,
   "metadata": {},
   "outputs": [
    {
     "data": {
      "text/plain": [
       "0.2010418988408264"
      ]
     },
     "execution_count": 12,
     "metadata": {},
     "output_type": "execute_result"
    }
   ],
   "source": [
    "y_train.mean()"
   ]
  },
  {
   "cell_type": "code",
   "execution_count": 13,
   "metadata": {},
   "outputs": [
    {
     "data": {
      "text/plain": [
       "(2337813,)"
      ]
     },
     "execution_count": 13,
     "metadata": {},
     "output_type": "execute_result"
    }
   ],
   "source": [
    "y_test.shape"
   ]
  },
  {
   "cell_type": "code",
   "execution_count": 14,
   "metadata": {},
   "outputs": [
    {
     "data": {
      "text/plain": [
       "0.20130480923837793"
      ]
     },
     "execution_count": 14,
     "metadata": {},
     "output_type": "execute_result"
    }
   ],
   "source": [
    "y_test.mean()"
   ]
  },
  {
   "cell_type": "code",
   "execution_count": 15,
   "metadata": {},
   "outputs": [
    {
     "data": {
      "text/plain": [
       "0.20109442596690588"
      ]
     },
     "execution_count": 15,
     "metadata": {},
     "output_type": "execute_result"
    }
   ],
   "source": [
    "np.concatenate([y_train, y_test]).mean()"
   ]
  },
  {
   "cell_type": "code",
   "execution_count": 16,
   "metadata": {},
   "outputs": [],
   "source": [
    "weights = class_weight.compute_class_weight('balanced',\n",
    "                                            np.unique(y_train),\n",
    "                                            y_train)"
   ]
  },
  {
   "cell_type": "code",
   "execution_count": 17,
   "metadata": {},
   "outputs": [
    {
     "data": {
      "text/plain": [
       "(9363481, 20)"
      ]
     },
     "execution_count": 17,
     "metadata": {},
     "output_type": "execute_result"
    }
   ],
   "source": [
    "lstm_train.shape"
   ]
  },
  {
   "cell_type": "code",
   "execution_count": 18,
   "metadata": {},
   "outputs": [
    {
     "data": {
      "text/plain": [
       "(9363481, 250)"
      ]
     },
     "execution_count": 18,
     "metadata": {},
     "output_type": "execute_result"
    }
   ],
   "source": [
    "graph_train.shape"
   ]
  },
  {
   "cell_type": "code",
   "execution_count": 17,
   "metadata": {},
   "outputs": [],
   "source": [
    "# model -> classification at different abstaining conditions -> do not classify if abstaining rate is high\n",
    "# vs recall\n",
    "# evaluate on all vs only false"
   ]
  },
  {
   "cell_type": "code",
   "execution_count": null,
   "metadata": {},
   "outputs": [],
   "source": [
    "# def biLSTM_KGE_context_model(lstm_input_shape, graph_input_shape, dict_size):\n",
    "#     inp1 = Input(shape = (lstm_input_shape[1], ))\n",
    "#     inp2 = Input(shape = (graph_input_shape[1], ))\n",
    "#     embed = Embedding(output_dim=100, input_dim=dict_size, input_length=lstm_input_shape[1])(inp1)\n",
    "#     out1 = Bidirectional(LSTM(128))(embed)\n",
    "#     w = concatenate([out1, inp2])\n",
    "#     w = Dense(256, activation = 'relu')(w)\n",
    "#     w = Dropout(0.2)(w)\n",
    "#     out = Dense(1, activation = 'sigmoid')(w)\n",
    "#     model = Model(inputs=[inp1, inp2], outputs=out)\n",
    "#     return model"
   ]
  },
  {
   "cell_type": "code",
   "execution_count": 30,
   "metadata": {
    "scrolled": true
   },
   "outputs": [
    {
     "name": "stdout",
     "output_type": "stream",
     "text": [
      "__________________________________________________________________________________________________\n",
      "Layer (type)                    Output Shape         Param #     Connected to                     \n",
      "==================================================================================================\n",
      "input_3 (InputLayer)            (None, 20)           0                                            \n",
      "__________________________________________________________________________________________________\n",
      "embedding_2 (Embedding)         (None, 20, 100)      44588100    input_3[0][0]                    \n",
      "__________________________________________________________________________________________________\n",
      "bidirectional_2 (Bidirectional) (None, 256)          234496      embedding_2[0][0]                \n",
      "__________________________________________________________________________________________________\n",
      "input_4 (InputLayer)            (None, 250)          0                                            \n",
      "__________________________________________________________________________________________________\n",
      "concatenate_2 (Concatenate)     (None, 506)          0           bidirectional_2[0][0]            \n",
      "                                                                 input_4[0][0]                    \n",
      "__________________________________________________________________________________________________\n",
      "dense_3 (Dense)                 (None, 256)          129792      concatenate_2[0][0]              \n",
      "__________________________________________________________________________________________________\n",
      "dropout_2 (Dropout)             (None, 256)          0           dense_3[0][0]                    \n",
      "__________________________________________________________________________________________________\n",
      "dense_4 (Dense)                 (None, 1)            257         dropout_2[0][0]                  \n",
      "==================================================================================================\n",
      "Total params: 44,952,645\n",
      "Trainable params: 44,952,645\n",
      "Non-trainable params: 0\n",
      "__________________________________________________________________________________________________\n"
     ]
    }
   ],
   "source": [
    "# inp1 = Input(shape = (lstm_train.shape[1], ))\n",
    "# inp2 = Input(shape = (graph_train.shape[1], ))\n",
    "# # inp3 = Input(shape = (doc_input.shape[1], ))\n",
    "# embed = Embedding(output_dim=100, input_dim=len(word2idx), input_length=lstm_train.shape[1])(inp1)\n",
    "# out1 = Bidirectional(LSTM(128))(embed)\n",
    "# # out1 = LSTM(128)(embed)\n",
    "# w = concatenate([out1, inp2])\n",
    "# w = Dense(256, activation = 'relu')(w)\n",
    "# w = Dropout(0.2)(w)\n",
    "# out = Dense(1, activation = 'sigmoid')(w)\n",
    "# model = Model(inputs=[inp1, inp2], outputs=out)\n",
    "model = NED_models.biLSTM_KGE_context_model(lstm_train.shape, graph_train.shape, len(word2idx))\n",
    "model.compile(optimizer='adam', loss='binary_crossentropy', metrics=['accuracy'])\n",
    "model.summary()"
   ]
  },
  {
   "cell_type": "code",
   "execution_count": 31,
   "metadata": {},
   "outputs": [
    {
     "name": "stdout",
     "output_type": "stream",
     "text": [
      "Train on 7490784 samples, validate on 1872697 samples\n",
      "Epoch 1/5\n",
      "7490784/7490784 [==============================] - 217s 29us/step - loss: 0.3911 - acc: 0.8287 - val_loss: 0.3421 - val_acc: 0.8482\n",
      "Epoch 2/5\n",
      "7490784/7490784 [==============================] - 203s 27us/step - loss: 0.3241 - acc: 0.8544 - val_loss: 0.3120 - val_acc: 0.8611\n",
      "Epoch 3/5\n",
      "7490784/7490784 [==============================] - 203s 27us/step - loss: 0.2881 - acc: 0.8696 - val_loss: 0.3025 - val_acc: 0.8656\n",
      "Epoch 4/5\n",
      "7490784/7490784 [==============================] - 203s 27us/step - loss: 0.2604 - acc: 0.8821 - val_loss: 0.3013 - val_acc: 0.8673\n",
      "Epoch 5/5\n",
      "7490784/7490784 [==============================] - 203s 27us/step - loss: 0.2374 - acc: 0.8929 - val_loss: 0.3069 - val_acc: 0.8669\n"
     ]
    },
    {
     "data": {
      "text/plain": [
       "<keras.callbacks.History at 0x7faf21e52190>"
      ]
     },
     "execution_count": 31,
     "metadata": {},
     "output_type": "execute_result"
    }
   ],
   "source": [
    "# model.fit([lstm_train, graph_train, doc_train], y_train, batch_size = 256, epochs = 3, validation_split = 0.2)\n",
    "model.fit([lstm_train, graph_train], y_train, batch_size = 8192, epochs = 5, validation_split = 0.2, class_weight = weights)"
   ]
  },
  {
   "cell_type": "code",
   "execution_count": 32,
   "metadata": {},
   "outputs": [],
   "source": [
    "model.save('final_NED_model.h5')"
   ]
  },
  {
   "cell_type": "code",
   "execution_count": 33,
   "metadata": {},
   "outputs": [
    {
     "data": {
      "text/plain": [
       "0.8672336067940422"
      ]
     },
     "execution_count": 33,
     "metadata": {},
     "output_type": "execute_result"
    }
   ],
   "source": [
    "# y_test_pred = model.predict([lstm_test, graph_test, doc_test])\n",
    "y_test_pred_prob = model.predict([lstm_test, graph_test])\n",
    "\n",
    "y_test_pred = np.where(y_test_pred_prob > 0.5, 1, 0)\n",
    "accuracy_score(y_test, y_test_pred)"
   ]
  },
  {
   "cell_type": "code",
   "execution_count": 34,
   "metadata": {},
   "outputs": [],
   "source": [
    "cm = confusion_matrix(y_test, y_test_pred)"
   ]
  },
  {
   "cell_type": "code",
   "execution_count": 35,
   "metadata": {},
   "outputs": [
    {
     "data": {
      "image/png": "[encoded data removed]",
      "text/plain": [
       "<Figure size 432x288 with 1 Axes>"
      ]
     },
     "metadata": {},
     "output_type": "display_data"
    }
   ],
   "source": [
    "from mlxtend.plotting import plot_confusion_matrix\n",
    "\n",
    "plot_confusion_matrix(cm, show_normed = True);"
   ]
  },
  {
   "cell_type": "code",
   "execution_count": 36,
   "metadata": {},
   "outputs": [
    {
     "data": {
      "text/plain": [
       "0.8999217625692385"
      ]
     },
     "execution_count": 36,
     "metadata": {},
     "output_type": "execute_result"
    }
   ],
   "source": [
    "metrics.roc_auc_score(y_test, y_test_pred_prob)"
   ]
  },
  {
   "cell_type": "code",
   "execution_count": 37,
   "metadata": {},
   "outputs": [],
   "source": [
    "fpr, tpr, _ = metrics.roc_curve(y_test, y_test_pred_prob)"
   ]
  },
  {
   "cell_type": "code",
   "execution_count": 38,
   "metadata": {},
   "outputs": [
    {
     "data": {
      "text/plain": [
       "Text(0.5, 1.0, 'ROC curve')"
      ]
     },
     "execution_count": 38,
     "metadata": {},
     "output_type": "execute_result"
    },
    {
     "data": {
      "image/png": "[encoded data removed]",
      "text/plain": [
       "<Figure size 432x288 with 1 Axes>"
      ]
     },
     "metadata": {},
     "output_type": "display_data"
    }
   ],
   "source": [
    "plt.plot([0,1], [0,1], 'k--')\n",
    "plt.plot(fpr, tpr)\n",
    "plt.xlabel('False positive rate')\n",
    "plt.ylabel('True positive rate')\n",
    "plt.title('ROC curve')"
   ]
  },
  {
   "cell_type": "code",
   "execution_count": 39,
   "metadata": {},
   "outputs": [],
   "source": [
    "# see prediction score on candidate list\n",
    "\n",
    "# find cutoff\n",
    "# offset of where the true index is\n",
    "cutoffs = [0]\n",
    "for ind in test_idx:\n",
    "    graph_inp = graph_input_list[ind]\n",
    "    cutoffs.append(cutoffs[-1] + len(graph_inp))"
   ]
  },
  {
   "cell_type": "code",
   "execution_count": 40,
   "metadata": {
    "scrolled": true
   },
   "outputs": [
    {
     "name": "stdout",
     "output_type": "stream",
     "text": [
      "[0.02535573] [0.03843069]\n",
      "[0.04891789] [0.06184092]\n",
      "[0.38317108] [0.6380092]\n",
      "[0.19910836] [0.27743357]\n",
      "[0.43856007] [0.51543844]\n",
      "[0.01073903] [0.01580426]\n",
      "[0.07918218] [0.20278618]\n",
      "[0.2972404] [0.645008]\n",
      "[0.5406719] [0.55159163]\n",
      "[0.3059118] [0.5111166]\n",
      "[0.11643821] [0.43925825]\n",
      "[0.37994787] [0.81701]\n",
      "[0.0225499] [0.9024589]\n",
      "[0.31105423] [0.48204577]\n",
      "[0.01324478] [0.03938416]\n",
      "[0.24200988] [0.74265015]\n",
      "[0.14997527] [0.41232342]\n",
      "[0.13210854] [0.39240828]\n",
      "[0.536913] [0.60214484]\n",
      "[0.01168835] [0.02487546]\n",
      "[0.53221166] [0.56887186]\n",
      "[0.29074273] [0.84012204]\n",
      "[0.04859689] [0.21178856]\n",
      "[0.32288003] [0.3766907]\n",
      "[0.0650402] [0.31802377]\n",
      "[0.30267942] [0.707274]\n",
      "[0.3928599] [0.4062578]\n",
      "[0.11879975] [0.7094199]\n",
      "[0.25333267] [0.3848415]\n",
      "[0.49757978] [0.7075999]\n",
      "[0.39237273] [0.55555284]\n",
      "[0.388435] [0.45035046]\n",
      "[0.42331448] [0.66753644]\n",
      "[0.5963926] [0.7963102]\n",
      "[0.46473426] [0.56557417]\n",
      "[0.04805946] [0.20749822]\n",
      "[0.43467587] [0.5562523]\n",
      "[0.09366417] [0.6464339]\n",
      "[0.47154936] [0.6525525]\n",
      "[0.29346022] [0.34017357]\n",
      "[0.8608164] [0.9686566]\n",
      "[0.13997513] [0.29735985]\n",
      "[0.07602695] [0.24534258]\n",
      "[0.17327031] [0.27518415]\n",
      "[0.3303942] [0.39615503]\n",
      "[0.16816196] [0.6296179]\n",
      "[0.21779788] [0.74800205]\n",
      "[0.00123924] [0.00135797]\n",
      "[0.4948962] [0.50060976]\n",
      "[0.02127808] [0.43429917]\n",
      "[0.04123077] [0.4364479]\n",
      "[0.1055406] [0.2667663]\n",
      "[0.18100324] [0.40993688]\n",
      "[0.50107616] [0.56798846]\n",
      "[0.346457] [0.9352672]\n",
      "[0.18784562] [0.35209525]\n",
      "[0.28147596] [0.46534324]\n",
      "[0.7400156] [0.7552415]\n",
      "[0.43783528] [0.66714615]\n",
      "[0.5904054] [0.6133398]\n",
      "[0.6315718] [0.63899577]\n",
      "[0.788111] [0.82769]\n",
      "[0.01554954] [0.15487897]\n",
      "[0.1935887] [0.23207033]\n",
      "[0.21578929] [0.8904389]\n",
      "[0.11773586] [0.46483502]\n",
      "[0.09230796] [0.43061307]\n",
      "[0.07358155] [0.87179303]\n",
      "[0.01577821] [0.29916048]\n",
      "[0.0674262] [0.24320644]\n",
      "[0.1749661] [0.5764297]\n",
      "[0.00902033] [0.35350657]\n",
      "[0.45820078] [0.48585644]\n",
      "[0.00070477] [0.00197738]\n",
      "[0.27710587] [0.44903243]\n",
      "[0.191239] [0.2660706]\n",
      "[0.01346013] [0.17592719]\n",
      "[0.14519852] [0.28089637]\n",
      "[0.0007495] [0.00589666]\n",
      "[0.02976361] [0.18214276]\n",
      "[0.01232731] [0.03253657]\n",
      "[0.0046232] [0.17115754]\n",
      "[0.2578528] [0.73524404]\n",
      "[0.0986917] [0.39057893]\n",
      "[0.26941198] [0.55235946]\n",
      "[0.14093718] [0.17313352]\n",
      "[0.44338295] [0.88980323]\n",
      "[0.19496974] [0.358034]\n",
      "[0.4645773] [0.96388257]\n",
      "[0.3919437] [0.6848202]\n",
      "[0.37458682] [0.45030066]\n",
      "[0.0894483] [0.09559876]\n",
      "[0.58409655] [0.6657231]\n",
      "[0.44839755] [0.6140372]\n",
      "[0.43266845] [0.57364124]\n",
      "[0.32414657] [0.5432429]\n",
      "[0.2330699] [0.3006152]\n",
      "[0.43147212] [0.48493576]\n",
      "[0.59373367] [0.8256333]\n",
      "[0.24448586] [0.25065392]\n"
     ]
    }
   ],
   "source": [
    "candidate_test_acc = .0\n",
    "count = len(cutoffs) - 1\n",
    "print_count = 100\n",
    "for start_idx, end_idx in zip(cutoffs, cutoffs[1:]):\n",
    "    probs = y_test_pred_prob[start_idx:end_idx]\n",
    "    #if np.argmax(probs) == len(probs) - 1:\n",
    "    if max(probs) == probs[-1]:\n",
    "        if np.random.randint(sum(probs == probs[-1])) == 0:\n",
    "            candidate_test_acc += 1\n",
    "    else:\n",
    "        if print_count:\n",
    "            print(probs[-1], max(probs))\n",
    "            print_count -= 1\n",
    "candidate_test_acc /= count"
   ]
  },
  {
   "cell_type": "code",
   "execution_count": 41,
   "metadata": {},
   "outputs": [
    {
     "data": {
      "text/plain": [
       "0.7577266246363785"
      ]
     },
     "execution_count": 41,
     "metadata": {},
     "output_type": "execute_result"
    }
   ],
   "source": [
    "candidate_test_acc"
   ]
  },
  {
   "cell_type": "code",
   "execution_count": 42,
   "metadata": {},
   "outputs": [],
   "source": [
    "half_size = round(len(test_idx)/2)\n",
    "abst_val_idx, abst_test_idx = test_idx[:half_size], test_idx[half_size:]\n",
    "abst_val_cutoffs, abst_test_cutoffs = cutoffs[:half_size+1], cutoffs[half_size:]"
   ]
  },
  {
   "cell_type": "code",
   "execution_count": 43,
   "metadata": {},
   "outputs": [],
   "source": [
    "num_tr = 20\n",
    "thresholds = 1./num_tr * np.arange(num_tr)"
   ]
  },
  {
   "cell_type": "code",
   "execution_count": 44,
   "metadata": {},
   "outputs": [],
   "source": [
    "recall_with_abstain = []\n",
    "acc_after_abstain = []\n",
    "abstain_rate = []\n",
    "abst_val_count = len(abst_val_cutoffs) - 1\n",
    "# abstain below the threshold\n",
    "for tr in thresholds:\n",
    "    recall = .0\n",
    "    acc = .0\n",
    "    abst = .0\n",
    "    for start_idx, end_idx in zip(abst_val_cutoffs, abst_val_cutoffs[1:]):\n",
    "        probs = y_test_pred_prob[start_idx:end_idx]\n",
    "        max_prob = max(probs)\n",
    "        if max_prob <= tr:\n",
    "            abst += 1\n",
    "        else:\n",
    "            if max_prob == probs[-1]:\n",
    "                if np.random.randint(sum(probs == probs[-1])) == 0:\n",
    "                    acc += 1\n",
    "    \n",
    "    # only count non abst cases\n",
    "    recall = acc / abst_val_count\n",
    "    acc /= (abst_val_count - abst)\n",
    "    \n",
    "    recall_with_abstain.append(recall)\n",
    "    acc_after_abstain.append(acc)\n",
    "    abstain_rate.append(abst/abst_val_count)"
   ]
  },
  {
   "cell_type": "code",
   "execution_count": 45,
   "metadata": {},
   "outputs": [
    {
     "data": {
      "text/plain": [
       "Text(0, 0.5, 'Recall')"
      ]
     },
     "execution_count": 45,
     "metadata": {},
     "output_type": "execute_result"
    },
    {
     "data": {
      "image/png": "[encoded data removed]",
      "text/plain": [
       "<Figure size 432x288 with 1 Axes>"
      ]
     },
     "metadata": {},
     "output_type": "display_data"
    }
   ],
   "source": [
    "plt.plot(thresholds, recall_with_abstain)\n",
    "plt.xlabel(\"Threshold\")\n",
    "plt.ylabel(\"Recall\")"
   ]
  },
  {
   "cell_type": "code",
   "execution_count": 46,
   "metadata": {},
   "outputs": [
    {
     "data": {
      "text/plain": [
       "Text(0, 0.5, 'Precision (excluding abstained)')"
      ]
     },
     "execution_count": 46,
     "metadata": {},
     "output_type": "execute_result"
    },
    {
     "data": {
      "image/png": "[encoded data removed]",
      "text/plain": [
       "<Figure size 432x288 with 1 Axes>"
      ]
     },
     "metadata": {},
     "output_type": "display_data"
    }
   ],
   "source": [
    "plt.plot(thresholds, acc_after_abstain)\n",
    "plt.xlabel(\"Threshold\")\n",
    "plt.ylabel(\"Precision (excluding abstained)\")"
   ]
  },
  {
   "cell_type": "code",
   "execution_count": 47,
   "metadata": {},
   "outputs": [
    {
     "data": {
      "text/plain": [
       "Text(0, 0.5, 'Precision (excluding abstained)')"
      ]
     },
     "execution_count": 47,
     "metadata": {},
     "output_type": "execute_result"
    },
    {
     "data": {
      "image/png": "[encoded data removed]",
      "text/plain": [
       "<Figure size 432x288 with 1 Axes>"
      ]
     },
     "metadata": {},
     "output_type": "display_data"
    }
   ],
   "source": [
    "plt.plot(recall_with_abstain, acc_after_abstain, 'o-')\n",
    "plt.xlabel(\"Overall Recall\")\n",
    "plt.ylabel(\"Precision (excluding abstained)\")"
   ]
  },
  {
   "cell_type": "code",
   "execution_count": 48,
   "metadata": {},
   "outputs": [],
   "source": [
    "# without the true\n",
    "false_positive_rate = []\n",
    "false_abstain_rate = []\n",
    "abst_val_count = len(abst_val_cutoffs) - 1\n",
    "# abstain below the threshold\n",
    "for tr in thresholds:\n",
    "    fpr = .0\n",
    "    abst = .0\n",
    "    for start_idx, end_idx in zip(abst_val_cutoffs, abst_val_cutoffs[1:]):\n",
    "        probs = y_test_pred_prob[start_idx:end_idx-1]\n",
    "        if len(probs) == 0:\n",
    "            continue\n",
    "        max_prob = max(probs)\n",
    "        if max_prob <= tr:\n",
    "            abst += 1\n",
    "        else:\n",
    "            fpr += 1\n",
    "    \n",
    "    # only count non abst cases\n",
    "    fpr /= abst_val_count\n",
    "    abst /= abst_val_count\n",
    "    \n",
    "    false_positive_rate.append(fpr)\n",
    "    false_abstain_rate.append(abst)"
   ]
  },
  {
   "cell_type": "code",
   "execution_count": 49,
   "metadata": {},
   "outputs": [
    {
     "data": {
      "text/plain": [
       "[<matplotlib.lines.Line2D at 0x7faf07532dd0>]"
      ]
     },
     "execution_count": 49,
     "metadata": {},
     "output_type": "execute_result"
    },
    {
     "data": {
      "image/png": "[encoded data removed]",
      "text/plain": [
       "<Figure size 432x288 with 1 Axes>"
      ]
     },
     "metadata": {},
     "output_type": "display_data"
    }
   ],
   "source": [
    "plt.plot(thresholds, false_positive_rate)"
   ]
  },
  {
   "cell_type": "code",
   "execution_count": 50,
   "metadata": {},
   "outputs": [
    {
     "data": {
      "text/plain": [
       "[<matplotlib.lines.Line2D at 0x7faf0742a650>]"
      ]
     },
     "execution_count": 50,
     "metadata": {},
     "output_type": "execute_result"
    },
    {
     "data": {
      "image/png": "[encoded data removed]",
      "text/plain": [
       "<Figure size 432x288 with 1 Axes>"
      ]
     },
     "metadata": {},
     "output_type": "display_data"
    }
   ],
   "source": [
    "plt.plot(false_positive_rate, recall_with_abstain)"
   ]
  },
  {
   "cell_type": "code",
   "execution_count": 70,
   "metadata": {},
   "outputs": [
    {
     "name": "stdout",
     "output_type": "stream",
     "text": [
      "Threshold: 0.0\n",
      "Recall: 0.758, Acc: 0.758\n",
      "Threshold: 0.05\n",
      "Recall: 0.744, Acc: 0.760\n",
      "Threshold: 0.1\n",
      "Recall: 0.729, Acc: 0.763\n",
      "Threshold: 0.15000000000000002\n",
      "Recall: 0.713, Acc: 0.766\n",
      "Threshold: 0.2\n",
      "Recall: 0.695, Acc: 0.771\n",
      "Threshold: 0.25\n",
      "Recall: 0.674, Acc: 0.776\n",
      "Threshold: 0.30000000000000004\n",
      "Recall: 0.651, Acc: 0.783\n",
      "Threshold: 0.35000000000000003\n",
      "Recall: 0.624, Acc: 0.790\n",
      "Threshold: 0.4\n",
      "Recall: 0.595, Acc: 0.799\n",
      "Threshold: 0.45\n",
      "Recall: 0.562, Acc: 0.810\n",
      "Threshold: 0.5\n",
      "Recall: 0.528, Acc: 0.823\n",
      "Threshold: 0.55\n",
      "Recall: 0.492, Acc: 0.836\n",
      "Threshold: 0.6000000000000001\n",
      "Recall: 0.457, Acc: 0.850\n",
      "Threshold: 0.65\n",
      "Recall: 0.421, Acc: 0.865\n",
      "Threshold: 0.7000000000000001\n",
      "Recall: 0.385, Acc: 0.879\n",
      "Threshold: 0.75\n",
      "Recall: 0.348, Acc: 0.894\n",
      "Threshold: 0.8\n",
      "Recall: 0.311, Acc: 0.909\n",
      "Threshold: 0.8500000000000001\n",
      "Recall: 0.271, Acc: 0.924\n",
      "Threshold: 0.9\n",
      "Recall: 0.226, Acc: 0.939\n",
      "Threshold: 0.9500000000000001\n",
      "Recall: 0.170, Acc: 0.958\n"
     ]
    }
   ],
   "source": [
    "for th, rec, acc in zip(thresholds, recall_with_abstain, acc_after_abstain):\n",
    "    print(\"Threshold: {}\\nRecall: {:.3f}, Acc: {:.3f}\".format(th,rec,acc))"
   ]
  },
  {
   "cell_type": "code",
   "execution_count": 64,
   "metadata": {},
   "outputs": [
    {
     "data": {
      "text/plain": [
       "0.0"
      ]
     },
     "execution_count": 64,
     "metadata": {},
     "output_type": "execute_result"
    }
   ],
   "source": [
    "thresholds[0]"
   ]
  },
  {
   "cell_type": "code",
   "execution_count": 65,
   "metadata": {},
   "outputs": [
    {
     "data": {
      "text/plain": [
       "0.7579449737788242"
      ]
     },
     "execution_count": 65,
     "metadata": {},
     "output_type": "execute_result"
    }
   ],
   "source": [
    "recall_with_abstain[0]"
   ]
  },
  {
   "cell_type": "code",
   "execution_count": 66,
   "metadata": {},
   "outputs": [
    {
     "data": {
      "text/plain": [
       "0.7579449737788242"
      ]
     },
     "execution_count": 66,
     "metadata": {},
     "output_type": "execute_result"
    }
   ],
   "source": [
    "acc_after_abstain[0]"
   ]
  },
  {
   "cell_type": "code",
   "execution_count": 61,
   "metadata": {},
   "outputs": [
    {
     "data": {
      "text/plain": [
       "0.05"
      ]
     },
     "execution_count": 61,
     "metadata": {},
     "output_type": "execute_result"
    }
   ],
   "source": [
    "thresholds[1]"
   ]
  },
  {
   "cell_type": "code",
   "execution_count": 62,
   "metadata": {},
   "outputs": [
    {
     "data": {
      "text/plain": [
       "0.7579449737788242"
      ]
     },
     "execution_count": 62,
     "metadata": {},
     "output_type": "execute_result"
    }
   ],
   "source": [
    "recall_with_abstain[0]"
   ]
  },
  {
   "cell_type": "code",
   "execution_count": 63,
   "metadata": {},
   "outputs": [
    {
     "data": {
      "text/plain": [
       "0.7579449737788242"
      ]
     },
     "execution_count": 63,
     "metadata": {},
     "output_type": "execute_result"
    }
   ],
   "source": [
    "acc_after_abstain[0]"
   ]
  },
  {
   "cell_type": "code",
   "execution_count": 67,
   "metadata": {},
   "outputs": [
    {
     "data": {
      "text/plain": [
       "0.1"
      ]
     },
     "execution_count": 67,
     "metadata": {},
     "output_type": "execute_result"
    }
   ],
   "source": [
    "thresholds[2]"
   ]
  },
  {
   "cell_type": "code",
   "execution_count": 68,
   "metadata": {},
   "outputs": [
    {
     "data": {
      "text/plain": [
       "0.7579449737788242"
      ]
     },
     "execution_count": 68,
     "metadata": {},
     "output_type": "execute_result"
    }
   ],
   "source": [
    "recall_with_abstain[0]"
   ]
  },
  {
   "cell_type": "code",
   "execution_count": 69,
   "metadata": {},
   "outputs": [
    {
     "data": {
      "text/plain": [
       "0.7579449737788242"
      ]
     },
     "execution_count": 69,
     "metadata": {},
     "output_type": "execute_result"
    }
   ],
   "source": [
    "acc_after_abstain[0]"
   ]
  },
  {
   "cell_type": "code",
   "execution_count": 51,
   "metadata": {
    "scrolled": false
   },
   "outputs": [
    {
     "data": {
      "text/plain": [
       "0.15000000000000002"
      ]
     },
     "execution_count": 51,
     "metadata": {},
     "output_type": "execute_result"
    }
   ],
   "source": [
    "thresholds[3]"
   ]
  },
  {
   "cell_type": "code",
   "execution_count": 52,
   "metadata": {},
   "outputs": [
    {
     "data": {
      "text/plain": [
       "0.7579449737788242"
      ]
     },
     "execution_count": 52,
     "metadata": {},
     "output_type": "execute_result"
    }
   ],
   "source": [
    "recall_with_abstain[0]"
   ]
  },
  {
   "cell_type": "code",
   "execution_count": 53,
   "metadata": {},
   "outputs": [
    {
     "data": {
      "text/plain": [
       "0.7579449737788242"
      ]
     },
     "execution_count": 53,
     "metadata": {},
     "output_type": "execute_result"
    }
   ],
   "source": [
    "acc_after_abstain[0]"
   ]
  },
  {
   "cell_type": "code",
   "execution_count": null,
   "metadata": {},
   "outputs": [],
   "source": []
  },
  {
   "cell_type": "code",
   "execution_count": 54,
   "metadata": {},
   "outputs": [
    {
     "data": {
      "text/plain": [
       "0.7437464408047394"
      ]
     },
     "execution_count": 54,
     "metadata": {},
     "output_type": "execute_result"
    }
   ],
   "source": [
    "recall_with_abstain[1]"
   ]
  },
  {
   "cell_type": "code",
   "execution_count": 55,
   "metadata": {},
   "outputs": [
    {
     "data": {
      "text/plain": [
       "0.7603192325905717"
      ]
     },
     "execution_count": 55,
     "metadata": {},
     "output_type": "execute_result"
    }
   ],
   "source": [
    "acc_after_abstain[1]"
   ]
  },
  {
   "cell_type": "code",
   "execution_count": 56,
   "metadata": {},
   "outputs": [
    {
     "data": {
      "text/plain": [
       "0.06978997560623189"
      ]
     },
     "execution_count": 56,
     "metadata": {},
     "output_type": "execute_result"
    }
   ],
   "source": [
    "abstain_rate[3]"
   ]
  },
  {
   "cell_type": "code",
   "execution_count": 57,
   "metadata": {},
   "outputs": [],
   "source": [
    "chosen_tr = thresholds[6]\n",
    "abst_test_count = len(abst_test_cutoffs) - 1\n",
    "# abstain below the threshold\n",
    "\n",
    "recall = .0\n",
    "acc = .0\n",
    "abst = .0\n",
    "for start_idx, end_idx in zip(abst_test_cutoffs, abst_test_cutoffs[1:]):\n",
    "    probs = y_test_pred_prob[start_idx:end_idx]\n",
    "    max_prob = max(probs)\n",
    "    if max_prob <= chosen_tr:\n",
    "        abst += 1\n",
    "    else:\n",
    "        if max_prob == probs[-1]:\n",
    "            if np.random.randint(sum(probs == probs[-1])) == 0:\n",
    "                acc += 1\n",
    "\n",
    "# only count non abst cases\n",
    "recall = acc / abst_test_count\n",
    "acc /= (abst_test_count - abst)\n",
    "abst /= abst_test_count"
   ]
  },
  {
   "cell_type": "code",
   "execution_count": 58,
   "metadata": {},
   "outputs": [
    {
     "data": {
      "text/plain": [
       "0.6498064230983354"
      ]
     },
     "execution_count": 58,
     "metadata": {},
     "output_type": "execute_result"
    }
   ],
   "source": [
    "recall"
   ]
  },
  {
   "cell_type": "code",
   "execution_count": 59,
   "metadata": {},
   "outputs": [
    {
     "data": {
      "text/plain": [
       "0.7812744301546668"
      ]
     },
     "execution_count": 59,
     "metadata": {},
     "output_type": "execute_result"
    }
   ],
   "source": [
    "acc"
   ]
  },
  {
   "cell_type": "code",
   "execution_count": 60,
   "metadata": {},
   "outputs": [
    {
     "data": {
      "text/plain": [
       "0.16827378701016119"
      ]
     },
     "execution_count": 60,
     "metadata": {},
     "output_type": "execute_result"
    }
   ],
   "source": [
    "abst"
   ]
  },
  {
   "cell_type": "code",
   "execution_count": null,
   "metadata": {},
   "outputs": [],
   "source": []
  },
  {
   "cell_type": "code",
   "execution_count": null,
   "metadata": {},
   "outputs": [],
   "source": []
  },
  {
   "cell_type": "code",
   "execution_count": null,
   "metadata": {},
   "outputs": [],
   "source": [
    "assert False"
   ]
  },
  {
   "cell_type": "code",
   "execution_count": null,
   "metadata": {},
   "outputs": [],
   "source": []
  },
  {
   "cell_type": "code",
   "execution_count": null,
   "metadata": {},
   "outputs": [],
   "source": []
  },
  {
   "cell_type": "code",
   "execution_count": null,
   "metadata": {
    "scrolled": true
   },
   "outputs": [],
   "source": [
    "inp1 = Input(shape = (lstm_train.shape[1], ))\n",
    "embed = Embedding(output_dim=100, input_dim=len(word2idx), input_length=lstm_train.shape[1])(inp1)\n",
    "out1 = LSTM(128)(embed)\n",
    "w = out1\n",
    "w = Dropout(0.2)(w)\n",
    "w = Dense(256, activation = 'relu')(w)\n",
    "w = Dropout(0.2)(w)\n",
    "out = Dense(1, activation = 'sigmoid')(w)\n",
    "model = Model(inputs=[inp1], outputs=out)\n",
    "model.compile(optimizer='adam', loss='binary_crossentropy', metrics=['accuracy'])\n",
    "model.summary()"
   ]
  },
  {
   "cell_type": "code",
   "execution_count": 92,
   "metadata": {},
   "outputs": [
    {
     "name": "stdout",
     "output_type": "stream",
     "text": [
      "Train on 7490784 samples, validate on 1872697 samples\n",
      "Epoch 1/4\n",
      "7490784/7490784 [==============================] - 114s 15us/step - loss: 0.4932 - acc: 0.7989 - val_loss: 0.4857 - val_acc: 0.7994\n",
      "Epoch 2/4\n",
      "7490784/7490784 [==============================] - 112s 15us/step - loss: 0.4834 - acc: 0.7994 - val_loss: 0.4835 - val_acc: 0.7997\n",
      "Epoch 3/4\n",
      "7490784/7490784 [==============================] - 112s 15us/step - loss: 0.4773 - acc: 0.7997 - val_loss: 0.4843 - val_acc: 0.7997\n",
      "Epoch 4/4\n",
      "7490784/7490784 [==============================] - 112s 15us/step - loss: 0.4717 - acc: 0.7999 - val_loss: 0.4855 - val_acc: 0.7998\n"
     ]
    },
    {
     "data": {
      "text/plain": [
       "<keras.callbacks.History at 0x7f6c5bf5e690>"
      ]
     },
     "execution_count": 92,
     "metadata": {},
     "output_type": "execute_result"
    }
   ],
   "source": [
    "# model.fit([lstm_train, graph_train, doc_train], y_train, batch_size = 256, epochs = 3, validation_split = 0.2)\n",
    "model.fit([lstm_train], y_train, batch_size = 8192, epochs = 4, validation_split = 0.2, class_weight = weights)"
   ]
  },
  {
   "cell_type": "code",
   "execution_count": 1,
   "metadata": {},
   "outputs": [
    {
     "ename": "NameError",
     "evalue": "name 'model' is not defined",
     "output_type": "error",
     "traceback": [
      "\u001b[0;31m---------------------------------------------------------------------------\u001b[0m",
      "\u001b[0;31mNameError\u001b[0m                                 Traceback (most recent call last)",
      "\u001b[0;32m<ipython-input-1-86a82cfc24a2>\u001b[0m in \u001b[0;36m<module>\u001b[0;34m()\u001b[0m\n\u001b[0;32m----> 1\u001b[0;31m \u001b[0mmodel\u001b[0m\u001b[0;34m.\u001b[0m\u001b[0msave\u001b[0m\u001b[0;34m(\u001b[0m\u001b[0;34m'biLSTM_model1.h5'\u001b[0m\u001b[0;34m)\u001b[0m\u001b[0;34m\u001b[0m\u001b[0;34m\u001b[0m\u001b[0m\n\u001b[0m",
      "\u001b[0;31mNameError\u001b[0m: name 'model' is not defined"
     ]
    }
   ],
   "source": [
    "model.save('biLSTM_model1.h5')"
   ]
  },
  {
   "cell_type": "code",
   "execution_count": 93,
   "metadata": {},
   "outputs": [
    {
     "data": {
      "text/plain": [
       "0.7994843898977377"
      ]
     },
     "execution_count": 93,
     "metadata": {},
     "output_type": "execute_result"
    }
   ],
   "source": [
    "# y_test_pred = model.predict([lstm_test, graph_test, doc_test])\n",
    "\n",
    "# perfomance without knowledge graph embedding\n",
    "\n",
    "y_test_pred_prob = model.predict([lstm_test])\n",
    "\n",
    "y_test_pred = np.where(y_test_pred_prob > 0.5, 1, 0)\n",
    "accuracy_score(y_test, y_test_pred)"
   ]
  },
  {
   "cell_type": "code",
   "execution_count": 94,
   "metadata": {
    "scrolled": true
   },
   "outputs": [],
   "source": [
    "cm = confusion_matrix(y_test, y_test_pred)"
   ]
  },
  {
   "cell_type": "code",
   "execution_count": 95,
   "metadata": {},
   "outputs": [
    {
     "data": {
      "image/png": "[encoded data removed]",
      "text/plain": [
       "<Figure size 432x288 with 1 Axes>"
      ]
     },
     "metadata": {},
     "output_type": "display_data"
    }
   ],
   "source": [
    "plot_confusion_matrix(cm, show_normed = True);"
   ]
  },
  {
   "cell_type": "code",
   "execution_count": 96,
   "metadata": {},
   "outputs": [],
   "source": [
    "fpr, tpr, _ = metrics.roc_curve(y_test, y_test_pred_prob)"
   ]
  },
  {
   "cell_type": "code",
   "execution_count": 97,
   "metadata": {},
   "outputs": [
    {
     "data": {
      "text/plain": [
       "0.6360648844168897"
      ]
     },
     "execution_count": 97,
     "metadata": {},
     "output_type": "execute_result"
    }
   ],
   "source": [
    "metrics.roc_auc_score(y_test, y_test_pred_prob)"
   ]
  },
  {
   "cell_type": "code",
   "execution_count": 98,
   "metadata": {
    "scrolled": true
   },
   "outputs": [
    {
     "data": {
      "text/plain": [
       "Text(0.5, 1.0, 'ROC curve')"
      ]
     },
     "execution_count": 98,
     "metadata": {},
     "output_type": "execute_result"
    },
    {
     "data": {
      "image/png": "[encoded data removed]",
      "text/plain": [
       "<Figure size 432x288 with 1 Axes>"
      ]
     },
     "metadata": {},
     "output_type": "display_data"
    }
   ],
   "source": [
    "plt.plot([0,1], [0,1], 'k--')\n",
    "plt.plot(fpr, tpr)\n",
    "plt.xlabel('False positive rate')\n",
    "plt.ylabel('True positive rate')\n",
    "plt.title('ROC curve')"
   ]
  },
  {
   "cell_type": "code",
   "execution_count": 99,
   "metadata": {},
   "outputs": [],
   "source": [
    "candidate_test_acc = .0\n",
    "count = len(cutoffs) - 1\n",
    "print_count = 100\n",
    "for start_idx, end_idx in zip(cutoffs, cutoffs[1:]):\n",
    "    probs = y_test_pred_prob[start_idx:end_idx]\n",
    "    #if np.argmax(probs) == len(probs) - 1:\n",
    "    if max(probs) == probs[-1]:\n",
    "        if np.random.randint(sum(probs == probs[-1])) == 0:\n",
    "            candidate_test_acc += 1\n",
    "    else:\n",
    "        if print_count:\n",
    "            print(probs[-1], max(probs))\n",
    "            print_count -= 1\n",
    "candidate_test_acc /= count"
   ]
  },
  {
   "cell_type": "code",
   "execution_count": 100,
   "metadata": {},
   "outputs": [
    {
     "data": {
      "text/plain": [
       "0.3558677724584744"
      ]
     },
     "execution_count": 100,
     "metadata": {},
     "output_type": "execute_result"
    }
   ],
   "source": [
    "candidate_test_acc"
   ]
  },
  {
   "cell_type": "code",
   "execution_count": 28,
   "metadata": {},
   "outputs": [
    {
     "data": {
      "text/plain": [
       "(11793058, 250)"
      ]
     },
     "execution_count": 28,
     "metadata": {},
     "output_type": "execute_result"
    }
   ],
   "source": [
    "graph_input.shape"
   ]
  },
  {
   "cell_type": "code",
   "execution_count": 62,
   "metadata": {},
   "outputs": [
    {
     "name": "stdout",
     "output_type": "stream",
     "text": [
      "_________________________________________________________________\n",
      "Layer (type)                 Output Shape              Param #   \n",
      "=================================================================\n",
      "input_7 (InputLayer)         (None, 250)               0         \n",
      "_________________________________________________________________\n",
      "dense_7 (Dense)              (None, 256)               64256     \n",
      "_________________________________________________________________\n",
      "dropout_6 (Dropout)          (None, 256)               0         \n",
      "_________________________________________________________________\n",
      "dense_8 (Dense)              (None, 1)                 257       \n",
      "=================================================================\n",
      "Total params: 64,513\n",
      "Trainable params: 64,513\n",
      "Non-trainable params: 0\n",
      "_________________________________________________________________\n"
     ]
    }
   ],
   "source": [
    "inp2 = Input(shape = (graph_train.shape[1], ))\n",
    "# inp3 = Input(shape = (doc_input.shape[1], ))\n",
    "w = inp2\n",
    "w = Dense(256, activation = 'relu')(w)\n",
    "w = Dropout(0.2)(w)\n",
    "out = Dense(1, activation = 'sigmoid')(w)\n",
    "model = Model(inputs=[inp2], outputs=out)\n",
    "model.compile(optimizer='adam', loss='binary_crossentropy', metrics=['accuracy'])\n",
    "model.summary()"
   ]
  },
  {
   "cell_type": "code",
   "execution_count": 63,
   "metadata": {
    "scrolled": true
   },
   "outputs": [
    {
     "name": "stdout",
     "output_type": "stream",
     "text": [
      "Train on 7490784 samples, validate on 1872697 samples\n",
      "Epoch 1/30\n",
      "7490784/7490784 [==============================] - 9s 1us/step - loss: 0.4158 - acc: 0.8232 - val_loss: 0.3836 - val_acc: 0.8348\n",
      "Epoch 2/30\n",
      "7490784/7490784 [==============================] - 8s 1us/step - loss: 0.3851 - acc: 0.8342 - val_loss: 0.3719 - val_acc: 0.8394\n",
      "Epoch 3/30\n",
      "7490784/7490784 [==============================] - 8s 1us/step - loss: 0.3779 - acc: 0.8369 - val_loss: 0.3670 - val_acc: 0.8411\n",
      "Epoch 4/30\n",
      "7490784/7490784 [==============================] - 8s 1us/step - loss: 0.3738 - acc: 0.8385 - val_loss: 0.3632 - val_acc: 0.8430\n",
      "Epoch 5/30\n",
      "7490784/7490784 [==============================] - 8s 1us/step - loss: 0.3709 - acc: 0.8396 - val_loss: 0.3607 - val_acc: 0.8440\n",
      "Epoch 6/30\n",
      "7490784/7490784 [==============================] - 8s 1us/step - loss: 0.3688 - acc: 0.8405 - val_loss: 0.3592 - val_acc: 0.8444\n",
      "Epoch 7/30\n",
      "7490784/7490784 [==============================] - 8s 1us/step - loss: 0.3671 - acc: 0.8412 - val_loss: 0.3573 - val_acc: 0.8453\n",
      "Epoch 8/30\n",
      "7490784/7490784 [==============================] - 8s 1us/step - loss: 0.3655 - acc: 0.8418 - val_loss: 0.3562 - val_acc: 0.8459\n",
      "Epoch 9/30\n",
      "7490784/7490784 [==============================] - 8s 1us/step - loss: 0.3642 - acc: 0.8424 - val_loss: 0.3551 - val_acc: 0.8462\n",
      "Epoch 10/30\n",
      "7490784/7490784 [==============================] - 8s 1us/step - loss: 0.3633 - acc: 0.8427 - val_loss: 0.3542 - val_acc: 0.8467\n",
      "Epoch 11/30\n",
      "7490784/7490784 [==============================] - 8s 1us/step - loss: 0.3622 - acc: 0.8431 - val_loss: 0.3533 - val_acc: 0.8470\n",
      "Epoch 12/30\n",
      "7490784/7490784 [==============================] - 8s 1us/step - loss: 0.3614 - acc: 0.8435 - val_loss: 0.3526 - val_acc: 0.8475\n",
      "Epoch 13/30\n",
      "7490784/7490784 [==============================] - 8s 1us/step - loss: 0.3606 - acc: 0.8438 - val_loss: 0.3520 - val_acc: 0.8473\n",
      "Epoch 14/30\n",
      "7490784/7490784 [==============================] - 8s 1us/step - loss: 0.3599 - acc: 0.8441 - val_loss: 0.3511 - val_acc: 0.8481\n",
      "Epoch 15/30\n",
      "7490784/7490784 [==============================] - 8s 1us/step - loss: 0.3591 - acc: 0.8445 - val_loss: 0.3507 - val_acc: 0.8481\n",
      "Epoch 16/30\n",
      "7490784/7490784 [==============================] - 8s 1us/step - loss: 0.3586 - acc: 0.8446 - val_loss: 0.3501 - val_acc: 0.8483\n",
      "Epoch 17/30\n",
      "7490784/7490784 [==============================] - 8s 1us/step - loss: 0.3580 - acc: 0.8449 - val_loss: 0.3495 - val_acc: 0.8485\n",
      "Epoch 18/30\n",
      "7490784/7490784 [==============================] - 8s 1us/step - loss: 0.3574 - acc: 0.8451 - val_loss: 0.3492 - val_acc: 0.8485\n",
      "Epoch 19/30\n",
      "7490784/7490784 [==============================] - 8s 1us/step - loss: 0.3569 - acc: 0.8453 - val_loss: 0.3486 - val_acc: 0.8487\n",
      "Epoch 20/30\n",
      "7490784/7490784 [==============================] - 8s 1us/step - loss: 0.3563 - acc: 0.8456 - val_loss: 0.3483 - val_acc: 0.8488\n",
      "Epoch 21/30\n",
      "7490784/7490784 [==============================] - 8s 1us/step - loss: 0.3561 - acc: 0.8457 - val_loss: 0.3479 - val_acc: 0.8490\n",
      "Epoch 22/30\n",
      "7490784/7490784 [==============================] - 8s 1us/step - loss: 0.3557 - acc: 0.8458 - val_loss: 0.3476 - val_acc: 0.8491\n",
      "Epoch 23/30\n",
      "7490784/7490784 [==============================] - 8s 1us/step - loss: 0.3552 - acc: 0.8460 - val_loss: 0.3471 - val_acc: 0.8495\n",
      "Epoch 24/30\n",
      "7490784/7490784 [==============================] - 8s 1us/step - loss: 0.3548 - acc: 0.8461 - val_loss: 0.3468 - val_acc: 0.8497\n",
      "Epoch 25/30\n",
      "7490784/7490784 [==============================] - 8s 1us/step - loss: 0.3546 - acc: 0.8463 - val_loss: 0.3465 - val_acc: 0.8497\n",
      "Epoch 26/30\n",
      "7490784/7490784 [==============================] - 8s 1us/step - loss: 0.3542 - acc: 0.8464 - val_loss: 0.3464 - val_acc: 0.8497\n",
      "Epoch 27/30\n",
      "7490784/7490784 [==============================] - 8s 1us/step - loss: 0.3540 - acc: 0.8464 - val_loss: 0.3460 - val_acc: 0.8500\n",
      "Epoch 28/30\n",
      "7490784/7490784 [==============================] - 8s 1us/step - loss: 0.3536 - acc: 0.8467 - val_loss: 0.3457 - val_acc: 0.8500\n",
      "Epoch 29/30\n",
      "7490784/7490784 [==============================] - 8s 1us/step - loss: 0.3533 - acc: 0.8467 - val_loss: 0.3456 - val_acc: 0.8500\n",
      "Epoch 30/30\n",
      "7490784/7490784 [==============================] - 8s 1us/step - loss: 0.3531 - acc: 0.8468 - val_loss: 0.3452 - val_acc: 0.8503\n"
     ]
    },
    {
     "data": {
      "text/plain": [
       "<keras.callbacks.History at 0x7f6c6feb1b90>"
      ]
     },
     "execution_count": 63,
     "metadata": {},
     "output_type": "execute_result"
    }
   ],
   "source": [
    "# model.fit([lstm_train, graph_train, doc_train], y_train, batch_size = 256, epochs = 3, validation_split = 0.2)\n",
    "model.fit([graph_train], y_train, batch_size = 8192, epochs = 30, validation_split = 0.2, class_weight = weights)"
   ]
  },
  {
   "cell_type": "code",
   "execution_count": 82,
   "metadata": {},
   "outputs": [
    {
     "data": {
      "text/plain": [
       "0.8503229300204935"
      ]
     },
     "execution_count": 82,
     "metadata": {},
     "output_type": "execute_result"
    }
   ],
   "source": [
    "# y_test_pred = model.predict([lstm_test, graph_test, doc_test])\n",
    "\n",
    "# perfomance without knowledge graph embedding\n",
    "\n",
    "y_test_pred_prob = model.predict([graph_test])\n",
    "\n",
    "y_test_pred = np.where(y_test_pred_prob > 0.5, 1, 0)\n",
    "accuracy_score(y_test, y_test_pred)"
   ]
  },
  {
   "cell_type": "code",
   "execution_count": 83,
   "metadata": {
    "scrolled": true
   },
   "outputs": [],
   "source": [
    "cm = confusion_matrix(y_test, y_test_pred)"
   ]
  },
  {
   "cell_type": "code",
   "execution_count": 84,
   "metadata": {},
   "outputs": [
    {
     "data": {
      "image/png": "[encoded data removed]",
      "text/plain": [
       "<Figure size 432x288 with 1 Axes>"
      ]
     },
     "metadata": {},
     "output_type": "display_data"
    }
   ],
   "source": [
    "plot_confusion_matrix(cm, show_normed = True);"
   ]
  },
  {
   "cell_type": "code",
   "execution_count": 85,
   "metadata": {},
   "outputs": [],
   "source": [
    "fpr, tpr, _ = metrics.roc_curve(y_test, y_test_pred_prob)"
   ]
  },
  {
   "cell_type": "code",
   "execution_count": 86,
   "metadata": {},
   "outputs": [
    {
     "data": {
      "text/plain": [
       "0.8621347084016182"
      ]
     },
     "execution_count": 86,
     "metadata": {},
     "output_type": "execute_result"
    }
   ],
   "source": [
    "metrics.roc_auc_score(y_test, y_test_pred_prob)"
   ]
  },
  {
   "cell_type": "code",
   "execution_count": 87,
   "metadata": {},
   "outputs": [
    {
     "data": {
      "text/plain": [
       "Text(0.5, 1.0, 'ROC curve')"
      ]
     },
     "execution_count": 87,
     "metadata": {},
     "output_type": "execute_result"
    },
    {
     "data": {
      "image/png": "[encoded data removed]",
      "text/plain": [
       "<Figure size 432x288 with 1 Axes>"
      ]
     },
     "metadata": {},
     "output_type": "display_data"
    }
   ],
   "source": [
    "plt.plot([0,1], [0,1], 'k--')\n",
    "plt.plot(fpr, tpr)\n",
    "plt.xlabel('False positive rate')\n",
    "plt.ylabel('True positive rate')\n",
    "plt.title('ROC curve')"
   ]
  },
  {
   "cell_type": "code",
   "execution_count": 88,
   "metadata": {
    "scrolled": true
   },
   "outputs": [
    {
     "name": "stdout",
     "output_type": "stream",
     "text": [
      "[0.10663849] [0.21659997]\n",
      "[0.15073198] [0.20447108]\n",
      "[0.02454388] [0.333121]\n",
      "[0.20760688] [0.5531492]\n",
      "[0.27174062] [0.31035823]\n",
      "[0.2743048] [0.52534866]\n",
      "[0.04032218] [0.24748713]\n",
      "[0.30647624] [0.393618]\n",
      "[0.28649652] [0.42994094]\n",
      "[0.24155119] [0.43789852]\n",
      "[0.21499088] [0.29324704]\n",
      "[0.22514299] [0.43782756]\n",
      "[0.3787086] [0.5718919]\n",
      "[0.1199792] [0.36397743]\n",
      "[0.11733639] [0.16777924]\n",
      "[0.11471987] [0.44338456]\n",
      "[0.27232975] [0.593252]\n",
      "[0.11515388] [0.3145296]\n",
      "[0.28729564] [0.7646096]\n",
      "[0.14040726] [0.19897676]\n",
      "[0.30483726] [0.49834338]\n",
      "[0.18419927] [0.3489733]\n",
      "[0.05136034] [0.26318687]\n",
      "[0.10435221] [0.18540221]\n",
      "[0.12763667] [0.42356098]\n",
      "[0.09033132] [0.71793526]\n",
      "[0.30643654] [0.43717554]\n",
      "[0.10352471] [0.26613644]\n",
      "[0.19912037] [0.22046936]\n",
      "[0.18573564] [0.28898227]\n",
      "[0.11680326] [0.1347022]\n",
      "[0.3960596] [0.43939933]\n",
      "[0.20443588] [0.2801205]\n",
      "[0.17167333] [0.22688803]\n",
      "[0.22127089] [0.32030404]\n",
      "[0.11636564] [0.39895278]\n",
      "[0.36752796] [0.66682017]\n",
      "[0.15450078] [0.6628461]\n",
      "[0.6533886] [0.82122916]\n",
      "[0.16988423] [0.5586816]\n",
      "[0.09670436] [0.60328776]\n",
      "[0.03733796] [0.36267024]\n",
      "[0.21802446] [0.27171123]\n",
      "[0.08671468] [0.14489228]\n",
      "[0.44441718] [0.4682194]\n",
      "[0.40432197] [0.5905834]\n",
      "[0.34694636] [0.5663297]\n",
      "[0.13881063] [0.28948092]\n",
      "[0.20600027] [0.255645]\n",
      "[0.1690307] [0.675786]\n",
      "[0.15057725] [0.18693608]\n",
      "[0.12237054] [0.44440037]\n",
      "[0.14337182] [0.16218224]\n",
      "[0.16798031] [0.46486935]\n",
      "[0.0897032] [0.1638]\n",
      "[0.11891258] [0.196681]\n",
      "[0.08380088] [0.21150449]\n",
      "[0.17531082] [0.26630625]\n",
      "[0.08855501] [0.18366045]\n",
      "[0.09856296] [0.21819088]\n",
      "[0.38171118] [0.60713226]\n",
      "[0.14828458] [0.19222257]\n",
      "[0.12530503] [0.49443382]\n",
      "[0.08639279] [0.5537809]\n",
      "[0.28934586] [0.31410623]\n",
      "[0.13471583] [0.43729466]\n",
      "[0.42773643] [0.5857193]\n",
      "[0.18124983] [0.42523327]\n",
      "[0.15616167] [0.4942252]\n",
      "[0.415402] [0.60713226]\n",
      "[0.54686886] [0.8284576]\n",
      "[0.09560174] [0.21341479]\n",
      "[0.10813448] [0.17413631]\n",
      "[0.16284922] [0.42926204]\n",
      "[0.4012218] [0.4329447]\n",
      "[0.2618351] [0.5056484]\n",
      "[0.53213453] [0.6438141]\n",
      "[0.02718088] [0.14022523]\n",
      "[0.06033117] [0.23292878]\n",
      "[0.5522852] [0.76266265]\n",
      "[0.24831358] [0.52534866]\n",
      "[0.12785614] [0.21085393]\n",
      "[0.3758612] [0.4750705]\n",
      "[0.19894439] [0.51123345]\n",
      "[0.07768515] [0.13938591]\n",
      "[0.13992822] [0.18937168]\n",
      "[0.21886009] [0.24383861]\n",
      "[0.0958657] [0.1396195]\n",
      "[0.03557783] [0.09221298]\n",
      "[0.03763866] [0.21602762]\n",
      "[0.41621286] [0.45241174]\n",
      "[0.04737729] [0.10178223]\n",
      "[0.22476798] [0.23366755]\n",
      "[0.23277766] [0.4663555]\n",
      "[0.10041443] [0.3824065]\n",
      "[0.0892725] [0.3812018]\n",
      "[0.1461027] [0.9395547]\n",
      "[0.06634393] [0.6628121]\n",
      "[0.03761446] [0.22385907]\n",
      "[0.19734558] [0.9603729]\n"
     ]
    }
   ],
   "source": [
    "candidate_test_acc = .0\n",
    "count = len(cutoffs) - 1\n",
    "print_count = 100\n",
    "for start_idx, end_idx in zip(cutoffs, cutoffs[1:]):\n",
    "    probs = y_test_pred_prob[start_idx:end_idx]\n",
    "    #if np.argmax(probs) == len(probs) - 1:\n",
    "    if max(probs) == probs[-1]:\n",
    "        if np.random.randint(sum(probs == probs[-1])) == 0:\n",
    "            candidate_test_acc += 1\n",
    "    else:\n",
    "        if print_count:\n",
    "            print(probs[-1], max(probs))\n",
    "            print_count -= 1\n",
    "candidate_test_acc /= count"
   ]
  },
  {
   "cell_type": "code",
   "execution_count": 89,
   "metadata": {},
   "outputs": [
    {
     "data": {
      "text/plain": [
       "0.6894943403603385"
      ]
     },
     "execution_count": 89,
     "metadata": {},
     "output_type": "execute_result"
    }
   ],
   "source": [
    "candidate_test_acc"
   ]
  },
  {
   "cell_type": "code",
   "execution_count": null,
   "metadata": {},
   "outputs": [],
   "source": []
  },
  {
   "cell_type": "code",
   "execution_count": null,
   "metadata": {},
   "outputs": [],
   "source": []
  },
  {
   "cell_type": "code",
   "execution_count": null,
   "metadata": {},
   "outputs": [],
   "source": []
  },
  {
   "cell_type": "code",
   "execution_count": null,
   "metadata": {},
   "outputs": [],
   "source": []
  },
  {
   "cell_type": "code",
   "execution_count": null,
   "metadata": {},
   "outputs": [],
   "source": []
  },
  {
   "cell_type": "code",
   "execution_count": 40,
   "metadata": {},
   "outputs": [
    {
     "data": {
      "text/plain": [
       "0.8411214731375911"
      ]
     },
     "execution_count": 40,
     "metadata": {},
     "output_type": "execute_result"
    }
   ],
   "source": [
    "# y_test_pred = model.predict([lstm_test, graph_test, doc_test])\n",
    "\n",
    "# perfomance without word embedding\n",
    "\n",
    "y_test_pred = model.predict([graph_test])\n",
    "\n",
    "y_test_pred = np.where(y_test_pred > 0.5, 1, 0)\n",
    "accuracy_score(y_test, y_test_pred)"
   ]
  },
  {
   "cell_type": "code",
   "execution_count": 41,
   "metadata": {},
   "outputs": [],
   "source": [
    "cm = confusion_matrix(y_test, y_test_pred)"
   ]
  },
  {
   "cell_type": "code",
   "execution_count": 42,
   "metadata": {},
   "outputs": [
    {
     "data": {
      "image/png": "[encoded data removed]",
      "text/plain": [
       "<Figure size 432x288 with 1 Axes>"
      ]
     },
     "metadata": {},
     "output_type": "display_data"
    }
   ],
   "source": [
    "plot_confusion_matrix(cm, show_normed = True);"
   ]
  },
  {
   "cell_type": "code",
   "execution_count": null,
   "metadata": {},
   "outputs": [],
   "source": []
  },
  {
   "cell_type": "code",
   "execution_count": null,
   "metadata": {},
   "outputs": [],
   "source": []
  },
  {
   "cell_type": "code",
   "execution_count": null,
   "metadata": {},
   "outputs": [],
   "source": [
    "# retrain new model"
   ]
  },
  {
   "cell_type": "code",
   "execution_count": 107,
   "metadata": {},
   "outputs": [
    {
     "name": "stdout",
     "output_type": "stream",
     "text": [
      "__________________________________________________________________________________________________\n",
      "Layer (type)                    Output Shape         Param #     Connected to                     \n",
      "==================================================================================================\n",
      "input_19 (InputLayer)           (None, 20)           0                                            \n",
      "__________________________________________________________________________________________________\n",
      "embedding_10 (Embedding)        (None, 20, 100)      44588100    input_19[0][0]                   \n",
      "__________________________________________________________________________________________________\n",
      "lstm_10 (LSTM)                  (None, 128)          117248      embedding_10[0][0]               \n",
      "__________________________________________________________________________________________________\n",
      "input_20 (InputLayer)           (None, 250)          0                                            \n",
      "__________________________________________________________________________________________________\n",
      "concatenate_8 (Concatenate)     (None, 378)          0           lstm_10[0][0]                    \n",
      "                                                                 input_20[0][0]                   \n",
      "__________________________________________________________________________________________________\n",
      "dense_29 (Dense)                (None, 256)          97024       concatenate_8[0][0]              \n",
      "__________________________________________________________________________________________________\n",
      "dropout_25 (Dropout)            (None, 256)          0           dense_29[0][0]                   \n",
      "__________________________________________________________________________________________________\n",
      "dense_30 (Dense)                (None, 1)            257         dropout_25[0][0]                 \n",
      "==================================================================================================\n",
      "Total params: 44,802,629\n",
      "Trainable params: 44,802,629\n",
      "Non-trainable params: 0\n",
      "__________________________________________________________________________________________________\n"
     ]
    }
   ],
   "source": [
    "inp1 = Input(shape = (lstm_input.shape[1], ))\n",
    "inp2 = Input(shape = (graph_input.shape[1], ))\n",
    "# inp3 = Input(shape = (doc_input.shape[1], ))\n",
    "embed = Embedding(output_dim=100, input_dim=len(word2idx), input_length=lstm_input.shape[1])(inp1)\n",
    "out1 = LSTM(128)(embed)\n",
    "w = concatenate([out1, inp2])\n",
    "w = Dense(256, activation = 'relu')(w)\n",
    "w = Dropout(0.2)(w)\n",
    "out = Dense(1, activation = 'sigmoid')(w)\n",
    "model = Model(inputs=[inp1, inp2], outputs=out)\n",
    "model.compile(optimizer='adam', loss='binary_crossentropy', metrics=['accuracy'])\n",
    "model.summary()"
   ]
  },
  {
   "cell_type": "code",
   "execution_count": 108,
   "metadata": {},
   "outputs": [
    {
     "name": "stdout",
     "output_type": "stream",
     "text": [
      "Train on 7075834 samples, validate on 1768959 samples\n",
      "Epoch 1/4\n"
     ]
    },
    {
     "ename": "ResourceExhaustedError",
     "evalue": "2 root error(s) found.\n  (0) Resource exhausted: OOM when allocating tensor with shape[512] and type float on /job:localhost/replica:0/task:0/device:GPU:0 by allocator GPU_0_bfc\n\t [[{{node training_11/Adam/mul_16}}]]\nHint: If you want to see a list of allocated tensors when OOM happens, add report_tensor_allocations_upon_oom to RunOptions for current allocation info.\n\n\t [[metrics_11/acc/Mean_1/_1673]]\nHint: If you want to see a list of allocated tensors when OOM happens, add report_tensor_allocations_upon_oom to RunOptions for current allocation info.\n\n  (1) Resource exhausted: OOM when allocating tensor with shape[512] and type float on /job:localhost/replica:0/task:0/device:GPU:0 by allocator GPU_0_bfc\n\t [[{{node training_11/Adam/mul_16}}]]\nHint: If you want to see a list of allocated tensors when OOM happens, add report_tensor_allocations_upon_oom to RunOptions for current allocation info.\n\n0 successful operations.\n0 derived errors ignored.",
     "output_type": "error",
     "traceback": [
      "\u001b[0;31m---------------------------------------------------------------------------\u001b[0m",
      "\u001b[0;31mResourceExhaustedError\u001b[0m                    Traceback (most recent call last)",
      "\u001b[0;32m<ipython-input-108-d4c681da3955>\u001b[0m in \u001b[0;36m<module>\u001b[0;34m()\u001b[0m\n\u001b[1;32m      1\u001b[0m \u001b[0;31m# model.fit([lstm_train, graph_train, doc_train], y_train, batch_size = 256, epochs = 3, validation_split = 0.2)\u001b[0m\u001b[0;34m\u001b[0m\u001b[0;34m\u001b[0m\u001b[0;34m\u001b[0m\u001b[0m\n\u001b[0;32m----> 2\u001b[0;31m \u001b[0mmodel\u001b[0m\u001b[0;34m.\u001b[0m\u001b[0mfit\u001b[0m\u001b[0;34m(\u001b[0m\u001b[0;34m[\u001b[0m\u001b[0mlstm_train\u001b[0m\u001b[0;34m,\u001b[0m \u001b[0mgraph_train\u001b[0m\u001b[0;34m]\u001b[0m\u001b[0;34m,\u001b[0m \u001b[0my_train\u001b[0m\u001b[0;34m,\u001b[0m \u001b[0mbatch_size\u001b[0m \u001b[0;34m=\u001b[0m \u001b[0;36m8192\u001b[0m\u001b[0;34m,\u001b[0m \u001b[0mepochs\u001b[0m \u001b[0;34m=\u001b[0m \u001b[0;36m4\u001b[0m\u001b[0;34m,\u001b[0m \u001b[0mvalidation_split\u001b[0m \u001b[0;34m=\u001b[0m \u001b[0;36m0.2\u001b[0m\u001b[0;34m,\u001b[0m \u001b[0mclass_weight\u001b[0m \u001b[0;34m=\u001b[0m \u001b[0mweights\u001b[0m\u001b[0;34m)\u001b[0m\u001b[0;34m\u001b[0m\u001b[0;34m\u001b[0m\u001b[0m\n\u001b[0m",
      "\u001b[0;32m~/.local/lib/python3.7/site-packages/keras/engine/training.py\u001b[0m in \u001b[0;36mfit\u001b[0;34m(self, x, y, batch_size, epochs, verbose, callbacks, validation_split, validation_data, shuffle, class_weight, sample_weight, initial_epoch, steps_per_epoch, validation_steps, **kwargs)\u001b[0m\n\u001b[1;32m   1037\u001b[0m                                         \u001b[0minitial_epoch\u001b[0m\u001b[0;34m=\u001b[0m\u001b[0minitial_epoch\u001b[0m\u001b[0;34m,\u001b[0m\u001b[0;34m\u001b[0m\u001b[0;34m\u001b[0m\u001b[0m\n\u001b[1;32m   1038\u001b[0m                                         \u001b[0msteps_per_epoch\u001b[0m\u001b[0;34m=\u001b[0m\u001b[0msteps_per_epoch\u001b[0m\u001b[0;34m,\u001b[0m\u001b[0;34m\u001b[0m\u001b[0;34m\u001b[0m\u001b[0m\n\u001b[0;32m-> 1039\u001b[0;31m                                         validation_steps=validation_steps)\n\u001b[0m\u001b[1;32m   1040\u001b[0m \u001b[0;34m\u001b[0m\u001b[0m\n\u001b[1;32m   1041\u001b[0m     def evaluate(self, x=None, y=None,\n",
      "\u001b[0;32m~/.local/lib/python3.7/site-packages/keras/engine/training_arrays.py\u001b[0m in \u001b[0;36mfit_loop\u001b[0;34m(model, f, ins, out_labels, batch_size, epochs, verbose, callbacks, val_f, val_ins, shuffle, callback_metrics, initial_epoch, steps_per_epoch, validation_steps)\u001b[0m\n\u001b[1;32m    197\u001b[0m                     \u001b[0mins_batch\u001b[0m\u001b[0;34m[\u001b[0m\u001b[0mi\u001b[0m\u001b[0;34m]\u001b[0m \u001b[0;34m=\u001b[0m \u001b[0mins_batch\u001b[0m\u001b[0;34m[\u001b[0m\u001b[0mi\u001b[0m\u001b[0;34m]\u001b[0m\u001b[0;34m.\u001b[0m\u001b[0mtoarray\u001b[0m\u001b[0;34m(\u001b[0m\u001b[0;34m)\u001b[0m\u001b[0;34m\u001b[0m\u001b[0;34m\u001b[0m\u001b[0m\n\u001b[1;32m    198\u001b[0m \u001b[0;34m\u001b[0m\u001b[0m\n\u001b[0;32m--> 199\u001b[0;31m                 \u001b[0mouts\u001b[0m \u001b[0;34m=\u001b[0m \u001b[0mf\u001b[0m\u001b[0;34m(\u001b[0m\u001b[0mins_batch\u001b[0m\u001b[0;34m)\u001b[0m\u001b[0;34m\u001b[0m\u001b[0;34m\u001b[0m\u001b[0m\n\u001b[0m\u001b[1;32m    200\u001b[0m                 \u001b[0mouts\u001b[0m \u001b[0;34m=\u001b[0m \u001b[0mto_list\u001b[0m\u001b[0;34m(\u001b[0m\u001b[0mouts\u001b[0m\u001b[0;34m)\u001b[0m\u001b[0;34m\u001b[0m\u001b[0;34m\u001b[0m\u001b[0m\n\u001b[1;32m    201\u001b[0m                 \u001b[0;32mfor\u001b[0m \u001b[0ml\u001b[0m\u001b[0;34m,\u001b[0m \u001b[0mo\u001b[0m \u001b[0;32min\u001b[0m \u001b[0mzip\u001b[0m\u001b[0;34m(\u001b[0m\u001b[0mout_labels\u001b[0m\u001b[0;34m,\u001b[0m \u001b[0mouts\u001b[0m\u001b[0;34m)\u001b[0m\u001b[0;34m:\u001b[0m\u001b[0;34m\u001b[0m\u001b[0;34m\u001b[0m\u001b[0m\n",
      "\u001b[0;32m~/.local/lib/python3.7/site-packages/keras/backend/tensorflow_backend.py\u001b[0m in \u001b[0;36m__call__\u001b[0;34m(self, inputs)\u001b[0m\n\u001b[1;32m   2713\u001b[0m                 \u001b[0;32mreturn\u001b[0m \u001b[0mself\u001b[0m\u001b[0;34m.\u001b[0m\u001b[0m_legacy_call\u001b[0m\u001b[0;34m(\u001b[0m\u001b[0minputs\u001b[0m\u001b[0;34m)\u001b[0m\u001b[0;34m\u001b[0m\u001b[0;34m\u001b[0m\u001b[0m\n\u001b[1;32m   2714\u001b[0m \u001b[0;34m\u001b[0m\u001b[0m\n\u001b[0;32m-> 2715\u001b[0;31m             \u001b[0;32mreturn\u001b[0m \u001b[0mself\u001b[0m\u001b[0;34m.\u001b[0m\u001b[0m_call\u001b[0m\u001b[0;34m(\u001b[0m\u001b[0minputs\u001b[0m\u001b[0;34m)\u001b[0m\u001b[0;34m\u001b[0m\u001b[0;34m\u001b[0m\u001b[0m\n\u001b[0m\u001b[1;32m   2716\u001b[0m         \u001b[0;32melse\u001b[0m\u001b[0;34m:\u001b[0m\u001b[0;34m\u001b[0m\u001b[0;34m\u001b[0m\u001b[0m\n\u001b[1;32m   2717\u001b[0m             \u001b[0;32mif\u001b[0m \u001b[0mpy_any\u001b[0m\u001b[0;34m(\u001b[0m\u001b[0mis_tensor\u001b[0m\u001b[0;34m(\u001b[0m\u001b[0mx\u001b[0m\u001b[0;34m)\u001b[0m \u001b[0;32mfor\u001b[0m \u001b[0mx\u001b[0m \u001b[0;32min\u001b[0m \u001b[0minputs\u001b[0m\u001b[0;34m)\u001b[0m\u001b[0;34m:\u001b[0m\u001b[0;34m\u001b[0m\u001b[0;34m\u001b[0m\u001b[0m\n",
      "\u001b[0;32m~/.local/lib/python3.7/site-packages/keras/backend/tensorflow_backend.py\u001b[0m in \u001b[0;36m_call\u001b[0;34m(self, inputs)\u001b[0m\n\u001b[1;32m   2673\u001b[0m             \u001b[0mfetched\u001b[0m \u001b[0;34m=\u001b[0m \u001b[0mself\u001b[0m\u001b[0;34m.\u001b[0m\u001b[0m_callable_fn\u001b[0m\u001b[0;34m(\u001b[0m\u001b[0;34m*\u001b[0m\u001b[0marray_vals\u001b[0m\u001b[0;34m,\u001b[0m \u001b[0mrun_metadata\u001b[0m\u001b[0;34m=\u001b[0m\u001b[0mself\u001b[0m\u001b[0;34m.\u001b[0m\u001b[0mrun_metadata\u001b[0m\u001b[0;34m)\u001b[0m\u001b[0;34m\u001b[0m\u001b[0;34m\u001b[0m\u001b[0m\n\u001b[1;32m   2674\u001b[0m         \u001b[0;32melse\u001b[0m\u001b[0;34m:\u001b[0m\u001b[0;34m\u001b[0m\u001b[0;34m\u001b[0m\u001b[0m\n\u001b[0;32m-> 2675\u001b[0;31m             \u001b[0mfetched\u001b[0m \u001b[0;34m=\u001b[0m \u001b[0mself\u001b[0m\u001b[0;34m.\u001b[0m\u001b[0m_callable_fn\u001b[0m\u001b[0;34m(\u001b[0m\u001b[0;34m*\u001b[0m\u001b[0marray_vals\u001b[0m\u001b[0;34m)\u001b[0m\u001b[0;34m\u001b[0m\u001b[0;34m\u001b[0m\u001b[0m\n\u001b[0m\u001b[1;32m   2676\u001b[0m         \u001b[0;32mreturn\u001b[0m \u001b[0mfetched\u001b[0m\u001b[0;34m[\u001b[0m\u001b[0;34m:\u001b[0m\u001b[0mlen\u001b[0m\u001b[0;34m(\u001b[0m\u001b[0mself\u001b[0m\u001b[0;34m.\u001b[0m\u001b[0moutputs\u001b[0m\u001b[0;34m)\u001b[0m\u001b[0;34m]\u001b[0m\u001b[0;34m\u001b[0m\u001b[0;34m\u001b[0m\u001b[0m\n\u001b[1;32m   2677\u001b[0m \u001b[0;34m\u001b[0m\u001b[0m\n",
      "\u001b[0;32m~/.conda/envs/capstone/lib/python3.7/site-packages/tensorflow/python/client/session.py\u001b[0m in \u001b[0;36m__call__\u001b[0;34m(self, *args, **kwargs)\u001b[0m\n\u001b[1;32m   1456\u001b[0m         ret = tf_session.TF_SessionRunCallable(self._session._session,\n\u001b[1;32m   1457\u001b[0m                                                \u001b[0mself\u001b[0m\u001b[0;34m.\u001b[0m\u001b[0m_handle\u001b[0m\u001b[0;34m,\u001b[0m \u001b[0margs\u001b[0m\u001b[0;34m,\u001b[0m\u001b[0;34m\u001b[0m\u001b[0;34m\u001b[0m\u001b[0m\n\u001b[0;32m-> 1458\u001b[0;31m                                                run_metadata_ptr)\n\u001b[0m\u001b[1;32m   1459\u001b[0m         \u001b[0;32mif\u001b[0m \u001b[0mrun_metadata\u001b[0m\u001b[0;34m:\u001b[0m\u001b[0;34m\u001b[0m\u001b[0;34m\u001b[0m\u001b[0m\n\u001b[1;32m   1460\u001b[0m           \u001b[0mproto_data\u001b[0m \u001b[0;34m=\u001b[0m \u001b[0mtf_session\u001b[0m\u001b[0;34m.\u001b[0m\u001b[0mTF_GetBuffer\u001b[0m\u001b[0;34m(\u001b[0m\u001b[0mrun_metadata_ptr\u001b[0m\u001b[0;34m)\u001b[0m\u001b[0;34m\u001b[0m\u001b[0;34m\u001b[0m\u001b[0m\n",
      "\u001b[0;31mResourceExhaustedError\u001b[0m: 2 root error(s) found.\n  (0) Resource exhausted: OOM when allocating tensor with shape[512] and type float on /job:localhost/replica:0/task:0/device:GPU:0 by allocator GPU_0_bfc\n\t [[{{node training_11/Adam/mul_16}}]]\nHint: If you want to see a list of allocated tensors when OOM happens, add report_tensor_allocations_upon_oom to RunOptions for current allocation info.\n\n\t [[metrics_11/acc/Mean_1/_1673]]\nHint: If you want to see a list of allocated tensors when OOM happens, add report_tensor_allocations_upon_oom to RunOptions for current allocation info.\n\n  (1) Resource exhausted: OOM when allocating tensor with shape[512] and type float on /job:localhost/replica:0/task:0/device:GPU:0 by allocator GPU_0_bfc\n\t [[{{node training_11/Adam/mul_16}}]]\nHint: If you want to see a list of allocated tensors when OOM happens, add report_tensor_allocations_upon_oom to RunOptions for current allocation info.\n\n0 successful operations.\n0 derived errors ignored."
     ]
    }
   ],
   "source": [
    "# model.fit([lstm_train, graph_train, doc_train], y_train, batch_size = 256, epochs = 3, validation_split = 0.2)\n",
    "model.fit([lstm_train, graph_train], y_train, batch_size = 8192, epochs = 4, validation_split = 0.2, class_weight = weights)"
   ]
  },
  {
   "cell_type": "code",
   "execution_count": null,
   "metadata": {},
   "outputs": [],
   "source": [
    "# y_test_pred = model.predict([lstm_test, graph_test, doc_test])\n",
    "y_test_pred_prob = model.predict([lstm_test, graph_test])\n",
    "\n",
    "y_test_pred = np.where(y_test_pred_prob > 0.5, 1, 0)\n",
    "accuracy_score(y_test, y_test_pred)"
   ]
  },
  {
   "cell_type": "code",
   "execution_count": null,
   "metadata": {},
   "outputs": [],
   "source": [
    "cm = confusion_matrix(y_test, y_test_pred)"
   ]
  },
  {
   "cell_type": "code",
   "execution_count": null,
   "metadata": {},
   "outputs": [],
   "source": [
    "from mlxtend.plotting import plot_confusion_matrix\n",
    "\n",
    "plot_confusion_matrix(cm, show_normed = True);"
   ]
  },
  {
   "cell_type": "code",
   "execution_count": null,
   "metadata": {},
   "outputs": [],
   "source": [
    "metrics.roc_auc_score(y_test, y_test_pred_prob)"
   ]
  },
  {
   "cell_type": "code",
   "execution_count": null,
   "metadata": {},
   "outputs": [],
   "source": [
    "fpr, tpr, _ = metrics.roc_curve(y_test, y_test_pred_prob)"
   ]
  },
  {
   "cell_type": "code",
   "execution_count": null,
   "metadata": {},
   "outputs": [],
   "source": [
    "plt.plot([0,1], [0,1], 'k--')\n",
    "plt.plot(fpr, tpr)\n",
    "plt.xlabel('False positive rate')\n",
    "plt.ylabel('True positive rate')\n",
    "plt.title('ROC curve')"
   ]
  },
  {
   "cell_type": "code",
   "execution_count": null,
   "metadata": {},
   "outputs": [],
   "source": []
  },
  {
   "cell_type": "code",
   "execution_count": null,
   "metadata": {},
   "outputs": [],
   "source": []
  },
  {
   "cell_type": "code",
   "execution_count": 96,
   "metadata": {
    "scrolled": true
   },
   "outputs": [
    {
     "name": "stdout",
     "output_type": "stream",
     "text": [
      "__________________________________________________________________________________________________\n",
      "Layer (type)                    Output Shape         Param #     Connected to                     \n",
      "==================================================================================================\n",
      "input_15 (InputLayer)           (None, 20)           0                                            \n",
      "__________________________________________________________________________________________________\n",
      "embedding_8 (Embedding)         (None, 20, 128)      57072768    input_15[0][0]                   \n",
      "__________________________________________________________________________________________________\n",
      "lstm_8 (LSTM)                   (None, 128)          131584      embedding_8[0][0]                \n",
      "__________________________________________________________________________________________________\n",
      "input_16 (InputLayer)           (None, 250)          0                                            \n",
      "__________________________________________________________________________________________________\n",
      "concatenate_6 (Concatenate)     (None, 378)          0           lstm_8[0][0]                     \n",
      "                                                                 input_16[0][0]                   \n",
      "__________________________________________________________________________________________________\n",
      "dense_23 (Dense)                (None, 128)          48512       concatenate_6[0][0]              \n",
      "__________________________________________________________________________________________________\n",
      "dropout_21 (Dropout)            (None, 128)          0           dense_23[0][0]                   \n",
      "__________________________________________________________________________________________________\n",
      "dense_24 (Dense)                (None, 64)           8256        dropout_21[0][0]                 \n",
      "__________________________________________________________________________________________________\n",
      "dropout_22 (Dropout)            (None, 64)           0           dense_24[0][0]                   \n",
      "__________________________________________________________________________________________________\n",
      "dense_25 (Dense)                (None, 32)           2080        dropout_22[0][0]                 \n",
      "__________________________________________________________________________________________________\n",
      "dropout_23 (Dropout)            (None, 32)           0           dense_25[0][0]                   \n",
      "__________________________________________________________________________________________________\n",
      "dense_26 (Dense)                (None, 1)            33          dropout_23[0][0]                 \n",
      "==================================================================================================\n",
      "Total params: 57,263,233\n",
      "Trainable params: 57,263,233\n",
      "Non-trainable params: 0\n",
      "__________________________________________________________________________________________________\n"
     ]
    }
   ],
   "source": [
    "# inp1 = Input(shape = (lstm_input.shape[1], ))\n",
    "# inp2 = Input(shape = (graph_input.shape[1], ))\n",
    "# # inp3 = Input(shape = (doc_input.shape[1], ))\n",
    "# embed = Embedding(output_dim=128, input_dim=len(word2idx), input_length=lstm_input.shape[1])(inp1)\n",
    "# out1 = LSTM(128)(embed)\n",
    "# w = concatenate([out1, inp2])\n",
    "# w = Dense(128, activation = 'relu')(w)\n",
    "# w = Dropout(0.2)(w)\n",
    "# w = Dense(64, activation = 'relu')(w)\n",
    "# w = Dropout(0.2)(w)\n",
    "# w = Dense(32, activation = 'relu')(w)\n",
    "# w = Dropout(0.2)(w)\n",
    "# out = Dense(1, activation = 'sigmoid')(w)\n",
    "# model = Model(inputs=[inp1, inp2], outputs=out)\n",
    "# model.compile(optimizer='adam', loss='binary_crossentropy', metrics=['accuracy'])\n",
    "# model.summary()"
   ]
  },
  {
   "cell_type": "code",
   "execution_count": 97,
   "metadata": {},
   "outputs": [
    {
     "name": "stdout",
     "output_type": "stream",
     "text": [
      "Train on 7075834 samples, validate on 1768959 samples\n",
      "Epoch 1/4\n",
      "7075834/7075834 [==============================] - 248s 35us/step - loss: 0.4011 - acc: 0.8251 - val_loss: 0.3412 - val_acc: 0.8467\n",
      "Epoch 2/4\n",
      "7075834/7075834 [==============================] - 244s 35us/step - loss: 0.3334 - acc: 0.8494 - val_loss: 0.3199 - val_acc: 0.8555\n",
      "Epoch 3/4\n",
      "7075834/7075834 [==============================] - 244s 35us/step - loss: 0.3016 - acc: 0.8619 - val_loss: 0.3136 - val_acc: 0.8583\n",
      "Epoch 4/4\n",
      "7075834/7075834 [==============================] - 245s 35us/step - loss: 0.2769 - acc: 0.8727 - val_loss: 0.3205 - val_acc: 0.8580\n"
     ]
    },
    {
     "data": {
      "text/plain": [
       "<keras.callbacks.History at 0x7fc120400290>"
      ]
     },
     "execution_count": 97,
     "metadata": {},
     "output_type": "execute_result"
    }
   ],
   "source": [
    "# # model.fit([lstm_train, graph_train, doc_train], y_train, batch_size = 256, epochs = 3, validation_split = 0.2)\n",
    "# model.fit([lstm_train, graph_train], y_train, batch_size = 8192, epochs = 4, validation_split = 0.2, class_weight = weights)"
   ]
  },
  {
   "cell_type": "code",
   "execution_count": 98,
   "metadata": {},
   "outputs": [
    {
     "data": {
      "text/plain": [
       "0.8578384236152449"
      ]
     },
     "execution_count": 98,
     "metadata": {},
     "output_type": "execute_result"
    }
   ],
   "source": [
    "# y_test_pred = model.predict([lstm_test, graph_test, doc_test])\n",
    "y_test_pred_prob = model.predict([lstm_test, graph_test])\n",
    "\n",
    "y_test_pred = np.where(y_test_pred_prob > 0.5, 1, 0)\n",
    "accuracy_score(y_test, y_test_pred)"
   ]
  },
  {
   "cell_type": "code",
   "execution_count": 100,
   "metadata": {},
   "outputs": [],
   "source": [
    "cm = confusion_matrix(y_test, y_test_pred)"
   ]
  },
  {
   "cell_type": "code",
   "execution_count": 101,
   "metadata": {},
   "outputs": [
    {
     "data": {
      "image/png": "[encoded data removed]",
      "text/plain": [
       "<Figure size 432x288 with 1 Axes>"
      ]
     },
     "metadata": {},
     "output_type": "display_data"
    }
   ],
   "source": [
    "from mlxtend.plotting import plot_confusion_matrix\n",
    "\n",
    "plot_confusion_matrix(cm, show_normed = True);"
   ]
  },
  {
   "cell_type": "code",
   "execution_count": 102,
   "metadata": {},
   "outputs": [
    {
     "data": {
      "text/plain": [
       "0.8862756502902215"
      ]
     },
     "execution_count": 102,
     "metadata": {},
     "output_type": "execute_result"
    }
   ],
   "source": [
    "metrics.roc_auc_score(y_test, y_test_pred_prob)"
   ]
  },
  {
   "cell_type": "code",
   "execution_count": 103,
   "metadata": {},
   "outputs": [],
   "source": [
    "fpr, tpr, _ = metrics.roc_curve(y_test, y_test_pred_prob)"
   ]
  },
  {
   "cell_type": "code",
   "execution_count": 104,
   "metadata": {},
   "outputs": [
    {
     "data": {
      "text/plain": [
       "Text(0.5, 1.0, 'ROC curve')"
      ]
     },
     "execution_count": 104,
     "metadata": {},
     "output_type": "execute_result"
    },
    {
     "data": {
      "image/png": "[encoded data removed]",
      "text/plain": [
       "<Figure size 432x288 with 1 Axes>"
      ]
     },
     "metadata": {},
     "output_type": "display_data"
    }
   ],
   "source": [
    "plt.plot([0,1], [0,1], 'k--')\n",
    "plt.plot(fpr, tpr)\n",
    "plt.xlabel('False positive rate')\n",
    "plt.ylabel('True positive rate')\n",
    "plt.title('ROC curve')"
   ]
  },
  {
   "cell_type": "code",
   "execution_count": null,
   "metadata": {},
   "outputs": [],
   "source": []
  },
  {
   "cell_type": "code",
   "execution_count": null,
   "metadata": {},
   "outputs": [],
   "source": []
  },
  {
   "cell_type": "code",
   "execution_count": null,
   "metadata": {},
   "outputs": [],
   "source": [
    "def compute_abstain_threshold()"
   ]
  },
  {
   "cell_type": "code",
   "execution_count": 72,
   "metadata": {},
   "outputs": [
    {
     "name": "stdout",
     "output_type": "stream",
     "text": [
      "hi\n"
     ]
    }
   ],
   "source": [
    "print('hi')"
   ]
  },
  {
   "cell_type": "code",
   "execution_count": null,
   "metadata": {},
   "outputs": [],
   "source": [
    "def "
   ]
  },
  {
   "cell_type": "code",
   "execution_count": null,
   "metadata": {},
   "outputs": [],
   "source": []
  },
  {
   "cell_type": "code",
   "execution_count": 40,
   "metadata": {},
   "outputs": [],
   "source": [
    "# model.save('../data/model1/model.h5')\n",
    "\n",
    "# np.save(\"../data/model1/lstm_train\", lstm_train)\n",
    "# np.save(\"../data/model1/lstm_iest\", lstm_test)\n",
    "\n",
    "# np.save(\"../data/model1/graph_train\", graph_train)\n",
    "# np.save(\"../data/model1/graph_test\", graph_test)\n",
    "\n",
    "# np.save(\"../data/model1/y_train\", y_train)\n",
    "# np.save(\"../data/model1/y_test\", y_test)"
   ]
  },
  {
   "cell_type": "code",
   "execution_count": null,
   "metadata": {},
   "outputs": [],
   "source": [
    "# y_test_pred = model.predict([lstm_test, graph_test, doc_test])\n",
    "y_test_pred = model.predict([lstm_test, graph_test])\n",
    "\n",
    "y_test_pred = np.where(y_test_pred > 0.25, 1, 0)\n",
    "accuracy_score(y_test, y_test_pred)"
   ]
  },
  {
   "cell_type": "code",
   "execution_count": null,
   "metadata": {},
   "outputs": [],
   "source": [
    "cm = confusion_matrix(y_test, y_test_pred)"
   ]
  },
  {
   "cell_type": "code",
   "execution_count": null,
   "metadata": {},
   "outputs": [],
   "source": [
    "from mlxtend.plotting import plot_confusion_matrix\n",
    "\n",
    "plot_confusion_matrix(cm, show_normed = True);"
   ]
  },
  {
   "cell_type": "code",
   "execution_count": null,
   "metadata": {},
   "outputs": [],
   "source": []
  }
 ],
 "metadata": {
  "kernelspec": {
   "display_name": "capstone",
   "language": "python",
   "name": "capstone"
  },
  "language_info": {
   "codemirror_mode": {
    "name": "ipython",
    "version": 3
   },
   "file_extension": ".py",
   "mimetype": "text/x-python",
   "name": "python",
   "nbconvert_exporter": "python",
   "pygments_lexer": "ipython3",
   "version": "3.7.4"
  }
 },
 "nbformat": 4,
 "nbformat_minor": 2
}
