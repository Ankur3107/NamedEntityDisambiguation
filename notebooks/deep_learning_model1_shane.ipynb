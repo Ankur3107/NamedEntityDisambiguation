{
 "cells": [
  {
   "cell_type": "code",
   "execution_count": 1,
   "metadata": {},
   "outputs": [
    {
     "name": "stderr",
     "output_type": "stream",
     "text": [
      "Using TensorFlow backend.\n"
     ]
    }
   ],
   "source": [
    "import pickle\n",
    "import pandas as pd\n",
    "import numpy as np\n",
    "from tqdm import tqdm_notebook\n",
    "import re\n",
    "import ast\n",
    "import string\n",
    "import unidecode\n",
    "from collections import defaultdict\n",
    "from keras.models import Sequential, Model\n",
    "from keras.preprocessing.sequence import pad_sequences\n",
    "from keras.layers import Dense, LSTM, Embedding, concatenate, Input, Dropout\n",
    "from sklearn.model_selection import train_test_split\n",
    "from sklearn.metrics import confusion_matrix, accuracy_score\n",
    "from sklearn.utils import class_weight\n",
    "from nltk import word_tokenize\n",
    "from nltk.corpus import stopwords"
   ]
  },
  {
   "cell_type": "code",
   "execution_count": 2,
   "metadata": {},
   "outputs": [],
   "source": [
    "import matplotlib.pyplot as plt\n",
    "from sklearn import metrics"
   ]
  },
  {
   "cell_type": "code",
   "execution_count": 3,
   "metadata": {},
   "outputs": [],
   "source": [
    "with open(\"../data/word2idx/word2idx.pkl\", \"rb\") as f:\n",
    "    word2idx = pickle.load(f)\n",
    "    #Map any unknown word to UNKNOWN, which has index 1"
   ]
  },
  {
   "cell_type": "code",
   "execution_count": 4,
   "metadata": {},
   "outputs": [
    {
     "data": {
      "text/plain": [
       "445881"
      ]
     },
     "execution_count": 4,
     "metadata": {},
     "output_type": "execute_result"
    }
   ],
   "source": [
    "len(word2idx)"
   ]
  },
  {
   "cell_type": "code",
   "execution_count": 5,
   "metadata": {},
   "outputs": [],
   "source": [
    "data = pd.read_csv('../data/sample_data_1percent.csv')"
   ]
  },
  {
   "cell_type": "code",
   "execution_count": 6,
   "metadata": {},
   "outputs": [
    {
     "name": "stdout",
     "output_type": "stream",
     "text": [
      "(2459381, 7)\n"
     ]
    },
    {
     "data": {
      "text/html": [
       "<div>\n",
       "<style scoped>\n",
       "    .dataframe tbody tr th:only-of-type {\n",
       "        vertical-align: middle;\n",
       "    }\n",
       "\n",
       "    .dataframe tbody tr th {\n",
       "        vertical-align: top;\n",
       "    }\n",
       "\n",
       "    .dataframe thead th {\n",
       "        text-align: right;\n",
       "    }\n",
       "</style>\n",
       "<table border=\"1\" class=\"dataframe\">\n",
       "  <thead>\n",
       "    <tr style=\"text-align: right;\">\n",
       "      <th></th>\n",
       "      <th>text</th>\n",
       "      <th>link_anchor</th>\n",
       "      <th>link_start</th>\n",
       "      <th>link_end</th>\n",
       "      <th>target_wikidata</th>\n",
       "      <th>tokenized_vector</th>\n",
       "      <th>candidates</th>\n",
       "    </tr>\n",
       "  </thead>\n",
       "  <tbody>\n",
       "    <tr>\n",
       "      <th>0</th>\n",
       "      <td>the academy awards also officially and popular...</td>\n",
       "      <td>film industry</td>\n",
       "      <td>120</td>\n",
       "      <td>133</td>\n",
       "      <td>1415395</td>\n",
       "      <td>[0. 0. 0. 0. 0. 0. 0. 0. 0. 0. 0. 0. 0. 0. 0. ...</td>\n",
       "      <td>[93196.0, 2973146.0, 2973208.0, 2973157.0, 328...</td>\n",
       "    </tr>\n",
       "    <tr>\n",
       "      <th>1</th>\n",
       "      <td>the academy awards also officially and popular...</td>\n",
       "      <td>academy of motion picture arts and sciences</td>\n",
       "      <td>156</td>\n",
       "      <td>199</td>\n",
       "      <td>212329</td>\n",
       "      <td>[0. 0. 0. 0. 0. 0. 0. 0. 0. 0. 0. 0. 0. 0. 0. ...</td>\n",
       "      <td>[212329.0, 212329.0]</td>\n",
       "    </tr>\n",
       "    <tr>\n",
       "      <th>2</th>\n",
       "      <td>the academy awards also officially and popular...</td>\n",
       "      <td>art deco</td>\n",
       "      <td>551</td>\n",
       "      <td>559</td>\n",
       "      <td>173782</td>\n",
       "      <td>[0. 0. 0. 0. 0. 0. 0. 0. 0. 0. 0. 0. 0. 0. 0. ...</td>\n",
       "      <td>[173782.0, 4824850.0, 4796770.0, 23307613.0, 2...</td>\n",
       "    </tr>\n",
       "    <tr>\n",
       "      <th>3</th>\n",
       "      <td>the academy awards also officially and popular...</td>\n",
       "      <td>george stanley</td>\n",
       "      <td>603</td>\n",
       "      <td>617</td>\n",
       "      <td>5544783</td>\n",
       "      <td>[0. 0. 0. 0. 0. 0. 0. 0. 0. 0. 0. 0. 0. 0. 0. ...</td>\n",
       "      <td>[3101928.0, 5539480.0, 5544780.0, 5544779.0, 5...</td>\n",
       "    </tr>\n",
       "    <tr>\n",
       "      <th>4</th>\n",
       "      <td>the academy awards also officially and popular...</td>\n",
       "      <td>cedric gibbons</td>\n",
       "      <td>642</td>\n",
       "      <td>656</td>\n",
       "      <td>727904</td>\n",
       "      <td>[0. 0. 0. 0. 0. 0. 0. 0. 0. 0. 0. 0. 0. 0. 0. ...</td>\n",
       "      <td>[727904.0, 5057103.0]</td>\n",
       "    </tr>\n",
       "  </tbody>\n",
       "</table>\n",
       "</div>"
      ],
      "text/plain": [
       "                                                text  \\\n",
       "0  the academy awards also officially and popular...   \n",
       "1  the academy awards also officially and popular...   \n",
       "2  the academy awards also officially and popular...   \n",
       "3  the academy awards also officially and popular...   \n",
       "4  the academy awards also officially and popular...   \n",
       "\n",
       "                                   link_anchor  link_start  link_end  \\\n",
       "0                                film industry         120       133   \n",
       "1  academy of motion picture arts and sciences         156       199   \n",
       "2                                     art deco         551       559   \n",
       "3                               george stanley         603       617   \n",
       "4                               cedric gibbons         642       656   \n",
       "\n",
       "   target_wikidata                                   tokenized_vector  \\\n",
       "0          1415395  [0. 0. 0. 0. 0. 0. 0. 0. 0. 0. 0. 0. 0. 0. 0. ...   \n",
       "1           212329  [0. 0. 0. 0. 0. 0. 0. 0. 0. 0. 0. 0. 0. 0. 0. ...   \n",
       "2           173782  [0. 0. 0. 0. 0. 0. 0. 0. 0. 0. 0. 0. 0. 0. 0. ...   \n",
       "3          5544783  [0. 0. 0. 0. 0. 0. 0. 0. 0. 0. 0. 0. 0. 0. 0. ...   \n",
       "4           727904  [0. 0. 0. 0. 0. 0. 0. 0. 0. 0. 0. 0. 0. 0. 0. ...   \n",
       "\n",
       "                                          candidates  \n",
       "0  [93196.0, 2973146.0, 2973208.0, 2973157.0, 328...  \n",
       "1                               [212329.0, 212329.0]  \n",
       "2  [173782.0, 4824850.0, 4796770.0, 23307613.0, 2...  \n",
       "3  [3101928.0, 5539480.0, 5544780.0, 5544779.0, 5...  \n",
       "4                              [727904.0, 5057103.0]  "
      ]
     },
     "metadata": {},
     "output_type": "display_data"
    }
   ],
   "source": [
    "conditions = data.link_anchor.str.contains('#', na=False)\n",
    "data = data[~conditions]\n",
    "data = data.reset_index().drop('index', axis=1)\n",
    "\n",
    "print(data.shape)\n",
    "display(data.head())"
   ]
  },
  {
   "cell_type": "code",
   "execution_count": null,
   "metadata": {},
   "outputs": [],
   "source": [
    "import spacy\n",
    "nlp = spacy"
   ]
  },
  {
   "cell_type": "code",
   "execution_count": 9,
   "metadata": {},
   "outputs": [],
   "source": [
    "# get necessary data\n",
    "with open('../data/knowledge_graph_data/id2text_entity.pickle', 'rb') as f:\n",
    "    id2text = pickle.load(f)\n",
    "    \n",
    "with open('../data/name_to_wiki_id.pkl', 'rb') as f:\n",
    "    name_to_wiki_id = pickle.load(f)\n",
    "    \n",
    "with open('../data/knowledge_graph_data/idx2id_entity.pickle', 'rb') as f:\n",
    "    idx2id = pickle.load(f)\n",
    "    \n",
    "id2idx = {value: key for key, value in idx2id.items()}\n",
    "\n",
    "graph_embedding = np.load('../data/knowledge_graph_data/wiki_DistMult_entity.npy') "
   ]
  },
  {
   "cell_type": "code",
   "execution_count": 11,
   "metadata": {},
   "outputs": [],
   "source": [
    "#window length actually 2 times this since from both sides\n",
    "window_length = 10"
   ]
  },
  {
   "cell_type": "code",
   "execution_count": 16,
   "metadata": {},
   "outputs": [
    {
     "data": {
      "application/vnd.jupyter.widget-view+json": {
       "model_id": "420ee5d4d1e440108a9a56ffd433f276",
       "version_major": 2,
       "version_minor": 0
      },
      "text/plain": [
       "HBox(children=(IntProgress(value=0, max=2459381), HTML(value='')))"
      ]
     },
     "metadata": {},
     "output_type": "display_data"
    },
    {
     "name": "stdout",
     "output_type": "stream",
     "text": [
      "\n"
     ]
    },
    {
     "ename": "NameError",
     "evalue": "name 'lstm_input' is not defined",
     "output_type": "error",
     "traceback": [
      "\u001b[0;31m---------------------------------------------------------------------------\u001b[0m",
      "\u001b[0;31mNameError\u001b[0m                                 Traceback (most recent call last)",
      "\u001b[0;32m<ipython-input-16-775170271fa3>\u001b[0m in \u001b[0;36m<module>\u001b[0;34m()\u001b[0m\n\u001b[1;32m     62\u001b[0m             \u001b[0;31m#not_in_graph.append(entity_id)\u001b[0m\u001b[0;34m\u001b[0m\u001b[0;34m\u001b[0m\u001b[0;34m\u001b[0m\u001b[0m\n\u001b[1;32m     63\u001b[0m \u001b[0;34m\u001b[0m\u001b[0m\n\u001b[0;32m---> 64\u001b[0;31m \u001b[0mlstm_input\u001b[0m \u001b[0;34m=\u001b[0m \u001b[0mpad_sequences\u001b[0m\u001b[0;34m(\u001b[0m\u001b[0mlstm_input\u001b[0m\u001b[0;34m,\u001b[0m \u001b[0mmaxlen\u001b[0m \u001b[0;34m=\u001b[0m \u001b[0mwindow_length\u001b[0m \u001b[0;34m*\u001b[0m \u001b[0;36m2\u001b[0m\u001b[0;34m,\u001b[0m \u001b[0mpadding\u001b[0m \u001b[0;34m=\u001b[0m \u001b[0;34m'post'\u001b[0m\u001b[0;34m)\u001b[0m\u001b[0;34m\u001b[0m\u001b[0;34m\u001b[0m\u001b[0m\n\u001b[0m\u001b[1;32m     65\u001b[0m \u001b[0mgraph_input\u001b[0m \u001b[0;34m=\u001b[0m \u001b[0mnp\u001b[0m\u001b[0;34m.\u001b[0m\u001b[0marray\u001b[0m\u001b[0;34m(\u001b[0m\u001b[0mgraph_input\u001b[0m\u001b[0;34m)\u001b[0m\u001b[0;34m\u001b[0m\u001b[0;34m\u001b[0m\u001b[0m\n\u001b[1;32m     66\u001b[0m \u001b[0;31m# doc_input = np.array(doc_input)\u001b[0m\u001b[0;34m\u001b[0m\u001b[0;34m\u001b[0m\u001b[0;34m\u001b[0m\u001b[0m\n",
      "\u001b[0;31mNameError\u001b[0m: name 'lstm_input' is not defined"
     ]
    }
   ],
   "source": [
    "#window length actually 2 times this since from both sides\n",
    "window_length = 10\n",
    "\n",
    "#For each of the entities in each of the rows, make word2idx vector using context window and also get graph embedding.\n",
    "try:\n",
    "    lstm_input_list = np.load(\"../data/model1/lstm_input_list.npy\", allow_pickle = True)\n",
    "    graph_input_list = np.load(\"../data/model1/graph_input_list.npy\", allow_pickle = True)\n",
    "except FileNotFoundError:\n",
    "\n",
    "\n",
    "    lstm_input_list = []\n",
    "    # corresponds to each candidate\n",
    "    graph_input_list = []\n",
    "\n",
    "    for i, article in tqdm_notebook(data.iterrows(), total = len(data)):\n",
    "        text = article['text']\n",
    "    #     doc_embedding = docs[i][0]\n",
    "    #     for entity, indices in article[1].items():\n",
    "        name = article['link_anchor']\n",
    "        entity_id = article['target_wikidata']\n",
    "        #Don't include actual entity text for now in context window since doing fixed length? \n",
    "        indices = np.array([int(c) for c in list(article['tokenized_vector']) if c.isdigit()])\n",
    "        entity_idx = np.where(indices == 1)[0]\n",
    "        if len(entity_idx):\n",
    "            split_text = text.split()\n",
    "            context = split_text[max(0, entity_idx.min() - window_length) : entity_idx.min()] +\\\n",
    "                      split_text[entity_idx.max() + 1 : entity_idx.max() + window_length + 1] \n",
    "            #if word not in vocab, by default map to 1\n",
    "            context_word2idx = [word2idx.get(word, 1) for word in context]\n",
    "        \n",
    "            #storing list of candidates in knowledge graph\n",
    "            kge_candidates = []\n",
    "        \n",
    "            #get a candidate from candidate_dict to get a false, irrelevant entity for each entity\n",
    "            if not pd.isnull(article['candidates']):\n",
    "                candidates_list = ast.literal_eval(article['candidates'])[:10]\n",
    "                #can't choose actual entity as false \n",
    "                if entity_id in candidates_list:\n",
    "                    candidates_list.remove(entity_id)\n",
    "                if len(candidates_list) > 0:\n",
    "                    for false_entity_id in candidates_list:\n",
    "                        if false_entity_id in id2idx:\n",
    "                            false_graph_embed = graph_embedding[id2idx[false_entity_id]]\n",
    "                            #lstm_input.append(context_word2idx)\n",
    "                            #graph_input.append(false_graph_embed)\n",
    "            #                 doc_input.append(doc_embedding)\n",
    "                            #response.append(0)\n",
    "                            kge_candidates.append(false_graph_embed)\n",
    "                        else:\n",
    "                            pass\n",
    "                            #not_in_graph.append(false_entity_id)\n",
    "            if entity_id in id2idx:\n",
    "                true_graph_embed = graph_embedding[id2idx[entity_id]]\n",
    "                #lstm_input.append(context_word2idx)\n",
    "                #graph_input.append(true_graph_embed)\n",
    "        #         doc_input.append(doc_embedding)\n",
    "                #response.append(1)\n",
    "                # this means that last index is always the true embedding\n",
    "                kge_candidates.append(true_graph_embed)\n",
    "                lstm_input_list.append(context_word2idx)\n",
    "                graph_input_list.append(np.array(kge_candidates))\n",
    "        \n",
    "            else:\n",
    "                pass\n",
    "                #not_in_graph.append(entity_id)\n",
    "            \n",
    "    #lstm_input = pad_sequences(lstm_input, maxlen = window_length * 2, padding = 'post')\n",
    "    # graph_input = np.array(graph_input)\n",
    "    # # doc_input = np.array(doc_input)\n",
    "    # response = np.array(response)\n",
    "    \n",
    "    lstm_input_list = np.array(lstm_input_list)\n",
    "    graph_input_list = np.array(graph_input_list)\n",
    "    \n",
    "    np.save(\"../data/model1/lstm_input_list.npy\", lstm_input_list)\n",
    "    np.save(\"../data/model1/graph_input_list.npy\", graph_input_list)"
   ]
  },
  {
   "cell_type": "code",
   "execution_count": 29,
   "metadata": {},
   "outputs": [],
   "source": [
    "# np.save(\"../data/model1/lstm_input.pkl\", lstm_input)\n",
    "# np.save(\"../data/model1/graph_input.pkl\", graph_input)\n",
    "# np.save(\"../data/model1/response.pkl\", response)"
   ]
  },
  {
   "cell_type": "code",
   "execution_count": 10,
   "metadata": {},
   "outputs": [],
   "source": [
    "# lstm_input = np.load(\"../data/model1/lstm_input.pkl.npy\")\n",
    "# graph_input = np.load(\"../data/model1/graph_input.pkl.npy\")\n",
    "# response = np.load(\"../data/model1/response.pkl.npy\")"
   ]
  },
  {
   "cell_type": "code",
   "execution_count": 15,
   "metadata": {},
   "outputs": [
    {
     "data": {
      "text/plain": [
       "(8844793, 2948265)"
      ]
     },
     "execution_count": 15,
     "metadata": {},
     "output_type": "execute_result"
    }
   ],
   "source": [
    "# np.random.seed(1)\n",
    "\n",
    "# train_ind, test_ind = train_test_split(np.arange(len(response)))\n",
    "# lstm_train = lstm_input[train_ind]\n",
    "# lstm_test = lstm_input[test_ind]\n",
    "# graph_train = graph_input[train_ind]\n",
    "# graph_test = graph_input[test_ind]\n",
    "# # doc_train = doc_input[train_ind]\n",
    "# # doc_test = doc_input[test_ind]\n",
    "# y_train = response[train_ind]\n",
    "# y_test = response[test_ind]\n",
    "\n",
    "# len(y_train), len(y_test)"
   ]
  },
  {
   "cell_type": "code",
   "execution_count": 6,
   "metadata": {},
   "outputs": [],
   "source": [
    "# train test split\n",
    "np.random.seed(1)\n",
    "\n",
    "train_idx, test_idx = train_test_split(np.arange(len(lstm_input_list)), test_size=0.2)\n",
    "\n",
    "print('Training Set Size: {}, Test Set Size: {}'.format(len(train_idx), len(test_idx)))"
   ]
  },
  {
   "cell_type": "code",
   "execution_count": 28,
   "metadata": {},
   "outputs": [],
   "source": [
    "def build_data(lstm_input_list, graph_input_list, indices):\n",
    "    # construct lstm, graph set based on indices\n",
    "    lstm_data = []\n",
    "    graph_data = []\n",
    "    response = []\n",
    "    for ind in indices:\n",
    "        lstm_inp = lstm_input_list[ind]\n",
    "        graph_inp = graph_input_list[ind]\n",
    "        for i, kge in enumerate(graph_inp):\n",
    "            lstm_data.append(lstm_inp)\n",
    "            graph_data.append(kge)\n",
    "            if i == len(graph_inp)-1:\n",
    "                response.append(1)\n",
    "            else:\n",
    "                response.append(0)\n",
    "    lstm_data = np.array(lstm_data)\n",
    "    lstm_data = pad_sequences(lstm_data, maxlen = window_length * 2, padding = 'post')\n",
    "    graph_data = np.array(graph_data)\n",
    "    response = np.array(response)\n",
    "\n",
    "    return lstm_data, graph_data, response"
   ]
  },
  {
   "cell_type": "code",
   "execution_count": 12,
   "metadata": {},
   "outputs": [],
   "source": [
    "lstm_train, graph_train, y_train = build_data(lstm_input_list, graph_input_list, train_idx)\n",
    "lstm_test, graph_test, y_test = build_data(lstm_input_list, graph_input_list, test_idx)"
   ]
  },
  {
   "cell_type": "code",
   "execution_count": 30,
   "metadata": {},
   "outputs": [],
   "source": [
    "weights = class_weight.compute_class_weight('balanced',\n",
    "                                            np.unique(y_train),\n",
    "                                            y_train)"
   ]
  },
  {
   "cell_type": "code",
   "execution_count": 21,
   "metadata": {
    "scrolled": true
   },
   "outputs": [
    {
     "name": "stderr",
     "output_type": "stream",
     "text": [
      "W1111 20:41:45.244285 140108875978560 deprecation_wrapper.py:119] From /home/matteo/.local/lib/python3.7/site-packages/keras/backend/tensorflow_backend.py:4138: The name tf.random_uniform is deprecated. Please use tf.random.uniform instead.\n",
      "\n",
      "W1111 20:41:45.705070 140108875978560 deprecation_wrapper.py:119] From /home/matteo/.local/lib/python3.7/site-packages/keras/backend/tensorflow_backend.py:133: The name tf.placeholder_with_default is deprecated. Please use tf.compat.v1.placeholder_with_default instead.\n",
      "\n",
      "W1111 20:41:45.714592 140108875978560 deprecation.py:506] From /home/matteo/.local/lib/python3.7/site-packages/keras/backend/tensorflow_backend.py:3445: calling dropout (from tensorflow.python.ops.nn_ops) with keep_prob is deprecated and will be removed in a future version.\n",
      "Instructions for updating:\n",
      "Please use `rate` instead of `keep_prob`. Rate should be set to `rate = 1 - keep_prob`.\n",
      "W1111 20:41:45.753077 140108875978560 deprecation_wrapper.py:119] From /home/matteo/.local/lib/python3.7/site-packages/keras/optimizers.py:790: The name tf.train.Optimizer is deprecated. Please use tf.compat.v1.train.Optimizer instead.\n",
      "\n",
      "W1111 20:41:45.777718 140108875978560 deprecation_wrapper.py:119] From /home/matteo/.local/lib/python3.7/site-packages/keras/backend/tensorflow_backend.py:3376: The name tf.log is deprecated. Please use tf.math.log instead.\n",
      "\n",
      "W1111 20:41:45.783854 140108875978560 deprecation.py:323] From /home/matteo/.conda/envs/capstone/lib/python3.7/site-packages/tensorflow/python/ops/nn_impl.py:180: add_dispatch_support.<locals>.wrapper (from tensorflow.python.ops.array_ops) is deprecated and will be removed in a future version.\n",
      "Instructions for updating:\n",
      "Use tf.where in 2.0, which has the same broadcast rule as np.where\n"
     ]
    },
    {
     "name": "stdout",
     "output_type": "stream",
     "text": [
      "__________________________________________________________________________________________________\n",
      "Layer (type)                    Output Shape         Param #     Connected to                     \n",
      "==================================================================================================\n",
      "input_3 (InputLayer)            (None, 20)           0                                            \n",
      "__________________________________________________________________________________________________\n",
      "embedding_1 (Embedding)         (None, 20, 100)      44588100    input_3[0][0]                    \n",
      "__________________________________________________________________________________________________\n",
      "lstm_1 (LSTM)                   (None, 128)          117248      embedding_1[0][0]                \n",
      "__________________________________________________________________________________________________\n",
      "input_4 (InputLayer)            (None, 250)          0                                            \n",
      "__________________________________________________________________________________________________\n",
      "concatenate_1 (Concatenate)     (None, 378)          0           lstm_1[0][0]                     \n",
      "                                                                 input_4[0][0]                    \n",
      "__________________________________________________________________________________________________\n",
      "dense_1 (Dense)                 (None, 256)          97024       concatenate_1[0][0]              \n",
      "__________________________________________________________________________________________________\n",
      "dropout_1 (Dropout)             (None, 256)          0           dense_1[0][0]                    \n",
      "__________________________________________________________________________________________________\n",
      "dense_2 (Dense)                 (None, 1)            257         dropout_1[0][0]                  \n",
      "==================================================================================================\n",
      "Total params: 44,802,629\n",
      "Trainable params: 44,802,629\n",
      "Non-trainable params: 0\n",
      "__________________________________________________________________________________________________\n"
     ]
    }
   ],
   "source": [
    "inp1 = Input(shape = (lstm_train.shape[1], ))\n",
    "inp2 = Input(shape = (graph_train.shape[1], ))\n",
    "# inp3 = Input(shape = (doc_input.shape[1], ))\n",
    "embed = Embedding(output_dim=100, input_dim=len(word2idx), input_length=lstm_train.shape[1])(inp1)\n",
    "out1 = LSTM(128)(embed)\n",
    "w = concatenate([out1, inp2])\n",
    "w = Dense(256, activation = 'relu')(w)\n",
    "w = Dropout(0.2)(w)\n",
    "out = Dense(1, activation = 'sigmoid')(w)\n",
    "model = Model(inputs=[inp1, inp2], outputs=out)\n",
    "model.compile(optimizer='adam', loss='binary_crossentropy', metrics=['accuracy'])\n",
    "model.summary()"
   ]
  },
  {
   "cell_type": "code",
   "execution_count": 95,
   "metadata": {},
   "outputs": [
    {
     "name": "stdout",
     "output_type": "stream",
     "text": [
      "Train on 7490784 samples, validate on 1872697 samples\n",
      "Epoch 1/4\n",
      "7490784/7490784 [==============================] - 118s 16us/step - loss: 0.3947 - acc: 0.8275 - val_loss: 0.3468 - val_acc: 0.8453\n",
      "Epoch 2/4\n",
      "7490784/7490784 [==============================] - 117s 16us/step - loss: 0.3301 - acc: 0.8515 - val_loss: 0.3178 - val_acc: 0.8581\n",
      "Epoch 3/4\n",
      "7490784/7490784 [==============================] - 117s 16us/step - loss: 0.2974 - acc: 0.8653 - val_loss: 0.3062 - val_acc: 0.8641\n",
      "Epoch 4/4\n",
      "7490784/7490784 [==============================] - 117s 16us/step - loss: 0.2727 - acc: 0.8761 - val_loss: 0.3031 - val_acc: 0.8661\n"
     ]
    },
    {
     "data": {
      "text/plain": [
       "<keras.callbacks.History at 0x7f7d0bfbf8d0>"
      ]
     },
     "execution_count": 95,
     "metadata": {},
     "output_type": "execute_result"
    }
   ],
   "source": [
    "# model.fit([lstm_train, graph_train, doc_train], y_train, batch_size = 256, epochs = 3, validation_split = 0.2)\n",
    "model.fit([lstm_train, graph_train], y_train, batch_size = 8192, epochs = 4, validation_split = 0.2, class_weight = weights)"
   ]
  },
  {
   "cell_type": "code",
   "execution_count": 96,
   "metadata": {},
   "outputs": [
    {
     "data": {
      "text/plain": [
       "0.8662181277972191"
      ]
     },
     "execution_count": 96,
     "metadata": {},
     "output_type": "execute_result"
    }
   ],
   "source": [
    "# y_test_pred = model.predict([lstm_test, graph_test, doc_test])\n",
    "y_test_pred_prob = model.predict([lstm_test, graph_test])\n",
    "\n",
    "y_test_pred = np.where(y_test_pred_prob > 0.5, 1, 0)\n",
    "accuracy_score(y_test, y_test_pred)"
   ]
  },
  {
   "cell_type": "code",
   "execution_count": 97,
   "metadata": {},
   "outputs": [],
   "source": [
    "cm = confusion_matrix(y_test, y_test_pred)"
   ]
  },
  {
   "cell_type": "code",
   "execution_count": 98,
   "metadata": {},
   "outputs": [
    {
     "data": {
      "image/png": "[encoded data removed]",
      "text/plain": [
       "<Figure size 432x288 with 1 Axes>"
      ]
     },
     "metadata": {},
     "output_type": "display_data"
    }
   ],
   "source": [
    "from mlxtend.plotting import plot_confusion_matrix\n",
    "\n",
    "plot_confusion_matrix(cm, show_normed = True);"
   ]
  },
  {
   "cell_type": "code",
   "execution_count": 99,
   "metadata": {},
   "outputs": [
    {
     "data": {
      "text/plain": [
       "0.8992317949581741"
      ]
     },
     "execution_count": 99,
     "metadata": {},
     "output_type": "execute_result"
    }
   ],
   "source": [
    "metrics.roc_auc_score(y_test, y_test_pred_prob)"
   ]
  },
  {
   "cell_type": "code",
   "execution_count": 100,
   "metadata": {},
   "outputs": [],
   "source": [
    "fpr, tpr, _ = metrics.roc_curve(y_test, y_test_pred_prob)"
   ]
  },
  {
   "cell_type": "code",
   "execution_count": 101,
   "metadata": {},
   "outputs": [
    {
     "data": {
      "text/plain": [
       "Text(0.5, 1.0, 'ROC curve')"
      ]
     },
     "execution_count": 101,
     "metadata": {},
     "output_type": "execute_result"
    },
    {
     "data": {
      "image/png": "[encoded data removed]",
      "text/plain": [
       "<Figure size 432x288 with 1 Axes>"
      ]
     },
     "metadata": {},
     "output_type": "display_data"
    }
   ],
   "source": [
    "plt.plot([0,1], [0,1], 'k--')\n",
    "plt.plot(fpr, tpr)\n",
    "plt.xlabel('False positive rate')\n",
    "plt.ylabel('True positive rate')\n",
    "plt.title('ROC curve')"
   ]
  },
  {
   "cell_type": "code",
   "execution_count": 47,
   "metadata": {},
   "outputs": [],
   "source": [
    "# see prediction score on candidate list\n",
    "\n",
    "# find cutoff\n",
    "# offset of where the true index is\n",
    "cutoffs = [0]\n",
    "for ind in test_idx:\n",
    "    graph_inp = graph_input_list[ind]\n",
    "    cutoffs.append(cutoffs[-1] + len(graph_inp))"
   ]
  },
  {
   "cell_type": "code",
   "execution_count": 174,
   "metadata": {
    "scrolled": true
   },
   "outputs": [
    {
     "name": "stdout",
     "output_type": "stream",
     "text": [
      "[0.01729989] [0.02396834]\n",
      "[0.32298976] [0.3544377]\n",
      "[0.18044725] [0.2968958]\n",
      "[0.28315234] [0.28633875]\n",
      "[0.08612305] [0.31351438]\n",
      "[0.55070865] [0.6028807]\n",
      "[0.35431233] [0.5716927]\n",
      "[0.19054782] [0.37446225]\n",
      "[0.13249263] [0.54841304]\n",
      "[0.32559013] [0.58030134]\n",
      "[0.28484526] [0.83727324]\n",
      "[0.2629851] [0.40478578]\n",
      "[0.08219287] [0.5176184]\n",
      "[0.12858799] [0.1606648]\n",
      "[0.50938183] [0.73565733]\n",
      "[0.44300902] [0.5855285]\n",
      "[0.363913] [0.4488064]\n",
      "[0.7684406] [0.87551075]\n",
      "[0.54154724] [0.5485639]\n",
      "[0.20312539] [0.35756332]\n",
      "[0.19594243] [0.20610839]\n",
      "[0.5074946] [0.56297266]\n",
      "[0.2570477] [0.257521]\n",
      "[0.23742947] [0.64808106]\n",
      "[0.0569424] [0.30480427]\n",
      "[0.2340967] [0.2588004]\n",
      "[0.12902698] [0.67055833]\n",
      "[0.38749236] [0.73769647]\n",
      "[0.06655031] [0.56181115]\n",
      "[0.40871948] [0.44199568]\n",
      "[0.18334278] [0.19862235]\n",
      "[0.39908248] [0.5068826]\n",
      "[0.33775038] [0.42255723]\n",
      "[0.27888238] [0.28611928]\n",
      "[0.72619474] [0.7747072]\n",
      "[0.48645335] [0.6405939]\n",
      "[0.05742076] [0.16479048]\n",
      "[0.03145665] [0.65452254]\n",
      "[0.5342952] [0.7593354]\n",
      "[0.18748692] [0.7265367]\n",
      "[0.2017304] [0.26220155]\n",
      "[0.07189369] [0.26278234]\n",
      "[0.68698937] [0.7728828]\n",
      "[0.43746638] [0.652375]\n",
      "[0.35649043] [0.40740645]\n",
      "[0.46935618] [0.8983472]\n",
      "[0.2011494] [0.59886324]\n",
      "[0.01650533] [0.02230993]\n",
      "[0.05884203] [0.3143602]\n",
      "[0.31608164] [0.42894202]\n",
      "[0.31484693] [0.5124078]\n",
      "[0.02124137] [0.0484612]\n",
      "[0.66145635] [0.7555443]\n",
      "[0.34527144] [0.5081554]\n",
      "[0.40830237] [0.47914517]\n",
      "[0.3025732] [0.31913748]\n",
      "[0.26740846] [0.63363767]\n",
      "[0.20271572] [0.38003027]\n",
      "[0.11180311] [0.20124155]\n",
      "[0.6690902] [0.71151346]\n",
      "[0.25438544] [0.8161251]\n",
      "[0.14081717] [0.4182434]\n",
      "[0.22443184] [0.7212559]\n",
      "[0.19081679] [0.60316014]\n",
      "[0.17039883] [0.22063276]\n",
      "[0.220851] [0.32313552]\n",
      "[0.22634396] [0.28093207]\n",
      "[0.07754433] [0.3567408]\n",
      "[0.13457781] [0.26131892]\n",
      "[0.01870075] [0.06246051]\n",
      "[0.22290373] [0.3323624]\n",
      "[0.35627204] [0.5537323]\n",
      "[0.11194131] [0.14590287]\n",
      "[0.33054417] [0.42378813]\n",
      "[0.01160735] [0.12693685]\n",
      "[0.41007948] [0.44259953]\n",
      "[0.00412592] [0.01722214]\n",
      "[0.04548782] [0.19561687]\n",
      "[0.01557285] [0.04660249]\n",
      "[0.02904642] [0.43956473]\n",
      "[0.43973726] [0.50354]\n",
      "[0.06269735] [0.47429076]\n",
      "[0.5012047] [0.97319055]\n",
      "[0.38741] [0.74795765]\n",
      "[0.18739551] [0.32435074]\n",
      "[0.64664936] [0.9586613]\n",
      "[0.36689] [0.40852696]\n",
      "[0.53743404] [0.8758445]\n",
      "[0.5154377] [0.6902114]\n",
      "[0.32294634] [0.42171377]\n",
      "[0.081175] [0.10251972]\n",
      "[0.19892108] [0.23011178]\n",
      "[0.55002064] [0.71507096]\n",
      "[0.2167238] [0.3659398]\n",
      "[0.18697387] [0.3478104]\n",
      "[0.19609287] [0.41745937]\n",
      "[0.4067964] [0.5367893]\n",
      "[0.42078894] [0.81201434]\n",
      "[0.28286088] [0.29158667]\n",
      "[0.09222713] [0.55313575]\n"
     ]
    }
   ],
   "source": [
    "candidate_test_acc = .0\n",
    "count = len(cutoffs) - 1\n",
    "print_count = 100\n",
    "for start_idx, end_idx in zip(cutoffs, cutoffs[1:]):\n",
    "    probs = y_test_pred_prob[start_idx:end_idx]\n",
    "    #if np.argmax(probs) == len(probs) - 1:\n",
    "    if max(probs) == probs[-1]:\n",
    "        if np.random.randint(sum(probs == probs[-1])) == 0:\n",
    "            candidate_test_acc += 1\n",
    "    else:\n",
    "        if print_count:\n",
    "            print(probs[-1], max(probs))\n",
    "            print_count -= 1\n",
    "candidate_test_acc /= count"
   ]
  },
  {
   "cell_type": "code",
   "execution_count": 176,
   "metadata": {},
   "outputs": [
    {
     "data": {
      "text/plain": [
       "0.749747669528891"
      ]
     },
     "execution_count": 176,
     "metadata": {},
     "output_type": "execute_result"
    }
   ],
   "source": [
    "candidate_test_acc"
   ]
  }
 ],
 "metadata": {
  "kernelspec": {
   "display_name": "capstone",
   "language": "python",
   "name": "capstone"
  },
  "language_info": {
   "codemirror_mode": {
    "name": "ipython",
    "version": 3
   },
   "file_extension": ".py",
   "mimetype": "text/x-python",
   "name": "python",
   "nbconvert_exporter": "python",
   "pygments_lexer": "ipython3",
   "version": "3.7.4"
  }
 },
 "nbformat": 4,
 "nbformat_minor": 2
}
