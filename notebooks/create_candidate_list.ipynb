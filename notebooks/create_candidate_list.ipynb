{
 "cells": [
  {
   "cell_type": "code",
   "execution_count": 1,
   "metadata": {},
   "outputs": [],
   "source": [
    "import pandas as pd"
   ]
  },
  {
   "cell_type": "code",
   "execution_count": 2,
   "metadata": {},
   "outputs": [
    {
     "data": {
      "text/html": [
       "<div>\n",
       "<style scoped>\n",
       "    .dataframe tbody tr th:only-of-type {\n",
       "        vertical-align: middle;\n",
       "    }\n",
       "\n",
       "    .dataframe tbody tr th {\n",
       "        vertical-align: top;\n",
       "    }\n",
       "\n",
       "    .dataframe thead th {\n",
       "        text-align: right;\n",
       "    }\n",
       "</style>\n",
       "<table border=\"1\" class=\"dataframe\">\n",
       "  <thead>\n",
       "    <tr style=\"text-align: right;\">\n",
       "      <th></th>\n",
       "      <th>anchor_text</th>\n",
       "      <th>target_page_id</th>\n",
       "      <th>target_wikidata_numeric_id</th>\n",
       "      <th>anchor_target_count</th>\n",
       "      <th>anchor_frac</th>\n",
       "      <th>target_frac</th>\n",
       "    </tr>\n",
       "  </thead>\n",
       "  <tbody>\n",
       "    <tr>\n",
       "      <th>0</th>\n",
       "      <td>Adaptive technology</td>\n",
       "      <td>653.0</td>\n",
       "      <td>688498.0</td>\n",
       "      <td>4</td>\n",
       "      <td>1.000000</td>\n",
       "      <td>0.013605</td>\n",
       "    </tr>\n",
       "    <tr>\n",
       "      <th>1</th>\n",
       "      <td>assistive technology</td>\n",
       "      <td>653.0</td>\n",
       "      <td>688498.0</td>\n",
       "      <td>133</td>\n",
       "      <td>0.985185</td>\n",
       "      <td>0.452381</td>\n",
       "    </tr>\n",
       "    <tr>\n",
       "      <th>2</th>\n",
       "      <td>Adaptive Design</td>\n",
       "      <td>653.0</td>\n",
       "      <td>688498.0</td>\n",
       "      <td>2</td>\n",
       "      <td>1.000000</td>\n",
       "      <td>0.006803</td>\n",
       "    </tr>\n",
       "    <tr>\n",
       "      <th>3</th>\n",
       "      <td>assistive device</td>\n",
       "      <td>653.0</td>\n",
       "      <td>688498.0</td>\n",
       "      <td>14</td>\n",
       "      <td>1.000000</td>\n",
       "      <td>0.047619</td>\n",
       "    </tr>\n",
       "    <tr>\n",
       "      <th>4</th>\n",
       "      <td>assistance</td>\n",
       "      <td>653.0</td>\n",
       "      <td>688498.0</td>\n",
       "      <td>2</td>\n",
       "      <td>0.100000</td>\n",
       "      <td>0.006803</td>\n",
       "    </tr>\n",
       "  </tbody>\n",
       "</table>\n",
       "</div>"
      ],
      "text/plain": [
       "            anchor_text  target_page_id  target_wikidata_numeric_id  \\\n",
       "0   Adaptive technology           653.0                    688498.0   \n",
       "1  assistive technology           653.0                    688498.0   \n",
       "2       Adaptive Design           653.0                    688498.0   \n",
       "3      assistive device           653.0                    688498.0   \n",
       "4            assistance           653.0                    688498.0   \n",
       "\n",
       "   anchor_target_count  anchor_frac  target_frac  \n",
       "0                    4     1.000000     0.013605  \n",
       "1                  133     0.985185     0.452381  \n",
       "2                    2     1.000000     0.006803  \n",
       "3                   14     1.000000     0.047619  \n",
       "4                    2     0.100000     0.006803  "
      ]
     },
     "execution_count": 2,
     "metadata": {},
     "output_type": "execute_result"
    }
   ],
   "source": [
    "anchors = pd.read_csv('../data/raw/enwiki_20190801.k_raw_anchors.csv')\n",
    "anchors.dropna(inplace=True)\n",
    "anchors.head()"
   ]
  },
  {
   "cell_type": "code",
   "execution_count": 5,
   "metadata": {},
   "outputs": [
    {
     "data": {
      "text/html": [
       "<div>\n",
       "<style scoped>\n",
       "    .dataframe tbody tr th:only-of-type {\n",
       "        vertical-align: middle;\n",
       "    }\n",
       "\n",
       "    .dataframe tbody tr th {\n",
       "        vertical-align: top;\n",
       "    }\n",
       "\n",
       "    .dataframe thead th {\n",
       "        text-align: right;\n",
       "    }\n",
       "</style>\n",
       "<table border=\"1\" class=\"dataframe\">\n",
       "  <thead>\n",
       "    <tr style=\"text-align: right;\">\n",
       "      <th></th>\n",
       "      <th>anchor_text</th>\n",
       "      <th>target_wikidata_numeric_id</th>\n",
       "    </tr>\n",
       "  </thead>\n",
       "  <tbody>\n",
       "    <tr>\n",
       "      <th>0</th>\n",
       "      <td>adaptive technology</td>\n",
       "      <td>688498.0</td>\n",
       "    </tr>\n",
       "    <tr>\n",
       "      <th>1</th>\n",
       "      <td>assistive technology</td>\n",
       "      <td>688498.0</td>\n",
       "    </tr>\n",
       "    <tr>\n",
       "      <th>2</th>\n",
       "      <td>adaptive design</td>\n",
       "      <td>688498.0</td>\n",
       "    </tr>\n",
       "    <tr>\n",
       "      <th>3</th>\n",
       "      <td>assistive device</td>\n",
       "      <td>688498.0</td>\n",
       "    </tr>\n",
       "    <tr>\n",
       "      <th>4</th>\n",
       "      <td>assistance</td>\n",
       "      <td>688498.0</td>\n",
       "    </tr>\n",
       "  </tbody>\n",
       "</table>\n",
       "</div>"
      ],
      "text/plain": [
       "            anchor_text  target_wikidata_numeric_id\n",
       "0   adaptive technology                    688498.0\n",
       "1  assistive technology                    688498.0\n",
       "2       adaptive design                    688498.0\n",
       "3      assistive device                    688498.0\n",
       "4            assistance                    688498.0"
      ]
     },
     "execution_count": 5,
     "metadata": {},
     "output_type": "execute_result"
    }
   ],
   "source": [
    "def clean_anchor_text(text, regex_ls, unicode_dict):\n",
    "    \n",
    "    import re\n",
    "    from text_cleaning_functions import replace_accents\n",
    "    no_accent = replace_accents(text, unicode_dict)\n",
    "    \n",
    "    for pat, rep in regex_ls:\n",
    "        no_accent = re.sub(pat, rep, no_accent)\n",
    "    cleaned_text = no_accent.lower()\n",
    "    return cleaned_text\n",
    "\n",
    "from text_cleaning_functions import get_unicode_dict\n",
    "# replace unicode manually\n",
    "unicode_dict = get_unicode_dict()\n",
    "\n",
    "regex_ls = [('&\\w+;|&#[0-9]+;|&#[xX][a-fA-F0-9]+;', ''), # html encoded strings\n",
    "            ('[^a-zA-Z0-9\\s]', ''), # weird characters\n",
    "            ('\\s{2,}', ' '), # whitespaces\n",
    "            ('^ | $', ''), # strip whitespaces\n",
    "            ('[0-9]', '#')] # replace numbers with hash # not sure whether this is best option to deal with numbers...\n",
    "\n",
    "# clean anchor text\n",
    "cleaned_anchors = anchors.copy()\n",
    "cleaned_anchors['anchor_text'] = anchors.apply(lambda i: clean_anchor_text(i.anchor_text, regex_ls, unicode_dict), axis=1)\n",
    "# drop empty anchors after cleaning\n",
    "cleaned_anchors = cleaned_anchors[cleaned_anchors['anchor_text']!= '']\n",
    "# after cleaning, some anchor text entries are now the same/link to the same wikidata numeric id\n",
    "cleaned_anchors = cleaned_anchors[['anchor_text', 'target_wikidata_numeric_id']]\n",
    "cleaned_anchors.drop_duplicates(inplace=True)\n",
    "cleaned_anchors.head()"
   ]
  },
  {
   "cell_type": "code",
   "execution_count": 6,
   "metadata": {},
   "outputs": [],
   "source": [
    "# get list of candidates\n",
    "anchor_candidates = (cleaned_anchors\n",
    "                     .groupby('anchor_text')\n",
    "                     .apply(lambda i: list(i.target_wikidata_numeric_id))\n",
    "                     .to_frame(name='candidates')\n",
    "                     .reset_index())\n",
    "\n",
    "# convert to dictionary\n",
    "anchor_candidates_dict = {}\n",
    "for row in range(anchor_candidates.shape[0]):\n",
    "    anchor_candidates_dict[anchor_candidates.loc[row, 'anchor_text']] = anchor_candidates.loc[row, 'candidates']"
   ]
  },
  {
   "cell_type": "code",
   "execution_count": 18,
   "metadata": {},
   "outputs": [],
   "source": [
    "# save dictionary of candidates\n",
    "import pickle\n",
    "with open('../data/anchor_candidates.pkl', 'wb') as f:\n",
    "    pickle.dump(anchor_candidates_dict, f, protocol=pickle.HIGHEST_PROTOCOL)"
   ]
  },
  {
   "cell_type": "code",
   "execution_count": 26,
   "metadata": {},
   "outputs": [],
   "source": [
    "# modified candidates dictionary such that each entry has at least 2 candidates\n",
    "# as of now, just get a random list from the next entry\n",
    "import random\n",
    "mod = False\n",
    "for key, val in anchor_candidates_dict.items():\n",
    "    if mod:\n",
    "        new_val = temp_val + [random.choice(val)]\n",
    "        anchor_candidates_dict[temp_key] = new_val\n",
    "    if len(val) < 2:\n",
    "        mod  = True\n",
    "        temp_key = key\n",
    "        temp_val = val\n",
    "    else:\n",
    "        mod = False"
   ]
  },
  {
   "cell_type": "code",
   "execution_count": 28,
   "metadata": {},
   "outputs": [],
   "source": [
    "with open('../data/mod_anchor_candidates.pkl', 'wb') as f:\n",
    "    pickle.dump(anchor_candidates_dict, f, protocol=pickle.HIGHEST_PROTOCOL)"
   ]
  },
  {
   "cell_type": "markdown",
   "metadata": {},
   "source": [
    "***"
   ]
  }
 ],
 "metadata": {
  "kernelspec": {
   "display_name": "Python 3",
   "language": "python",
   "name": "python3"
  },
  "language_info": {
   "codemirror_mode": {
    "name": "ipython",
    "version": 3
   },
   "file_extension": ".py",
   "mimetype": "text/x-python",
   "name": "python",
   "nbconvert_exporter": "python",
   "pygments_lexer": "ipython3",
   "version": "3.7.1"
  }
 },
 "nbformat": 4,
 "nbformat_minor": 2
}
