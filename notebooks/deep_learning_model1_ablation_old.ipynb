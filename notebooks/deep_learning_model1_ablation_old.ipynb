{
 "cells": [
  {
   "cell_type": "code",
   "execution_count": 1,
   "metadata": {},
   "outputs": [
    {
     "name": "stderr",
     "output_type": "stream",
     "text": [
      "Using TensorFlow backend.\n"
     ]
    }
   ],
   "source": [
    "import pickle\n",
    "import pandas as pd\n",
    "import numpy as np\n",
    "from tqdm import tqdm_notebook\n",
    "import re\n",
    "import ast\n",
    "import string\n",
    "import unidecode\n",
    "from collections import defaultdict\n",
    "from keras.models import Sequential, Model\n",
    "from keras.preprocessing.sequence import pad_sequences\n",
    "from keras.layers import Dense, LSTM, Embedding, concatenate, Input, Dropout\n",
    "from sklearn.model_selection import train_test_split\n",
    "from sklearn.metrics import confusion_matrix, accuracy_score\n",
    "from sklearn.utils import class_weight\n",
    "from nltk import word_tokenize\n",
    "from nltk.corpus import stopwords"
   ]
  },
  {
   "cell_type": "code",
   "execution_count": 2,
   "metadata": {},
   "outputs": [],
   "source": [
    "import matplotlib.pyplot as plt\n",
    "from sklearn import metrics"
   ]
  },
  {
   "cell_type": "code",
   "execution_count": 3,
   "metadata": {},
   "outputs": [],
   "source": [
    "with open(\"../data/word2idx/word2idx.pkl\", \"rb\") as f:\n",
    "    word2idx = pickle.load(f)\n",
    "    #Map any unknown word to UNKNOWN, which has index 1"
   ]
  },
  {
   "cell_type": "code",
   "execution_count": 3,
   "metadata": {},
   "outputs": [
    {
     "data": {
      "text/plain": [
       "445881"
      ]
     },
     "execution_count": 3,
     "metadata": {},
     "output_type": "execute_result"
    }
   ],
   "source": [
    "len(word2idx)"
   ]
  },
  {
   "cell_type": "code",
   "execution_count": 4,
   "metadata": {},
   "outputs": [],
   "source": [
    "data = pd.read_csv('../data/sample_data_1percent.csv')"
   ]
  },
  {
   "cell_type": "code",
   "execution_count": 5,
   "metadata": {},
   "outputs": [],
   "source": [
    "conditions = data.link_anchor.str.contains('#', na=False)\n",
    "data = data[~conditions]\n",
    "data = data.reset_index().drop('index', axis=1)"
   ]
  },
  {
   "cell_type": "code",
   "execution_count": 6,
   "metadata": {},
   "outputs": [
    {
     "data": {
      "text/html": [
       "<div>\n",
       "<style scoped>\n",
       "    .dataframe tbody tr th:only-of-type {\n",
       "        vertical-align: middle;\n",
       "    }\n",
       "\n",
       "    .dataframe tbody tr th {\n",
       "        vertical-align: top;\n",
       "    }\n",
       "\n",
       "    .dataframe thead th {\n",
       "        text-align: right;\n",
       "    }\n",
       "</style>\n",
       "<table border=\"1\" class=\"dataframe\">\n",
       "  <thead>\n",
       "    <tr style=\"text-align: right;\">\n",
       "      <th></th>\n",
       "      <th>text</th>\n",
       "      <th>link_anchor</th>\n",
       "      <th>link_start</th>\n",
       "      <th>link_end</th>\n",
       "      <th>target_wikidata</th>\n",
       "      <th>tokenized_vector</th>\n",
       "      <th>candidates</th>\n",
       "    </tr>\n",
       "  </thead>\n",
       "  <tbody>\n",
       "    <tr>\n",
       "      <th>0</th>\n",
       "      <td>the academy awards also officially and popular...</td>\n",
       "      <td>film industry</td>\n",
       "      <td>120</td>\n",
       "      <td>133</td>\n",
       "      <td>1415395</td>\n",
       "      <td>[0. 0. 0. 0. 0. 0. 0. 0. 0. 0. 0. 0. 0. 0. 0. ...</td>\n",
       "      <td>[93196.0, 2973146.0, 2973208.0, 2973157.0, 328...</td>\n",
       "    </tr>\n",
       "    <tr>\n",
       "      <th>1</th>\n",
       "      <td>the academy awards also officially and popular...</td>\n",
       "      <td>academy of motion picture arts and sciences</td>\n",
       "      <td>156</td>\n",
       "      <td>199</td>\n",
       "      <td>212329</td>\n",
       "      <td>[0. 0. 0. 0. 0. 0. 0. 0. 0. 0. 0. 0. 0. 0. 0. ...</td>\n",
       "      <td>[212329.0, 212329.0]</td>\n",
       "    </tr>\n",
       "    <tr>\n",
       "      <th>2</th>\n",
       "      <td>the academy awards also officially and popular...</td>\n",
       "      <td>art deco</td>\n",
       "      <td>551</td>\n",
       "      <td>559</td>\n",
       "      <td>173782</td>\n",
       "      <td>[0. 0. 0. 0. 0. 0. 0. 0. 0. 0. 0. 0. 0. 0. 0. ...</td>\n",
       "      <td>[173782.0, 4824850.0, 4796770.0, 23307613.0, 2...</td>\n",
       "    </tr>\n",
       "    <tr>\n",
       "      <th>3</th>\n",
       "      <td>the academy awards also officially and popular...</td>\n",
       "      <td>george stanley</td>\n",
       "      <td>603</td>\n",
       "      <td>617</td>\n",
       "      <td>5544783</td>\n",
       "      <td>[0. 0. 0. 0. 0. 0. 0. 0. 0. 0. 0. 0. 0. 0. 0. ...</td>\n",
       "      <td>[3101928.0, 5539480.0, 5544780.0, 5544779.0, 5...</td>\n",
       "    </tr>\n",
       "    <tr>\n",
       "      <th>4</th>\n",
       "      <td>the academy awards also officially and popular...</td>\n",
       "      <td>cedric gibbons</td>\n",
       "      <td>642</td>\n",
       "      <td>656</td>\n",
       "      <td>727904</td>\n",
       "      <td>[0. 0. 0. 0. 0. 0. 0. 0. 0. 0. 0. 0. 0. 0. 0. ...</td>\n",
       "      <td>[727904.0, 5057103.0]</td>\n",
       "    </tr>\n",
       "  </tbody>\n",
       "</table>\n",
       "</div>"
      ],
      "text/plain": [
       "                                                text  \\\n",
       "0  the academy awards also officially and popular...   \n",
       "1  the academy awards also officially and popular...   \n",
       "2  the academy awards also officially and popular...   \n",
       "3  the academy awards also officially and popular...   \n",
       "4  the academy awards also officially and popular...   \n",
       "\n",
       "                                   link_anchor  link_start  link_end  \\\n",
       "0                                film industry         120       133   \n",
       "1  academy of motion picture arts and sciences         156       199   \n",
       "2                                     art deco         551       559   \n",
       "3                               george stanley         603       617   \n",
       "4                               cedric gibbons         642       656   \n",
       "\n",
       "   target_wikidata                                   tokenized_vector  \\\n",
       "0          1415395  [0. 0. 0. 0. 0. 0. 0. 0. 0. 0. 0. 0. 0. 0. 0. ...   \n",
       "1           212329  [0. 0. 0. 0. 0. 0. 0. 0. 0. 0. 0. 0. 0. 0. 0. ...   \n",
       "2           173782  [0. 0. 0. 0. 0. 0. 0. 0. 0. 0. 0. 0. 0. 0. 0. ...   \n",
       "3          5544783  [0. 0. 0. 0. 0. 0. 0. 0. 0. 0. 0. 0. 0. 0. 0. ...   \n",
       "4           727904  [0. 0. 0. 0. 0. 0. 0. 0. 0. 0. 0. 0. 0. 0. 0. ...   \n",
       "\n",
       "                                          candidates  \n",
       "0  [93196.0, 2973146.0, 2973208.0, 2973157.0, 328...  \n",
       "1                               [212329.0, 212329.0]  \n",
       "2  [173782.0, 4824850.0, 4796770.0, 23307613.0, 2...  \n",
       "3  [3101928.0, 5539480.0, 5544780.0, 5544779.0, 5...  \n",
       "4                              [727904.0, 5057103.0]  "
      ]
     },
     "execution_count": 6,
     "metadata": {},
     "output_type": "execute_result"
    }
   ],
   "source": [
    "data.head()"
   ]
  },
  {
   "cell_type": "code",
   "execution_count": 7,
   "metadata": {},
   "outputs": [
    {
     "data": {
      "text/plain": [
       "(2459381, 7)"
      ]
     },
     "execution_count": 7,
     "metadata": {},
     "output_type": "execute_result"
    }
   ],
   "source": [
    "data.shape"
   ]
  },
  {
   "cell_type": "code",
   "execution_count": 9,
   "metadata": {},
   "outputs": [],
   "source": [
    "# with open('../data/sample_doc2vec_data.pkl', 'rb') as f:\n",
    "#     docs = pickle.load(f)"
   ]
  },
  {
   "cell_type": "code",
   "execution_count": null,
   "metadata": {},
   "outputs": [],
   "source": []
  },
  {
   "cell_type": "code",
   "execution_count": 10,
   "metadata": {},
   "outputs": [],
   "source": [
    "# with open('../data/sample_labels.pkl', 'rb') as f:\n",
    "#     data = pickle.load(f)"
   ]
  },
  {
   "cell_type": "code",
   "execution_count": 8,
   "metadata": {},
   "outputs": [],
   "source": [
    "with open('../data/knowledge_graph_data/id2text_entity.pickle', 'rb') as f:\n",
    "    id2text = pickle.load(f)"
   ]
  },
  {
   "cell_type": "code",
   "execution_count": 9,
   "metadata": {},
   "outputs": [],
   "source": [
    "with open('../data/name_to_wiki_id.pkl', 'rb') as f:\n",
    "    name_to_wiki_id = pickle.load(f)"
   ]
  },
  {
   "cell_type": "code",
   "execution_count": 10,
   "metadata": {},
   "outputs": [],
   "source": [
    "with open('../data/knowledge_graph_data/idx2id_entity.pickle', 'rb') as f:\n",
    "    idx2id = pickle.load(f)"
   ]
  },
  {
   "cell_type": "code",
   "execution_count": 11,
   "metadata": {},
   "outputs": [],
   "source": [
    "id2idx = {value: key for key, value in idx2id.items()}"
   ]
  },
  {
   "cell_type": "code",
   "execution_count": 12,
   "metadata": {},
   "outputs": [],
   "source": [
    "graph_embedding = np.load('../data/knowledge_graph_data/wiki_DistMult_entity.npy') "
   ]
  },
  {
   "cell_type": "code",
   "execution_count": 13,
   "metadata": {},
   "outputs": [],
   "source": [
    "# replace words within paranthesis and remove non alphanumeric characters\n",
    "# get_rid of `the` which can cause difference\n",
    "pattern = re.compile(r'\\([^)]*\\)|[^a-zA-Z0-9 -]|\\s|(^|[^a-zA-Z0-9])the[^a-zA-Z0-9]')\n",
    "# unidecode to remove accents\n",
    "normalize_text = lambda text: pattern.sub(\"\", unidecode.unidecode(text).lower())\n"
   ]
  },
  {
   "cell_type": "code",
   "execution_count": 14,
   "metadata": {},
   "outputs": [],
   "source": [
    "#window length actually 2 times this since from both sides\n",
    "window_length = 10"
   ]
  },
  {
   "cell_type": "code",
   "execution_count": null,
   "metadata": {},
   "outputs": [
    {
     "data": {
      "application/vnd.jupyter.widget-view+json": {
       "model_id": "3bba63338bc64358bab49ee46e4c8743",
       "version_major": 2,
       "version_minor": 0
      },
      "text/plain": [
       "HBox(children=(IntProgress(value=0, max=2459381), HTML(value='')))"
      ]
     },
     "metadata": {},
     "output_type": "display_data"
    }
   ],
   "source": [
    "#For each of the entities in each of the rows, make word2idx vector using context window and also get graph embedding.\n",
    "\n",
    "lstm_input = []\n",
    "graph_input = []\n",
    "# doc_input = []\n",
    "response = []\n",
    "not_in_graph = []\n",
    "\n",
    "lstm_input_list = []\n",
    "# corresponds to each candidate\n",
    "graph_input_list = []\n",
    "\n",
    "for i, article in tqdm_notebook(data.iterrows(), total = len(data)):\n",
    "    text = article['text']\n",
    "#     doc_embedding = docs[i][0]\n",
    "#     for entity, indices in article[1].items():\n",
    "    name = article['link_anchor']\n",
    "    entity_id = article['target_wikidata']\n",
    "    #Don't include actual entity text for now in context window since doing fixed length? \n",
    "    indices = np.array([int(c) for c in list(article['tokenized_vector']) if c.isdigit()])\n",
    "    entity_idx = np.where(indices == 1)[0]\n",
    "    if len(entity_idx):\n",
    "        split_text = text.split()\n",
    "        context = split_text[max(0, entity_idx.min() - window_length) : entity_idx.min()] +\\\n",
    "                  split_text[entity_idx.max() + 1 : entity_idx.max() + window_length + 1] \n",
    "        #if word not in vocab, by default map to 1\n",
    "        context_word2idx = [word2idx.get(word, 1) for word in context]\n",
    "        \n",
    "        #storing list of candidates in knowledge graph\n",
    "        kge_candidates = []\n",
    "        \n",
    "        #get a candidate from candidate_dict to get a false, irrelevant entity for each entity\n",
    "        if not pd.isnull(article['candidates']):\n",
    "            candidates_list = ast.literal_eval(article['candidates'])[:10]\n",
    "            #can't choose actual entity as false \n",
    "            if entity_id in candidates_list:\n",
    "                candidates_list.remove(entity_id)\n",
    "            if len(candidates_list) > 0:\n",
    "                for false_entity_id in candidates_list:\n",
    "                    if false_entity_id in id2idx:\n",
    "                        false_graph_embed = graph_embedding[id2idx[false_entity_id]]\n",
    "                        lstm_input.append(context_word2idx)\n",
    "                        graph_input.append(false_graph_embed)\n",
    "        #                 doc_input.append(doc_embedding)\n",
    "                        response.append(0)\n",
    "                        kge_candidates.append(false_graph_embed)\n",
    "                    else:\n",
    "                        not_in_graph.append(false_entity_id)\n",
    "        if entity_id in id2idx:\n",
    "            true_graph_embed = graph_embedding[id2idx[entity_id]]\n",
    "            lstm_input.append(context_word2idx)\n",
    "            graph_input.append(true_graph_embed)\n",
    "    #         doc_input.append(doc_embedding)\n",
    "            response.append(1)\n",
    "            # this means that last index is always the true embedding\n",
    "            kge_candidates.append(true_graph_embed)\n",
    "            lstm_input_list.append(context_word2idx)\n",
    "            graph_input_list.append(kge_candidates)\n",
    "        \n",
    "        else:\n",
    "            not_in_graph.append(entity_id)\n",
    "            \n",
    "lstm_input = pad_sequences(lstm_input, maxlen = window_length * 2, padding = 'post')\n",
    "graph_input = np.array(graph_input)\n",
    "# doc_input = np.array(doc_input)\n",
    "response = np.array(response)"
   ]
  },
  {
   "cell_type": "code",
   "execution_count": 29,
   "metadata": {},
   "outputs": [],
   "source": [
    "# np.save(\"../data/model1/lstm_input.pkl\", lstm_input)\n",
    "# np.save(\"../data/model1/graph_input.pkl\", graph_input)\n",
    "# np.save(\"../data/model1/response.pkl\", response)"
   ]
  },
  {
   "cell_type": "code",
   "execution_count": null,
   "metadata": {},
   "outputs": [],
   "source": [
    "lstm_input_list = np.array(lstm_input_list)\n",
    "graph_input_list = np.array(graph_input_list)"
   ]
  },
  {
   "cell_type": "code",
   "execution_count": null,
   "metadata": {},
   "outputs": [],
   "source": [
    "np.save(\"../data/model1/lstm_input_list.npy\", lstm_input_list)\n",
    "np.save(\"../data/model1/graph_input_list.npy\", graph_input_list)"
   ]
  },
  {
   "cell_type": "code",
   "execution_count": 10,
   "metadata": {},
   "outputs": [],
   "source": [
    "lstm_input = np.load(\"../data/model1/lstm_input.pkl.npy\")\n",
    "graph_input = np.load(\"../data/model1/graph_input.pkl.npy\")\n",
    "response = np.load(\"../data/model1/response.pkl.npy\")"
   ]
  },
  {
   "cell_type": "code",
   "execution_count": 11,
   "metadata": {},
   "outputs": [
    {
     "data": {
      "text/plain": [
       "11793058"
      ]
     },
     "execution_count": 11,
     "metadata": {},
     "output_type": "execute_result"
    }
   ],
   "source": [
    "len(graph_input)"
   ]
  },
  {
   "cell_type": "code",
   "execution_count": 12,
   "metadata": {},
   "outputs": [
    {
     "data": {
      "text/plain": [
       "11793058"
      ]
     },
     "execution_count": 12,
     "metadata": {},
     "output_type": "execute_result"
    }
   ],
   "source": [
    "len(lstm_input)"
   ]
  },
  {
   "cell_type": "code",
   "execution_count": 13,
   "metadata": {},
   "outputs": [
    {
     "data": {
      "text/plain": [
       "11793058"
      ]
     },
     "execution_count": 13,
     "metadata": {},
     "output_type": "execute_result"
    }
   ],
   "source": [
    "len(response)"
   ]
  },
  {
   "cell_type": "code",
   "execution_count": 14,
   "metadata": {},
   "outputs": [
    {
     "data": {
      "text/plain": [
       "0.199529672456457"
      ]
     },
     "execution_count": 14,
     "metadata": {},
     "output_type": "execute_result"
    }
   ],
   "source": [
    "response.mean()"
   ]
  },
  {
   "cell_type": "code",
   "execution_count": 8,
   "metadata": {},
   "outputs": [
    {
     "ename": "NameError",
     "evalue": "name 'not_in_graph' is not defined",
     "output_type": "error",
     "traceback": [
      "\u001b[0;31m---------------------------------------------------------------------------\u001b[0m",
      "\u001b[0;31mNameError\u001b[0m                                 Traceback (most recent call last)",
      "\u001b[0;32m<ipython-input-8-99681bd53c0c>\u001b[0m in \u001b[0;36m<module>\u001b[0;34m()\u001b[0m\n\u001b[0;32m----> 1\u001b[0;31m \u001b[0mlen\u001b[0m\u001b[0;34m(\u001b[0m\u001b[0mnot_in_graph\u001b[0m\u001b[0;34m)\u001b[0m\u001b[0;34m\u001b[0m\u001b[0;34m\u001b[0m\u001b[0m\n\u001b[0m",
      "\u001b[0;31mNameError\u001b[0m: name 'not_in_graph' is not defined"
     ]
    }
   ],
   "source": [
    "len(not_in_graph)"
   ]
  },
  {
   "cell_type": "code",
   "execution_count": 36,
   "metadata": {},
   "outputs": [
    {
     "data": {
      "text/plain": [
       "0.03272645653061318"
      ]
     },
     "execution_count": 36,
     "metadata": {},
     "output_type": "execute_result"
    }
   ],
   "source": [
    "len(not_in_graph) / len(graph_input)"
   ]
  },
  {
   "cell_type": "code",
   "execution_count": 15,
   "metadata": {},
   "outputs": [
    {
     "data": {
      "text/plain": [
       "(8844793, 2948265)"
      ]
     },
     "execution_count": 15,
     "metadata": {},
     "output_type": "execute_result"
    }
   ],
   "source": [
    "np.random.seed(1)\n",
    "\n",
    "train_ind, test_ind = train_test_split(np.arange(len(response)))\n",
    "lstm_train = lstm_input[train_ind]\n",
    "lstm_test = lstm_input[test_ind]\n",
    "graph_train = graph_input[train_ind]\n",
    "graph_test = graph_input[test_ind]\n",
    "# doc_train = doc_input[train_ind]\n",
    "# doc_test = doc_input[test_ind]\n",
    "y_train = response[train_ind]\n",
    "y_test = response[test_ind]\n",
    "\n",
    "len(y_train), len(y_test)"
   ]
  },
  {
   "cell_type": "code",
   "execution_count": 16,
   "metadata": {},
   "outputs": [],
   "source": [
    "weights = class_weight.compute_class_weight('balanced',\n",
    "                                            np.unique(y_train),\n",
    "                                            y_train)"
   ]
  },
  {
   "cell_type": "code",
   "execution_count": 20,
   "metadata": {
    "scrolled": true
   },
   "outputs": [
    {
     "name": "stdout",
     "output_type": "stream",
     "text": [
      "_________________________________________________________________\n",
      "Layer (type)                 Output Shape              Param #   \n",
      "=================================================================\n",
      "input_2 (InputLayer)         (None, 20)                0         \n",
      "_________________________________________________________________\n",
      "embedding_2 (Embedding)      (None, 20, 150)           66882150  \n",
      "_________________________________________________________________\n",
      "dropout_4 (Dropout)          (None, 20, 150)           0         \n",
      "_________________________________________________________________\n",
      "lstm_2 (LSTM)                (None, 256)               416768    \n",
      "_________________________________________________________________\n",
      "dropout_5 (Dropout)          (None, 256)               0         \n",
      "_________________________________________________________________\n",
      "dense_3 (Dense)              (None, 128)               32896     \n",
      "_________________________________________________________________\n",
      "dropout_6 (Dropout)          (None, 128)               0         \n",
      "_________________________________________________________________\n",
      "dense_4 (Dense)              (None, 1)                 129       \n",
      "=================================================================\n",
      "Total params: 67,331,943\n",
      "Trainable params: 67,331,943\n",
      "Non-trainable params: 0\n",
      "_________________________________________________________________\n"
     ]
    }
   ],
   "source": [
    "inp1 = Input(shape = (lstm_input.shape[1], ))\n",
    "embed = Embedding(output_dim=150, input_dim=len(word2idx), input_length=lstm_input.shape[1])(inp1)\n",
    "embed = Dropout(rate = 0.2)(embed)\n",
    "out1 = LSTM(256)(embed)\n",
    "w = out1\n",
    "w = Dropout(0.2)(w)\n",
    "w = Dense(128, activation = 'relu')(w)\n",
    "w = Dropout(0.2)(w)\n",
    "out = Dense(1, activation = 'sigmoid')(w)\n",
    "model = Model(inputs=[inp1], outputs=out)\n",
    "model.compile(optimizer='adam', loss='binary_crossentropy', metrics=['accuracy'])\n",
    "model.summary()"
   ]
  },
  {
   "cell_type": "code",
   "execution_count": 21,
   "metadata": {},
   "outputs": [
    {
     "name": "stdout",
     "output_type": "stream",
     "text": [
      "Train on 7075834 samples, validate on 1768959 samples\n",
      "Epoch 1/4\n",
      "7075834/7075834 [==============================] - 263s 37us/step - loss: 0.4905 - acc: 0.8002 - val_loss: 0.4842 - val_acc: 0.8013\n",
      "Epoch 2/4\n",
      "7075834/7075834 [==============================] - 261s 37us/step - loss: 0.4800 - acc: 0.8011 - val_loss: 0.4842 - val_acc: 0.8011\n",
      "Epoch 3/4\n",
      "7075834/7075834 [==============================] - 261s 37us/step - loss: 0.4726 - acc: 0.8019 - val_loss: 0.4870 - val_acc: 0.8006\n",
      "Epoch 4/4\n",
      "7075834/7075834 [==============================] - 261s 37us/step - loss: 0.4655 - acc: 0.8032 - val_loss: 0.4927 - val_acc: 0.7976\n"
     ]
    },
    {
     "data": {
      "text/plain": [
       "<keras.callbacks.History at 0x7fc44449db50>"
      ]
     },
     "execution_count": 21,
     "metadata": {},
     "output_type": "execute_result"
    }
   ],
   "source": [
    "# model.fit([lstm_train, graph_train, doc_train], y_train, batch_size = 256, epochs = 3, validation_split = 0.2)\n",
    "model.fit([lstm_train], y_train, batch_size = 8192, epochs = 4, validation_split = 0.2, class_weight = weights)"
   ]
  },
  {
   "cell_type": "code",
   "execution_count": 23,
   "metadata": {},
   "outputs": [
    {
     "data": {
      "text/plain": [
       "0.7971908902354435"
      ]
     },
     "execution_count": 23,
     "metadata": {},
     "output_type": "execute_result"
    }
   ],
   "source": [
    "# y_test_pred = model.predict([lstm_test, graph_test, doc_test])\n",
    "\n",
    "# perfomance without knowledge graph embedding\n",
    "\n",
    "y_test_pred = model.predict([lstm_test])\n",
    "\n",
    "y_test_pred = np.where(y_test_pred > 0.5, 1, 0)\n",
    "accuracy_score(y_test, y_test_pred)"
   ]
  },
  {
   "cell_type": "code",
   "execution_count": 24,
   "metadata": {
    "scrolled": true
   },
   "outputs": [],
   "source": [
    "cm = confusion_matrix(y_test, y_test_pred)"
   ]
  },
  {
   "cell_type": "code",
   "execution_count": 26,
   "metadata": {},
   "outputs": [
    {
     "data": {
      "image/png": "[encoded data removed]",
      "text/plain": [
       "<Figure size 432x288 with 1 Axes>"
      ]
     },
     "metadata": {},
     "output_type": "display_data"
    }
   ],
   "source": [
    "from mlxtend.plotting import plot_confusion_matrix\n",
    "\n",
    "plot_confusion_matrix(cm, show_normed = True);"
   ]
  },
  {
   "cell_type": "code",
   "execution_count": 43,
   "metadata": {},
   "outputs": [],
   "source": [
    "from keras.preprocessing.text import Tokenizer\n",
    "from keras.preprocessing.sequence import pad_sequences"
   ]
  },
  {
   "cell_type": "code",
   "execution_count": null,
   "metadata": {},
   "outputs": [],
   "source": []
  },
  {
   "cell_type": "code",
   "execution_count": null,
   "metadata": {},
   "outputs": [],
   "source": []
  },
  {
   "cell_type": "code",
   "execution_count": 28,
   "metadata": {},
   "outputs": [
    {
     "data": {
      "text/plain": [
       "(11793058, 250)"
      ]
     },
     "execution_count": 28,
     "metadata": {},
     "output_type": "execute_result"
    }
   ],
   "source": [
    "graph_input.shape"
   ]
  },
  {
   "cell_type": "code",
   "execution_count": 31,
   "metadata": {},
   "outputs": [
    {
     "name": "stdout",
     "output_type": "stream",
     "text": [
      "_________________________________________________________________\n",
      "Layer (type)                 Output Shape              Param #   \n",
      "=================================================================\n",
      "input_4 (InputLayer)         (None, 250)               0         \n",
      "_________________________________________________________________\n",
      "dropout_9 (Dropout)          (None, 250)               0         \n",
      "_________________________________________________________________\n",
      "dense_7 (Dense)              (None, 256)               64256     \n",
      "_________________________________________________________________\n",
      "dropout_10 (Dropout)         (None, 256)               0         \n",
      "_________________________________________________________________\n",
      "dense_8 (Dense)              (None, 1)                 257       \n",
      "=================================================================\n",
      "Total params: 64,513\n",
      "Trainable params: 64,513\n",
      "Non-trainable params: 0\n",
      "_________________________________________________________________\n"
     ]
    }
   ],
   "source": [
    "inp2 = Input(shape = (graph_input.shape[1], ))\n",
    "# inp3 = Input(shape = (doc_input.shape[1], ))\n",
    "w = inp2\n",
    "w = Dropout(0.2)(w)\n",
    "w = Dense(256, activation = 'relu')(w)\n",
    "w = Dropout(0.2)(w)\n",
    "out = Dense(1, activation = 'sigmoid')(w)\n",
    "model = Model(inputs=[inp2], outputs=out)\n",
    "model.compile(optimizer='adam', loss='binary_crossentropy', metrics=['accuracy'])\n",
    "model.summary()"
   ]
  },
  {
   "cell_type": "code",
   "execution_count": 39,
   "metadata": {
    "scrolled": true
   },
   "outputs": [
    {
     "name": "stdout",
     "output_type": "stream",
     "text": [
      "Train on 7075834 samples, validate on 1768959 samples\n",
      "Epoch 1/30\n",
      "7075834/7075834 [==============================] - 8s 1us/step - loss: 0.3890 - acc: 0.8329 - val_loss: 0.3692 - val_acc: 0.8376\n",
      "Epoch 2/30\n",
      "7075834/7075834 [==============================] - 8s 1us/step - loss: 0.3883 - acc: 0.8331 - val_loss: 0.3687 - val_acc: 0.8382\n",
      "Epoch 3/30\n",
      "7075834/7075834 [==============================] - 8s 1us/step - loss: 0.3875 - acc: 0.8335 - val_loss: 0.3683 - val_acc: 0.8382\n",
      "Epoch 4/30\n",
      "7075834/7075834 [==============================] - 8s 1us/step - loss: 0.3867 - acc: 0.8337 - val_loss: 0.3667 - val_acc: 0.8389\n",
      "Epoch 5/30\n",
      "7075834/7075834 [==============================] - 8s 1us/step - loss: 0.3862 - acc: 0.8339 - val_loss: 0.3670 - val_acc: 0.8385\n",
      "Epoch 6/30\n",
      "7075834/7075834 [==============================] - 8s 1us/step - loss: 0.3855 - acc: 0.8340 - val_loss: 0.3667 - val_acc: 0.8385\n",
      "Epoch 7/30\n",
      "7075834/7075834 [==============================] - 8s 1us/step - loss: 0.3849 - acc: 0.8343 - val_loss: 0.3655 - val_acc: 0.8385\n",
      "Epoch 8/30\n",
      "7075834/7075834 [==============================] - 8s 1us/step - loss: 0.3842 - acc: 0.8347 - val_loss: 0.3646 - val_acc: 0.8398\n",
      "Epoch 9/30\n",
      "7075834/7075834 [==============================] - 8s 1us/step - loss: 0.3837 - acc: 0.8348 - val_loss: 0.3650 - val_acc: 0.8391\n",
      "Epoch 10/30\n",
      "7075834/7075834 [==============================] - 8s 1us/step - loss: 0.3833 - acc: 0.8350 - val_loss: 0.3640 - val_acc: 0.8397\n",
      "Epoch 11/30\n",
      "7075834/7075834 [==============================] - 8s 1us/step - loss: 0.3828 - acc: 0.8351 - val_loss: 0.3640 - val_acc: 0.8394\n",
      "Epoch 12/30\n",
      "7075834/7075834 [==============================] - 8s 1us/step - loss: 0.3824 - acc: 0.8352 - val_loss: 0.3632 - val_acc: 0.8397\n",
      "Epoch 13/30\n",
      "7075834/7075834 [==============================] - 8s 1us/step - loss: 0.3823 - acc: 0.8352 - val_loss: 0.3629 - val_acc: 0.8395\n",
      "Epoch 14/30\n",
      "7075834/7075834 [==============================] - 8s 1us/step - loss: 0.3817 - acc: 0.8355 - val_loss: 0.3630 - val_acc: 0.8393\n",
      "Epoch 15/30\n",
      "7075834/7075834 [==============================] - 8s 1us/step - loss: 0.3814 - acc: 0.8356 - val_loss: 0.3622 - val_acc: 0.8405\n",
      "Epoch 16/30\n",
      "7075834/7075834 [==============================] - 8s 1us/step - loss: 0.3812 - acc: 0.8356 - val_loss: 0.3624 - val_acc: 0.8397\n",
      "Epoch 17/30\n",
      "7075834/7075834 [==============================] - 8s 1us/step - loss: 0.3808 - acc: 0.8358 - val_loss: 0.3622 - val_acc: 0.8401\n",
      "Epoch 18/30\n",
      "7075834/7075834 [==============================] - 8s 1us/step - loss: 0.3805 - acc: 0.8359 - val_loss: 0.3621 - val_acc: 0.8398\n",
      "Epoch 19/30\n",
      "7075834/7075834 [==============================] - 8s 1us/step - loss: 0.3802 - acc: 0.8359 - val_loss: 0.3614 - val_acc: 0.8402\n",
      "Epoch 20/30\n",
      "7075834/7075834 [==============================] - 8s 1us/step - loss: 0.3801 - acc: 0.8360 - val_loss: 0.3610 - val_acc: 0.8407\n",
      "Epoch 21/30\n",
      "7075834/7075834 [==============================] - 8s 1us/step - loss: 0.3797 - acc: 0.8362 - val_loss: 0.3614 - val_acc: 0.8400\n",
      "Epoch 22/30\n",
      "7075834/7075834 [==============================] - 8s 1us/step - loss: 0.3796 - acc: 0.8363 - val_loss: 0.3612 - val_acc: 0.8403\n",
      "Epoch 23/30\n",
      "7075834/7075834 [==============================] - 8s 1us/step - loss: 0.3793 - acc: 0.8363 - val_loss: 0.3609 - val_acc: 0.8411\n",
      "Epoch 24/30\n",
      "7075834/7075834 [==============================] - 8s 1us/step - loss: 0.3791 - acc: 0.8363 - val_loss: 0.3608 - val_acc: 0.8405\n",
      "Epoch 25/30\n",
      "7075834/7075834 [==============================] - 8s 1us/step - loss: 0.3789 - acc: 0.8364 - val_loss: 0.3606 - val_acc: 0.8413\n",
      "Epoch 26/30\n",
      "7075834/7075834 [==============================] - 8s 1us/step - loss: 0.3788 - acc: 0.8365 - val_loss: 0.3604 - val_acc: 0.8410\n",
      "Epoch 27/30\n",
      "7075834/7075834 [==============================] - 8s 1us/step - loss: 0.3786 - acc: 0.8365 - val_loss: 0.3607 - val_acc: 0.8405\n",
      "Epoch 28/30\n",
      "7075834/7075834 [==============================] - 8s 1us/step - loss: 0.3784 - acc: 0.8367 - val_loss: 0.3606 - val_acc: 0.8404\n",
      "Epoch 29/30\n",
      "7075834/7075834 [==============================] - 8s 1us/step - loss: 0.3782 - acc: 0.8367 - val_loss: 0.3601 - val_acc: 0.8416\n",
      "Epoch 30/30\n",
      "7075834/7075834 [==============================] - 8s 1us/step - loss: 0.3781 - acc: 0.8366 - val_loss: 0.3604 - val_acc: 0.8413\n"
     ]
    },
    {
     "data": {
      "text/plain": [
       "<keras.callbacks.History at 0x7fc38048f7d0>"
      ]
     },
     "execution_count": 39,
     "metadata": {},
     "output_type": "execute_result"
    }
   ],
   "source": [
    "# model.fit([lstm_train, graph_train, doc_train], y_train, batch_size = 256, epochs = 3, validation_split = 0.2)\n",
    "model.fit([graph_train], y_train, batch_size = 8192, epochs = 30, validation_split = 0.2, class_weight = weights)"
   ]
  },
  {
   "cell_type": "code",
   "execution_count": 40,
   "metadata": {},
   "outputs": [
    {
     "data": {
      "text/plain": [
       "0.8411214731375911"
      ]
     },
     "execution_count": 40,
     "metadata": {},
     "output_type": "execute_result"
    }
   ],
   "source": [
    "# y_test_pred = model.predict([lstm_test, graph_test, doc_test])\n",
    "\n",
    "# perfomance without word embedding\n",
    "\n",
    "y_test_pred = model.predict([graph_test])\n",
    "\n",
    "y_test_pred = np.where(y_test_pred > 0.5, 1, 0)\n",
    "accuracy_score(y_test, y_test_pred)"
   ]
  },
  {
   "cell_type": "code",
   "execution_count": 41,
   "metadata": {},
   "outputs": [],
   "source": [
    "cm = confusion_matrix(y_test, y_test_pred)"
   ]
  },
  {
   "cell_type": "code",
   "execution_count": 42,
   "metadata": {},
   "outputs": [
    {
     "data": {
      "image/png": "[encoded data removed]",
      "text/plain": [
       "<Figure size 432x288 with 1 Axes>"
      ]
     },
     "metadata": {},
     "output_type": "display_data"
    }
   ],
   "source": [
    "plot_confusion_matrix(cm, show_normed = True);"
   ]
  },
  {
   "cell_type": "code",
   "execution_count": null,
   "metadata": {},
   "outputs": [],
   "source": []
  },
  {
   "cell_type": "code",
   "execution_count": null,
   "metadata": {},
   "outputs": [],
   "source": []
  },
  {
   "cell_type": "code",
   "execution_count": null,
   "metadata": {},
   "outputs": [],
   "source": [
    "# retrain new model"
   ]
  },
  {
   "cell_type": "code",
   "execution_count": 107,
   "metadata": {},
   "outputs": [
    {
     "name": "stdout",
     "output_type": "stream",
     "text": [
      "__________________________________________________________________________________________________\n",
      "Layer (type)                    Output Shape         Param #     Connected to                     \n",
      "==================================================================================================\n",
      "input_19 (InputLayer)           (None, 20)           0                                            \n",
      "__________________________________________________________________________________________________\n",
      "embedding_10 (Embedding)        (None, 20, 100)      44588100    input_19[0][0]                   \n",
      "__________________________________________________________________________________________________\n",
      "lstm_10 (LSTM)                  (None, 128)          117248      embedding_10[0][0]               \n",
      "__________________________________________________________________________________________________\n",
      "input_20 (InputLayer)           (None, 250)          0                                            \n",
      "__________________________________________________________________________________________________\n",
      "concatenate_8 (Concatenate)     (None, 378)          0           lstm_10[0][0]                    \n",
      "                                                                 input_20[0][0]                   \n",
      "__________________________________________________________________________________________________\n",
      "dense_29 (Dense)                (None, 256)          97024       concatenate_8[0][0]              \n",
      "__________________________________________________________________________________________________\n",
      "dropout_25 (Dropout)            (None, 256)          0           dense_29[0][0]                   \n",
      "__________________________________________________________________________________________________\n",
      "dense_30 (Dense)                (None, 1)            257         dropout_25[0][0]                 \n",
      "==================================================================================================\n",
      "Total params: 44,802,629\n",
      "Trainable params: 44,802,629\n",
      "Non-trainable params: 0\n",
      "__________________________________________________________________________________________________\n"
     ]
    }
   ],
   "source": [
    "inp1 = Input(shape = (lstm_input.shape[1], ))\n",
    "inp2 = Input(shape = (graph_input.shape[1], ))\n",
    "# inp3 = Input(shape = (doc_input.shape[1], ))\n",
    "embed = Embedding(output_dim=100, input_dim=len(word2idx), input_length=lstm_input.shape[1])(inp1)\n",
    "out1 = LSTM(128)(embed)\n",
    "w = concatenate([out1, inp2])\n",
    "w = Dense(256, activation = 'relu')(w)\n",
    "w = Dropout(0.2)(w)\n",
    "out = Dense(1, activation = 'sigmoid')(w)\n",
    "model = Model(inputs=[inp1, inp2], outputs=out)\n",
    "model.compile(optimizer='adam', loss='binary_crossentropy', metrics=['accuracy'])\n",
    "model.summary()"
   ]
  },
  {
   "cell_type": "code",
   "execution_count": 108,
   "metadata": {},
   "outputs": [
    {
     "name": "stdout",
     "output_type": "stream",
     "text": [
      "Train on 7075834 samples, validate on 1768959 samples\n",
      "Epoch 1/4\n"
     ]
    },
    {
     "ename": "ResourceExhaustedError",
     "evalue": "2 root error(s) found.\n  (0) Resource exhausted: OOM when allocating tensor with shape[512] and type float on /job:localhost/replica:0/task:0/device:GPU:0 by allocator GPU_0_bfc\n\t [[{{node training_11/Adam/mul_16}}]]\nHint: If you want to see a list of allocated tensors when OOM happens, add report_tensor_allocations_upon_oom to RunOptions for current allocation info.\n\n\t [[metrics_11/acc/Mean_1/_1673]]\nHint: If you want to see a list of allocated tensors when OOM happens, add report_tensor_allocations_upon_oom to RunOptions for current allocation info.\n\n  (1) Resource exhausted: OOM when allocating tensor with shape[512] and type float on /job:localhost/replica:0/task:0/device:GPU:0 by allocator GPU_0_bfc\n\t [[{{node training_11/Adam/mul_16}}]]\nHint: If you want to see a list of allocated tensors when OOM happens, add report_tensor_allocations_upon_oom to RunOptions for current allocation info.\n\n0 successful operations.\n0 derived errors ignored.",
     "output_type": "error",
     "traceback": [
      "\u001b[0;31m---------------------------------------------------------------------------\u001b[0m",
      "\u001b[0;31mResourceExhaustedError\u001b[0m                    Traceback (most recent call last)",
      "\u001b[0;32m<ipython-input-108-d4c681da3955>\u001b[0m in \u001b[0;36m<module>\u001b[0;34m()\u001b[0m\n\u001b[1;32m      1\u001b[0m \u001b[0;31m# model.fit([lstm_train, graph_train, doc_train], y_train, batch_size = 256, epochs = 3, validation_split = 0.2)\u001b[0m\u001b[0;34m\u001b[0m\u001b[0;34m\u001b[0m\u001b[0;34m\u001b[0m\u001b[0m\n\u001b[0;32m----> 2\u001b[0;31m \u001b[0mmodel\u001b[0m\u001b[0;34m.\u001b[0m\u001b[0mfit\u001b[0m\u001b[0;34m(\u001b[0m\u001b[0;34m[\u001b[0m\u001b[0mlstm_train\u001b[0m\u001b[0;34m,\u001b[0m \u001b[0mgraph_train\u001b[0m\u001b[0;34m]\u001b[0m\u001b[0;34m,\u001b[0m \u001b[0my_train\u001b[0m\u001b[0;34m,\u001b[0m \u001b[0mbatch_size\u001b[0m \u001b[0;34m=\u001b[0m \u001b[0;36m8192\u001b[0m\u001b[0;34m,\u001b[0m \u001b[0mepochs\u001b[0m \u001b[0;34m=\u001b[0m \u001b[0;36m4\u001b[0m\u001b[0;34m,\u001b[0m \u001b[0mvalidation_split\u001b[0m \u001b[0;34m=\u001b[0m \u001b[0;36m0.2\u001b[0m\u001b[0;34m,\u001b[0m \u001b[0mclass_weight\u001b[0m \u001b[0;34m=\u001b[0m \u001b[0mweights\u001b[0m\u001b[0;34m)\u001b[0m\u001b[0;34m\u001b[0m\u001b[0;34m\u001b[0m\u001b[0m\n\u001b[0m",
      "\u001b[0;32m~/.local/lib/python3.7/site-packages/keras/engine/training.py\u001b[0m in \u001b[0;36mfit\u001b[0;34m(self, x, y, batch_size, epochs, verbose, callbacks, validation_split, validation_data, shuffle, class_weight, sample_weight, initial_epoch, steps_per_epoch, validation_steps, **kwargs)\u001b[0m\n\u001b[1;32m   1037\u001b[0m                                         \u001b[0minitial_epoch\u001b[0m\u001b[0;34m=\u001b[0m\u001b[0minitial_epoch\u001b[0m\u001b[0;34m,\u001b[0m\u001b[0;34m\u001b[0m\u001b[0;34m\u001b[0m\u001b[0m\n\u001b[1;32m   1038\u001b[0m                                         \u001b[0msteps_per_epoch\u001b[0m\u001b[0;34m=\u001b[0m\u001b[0msteps_per_epoch\u001b[0m\u001b[0;34m,\u001b[0m\u001b[0;34m\u001b[0m\u001b[0;34m\u001b[0m\u001b[0m\n\u001b[0;32m-> 1039\u001b[0;31m                                         validation_steps=validation_steps)\n\u001b[0m\u001b[1;32m   1040\u001b[0m \u001b[0;34m\u001b[0m\u001b[0m\n\u001b[1;32m   1041\u001b[0m     def evaluate(self, x=None, y=None,\n",
      "\u001b[0;32m~/.local/lib/python3.7/site-packages/keras/engine/training_arrays.py\u001b[0m in \u001b[0;36mfit_loop\u001b[0;34m(model, f, ins, out_labels, batch_size, epochs, verbose, callbacks, val_f, val_ins, shuffle, callback_metrics, initial_epoch, steps_per_epoch, validation_steps)\u001b[0m\n\u001b[1;32m    197\u001b[0m                     \u001b[0mins_batch\u001b[0m\u001b[0;34m[\u001b[0m\u001b[0mi\u001b[0m\u001b[0;34m]\u001b[0m \u001b[0;34m=\u001b[0m \u001b[0mins_batch\u001b[0m\u001b[0;34m[\u001b[0m\u001b[0mi\u001b[0m\u001b[0;34m]\u001b[0m\u001b[0;34m.\u001b[0m\u001b[0mtoarray\u001b[0m\u001b[0;34m(\u001b[0m\u001b[0;34m)\u001b[0m\u001b[0;34m\u001b[0m\u001b[0;34m\u001b[0m\u001b[0m\n\u001b[1;32m    198\u001b[0m \u001b[0;34m\u001b[0m\u001b[0m\n\u001b[0;32m--> 199\u001b[0;31m                 \u001b[0mouts\u001b[0m \u001b[0;34m=\u001b[0m \u001b[0mf\u001b[0m\u001b[0;34m(\u001b[0m\u001b[0mins_batch\u001b[0m\u001b[0;34m)\u001b[0m\u001b[0;34m\u001b[0m\u001b[0;34m\u001b[0m\u001b[0m\n\u001b[0m\u001b[1;32m    200\u001b[0m                 \u001b[0mouts\u001b[0m \u001b[0;34m=\u001b[0m \u001b[0mto_list\u001b[0m\u001b[0;34m(\u001b[0m\u001b[0mouts\u001b[0m\u001b[0;34m)\u001b[0m\u001b[0;34m\u001b[0m\u001b[0;34m\u001b[0m\u001b[0m\n\u001b[1;32m    201\u001b[0m                 \u001b[0;32mfor\u001b[0m \u001b[0ml\u001b[0m\u001b[0;34m,\u001b[0m \u001b[0mo\u001b[0m \u001b[0;32min\u001b[0m \u001b[0mzip\u001b[0m\u001b[0;34m(\u001b[0m\u001b[0mout_labels\u001b[0m\u001b[0;34m,\u001b[0m \u001b[0mouts\u001b[0m\u001b[0;34m)\u001b[0m\u001b[0;34m:\u001b[0m\u001b[0;34m\u001b[0m\u001b[0;34m\u001b[0m\u001b[0m\n",
      "\u001b[0;32m~/.local/lib/python3.7/site-packages/keras/backend/tensorflow_backend.py\u001b[0m in \u001b[0;36m__call__\u001b[0;34m(self, inputs)\u001b[0m\n\u001b[1;32m   2713\u001b[0m                 \u001b[0;32mreturn\u001b[0m \u001b[0mself\u001b[0m\u001b[0;34m.\u001b[0m\u001b[0m_legacy_call\u001b[0m\u001b[0;34m(\u001b[0m\u001b[0minputs\u001b[0m\u001b[0;34m)\u001b[0m\u001b[0;34m\u001b[0m\u001b[0;34m\u001b[0m\u001b[0m\n\u001b[1;32m   2714\u001b[0m \u001b[0;34m\u001b[0m\u001b[0m\n\u001b[0;32m-> 2715\u001b[0;31m             \u001b[0;32mreturn\u001b[0m \u001b[0mself\u001b[0m\u001b[0;34m.\u001b[0m\u001b[0m_call\u001b[0m\u001b[0;34m(\u001b[0m\u001b[0minputs\u001b[0m\u001b[0;34m)\u001b[0m\u001b[0;34m\u001b[0m\u001b[0;34m\u001b[0m\u001b[0m\n\u001b[0m\u001b[1;32m   2716\u001b[0m         \u001b[0;32melse\u001b[0m\u001b[0;34m:\u001b[0m\u001b[0;34m\u001b[0m\u001b[0;34m\u001b[0m\u001b[0m\n\u001b[1;32m   2717\u001b[0m             \u001b[0;32mif\u001b[0m \u001b[0mpy_any\u001b[0m\u001b[0;34m(\u001b[0m\u001b[0mis_tensor\u001b[0m\u001b[0;34m(\u001b[0m\u001b[0mx\u001b[0m\u001b[0;34m)\u001b[0m \u001b[0;32mfor\u001b[0m \u001b[0mx\u001b[0m \u001b[0;32min\u001b[0m \u001b[0minputs\u001b[0m\u001b[0;34m)\u001b[0m\u001b[0;34m:\u001b[0m\u001b[0;34m\u001b[0m\u001b[0;34m\u001b[0m\u001b[0m\n",
      "\u001b[0;32m~/.local/lib/python3.7/site-packages/keras/backend/tensorflow_backend.py\u001b[0m in \u001b[0;36m_call\u001b[0;34m(self, inputs)\u001b[0m\n\u001b[1;32m   2673\u001b[0m             \u001b[0mfetched\u001b[0m \u001b[0;34m=\u001b[0m \u001b[0mself\u001b[0m\u001b[0;34m.\u001b[0m\u001b[0m_callable_fn\u001b[0m\u001b[0;34m(\u001b[0m\u001b[0;34m*\u001b[0m\u001b[0marray_vals\u001b[0m\u001b[0;34m,\u001b[0m \u001b[0mrun_metadata\u001b[0m\u001b[0;34m=\u001b[0m\u001b[0mself\u001b[0m\u001b[0;34m.\u001b[0m\u001b[0mrun_metadata\u001b[0m\u001b[0;34m)\u001b[0m\u001b[0;34m\u001b[0m\u001b[0;34m\u001b[0m\u001b[0m\n\u001b[1;32m   2674\u001b[0m         \u001b[0;32melse\u001b[0m\u001b[0;34m:\u001b[0m\u001b[0;34m\u001b[0m\u001b[0;34m\u001b[0m\u001b[0m\n\u001b[0;32m-> 2675\u001b[0;31m             \u001b[0mfetched\u001b[0m \u001b[0;34m=\u001b[0m \u001b[0mself\u001b[0m\u001b[0;34m.\u001b[0m\u001b[0m_callable_fn\u001b[0m\u001b[0;34m(\u001b[0m\u001b[0;34m*\u001b[0m\u001b[0marray_vals\u001b[0m\u001b[0;34m)\u001b[0m\u001b[0;34m\u001b[0m\u001b[0;34m\u001b[0m\u001b[0m\n\u001b[0m\u001b[1;32m   2676\u001b[0m         \u001b[0;32mreturn\u001b[0m \u001b[0mfetched\u001b[0m\u001b[0;34m[\u001b[0m\u001b[0;34m:\u001b[0m\u001b[0mlen\u001b[0m\u001b[0;34m(\u001b[0m\u001b[0mself\u001b[0m\u001b[0;34m.\u001b[0m\u001b[0moutputs\u001b[0m\u001b[0;34m)\u001b[0m\u001b[0;34m]\u001b[0m\u001b[0;34m\u001b[0m\u001b[0;34m\u001b[0m\u001b[0m\n\u001b[1;32m   2677\u001b[0m \u001b[0;34m\u001b[0m\u001b[0m\n",
      "\u001b[0;32m~/.conda/envs/capstone/lib/python3.7/site-packages/tensorflow/python/client/session.py\u001b[0m in \u001b[0;36m__call__\u001b[0;34m(self, *args, **kwargs)\u001b[0m\n\u001b[1;32m   1456\u001b[0m         ret = tf_session.TF_SessionRunCallable(self._session._session,\n\u001b[1;32m   1457\u001b[0m                                                \u001b[0mself\u001b[0m\u001b[0;34m.\u001b[0m\u001b[0m_handle\u001b[0m\u001b[0;34m,\u001b[0m \u001b[0margs\u001b[0m\u001b[0;34m,\u001b[0m\u001b[0;34m\u001b[0m\u001b[0;34m\u001b[0m\u001b[0m\n\u001b[0;32m-> 1458\u001b[0;31m                                                run_metadata_ptr)\n\u001b[0m\u001b[1;32m   1459\u001b[0m         \u001b[0;32mif\u001b[0m \u001b[0mrun_metadata\u001b[0m\u001b[0;34m:\u001b[0m\u001b[0;34m\u001b[0m\u001b[0;34m\u001b[0m\u001b[0m\n\u001b[1;32m   1460\u001b[0m           \u001b[0mproto_data\u001b[0m \u001b[0;34m=\u001b[0m \u001b[0mtf_session\u001b[0m\u001b[0;34m.\u001b[0m\u001b[0mTF_GetBuffer\u001b[0m\u001b[0;34m(\u001b[0m\u001b[0mrun_metadata_ptr\u001b[0m\u001b[0;34m)\u001b[0m\u001b[0;34m\u001b[0m\u001b[0;34m\u001b[0m\u001b[0m\n",
      "\u001b[0;31mResourceExhaustedError\u001b[0m: 2 root error(s) found.\n  (0) Resource exhausted: OOM when allocating tensor with shape[512] and type float on /job:localhost/replica:0/task:0/device:GPU:0 by allocator GPU_0_bfc\n\t [[{{node training_11/Adam/mul_16}}]]\nHint: If you want to see a list of allocated tensors when OOM happens, add report_tensor_allocations_upon_oom to RunOptions for current allocation info.\n\n\t [[metrics_11/acc/Mean_1/_1673]]\nHint: If you want to see a list of allocated tensors when OOM happens, add report_tensor_allocations_upon_oom to RunOptions for current allocation info.\n\n  (1) Resource exhausted: OOM when allocating tensor with shape[512] and type float on /job:localhost/replica:0/task:0/device:GPU:0 by allocator GPU_0_bfc\n\t [[{{node training_11/Adam/mul_16}}]]\nHint: If you want to see a list of allocated tensors when OOM happens, add report_tensor_allocations_upon_oom to RunOptions for current allocation info.\n\n0 successful operations.\n0 derived errors ignored."
     ]
    }
   ],
   "source": [
    "# model.fit([lstm_train, graph_train, doc_train], y_train, batch_size = 256, epochs = 3, validation_split = 0.2)\n",
    "model.fit([lstm_train, graph_train], y_train, batch_size = 8192, epochs = 4, validation_split = 0.2, class_weight = weights)"
   ]
  },
  {
   "cell_type": "code",
   "execution_count": null,
   "metadata": {},
   "outputs": [],
   "source": [
    "# y_test_pred = model.predict([lstm_test, graph_test, doc_test])\n",
    "y_test_pred_prob = model.predict([lstm_test, graph_test])\n",
    "\n",
    "y_test_pred = np.where(y_test_pred_prob > 0.5, 1, 0)\n",
    "accuracy_score(y_test, y_test_pred)"
   ]
  },
  {
   "cell_type": "code",
   "execution_count": null,
   "metadata": {},
   "outputs": [],
   "source": [
    "cm = confusion_matrix(y_test, y_test_pred)"
   ]
  },
  {
   "cell_type": "code",
   "execution_count": null,
   "metadata": {},
   "outputs": [],
   "source": [
    "from mlxtend.plotting import plot_confusion_matrix\n",
    "\n",
    "plot_confusion_matrix(cm, show_normed = True);"
   ]
  },
  {
   "cell_type": "code",
   "execution_count": null,
   "metadata": {},
   "outputs": [],
   "source": [
    "metrics.roc_auc_score(y_test, y_test_pred_prob)"
   ]
  },
  {
   "cell_type": "code",
   "execution_count": null,
   "metadata": {},
   "outputs": [],
   "source": [
    "fpr, tpr, _ = metrics.roc_curve(y_test, y_test_pred_prob)"
   ]
  },
  {
   "cell_type": "code",
   "execution_count": null,
   "metadata": {},
   "outputs": [],
   "source": [
    "plt.plot([0,1], [0,1], 'k--')\n",
    "plt.plot(fpr, tpr)\n",
    "plt.xlabel('False positive rate')\n",
    "plt.ylabel('True positive rate')\n",
    "plt.title('ROC curve')"
   ]
  },
  {
   "cell_type": "code",
   "execution_count": null,
   "metadata": {},
   "outputs": [],
   "source": []
  },
  {
   "cell_type": "code",
   "execution_count": null,
   "metadata": {},
   "outputs": [],
   "source": []
  },
  {
   "cell_type": "code",
   "execution_count": 96,
   "metadata": {
    "scrolled": true
   },
   "outputs": [
    {
     "name": "stdout",
     "output_type": "stream",
     "text": [
      "__________________________________________________________________________________________________\n",
      "Layer (type)                    Output Shape         Param #     Connected to                     \n",
      "==================================================================================================\n",
      "input_15 (InputLayer)           (None, 20)           0                                            \n",
      "__________________________________________________________________________________________________\n",
      "embedding_8 (Embedding)         (None, 20, 128)      57072768    input_15[0][0]                   \n",
      "__________________________________________________________________________________________________\n",
      "lstm_8 (LSTM)                   (None, 128)          131584      embedding_8[0][0]                \n",
      "__________________________________________________________________________________________________\n",
      "input_16 (InputLayer)           (None, 250)          0                                            \n",
      "__________________________________________________________________________________________________\n",
      "concatenate_6 (Concatenate)     (None, 378)          0           lstm_8[0][0]                     \n",
      "                                                                 input_16[0][0]                   \n",
      "__________________________________________________________________________________________________\n",
      "dense_23 (Dense)                (None, 128)          48512       concatenate_6[0][0]              \n",
      "__________________________________________________________________________________________________\n",
      "dropout_21 (Dropout)            (None, 128)          0           dense_23[0][0]                   \n",
      "__________________________________________________________________________________________________\n",
      "dense_24 (Dense)                (None, 64)           8256        dropout_21[0][0]                 \n",
      "__________________________________________________________________________________________________\n",
      "dropout_22 (Dropout)            (None, 64)           0           dense_24[0][0]                   \n",
      "__________________________________________________________________________________________________\n",
      "dense_25 (Dense)                (None, 32)           2080        dropout_22[0][0]                 \n",
      "__________________________________________________________________________________________________\n",
      "dropout_23 (Dropout)            (None, 32)           0           dense_25[0][0]                   \n",
      "__________________________________________________________________________________________________\n",
      "dense_26 (Dense)                (None, 1)            33          dropout_23[0][0]                 \n",
      "==================================================================================================\n",
      "Total params: 57,263,233\n",
      "Trainable params: 57,263,233\n",
      "Non-trainable params: 0\n",
      "__________________________________________________________________________________________________\n"
     ]
    }
   ],
   "source": [
    "# inp1 = Input(shape = (lstm_input.shape[1], ))\n",
    "# inp2 = Input(shape = (graph_input.shape[1], ))\n",
    "# # inp3 = Input(shape = (doc_input.shape[1], ))\n",
    "# embed = Embedding(output_dim=128, input_dim=len(word2idx), input_length=lstm_input.shape[1])(inp1)\n",
    "# out1 = LSTM(128)(embed)\n",
    "# w = concatenate([out1, inp2])\n",
    "# w = Dense(128, activation = 'relu')(w)\n",
    "# w = Dropout(0.2)(w)\n",
    "# w = Dense(64, activation = 'relu')(w)\n",
    "# w = Dropout(0.2)(w)\n",
    "# w = Dense(32, activation = 'relu')(w)\n",
    "# w = Dropout(0.2)(w)\n",
    "# out = Dense(1, activation = 'sigmoid')(w)\n",
    "# model = Model(inputs=[inp1, inp2], outputs=out)\n",
    "# model.compile(optimizer='adam', loss='binary_crossentropy', metrics=['accuracy'])\n",
    "# model.summary()"
   ]
  },
  {
   "cell_type": "code",
   "execution_count": 97,
   "metadata": {},
   "outputs": [
    {
     "name": "stdout",
     "output_type": "stream",
     "text": [
      "Train on 7075834 samples, validate on 1768959 samples\n",
      "Epoch 1/4\n",
      "7075834/7075834 [==============================] - 248s 35us/step - loss: 0.4011 - acc: 0.8251 - val_loss: 0.3412 - val_acc: 0.8467\n",
      "Epoch 2/4\n",
      "7075834/7075834 [==============================] - 244s 35us/step - loss: 0.3334 - acc: 0.8494 - val_loss: 0.3199 - val_acc: 0.8555\n",
      "Epoch 3/4\n",
      "7075834/7075834 [==============================] - 244s 35us/step - loss: 0.3016 - acc: 0.8619 - val_loss: 0.3136 - val_acc: 0.8583\n",
      "Epoch 4/4\n",
      "7075834/7075834 [==============================] - 245s 35us/step - loss: 0.2769 - acc: 0.8727 - val_loss: 0.3205 - val_acc: 0.8580\n"
     ]
    },
    {
     "data": {
      "text/plain": [
       "<keras.callbacks.History at 0x7fc120400290>"
      ]
     },
     "execution_count": 97,
     "metadata": {},
     "output_type": "execute_result"
    }
   ],
   "source": [
    "# # model.fit([lstm_train, graph_train, doc_train], y_train, batch_size = 256, epochs = 3, validation_split = 0.2)\n",
    "# model.fit([lstm_train, graph_train], y_train, batch_size = 8192, epochs = 4, validation_split = 0.2, class_weight = weights)"
   ]
  },
  {
   "cell_type": "code",
   "execution_count": 98,
   "metadata": {},
   "outputs": [
    {
     "data": {
      "text/plain": [
       "0.8578384236152449"
      ]
     },
     "execution_count": 98,
     "metadata": {},
     "output_type": "execute_result"
    }
   ],
   "source": [
    "# y_test_pred = model.predict([lstm_test, graph_test, doc_test])\n",
    "y_test_pred_prob = model.predict([lstm_test, graph_test])\n",
    "\n",
    "y_test_pred = np.where(y_test_pred_prob > 0.5, 1, 0)\n",
    "accuracy_score(y_test, y_test_pred)"
   ]
  },
  {
   "cell_type": "code",
   "execution_count": 100,
   "metadata": {},
   "outputs": [],
   "source": [
    "cm = confusion_matrix(y_test, y_test_pred)"
   ]
  },
  {
   "cell_type": "code",
   "execution_count": 101,
   "metadata": {},
   "outputs": [
    {
     "data": {
      "image/png": "[encoded data removed]",
      "text/plain": [
       "<Figure size 432x288 with 1 Axes>"
      ]
     },
     "metadata": {},
     "output_type": "display_data"
    }
   ],
   "source": [
    "from mlxtend.plotting import plot_confusion_matrix\n",
    "\n",
    "plot_confusion_matrix(cm, show_normed = True);"
   ]
  },
  {
   "cell_type": "code",
   "execution_count": 102,
   "metadata": {},
   "outputs": [
    {
     "data": {
      "text/plain": [
       "0.8862756502902215"
      ]
     },
     "execution_count": 102,
     "metadata": {},
     "output_type": "execute_result"
    }
   ],
   "source": [
    "metrics.roc_auc_score(y_test, y_test_pred_prob)"
   ]
  },
  {
   "cell_type": "code",
   "execution_count": 103,
   "metadata": {},
   "outputs": [],
   "source": [
    "fpr, tpr, _ = metrics.roc_curve(y_test, y_test_pred_prob)"
   ]
  },
  {
   "cell_type": "code",
   "execution_count": 104,
   "metadata": {},
   "outputs": [
    {
     "data": {
      "text/plain": [
       "Text(0.5, 1.0, 'ROC curve')"
      ]
     },
     "execution_count": 104,
     "metadata": {},
     "output_type": "execute_result"
    },
    {
     "data": {
      "image/png": "[encoded data removed]",
      "text/plain": [
       "<Figure size 432x288 with 1 Axes>"
      ]
     },
     "metadata": {},
     "output_type": "display_data"
    }
   ],
   "source": [
    "plt.plot([0,1], [0,1], 'k--')\n",
    "plt.plot(fpr, tpr)\n",
    "plt.xlabel('False positive rate')\n",
    "plt.ylabel('True positive rate')\n",
    "plt.title('ROC curve')"
   ]
  },
  {
   "cell_type": "code",
   "execution_count": null,
   "metadata": {},
   "outputs": [],
   "source": []
  },
  {
   "cell_type": "code",
   "execution_count": null,
   "metadata": {},
   "outputs": [],
   "source": []
  },
  {
   "cell_type": "code",
   "execution_count": null,
   "metadata": {},
   "outputs": [],
   "source": [
    "def compute_abstain_threshold()"
   ]
  },
  {
   "cell_type": "code",
   "execution_count": 72,
   "metadata": {},
   "outputs": [
    {
     "name": "stdout",
     "output_type": "stream",
     "text": [
      "hi\n"
     ]
    }
   ],
   "source": [
    "print('hi')"
   ]
  },
  {
   "cell_type": "code",
   "execution_count": null,
   "metadata": {},
   "outputs": [],
   "source": [
    "def "
   ]
  },
  {
   "cell_type": "code",
   "execution_count": null,
   "metadata": {},
   "outputs": [],
   "source": []
  },
  {
   "cell_type": "code",
   "execution_count": 40,
   "metadata": {},
   "outputs": [],
   "source": [
    "# model.save('../data/model1/model.h5')\n",
    "\n",
    "# np.save(\"../data/model1/lstm_train\", lstm_train)\n",
    "# np.save(\"../data/model1/lstm_iest\", lstm_test)\n",
    "\n",
    "# np.save(\"../data/model1/graph_train\", graph_train)\n",
    "# np.save(\"../data/model1/graph_test\", graph_test)\n",
    "\n",
    "# np.save(\"../data/model1/y_train\", y_train)\n",
    "# np.save(\"../data/model1/y_test\", y_test)"
   ]
  },
  {
   "cell_type": "code",
   "execution_count": null,
   "metadata": {},
   "outputs": [],
   "source": [
    "# y_test_pred = model.predict([lstm_test, graph_test, doc_test])\n",
    "y_test_pred = model.predict([lstm_test, graph_test])\n",
    "\n",
    "y_test_pred = np.where(y_test_pred > 0.25, 1, 0)\n",
    "accuracy_score(y_test, y_test_pred)"
   ]
  },
  {
   "cell_type": "code",
   "execution_count": null,
   "metadata": {},
   "outputs": [],
   "source": [
    "cm = confusion_matrix(y_test, y_test_pred)"
   ]
  },
  {
   "cell_type": "code",
   "execution_count": null,
   "metadata": {},
   "outputs": [],
   "source": [
    "from mlxtend.plotting import plot_confusion_matrix\n",
    "\n",
    "plot_confusion_matrix(cm, show_normed = True);"
   ]
  },
  {
   "cell_type": "code",
   "execution_count": null,
   "metadata": {},
   "outputs": [],
   "source": []
  }
 ],
 "metadata": {
  "kernelspec": {
   "display_name": "capstone",
   "language": "python",
   "name": "capstone"
  },
  "language_info": {
   "codemirror_mode": {
    "name": "ipython",
    "version": 3
   },
   "file_extension": ".py",
   "mimetype": "text/x-python",
   "name": "python",
   "nbconvert_exporter": "python",
   "pygments_lexer": "ipython3",
   "version": "3.7.4"
  }
 },
 "nbformat": 4,
 "nbformat_minor": 2
}
