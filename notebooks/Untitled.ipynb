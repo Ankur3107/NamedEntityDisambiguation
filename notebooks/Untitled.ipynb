{
 "cells": [
  {
   "cell_type": "code",
   "execution_count": 1,
   "metadata": {},
   "outputs": [],
   "source": [
    "import pickle\n",
    "import baseline_nel\n",
    "import knowledge_graph_extraction\n",
    "import pandas as pd\n",
    "from tqdm import tqdm"
   ]
  },
  {
   "cell_type": "code",
   "execution_count": 2,
   "metadata": {},
   "outputs": [],
   "source": [
    "with open('../data/sample_data_candidates.pkl', 'rb') as f:\n",
    "    data = pickle.load(f)"
   ]
  },
  {
   "cell_type": "code",
   "execution_count": 3,
   "metadata": {},
   "outputs": [],
   "source": [
    "# db = \"../data/kensho.db\"\n",
    "\n",
    "# query = \"\"\"\n",
    "# SELECT \n",
    "#     source_item_id, edge_property_id, target_item_id\n",
    "# FROM \n",
    "#     wikipage_triplets\n",
    "# \"\"\"\n",
    "\n",
    "# triplets = knowledge_graph_extraction.conduct_sql_query(db, query)"
   ]
  },
  {
   "cell_type": "code",
   "execution_count": 3,
   "metadata": {},
   "outputs": [],
   "source": [
    "predictions = []\n",
    "top_k = 3"
   ]
  },
  {
   "cell_type": "code",
   "execution_count": 4,
   "metadata": {},
   "outputs": [],
   "source": [
    "# baseline_nel.predict_local(triplets, data[0][0], data[0][1], top_k)"
   ]
  },
  {
   "cell_type": "code",
   "execution_count": null,
   "metadata": {},
   "outputs": [
    {
     "name": "stderr",
     "output_type": "stream",
     "text": [
      "  1%|▏         | 429/33292 [19:10<24:05:06,  2.64s/it]"
     ]
    }
   ],
   "source": [
    "for i in tqdm(range(len(data))):\n",
    "    row = data[i]\n",
    "    prediction = baseline_nel.predict(\"../data/kensho.db\", \"wikipage_triplets\", row[0], row[1], top_k)\n",
    "    predictions.append(prediction)"
   ]
  },
  {
   "cell_type": "code",
   "execution_count": null,
   "metadata": {},
   "outputs": [],
   "source": [
    "with open('../data/sample_baseline_predictions.pkl', 'wb') as f:\n",
    "    pickle.dump(predictions, f)"
   ]
  }
 ],
 "metadata": {
  "kernelspec": {
   "display_name": "capstone",
   "language": "python",
   "name": "capstone"
  },
  "language_info": {
   "codemirror_mode": {
    "name": "ipython",
    "version": 3
   },
   "file_extension": ".py",
   "mimetype": "text/x-python",
   "name": "python",
   "nbconvert_exporter": "python",
   "pygments_lexer": "ipython3",
   "version": "3.7.4"
  }
 },
 "nbformat": 4,
 "nbformat_minor": 2
}
