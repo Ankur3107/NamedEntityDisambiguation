{
 "cells": [
  {
   "cell_type": "code",
   "execution_count": 1,
   "metadata": {},
   "outputs": [
    {
     "name": "stderr",
     "output_type": "stream",
     "text": [
      "Using TensorFlow backend.\n",
      "WARNING: Logging before flag parsing goes to stderr.\n",
      "W1210 01:49:52.696559 139934493534016 deprecation_wrapper.py:119] From /home/matteo/.local/lib/python3.7/site-packages/keras/backend/tensorflow_backend.py:517: The name tf.placeholder is deprecated. Please use tf.compat.v1.placeholder instead.\n",
      "\n",
      "W1210 01:49:52.770574 139934493534016 deprecation_wrapper.py:119] From /home/matteo/.local/lib/python3.7/site-packages/keras/backend/tensorflow_backend.py:74: The name tf.get_default_graph is deprecated. Please use tf.compat.v1.get_default_graph instead.\n",
      "\n",
      "W1210 01:49:52.779469 139934493534016 deprecation_wrapper.py:119] From /home/matteo/.local/lib/python3.7/site-packages/keras/backend/tensorflow_backend.py:4138: The name tf.random_uniform is deprecated. Please use tf.random.uniform instead.\n",
      "\n",
      "W1210 01:49:53.189839 139934493534016 deprecation_wrapper.py:119] From /home/matteo/.local/lib/python3.7/site-packages/keras/backend/tensorflow_backend.py:133: The name tf.placeholder_with_default is deprecated. Please use tf.compat.v1.placeholder_with_default instead.\n",
      "\n",
      "W1210 01:49:53.194404 139934493534016 deprecation.py:506] From /home/matteo/.local/lib/python3.7/site-packages/keras/backend/tensorflow_backend.py:3445: calling dropout (from tensorflow.python.ops.nn_ops) with keep_prob is deprecated and will be removed in a future version.\n",
      "Instructions for updating:\n",
      "Please use `rate` instead of `keep_prob`. Rate should be set to `rate = 1 - keep_prob`.\n",
      "W1210 01:49:53.508337 139934493534016 deprecation_wrapper.py:119] From /home/matteo/.local/lib/python3.7/site-packages/keras/backend/tensorflow_backend.py:174: The name tf.get_default_session is deprecated. Please use tf.compat.v1.get_default_session instead.\n",
      "\n",
      "W1210 01:49:59.793045 139934493534016 deprecation_wrapper.py:119] From /home/matteo/.local/lib/python3.7/site-packages/keras/optimizers.py:790: The name tf.train.Optimizer is deprecated. Please use tf.compat.v1.train.Optimizer instead.\n",
      "\n",
      "W1210 01:49:59.799103 139934493534016 deprecation.py:323] From /home/matteo/.conda/envs/capstone/lib/python3.7/site-packages/tensorflow/python/ops/nn_impl.py:180: add_dispatch_support.<locals>.wrapper (from tensorflow.python.ops.array_ops) is deprecated and will be removed in a future version.\n",
      "Instructions for updating:\n",
      "Use tf.where in 2.0, which has the same broadcast rule as np.where\n"
     ]
    }
   ],
   "source": [
    "import numpy as np\n",
    "import pandas as pd\n",
    "import pickle\n",
    "\n",
    "# some handy functions to use along widgets\n",
    "from IPython.display import display, Markdown, clear_output\n",
    "# widget packages\n",
    "import ipywidgets as widgets\n",
    "import markdown\n",
    "from markdown.extensions.wikilinks import WikiLinkExtension\n",
    "\n",
    "import spacy\n",
    "\n",
    "from pipeline_functions import *"
   ]
  },
  {
   "cell_type": "code",
   "execution_count": 3,
   "metadata": {},
   "outputs": [
    {
     "data": {
      "application/vnd.jupyter.widget-view+json": {
       "model_id": "81d82422c164493896e6c9a141a52a5b",
       "version_major": 2,
       "version_minor": 0
      },
      "text/plain": [
       "GridBox(children=(HTML(value='<b>Wikipedia-fy</b>', layout=Layout(grid_area='header', width='auto')), Textarea…"
      ]
     },
     "metadata": {},
     "output_type": "display_data"
    }
   ],
   "source": [
    "# title \n",
    "# file = open(\"../images/kensho.png\", \"rb\")\n",
    "# image = file.read()\n",
    "# header1 = widgets.Image(\n",
    "#         value=image,\n",
    "#         format='png',\n",
    "#         layout=widgets.Layout(width='20%', height='20%', grid_area='header1'),\n",
    "#         width=30,\n",
    "#         height=30\n",
    "# )\n",
    "header = widgets.HTML(\n",
    "        value=\"<b>Wikipedia-fy</b>\", # cut-off check later\n",
    "        layout=widgets.Layout(width='auto', grid_area='header')\n",
    ")\n",
    "\n",
    "# defining some widgets\n",
    "text = widgets.Textarea(\n",
    "    value='Test Me!',\n",
    "    placeholder='Type Something',\n",
    "    description='Text:',\n",
    "    disabled=False,\n",
    "    layout=widgets.Layout(width='auto', grid_area='text')\n",
    ")\n",
    "\n",
    "button = widgets.Button(description='Process Text',\n",
    "                       layout=widgets.Layout(width='auto', grid_area='button'),\n",
    "                       style=widgets.ButtonStyle(button_color='lightblue'))\n",
    "out = widgets.Output(layout=widgets.Layout(width='auto', grid_area='out'))\n",
    "\n",
    "def on_button_clicked(_):\n",
    "    from IPython.display import display, Markdown, clear_output\n",
    "    from markdown import markdown\n",
    "    # \"linking function with output\"\n",
    "    with out:\n",
    "        # what happens when we press the button\n",
    "        clear_output()\n",
    "        \n",
    "        # NED\n",
    "        pred = predict_entity(text.value)\n",
    "        # preprocess predicted results for display\n",
    "        pred_text = text_link_preprocess(pred)\n",
    "        display(Markdown(pred_text))\n",
    "\n",
    "# linking button and function together using a buhttps://en.wikipedia.org/wiki/Steve_Jobstton's method\n",
    "button.on_click(on_button_clicked)\n",
    "# displaying button and its output together\n",
    "widgets.GridBox(children=[header, text, button, out],\n",
    "               layout=widgets.Layout(\n",
    "               width='100%',\n",
    "               grid_template_rows='20% 50% 15% 15%',\n",
    "               grid_template_columns='20% 20% 20% 20% 20%',\n",
    "               grid_template_areas='''\n",
    "               \". . header . .\"\n",
    "               \"text text text text text\"\n",
    "               \". . button . .\"\n",
    "               \"out out out out out\"\n",
    "               '''))"
   ]
  },
  {
   "cell_type": "code",
   "execution_count": null,
   "metadata": {},
   "outputs": [],
   "source": []
  },
  {
   "cell_type": "code",
   "execution_count": null,
   "metadata": {},
   "outputs": [],
   "source": []
  },
  {
   "cell_type": "code",
   "execution_count": null,
   "metadata": {},
   "outputs": [],
   "source": []
  },
  {
   "cell_type": "code",
   "execution_count": null,
   "metadata": {},
   "outputs": [],
   "source": []
  },
  {
   "cell_type": "code",
   "execution_count": null,
   "metadata": {},
   "outputs": [],
   "source": [
    "Apple was the brain-child of Steve. It has produced numerous innovations such as Iphone."
   ]
  },
  {
   "cell_type": "code",
   "execution_count": null,
   "metadata": {},
   "outputs": [],
   "source": [
    "Michael Jordan was a basketball player on the Chicago Bulls."
   ]
  },
  {
   "cell_type": "code",
   "execution_count": null,
   "metadata": {},
   "outputs": [],
   "source": [
    "Professor Michael Jordan is a statistician. He's at Berkeley."
   ]
  },
  {
   "cell_type": "code",
   "execution_count": null,
   "metadata": {},
   "outputs": [],
   "source": []
  },
  {
   "cell_type": "code",
   "execution_count": null,
   "metadata": {},
   "outputs": [],
   "source": [
    "good_example1 = \"The Sox play in Boston. Their rivals are the Yankees.\"\n",
    "good_example2 = \"Oxford and Cambridge are two great universities.\"\n",
    "good_example3 = \"Ford and Toyota are competitors.\"\n",
    "#Interestingly enough, if we removed 'former president',Nixon changes\n",
    "#President Ford alone just gives Ford Motor Company\n",
    "good_example4 = \"President Ford controversially granted a presidential pardon to former president Nixon.\"\n",
    "good_example5 = \"Professor Michael Jordan is a statistician. He's at Berkeley.\"\n",
    "good_example6 = \"Michael Jordan was a basketball player on the Chicago Bulls.\"\n",
    "# Michael Jordan is one of the best basketball players.\n",
    "test_text = 'Apple was the brain-child of Steve. It has produced numerous innovations such as  Iphone.'\n",
    "# Michael Jordan was a basketball player on the Chicago Bulls."
   ]
  },
  {
   "cell_type": "code",
   "execution_count": 3,
   "metadata": {},
   "outputs": [],
   "source": []
  },
  {
   "cell_type": "markdown",
   "metadata": {},
   "source": [
    "***"
   ]
  },
  {
   "cell_type": "code",
   "execution_count": null,
   "metadata": {},
   "outputs": [],
   "source": [
    "# # defining some widgets\n",
    "# text = widgets.Text(\n",
    "#        value='My Text',\n",
    "#        description='Document')\n",
    "# # menu = widgets.Dropdown(\n",
    "# #        options=['red', 'blue', 'green'],\n",
    "# #        value='red',\n",
    "# #        description='Color:')\n",
    "# box = widgets.HBox([text])\n",
    "\n",
    "\n",
    "# button = widgets.Button(description='Process Text')\n",
    "# out = widgets.Output()\n",
    "\n",
    "# def on_button_clicked(_):\n",
    "#     from IPython.display import display, Markdown, clear_output\n",
    "#     from markdown import markdown\n",
    "#     # \"linking function with output\"\n",
    "#     with out:\n",
    "#         # what happens when we press the button\n",
    "#         clear_output()\n",
    "        \n",
    "#         # NED\n",
    "#         pred = predict_entity(text.value)\n",
    "        \n",
    "#         if not pred:\n",
    "#             # preprocess predicted results for display\n",
    "#             pred_text = text_link_preprocess(pred)\n",
    "        \n",
    "#             display(Markdown(pred_text))\n",
    "#         else:\n",
    "#             display(text)\n",
    "# # linking button and function together using a buhttps://en.wikipedia.org/wiki/Steve_Jobstton's method\n",
    "# button.on_click(on_button_clicked)\n",
    "# # displaying button and its output together\n",
    "# widgets.VBox([box, button, out])"
   ]
  },
  {
   "cell_type": "markdown",
   "metadata": {},
   "source": [
    "Get dictionary matching wikidata IDs with corresponding page names. Temporary solution."
   ]
  },
  {
   "cell_type": "code",
   "execution_count": null,
   "metadata": {},
   "outputs": [],
   "source": [
    "# wikidata \n",
    "wikidata = pd.read_csv('../data/wikipages_cleaned.csv')\n",
    "wikidata.dropna(inplace=True)\n",
    "wikidata.head()\n",
    "\n",
    "# get corresponding page title for each wikidata id\n",
    "wikidata_page_title = (wikidata[['wikidata_numeric_id', 'target_page_title']]\n",
    "                       .groupby('wikidata_numeric_id', as_index=False)\n",
    "                       .first())\n",
    "\n",
    "# remove underscores for page titles\n",
    "# wikidata_page_title['target_page_title'] = wikidata_page_title['target_page_title'].str.replace('_', ' ')\n",
    "# convert to dictionary\n",
    "wikidata_page_dict = {}\n",
    "for row in range(wikidata_page_title.shape[0]):\n",
    "    wikidata_page_dict[wikidata_page_title.loc[row, 'wikidata_numeric_id']] = wikidata_page_title.loc[row, 'target_page_title']\n",
    "\n",
    "with open('../data/wiki_id_to_page.pkl', 'wb') as f:\n",
    "    pickle.dump(wikidata_page_dict, f, protocol=pickle.HIGHEST_PROTOCOL)"
   ]
  },
  {
   "cell_type": "code",
   "execution_count": 12,
   "metadata": {},
   "outputs": [
    {
     "data": {
      "text/html": [
       "<div class=\"entities\" style=\"line-height: 2.5; direction: ltr\">President \n",
       "<mark class=\"entity\" style=\"background: #aa9cfc; padding: 0.45em 0.6em; margin: 0 0.25em; line-height: 1; border-radius: 0.35em; box-decoration-break: clone; -webkit-box-decoration-break: clone\">\n",
       "    Ford\n",
       "    <span style=\"font-size: 0.8em; font-weight: bold; line-height: 1; border-radius: 0.35em; text-transform: uppercase; vertical-align: middle; margin-left: 0.5rem\">PERSON</span>\n",
       "</mark>\n",
       " granted a pardon to former President \n",
       "<mark class=\"entity\" style=\"background: #aa9cfc; padding: 0.45em 0.6em; margin: 0 0.25em; line-height: 1; border-radius: 0.35em; box-decoration-break: clone; -webkit-box-decoration-break: clone\">\n",
       "    Nixon\n",
       "    <span style=\"font-size: 0.8em; font-weight: bold; line-height: 1; border-radius: 0.35em; text-transform: uppercase; vertical-align: middle; margin-left: 0.5rem\">PERSON</span>\n",
       "</mark>\n",
       "</div>"
      ],
      "text/plain": [
       "<IPython.core.display.HTML object>"
      ]
     },
     "metadata": {},
     "output_type": "display_data"
    }
   ],
   "source": [
    "from spacy import displacy\n",
    "nlp = spacy.load('en_core_web_sm')\n",
    "doc = nlp('President Ford granted a pardon to former President Nixon')\n",
    "displacy.render(doc, style='ent', jupyter=True)"
   ]
  }
 ],
 "metadata": {
  "kernelspec": {
   "display_name": "capstone",
   "language": "python",
   "name": "capstone"
  },
  "language_info": {
   "codemirror_mode": {
    "name": "ipython",
    "version": 3
   },
   "file_extension": ".py",
   "mimetype": "text/x-python",
   "name": "python",
   "nbconvert_exporter": "python",
   "pygments_lexer": "ipython3",
   "version": "3.7.4"
  }
 },
 "nbformat": 4,
 "nbformat_minor": 2
}
