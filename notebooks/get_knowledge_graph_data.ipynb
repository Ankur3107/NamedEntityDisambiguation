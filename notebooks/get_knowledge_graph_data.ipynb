{
 "cells": [
  {
   "cell_type": "code",
   "execution_count": 5,
   "metadata": {},
   "outputs": [],
   "source": [
    "import csv"
   ]
  },
  {
   "cell_type": "code",
   "execution_count": 1,
   "metadata": {},
   "outputs": [],
   "source": [
    "to_save_dir = '../../dgl/apps/kg/data/wiki/'"
   ]
  },
  {
   "cell_type": "code",
   "execution_count": 2,
   "metadata": {},
   "outputs": [],
   "source": [
    "raw_dir = '../data/raw/'"
   ]
  },
  {
   "cell_type": "code",
   "execution_count": 28,
   "metadata": {},
   "outputs": [
    {
     "name": "stdout",
     "output_type": "stream",
     "text": [
      "['/m/027rn\\t/location/country/form_of_government\\t/m/06cx9']\n"
     ]
    }
   ],
   "source": [
    "with open('../../dgl/apps/kg/data/FB15k/train.txt', 'r') as f:\n",
    "    reader = csv.reader(f)\n",
    "    for row in reader:\n",
    "        print(row)\n",
    "        break"
   ]
  },
  {
   "cell_type": "code",
   "execution_count": 7,
   "metadata": {},
   "outputs": [],
   "source": [
    "# file_inp = open(input_file,'r')\n",
    "# file_out = open(output_file,'w') \n",
    "\n",
    "# inp = csv.reader(file_inp)\n",
    "# #out = csv.writer(file_out, delimiter=' ')"
   ]
  },
  {
   "cell_type": "code",
   "execution_count": 8,
   "metadata": {},
   "outputs": [],
   "source": []
  },
  {
   "cell_type": "code",
   "execution_count": 9,
   "metadata": {},
   "outputs": [],
   "source": []
  },
  {
   "cell_type": "code",
   "execution_count": 82,
   "metadata": {},
   "outputs": [],
   "source": [
    "entity_input_file = raw_dir + 'wikidata_20190805.item.csv'\n",
    "entity_output_file = to_save_dir + 'entities.dict'\n",
    "entity_keep_cols = [0, 3]\n",
    "entity_text_format = \"{}\\t{}\\n\"\n",
    "entity_skip_lines = 1 \n",
    "entity_dict = {}"
   ]
  },
  {
   "cell_type": "code",
   "execution_count": 83,
   "metadata": {},
   "outputs": [],
   "source": [
    "edge_input_file = raw_dir + 'wikidata_20190805.property.csv'\n",
    "edge_output_file = to_save_dir + 'relations.dict'\n",
    "edge_keep_cols = [0, 1]\n",
    "edge_text_format = \"{}\\t{}\\n\"\n",
    "edge_skip_lines = 1 \n",
    "edge_dict = {}"
   ]
  },
  {
   "cell_type": "code",
   "execution_count": 84,
   "metadata": {
    "scrolled": true
   },
   "outputs": [],
   "source": [
    "def write_to_file_with_format(input_file, output_file, keep_cols, text_format, skip_lines = 0):\n",
    "    m = len(keep_cols)\n",
    "    with open(input_file, 'r') as file_inp, open(output_file, 'w') as file_out:\n",
    "        inp = csv.reader(file_inp)\n",
    "        for _ in range(skip_lines):\n",
    "            next(inp)\n",
    "        for l in inp:\n",
    "            to_write = [l[col] for col in keep_cols if l[col]]\n",
    "            if len(to_write) < m:\n",
    "                continue\n",
    "            file_out.write(text_format.format(*to_write))"
   ]
  },
  {
   "cell_type": "code",
   "execution_count": 85,
   "metadata": {},
   "outputs": [],
   "source": [
    "def write_to_file_with_format_and_dict(input_file, output_file, keep_cols, text_format, skip_lines = 0, dictionary = None):\n",
    "    m = len(keep_cols)\n",
    "    \n",
    "    i = 0\n",
    "    mapping_dict = {}\n",
    "    with open(input_file, 'r') as file_inp, open(output_file, 'w') as file_out:\n",
    "        inp = csv.reader(file_inp)\n",
    "        for _ in range(skip_lines):\n",
    "            next(inp)\n",
    "        for l in inp:\n",
    "            to_write = [l[col] for col in keep_cols if l[col]]\n",
    "            original_key = int(to_write[0])\n",
    "            to_write[0] = i\n",
    "            if len(to_write) < m:\n",
    "                continue\n",
    "            mapping_dict[original_key] = i\n",
    "            i += 1\n",
    "            file_out.write(text_format.format(*to_write))\n",
    "            dictionary[original_key] = to_write[1]\n",
    "    return mapping_dict"
   ]
  },
  {
   "cell_type": "code",
   "execution_count": 86,
   "metadata": {},
   "outputs": [],
   "source": [
    "# write_to_file_with_format(\n",
    "#     input_file=edge_input_file,\n",
    "#     output_file=edge_output_file,\n",
    "#     keep_cols=edge_keep_cols,\n",
    "#     text_format=edge_text_format,\n",
    "#     skip_lines=edge_skip_lines,\n",
    "# )\n",
    "\n",
    "edge_mapping_dict = write_to_file_with_format_and_dict(\n",
    "    input_file=edge_input_file,\n",
    "    output_file=edge_output_file,\n",
    "    keep_cols=edge_keep_cols,\n",
    "    text_format=edge_text_format,\n",
    "    skip_lines=edge_skip_lines,\n",
    "    dictionary=edge_dict,\n",
    ")"
   ]
  },
  {
   "cell_type": "code",
   "execution_count": 88,
   "metadata": {},
   "outputs": [],
   "source": [
    "# write_to_file_with_format(\n",
    "#     input_file=entity_input_file,\n",
    "#     output_file=entity_output_file,\n",
    "#     keep_cols=entity_keep_cols,\n",
    "#     text_format=entity_text_format,\n",
    "#     skip_lines=entity_skip_lines,\n",
    "# )\n",
    "\n",
    "entity_mapping_dict = write_to_file_with_format_and_dict(\n",
    "    input_file=entity_input_file,\n",
    "    output_file=entity_output_file,\n",
    "    keep_cols=entity_keep_cols,\n",
    "    text_format=entity_text_format,\n",
    "    skip_lines=entity_skip_lines,\n",
    "    dictionary=entity_dict,\n",
    ")"
   ]
  },
  {
   "cell_type": "code",
   "execution_count": 95,
   "metadata": {
    "scrolled": true
   },
   "outputs": [
    {
     "data": {
      "text/plain": [
       "8059838"
      ]
     },
     "execution_count": 95,
     "metadata": {},
     "output_type": "execute_result"
    }
   ],
   "source": [
    "len(entity_dict)"
   ]
  },
  {
   "cell_type": "code",
   "execution_count": 94,
   "metadata": {},
   "outputs": [
    {
     "data": {
      "text/plain": [
       "8059837"
      ]
     },
     "execution_count": 94,
     "metadata": {},
     "output_type": "execute_result"
    }
   ],
   "source": [
    "max(entity_mapping_dict.values())"
   ]
  },
  {
   "cell_type": "code",
   "execution_count": 96,
   "metadata": {},
   "outputs": [
    {
     "data": {
      "text/plain": [
       "6490"
      ]
     },
     "execution_count": 96,
     "metadata": {},
     "output_type": "execute_result"
    }
   ],
   "source": [
    "len(edge_dict)"
   ]
  },
  {
   "cell_type": "code",
   "execution_count": 97,
   "metadata": {},
   "outputs": [
    {
     "data": {
      "text/plain": [
       "6489"
      ]
     },
     "execution_count": 97,
     "metadata": {},
     "output_type": "execute_result"
    }
   ],
   "source": [
    "max(edge_mapping_dict.values())"
   ]
  },
  {
   "cell_type": "code",
   "execution_count": 98,
   "metadata": {},
   "outputs": [
    {
     "data": {
      "text/plain": [
       "218150041"
      ]
     },
     "execution_count": 98,
     "metadata": {},
     "output_type": "execute_result"
    }
   ],
   "source": [
    "14591*14951"
   ]
  },
  {
   "cell_type": "code",
   "execution_count": 61,
   "metadata": {},
   "outputs": [],
   "source": [
    "import numpy as np"
   ]
  },
  {
   "cell_type": "code",
   "execution_count": 108,
   "metadata": {
    "scrolled": true
   },
   "outputs": [
    {
     "name": "stdout",
     "output_type": "stream",
     "text": [
      "source_item_id,edge_property_id,target_item_id,el_rank\r\n",
      "1,793,323,1\r\n",
      "1,793,837317,1\r\n",
      "1,793,1208634,1\r\n",
      "1,793,1079826,1\r\n",
      "1,793,273508,1\r\n",
      "1,793,1079806,1\r\n",
      "1,793,3491753,1\r\n",
      "1,31,36906466,1\r\n",
      "1,910,5551050,1\r\n"
     ]
    }
   ],
   "source": [
    "!head ../data/wikipages_triplets.csv"
   ]
  },
  {
   "cell_type": "code",
   "execution_count": 112,
   "metadata": {},
   "outputs": [],
   "source": [
    "def write_to_file_with_format_for_triplet(input_file, output_file, output_file2, output_file3, text_format,\\\n",
    "                                          skip_lines = 0, triplet_head_idx = 0, triplet_tail_idx = 2, \\\n",
    "                                         triplet_edge_idx = 1):\n",
    "    with open(input_file, 'r') as file_inp, open(output_file, 'w') as file_out,\\\n",
    "    open(output_file2, 'w') as file_out2, open(output_file3, 'w') as file_out3:\n",
    "        inp = csv.reader(file_inp)\n",
    "        for _ in range(skip_lines):\n",
    "            next(inp)\n",
    "        for l in inp:\n",
    "            to_write = []\n",
    "            triplet_head, triplet_edge, triplet_tail = \\\n",
    "            int(l[triplet_head_idx]), int(l[triplet_edge_idx]), int(l[triplet_tail_idx])\n",
    "            if not triplet_head in entity_mapping_dict or not triplet_tail in entity_mapping_dict or \\\n",
    "            not triplet_edge in edge_mapping_dict:\n",
    "                continue\n",
    "            rand_int = np.random.randint(200)\n",
    "            if rand_int > 1:\n",
    "                write_file_out = file_out\n",
    "            elif rand_int == 0:\n",
    "                write_file_out = file_out2\n",
    "            else:\n",
    "                write_file_out = file_out3\n",
    "            #write_file_out.write(text_format.format(entity_mapping_dict[triplet_head], edge_mapping_dict[triplet_edge], entity_mapping_dict[triplet_tail]))\n",
    "            write_file_out.write(text_format.format(entity_dict[triplet_head], edge_dict[triplet_edge], entity_dict[triplet_tail]))"
   ]
  },
  {
   "cell_type": "code",
   "execution_count": 116,
   "metadata": {},
   "outputs": [
    {
     "name": "stdout",
     "output_type": "stream",
     "text": [
      "source_item_id,edge_property_id,target_item_id,el_rank\r\n",
      "1,793,323,1\r\n",
      "1,793,837317,1\r\n",
      "1,793,1208634,1\r\n",
      "1,793,1079826,1\r\n",
      "1,793,273508,1\r\n",
      "1,793,1079806,1\r\n",
      "1,793,3491753,1\r\n",
      "1,31,36906466,1\r\n",
      "1,910,5551050,1\r\n"
     ]
    }
   ],
   "source": [
    "!head ../data/wikipages_triplets.csv"
   ]
  },
  {
   "cell_type": "code",
   "execution_count": 126,
   "metadata": {},
   "outputs": [
    {
     "data": {
      "text/plain": [
       "4083730"
      ]
     },
     "execution_count": 126,
     "metadata": {},
     "output_type": "execute_result"
    }
   ],
   "source": [
    "entity_mapping_dict[1]"
   ]
  },
  {
   "cell_type": "code",
   "execution_count": 118,
   "metadata": {},
   "outputs": [
    {
     "data": {
      "text/plain": [
       "'Universe'"
      ]
     },
     "execution_count": 118,
     "metadata": {},
     "output_type": "execute_result"
    }
   ],
   "source": [
    "entity_dict[1]"
   ]
  },
  {
   "cell_type": "code",
   "execution_count": 119,
   "metadata": {},
   "outputs": [
    {
     "data": {
      "text/plain": [
       "'Big Bang'"
      ]
     },
     "execution_count": 119,
     "metadata": {},
     "output_type": "execute_result"
    }
   ],
   "source": [
    "entity_dict[323]"
   ]
  },
  {
   "cell_type": "code",
   "execution_count": 113,
   "metadata": {},
   "outputs": [],
   "source": [
    "triplet_input_file = '../data/wikipages_triplets.csv'#raw_dir + 'wikidata_20190805.qpq_item_statements.csv'\n",
    "triplet_output_file = to_save_dir + 'train.txt'\n",
    "triplet_output_file_2 = to_save_dir + 'valid.txt'\n",
    "triplet_output_file_3 = to_save_dir + 'test.txt'\n",
    "triplet_text_format = \"{}\\t{}\\t{}\\n\"\n",
    "triplet_skip_lines = 1"
   ]
  },
  {
   "cell_type": "code",
   "execution_count": 114,
   "metadata": {},
   "outputs": [],
   "source": [
    "write_to_file_with_format_for_triplet(\n",
    "    input_file=triplet_input_file,\n",
    "    output_file=triplet_output_file,\n",
    "    output_file2=triplet_output_file_2,\n",
    "    output_file3=triplet_output_file_3,\n",
    "    text_format=triplet_text_format,\n",
    "    skip_lines=triplet_skip_lines,\n",
    ")"
   ]
  }
 ],
 "metadata": {
  "kernelspec": {
   "display_name": "capstone",
   "language": "python",
   "name": "capstone"
  },
  "language_info": {
   "codemirror_mode": {
    "name": "ipython",
    "version": 3
   },
   "file_extension": ".py",
   "mimetype": "text/x-python",
   "name": "python",
   "nbconvert_exporter": "python",
   "pygments_lexer": "ipython3",
   "version": "3.7.4"
  }
 },
 "nbformat": 4,
 "nbformat_minor": 2
}
