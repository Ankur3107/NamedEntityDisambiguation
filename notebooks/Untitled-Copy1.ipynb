{
 "cells": [
  {
   "cell_type": "code",
   "execution_count": 1,
   "metadata": {},
   "outputs": [],
   "source": [
    "import pickle\n",
    "import baseline_nel\n",
    "import knowledge_graph_extraction\n",
    "import pandas as pd\n",
    "from tqdm import tqdm"
   ]
  },
  {
   "cell_type": "code",
   "execution_count": 2,
   "metadata": {},
   "outputs": [],
   "source": [
    "with open('../data/sample_data_candidates.pkl', 'rb') as f:\n",
    "    data = pickle.load(f)"
   ]
  },
  {
   "cell_type": "code",
   "execution_count": 3,
   "metadata": {},
   "outputs": [],
   "source": [
    "# db = \"../data/kensho.db\"\n",
    "\n",
    "# query = \"\"\"\n",
    "# SELECT \n",
    "#     source_item_id, edge_property_id, target_item_id\n",
    "# FROM \n",
    "#     wikipage_triplets\n",
    "# \"\"\"\n",
    "\n",
    "# triplets = knowledge_graph_extraction.conduct_sql_query(db, query)"
   ]
  },
  {
   "cell_type": "code",
   "execution_count": 4,
   "metadata": {},
   "outputs": [],
   "source": [
    "predictions = []\n",
    "top_k = 3"
   ]
  },
  {
   "cell_type": "code",
   "execution_count": null,
   "metadata": {},
   "outputs": [
    {
     "name": "stderr",
     "output_type": "stream",
     "text": [
      " 30%|██▉       | 9971/33292 [7:19:21<17:00:26,  2.63s/it]IOPub message rate exceeded.\n",
      "The notebook server will temporarily stop sending output\n",
      "to the client in order to avoid crashing it.\n",
      "To change this limit, set the config variable\n",
      "`--NotebookApp.iopub_msg_rate_limit`.\n",
      "\n",
      "Current values:\n",
      "NotebookApp.iopub_msg_rate_limit=1000.0 (msgs/sec)\n",
      "NotebookApp.rate_limit_window=3.0 (secs)\n",
      "\n",
      "100%|█████████▉| 33267/33292 [24:31:01<01:11,  2.84s/it]t] "
     ]
    }
   ],
   "source": [
    "try:\n",
    "    for i in tqdm(range(len(data))):\n",
    "        if i % 500 == 0:\n",
    "            with open('../data/sample_baseline_predictions_' + str(i) + '.pkl', 'wb') as f:\n",
    "                pickle.dump(predictions, f)\n",
    "        row = data[i]\n",
    "        prediction = baseline_nel.predict(\"../data/kensho.db\", \"wikipage_triplets\", row[0], row[1], top_k)\n",
    "        predictions.append(prediction)\n",
    "except:\n",
    "    with open('../data/error_' + str(i), 'wb') as f:\n",
    "        pickle.dump(['error at '+ str(i)], f)"
   ]
  },
  {
   "cell_type": "code",
   "execution_count": null,
   "metadata": {},
   "outputs": [],
   "source": [
    "with open('../data/sample_baseline_predictions.pkl', 'wb') as f:\n",
    "    pickle.dump(predictions, f)"
   ]
  },
  {
   "cell_type": "code",
   "execution_count": null,
   "metadata": {},
   "outputs": [],
   "source": []
  }
 ],
 "metadata": {
  "kernelspec": {
   "display_name": "capstone",
   "language": "python",
   "name": "capstone"
  },
  "language_info": {
   "codemirror_mode": {
    "name": "ipython",
    "version": 3
   },
   "file_extension": ".py",
   "mimetype": "text/x-python",
   "name": "python",
   "nbconvert_exporter": "python",
   "pygments_lexer": "ipython3",
   "version": "3.7.4"
  }
 },
 "nbformat": 4,
 "nbformat_minor": 2
}
